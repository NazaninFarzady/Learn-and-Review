{
 "cells": [
  {
   "cell_type": "markdown",
   "id": "00482d54",
   "metadata": {},
   "source": [
    "## Numpy library"
   ]
  },
  {
   "cell_type": "code",
   "execution_count": 51,
   "id": "052c8639",
   "metadata": {},
   "outputs": [],
   "source": [
    "#!conda install numpy\n",
    "import numpy as np"
   ]
  },
  {
   "cell_type": "code",
   "execution_count": 52,
   "id": "97ebea27",
   "metadata": {},
   "outputs": [
    {
     "data": {
      "text/plain": [
       "'1.23.5'"
      ]
     },
     "execution_count": 52,
     "metadata": {},
     "output_type": "execute_result"
    }
   ],
   "source": [
    "np.__version__"
   ]
  },
  {
   "cell_type": "markdown",
   "id": "ae201973",
   "metadata": {},
   "source": [
    "Make Numpy array from Python data structure, i.e list, tuple, ...\n",
    "Pass the python data structure as parameter to the numpy function"
   ]
  },
  {
   "cell_type": "code",
   "execution_count": 53,
   "id": "400b8072",
   "metadata": {},
   "outputs": [
    {
     "data": {
      "text/plain": [
       "[-1, 0, 1]"
      ]
     },
     "execution_count": 53,
     "metadata": {},
     "output_type": "execute_result"
    }
   ],
   "source": [
    "# make a numpy array from python list\n",
    "my_list = [-1,0,1]\n",
    "my_list"
   ]
  },
  {
   "cell_type": "code",
   "execution_count": 54,
   "id": "1698f60f",
   "metadata": {},
   "outputs": [
    {
     "data": {
      "text/plain": [
       "(array([-1,  0,  1]), numpy.ndarray)"
      ]
     },
     "execution_count": 54,
     "metadata": {},
     "output_type": "execute_result"
    }
   ],
   "source": [
    "my_list_array = np.array(my_list)\n",
    "my_list_array,type(my_list_array)"
   ]
  },
  {
   "cell_type": "code",
   "execution_count": 55,
   "id": "af66450d",
   "metadata": {},
   "outputs": [
    {
     "data": {
      "text/plain": [
       "([[1, 2, 3], [4, 5, 6], [7, 8, 9]], list)"
      ]
     },
     "execution_count": 55,
     "metadata": {},
     "output_type": "execute_result"
    }
   ],
   "source": [
    "# Lets create and cast a list of list to generate 2-D array\n",
    "my_second_list = [[1,2,3],[4,5,6],[7,8,9]]\n",
    "my_second_list, type(my_second_list)"
   ]
  },
  {
   "cell_type": "code",
   "execution_count": 56,
   "id": "8e7fdd95",
   "metadata": {},
   "outputs": [
    {
     "data": {
      "text/plain": [
       "(array([[1, 2, 3],\n",
       "        [4, 5, 6],\n",
       "        [7, 8, 9]]),\n",
       " numpy.ndarray)"
      ]
     },
     "execution_count": 56,
     "metadata": {},
     "output_type": "execute_result"
    }
   ],
   "source": [
    "my_2D_array = np.array(my_second_list)\n",
    "my_2D_array, type(my_2D_array) # the matrix"
   ]
  },
  {
   "cell_type": "code",
   "execution_count": 57,
   "id": "356e211f",
   "metadata": {},
   "outputs": [
    {
     "data": {
      "text/plain": [
       "(array([-1,  0,  1]), numpy.ndarray)"
      ]
     },
     "execution_count": 57,
     "metadata": {},
     "output_type": "execute_result"
    }
   ],
   "source": [
    "# We can use Tuple instead of list as well.\n",
    "my_tuple = (-1,0,1)\n",
    "my_tuple_array = np.array(my_tuple)\n",
    "my_tuple_array,type(my_tuple_array)"
   ]
  },
  {
   "cell_type": "markdown",
   "id": "44f89f48",
   "metadata": {},
   "source": [
    "Numpy built-in funtions:\n",
    "- arange(start,stop,step,dtype=None), takes 3rd argument as step size\n",
    "- linspace(), takes 3rd argument as number of point we want\n",
    "- zeros(), 1-D array gets the number of zeros as argument, 2-D array gets a tuple as argument (number of row, number of column)\n",
    "- ones(), same as zeros, but return 1\n",
    "- eye(), return an identity matrix (must be a square matrix), return a 2-D array with ones on the diagonal and zeros elsewhere\n",
    "- rand(), to generate random numbers, from np.random module, with random samples from a uniform distribution over (0, 1).\n",
    "- randn(), Return a sample (or samples) from the \"standard normal\" or a \"Gaussian\" distribution\n",
    "- randint(), use randint() to generate random integers from low (inclusive) to high (exclusive)"
   ]
  },
  {
   "cell_type": "code",
   "execution_count": 58,
   "id": "a5a6d314",
   "metadata": {},
   "outputs": [
    {
     "data": {
      "text/plain": [
       "array([ 0.,  2.,  4.,  6.,  8., 10.])"
      ]
     },
     "execution_count": 58,
     "metadata": {},
     "output_type": "execute_result"
    }
   ],
   "source": [
    "# range from 0 to 10  similar to range() in Python, upto but not including 10\n",
    "np.arange(0,10)\n",
    "\n",
    "# We can give a step (2 in this case)\n",
    "np.arange(0,11,2)\n",
    "\n",
    "# We can give the step and dtype\n",
    "np.arange(0,11,2,dtype=float)    "
   ]
  },
  {
   "cell_type": "code",
   "execution_count": 59,
   "id": "ddacb1ff",
   "metadata": {},
   "outputs": [
    {
     "name": "stdout",
     "output_type": "stream",
     "text": [
      "array is: [ 1.    2.75  4.5   6.25  8.    9.75 11.5  13.25 15.  ]\n",
      "array is: 1.75\n"
     ]
    },
    {
     "data": {
      "text/plain": [
       "array([ 0.        ,  0.51724138,  1.03448276,  1.55172414,  2.06896552,\n",
       "        2.5862069 ,  3.10344828,  3.62068966,  4.13793103,  4.65517241,\n",
       "        5.17241379,  5.68965517,  6.20689655,  6.72413793,  7.24137931,\n",
       "        7.75862069,  8.27586207,  8.79310345,  9.31034483,  9.82758621,\n",
       "       10.34482759, 10.86206897, 11.37931034, 11.89655172, 12.4137931 ,\n",
       "       12.93103448, 13.44827586, 13.96551724, 14.48275862, 15.        ])"
      ]
     },
     "execution_count": 59,
     "metadata": {},
     "output_type": "execute_result"
    }
   ],
   "source": [
    "# start from 1 & end at 15 with 10 evenly spaced points b/w 1 to 15\n",
    "my_linspace = np.linspace(1,15,10) # between 1 and 15, 10 points with evenly spaced\n",
    "\n",
    "# Lets find the step size with \"retstep\" which returns the array and the step size\n",
    "my_sec_linspace = np.linspace(1,15,9, retstep=True) # determine the step between points\n",
    "\n",
    "# We can grab array and stepsize separately\n",
    "print('array is:', my_sec_linspace[0]) # the first index is the array\n",
    "print('array is:', my_sec_linspace[1]) # the second index is the step\n",
    "\n",
    "\n",
    "#create another 1-dimensional (1-D) array using linspace() with 30 evenly spaced numbers between 0 and 15\n",
    "my_next_linspace = np.linspace(0,15,30) # 1-D array\n",
    "my_next_linspace"
   ]
  },
  {
   "cell_type": "code",
   "execution_count": 60,
   "id": "a7a5ab36",
   "metadata": {},
   "outputs": [
    {
     "data": {
      "text/plain": [
       "array([[0., 0., 0., 0.],\n",
       "       [0., 0., 0., 0.],\n",
       "       [0., 0., 0., 0.],\n",
       "       [0., 0., 0., 0.]])"
      ]
     },
     "execution_count": 60,
     "metadata": {},
     "output_type": "execute_result"
    }
   ],
   "source": [
    "# create an array with all zeros\n",
    "np.zeros(3) # 1-D array, the argument is the number of zeros\n",
    "np.zeros((4,4)) # Creating 2-D array, (no_row, no_col) passing a tuple"
   ]
  },
  {
   "cell_type": "code",
   "execution_count": 61,
   "id": "10394c0a",
   "metadata": {},
   "outputs": [
    {
     "data": {
      "text/plain": [
       "array([[1., 1., 1., 1.],\n",
       "       [1., 1., 1., 1.],\n",
       "       [1., 1., 1., 1.],\n",
       "       [1., 1., 1., 1.]])"
      ]
     },
     "execution_count": 61,
     "metadata": {},
     "output_type": "execute_result"
    }
   ],
   "source": [
    "#create an array with all ones\n",
    "np.ones(3)\n",
    "np.ones((4,4)) #Creating 2-D array, (no_row, no_col) passing a tuple"
   ]
  },
  {
   "cell_type": "code",
   "execution_count": 62,
   "id": "4d016b6a",
   "metadata": {},
   "outputs": [
    {
     "data": {
      "text/plain": [
       "array([[1., 0., 0., 0., 0.],\n",
       "       [0., 1., 0., 0., 0.],\n",
       "       [0., 0., 1., 0., 0.],\n",
       "       [0., 0., 0., 1., 0.],\n",
       "       [0., 0., 0., 0., 1.]])"
      ]
     },
     "execution_count": 62,
     "metadata": {},
     "output_type": "execute_result"
    }
   ],
   "source": [
    "# eye()\n",
    "np.eye(5)"
   ]
  },
  {
   "cell_type": "code",
   "execution_count": 63,
   "id": "b5799ecb",
   "metadata": {},
   "outputs": [
    {
     "data": {
      "text/plain": [
       "array([[0.95932776, 0.9105445 , 0.68437937],\n",
       "       [0.74428224, 0.64455148, 0.3668384 ]])"
      ]
     },
     "execution_count": 63,
     "metadata": {},
     "output_type": "execute_result"
    }
   ],
   "source": [
    "# create arrays of random numbers\n",
    "# with random samples from a uniform distribution over [0, 1)\n",
    "np.random.rand(3) # 1-D array with three elements\n",
    "\n",
    "# pass in (no_of_rows, no_of_columns) to rand() to get 2-D array\n",
    "np.random.rand(2,3) # row, col, note we are not passing a tuple here, each dimension is separate argument"
   ]
  },
  {
   "cell_type": "code",
   "execution_count": 64,
   "id": "839e84eb",
   "metadata": {},
   "outputs": [
    {
     "data": {
      "text/plain": [
       "array([[ 2.4089087 , -0.84796683, -0.24029446,  0.32707533],\n",
       "       [ 0.73980164,  0.58955271, -1.44603478,  0.06514379],\n",
       "       [-0.83815576,  0.44541682, -1.86046632, -1.94545271],\n",
       "       [-1.75992071, -0.83065339, -1.85706178,  1.68500815]])"
      ]
     },
     "execution_count": 64,
     "metadata": {},
     "output_type": "execute_result"
    }
   ],
   "source": [
    "# rand() 1-D array of tow elements\n",
    "np.random.randn(3)\n",
    "\n",
    "# 2-D array (4x4), 16 elements\n",
    "np.random.randn(4,4) # no tuple, each dimension as a separate argument"
   ]
  },
  {
   "cell_type": "code",
   "execution_count": 65,
   "id": "d38e7b60",
   "metadata": {},
   "outputs": [
    {
     "data": {
      "text/plain": [
       "array([53,  7, 33, 30, 33, 57,  2, 12, 49, 28])"
      ]
     },
     "execution_count": 65,
     "metadata": {},
     "output_type": "execute_result"
    }
   ],
   "source": [
    "# randint()\n",
    "#returns one random int, 1 inclusive, 100 exclusive\n",
    "np.random.randint(1,100)\n",
    "\n",
    "#returns ten random int,\n",
    "np.random.randint(1,100,10)    "
   ]
  },
  {
   "cell_type": "markdown",
   "id": "ef3a7cd2",
   "metadata": {},
   "source": [
    "Array Methods & Attributes:\n",
    "- reshape(), Returns an array containing the same data with a new shape, it must have same element number of the array\n",
    "- max(), finding max values\n",
    "- min(), finding min values\n",
    "- argmax(), the index locations of max values in array\n",
    "- argmin(), the index locations of min values in array\n",
    "\n",
    "Attributes:\n",
    "- size\n",
    "- shape, shape returns the shape of your array, how many rows and columns your array have\n",
    "- dtype"
   ]
  },
  {
   "cell_type": "code",
   "execution_count": 66,
   "id": "ad0176b2",
   "metadata": {},
   "outputs": [
    {
     "name": "stdout",
     "output_type": "stream",
     "text": [
      "Array using arange(): [ 0  1  2  3  4  5  6  7  8  9 10 11 12 13 14 15]\n",
      "Array using randint(): [29 95 53 68 15 52 99 97 31 98]\n"
     ]
    }
   ],
   "source": [
    "#create 2 arrays using arange() and randint(). \n",
    "my_arange = np.arange(16)\n",
    "my_randint = np.random.randint(0,100,10)\n",
    "\n",
    "print('Array using arange():', my_arange)\n",
    "print('Array using randint():', my_randint)"
   ]
  },
  {
   "cell_type": "code",
   "execution_count": 67,
   "id": "231feb71",
   "metadata": {},
   "outputs": [
    {
     "data": {
      "text/plain": [
       "array([[ 0,  1,  2,  3],\n",
       "       [ 4,  5,  6,  7],\n",
       "       [ 8,  9, 10, 11],\n",
       "       [12, 13, 14, 15]])"
      ]
     },
     "execution_count": 67,
     "metadata": {},
     "output_type": "execute_result"
    }
   ],
   "source": [
    "# reshape()\n",
    "my_arange.reshape(4,4) # any other num will give error, because we have 16 elements in array_arange"
   ]
  },
  {
   "cell_type": "code",
   "execution_count": 68,
   "id": "e0e031ac",
   "metadata": {},
   "outputs": [
    {
     "data": {
      "text/plain": [
       "15"
      ]
     },
     "execution_count": 68,
     "metadata": {},
     "output_type": "execute_result"
    }
   ],
   "source": [
    "# getting max and min from randint()\n",
    "my_randint.max()\n",
    "my_randint.min()"
   ]
  },
  {
   "cell_type": "code",
   "execution_count": 69,
   "id": "753b9f4f",
   "metadata": {},
   "outputs": [
    {
     "data": {
      "text/plain": [
       "4"
      ]
     },
     "execution_count": 69,
     "metadata": {},
     "output_type": "execute_result"
    }
   ],
   "source": [
    "# get the index location of max and min values in randit()\n",
    "my_randint.argmax() # index starts from 0\n",
    "my_randint.argmin()"
   ]
  },
  {
   "cell_type": "code",
   "execution_count": 70,
   "id": "6f6f3135",
   "metadata": {},
   "outputs": [
    {
     "data": {
      "text/plain": [
       "dtype('int32')"
      ]
     },
     "execution_count": 70,
     "metadata": {},
     "output_type": "execute_result"
    }
   ],
   "source": [
    "# shape of array\n",
    "my_arange.shape\n",
    "\n",
    "# size of array\n",
    "my_arange.size\n",
    "\n",
    "# data type of array\n",
    "my_arange.dtype"
   ]
  },
  {
   "cell_type": "code",
   "execution_count": 71,
   "id": "52a13650",
   "metadata": {},
   "outputs": [
    {
     "data": {
      "text/plain": [
       "(4, 4)"
      ]
     },
     "execution_count": 71,
     "metadata": {},
     "output_type": "execute_result"
    }
   ],
   "source": [
    "# Notice the two sets of brackets in the output, we are using reshape() to convert, 1-D array to 2-D array/matrix\n",
    "my_arange.reshape(16,1).shape\n",
    "my_arange.reshape(4,4).shape"
   ]
  },
  {
   "cell_type": "code",
   "execution_count": 72,
   "id": "ea1e85c6",
   "metadata": {},
   "outputs": [
    {
     "data": {
      "text/plain": [
       "dtype('int32')"
      ]
     },
     "execution_count": 72,
     "metadata": {},
     "output_type": "execute_result"
    }
   ],
   "source": [
    "# convert dtype (int32) to (int64)\n",
    "x = np.array([1,2,3], dtype=np.int64)\n",
    "x\n",
    "y = x.astype(np.int32)\n",
    "y.dtype"
   ]
  },
  {
   "cell_type": "markdown",
   "id": "a31d7188",
   "metadata": {},
   "source": [
    "Indexing & slicing\n",
    "\n",
    "1-D arrays (vectors)\n",
    "2-D arrays (matrices)"
   ]
  },
  {
   "cell_type": "code",
   "execution_count": 73,
   "id": "f646a3d4",
   "metadata": {},
   "outputs": [
    {
     "name": "stdout",
     "output_type": "stream",
     "text": [
      "the value at index 0: -10\n",
      "the value at the index -2: 106\n",
      "our original array is: [-10  -2   0   2  17 106 200]\n",
      "selected slice of the array is: [-10  -2   0]\n",
      "the values from 1:-2 index range is: [-2  0  2 17]\n",
      "vaue in array_id upto index 2: [-10  -2]\n",
      "values in array_id from index 2: [  0   2  17 106 200]\n"
     ]
    },
    {
     "data": {
      "text/plain": [
       "array([-102,   -2,    0,    2,   17,  106,  200])"
      ]
     },
     "execution_count": 73,
     "metadata": {},
     "output_type": "execute_result"
    }
   ],
   "source": [
    " # Lets create a simple 1-D NumPy array.\n",
    "# (we can use arange() as well.)\n",
    "\n",
    "array_id = np.array([-10, -2, 0, 2, 17, 106,200])\n",
    "\n",
    "# Getting value at certain index\n",
    "print('the value at index 0:', array_id[0])\n",
    "\n",
    "# Using -ve index\n",
    "print('the value at the index -2:', array_id[-2])\n",
    "\n",
    "# grab a range\n",
    "print('our original array is:', array_id)\n",
    "print('selected slice of the array is:', array_id[0:3])\n",
    "\n",
    "# use -ve index to grab a range from array\n",
    "print('the values from 1:-2 index range is:', array_id[1:-2])\n",
    "\n",
    "# grab values up to index2, and everything from index\n",
    "print('vaue in array_id upto index 2:', array_id[:2])\n",
    "\n",
    "print('values in array_id from index 2:', array_id[2:])\n",
    "\n",
    "# assign new value to a certain index\n",
    "array_id[0] = -102 # assigning new value to index 0\n",
    "array_id # the first element changed to -102\n",
    "\n"
   ]
  },
  {
   "cell_type": "markdown",
   "id": "d62e334f",
   "metadata": {},
   "source": [
    "# if the index is not exist we get IndexError"
   ]
  },
  {
   "cell_type": "code",
   "execution_count": 74,
   "id": "94d35c56",
   "metadata": {},
   "outputs": [
    {
     "name": "stdout",
     "output_type": "stream",
     "text": [
      "size of array_id is: 7\n",
      "305 % array_id.size is (index location): 4\n",
      "the value at the given index location: 17\n"
     ]
    }
   ],
   "source": [
    "\n",
    "#array_id[305]\n",
    "# to avoid IndexError, we get the size of array using mod operator and pass it to the array\n",
    "array_id[305 % array_id.size]\n",
    "\n",
    "print('size of array_id is:', array_id.size)\n",
    "print('305 % array_id.size is (index location):', 305 % array_id.size)\n",
    "print('the value at the given index location:', array_id[305 % array_id.size])"
   ]
  },
  {
   "cell_type": "code",
   "execution_count": 75,
   "id": "abdf665d",
   "metadata": {},
   "outputs": [
    {
     "data": {
      "text/plain": [
       "array([[ 0,  1,  2,  3],\n",
       "       [ 4,  5,  6,  7],\n",
       "       [ 8,  9, 10, 11],\n",
       "       [12, 13, 14, 15],\n",
       "       [16, 17, 18, 19],\n",
       "       [20, 21, 22, 23]])"
      ]
     },
     "execution_count": 75,
     "metadata": {},
     "output_type": "execute_result"
    }
   ],
   "source": [
    "#2-D arrays (matrices)\n",
    "#create an array with 24 elements using arange() and convert it to 2D matrix using “shape”\n",
    "array_2d = np.arange(24) # creating 1d array with 24 elements\n",
    "array_2d.shape = (6,4) # converting to 2d array with 6 rows and 4 cols\n",
    "array_2d"
   ]
  },
  {
   "cell_type": "code",
   "execution_count": 76,
   "id": "956a0397",
   "metadata": {},
   "outputs": [
    {
     "data": {
      "text/plain": [
       "array([ 8,  9, 10, 11])"
      ]
     },
     "execution_count": 76,
     "metadata": {},
     "output_type": "execute_result"
    }
   ],
   "source": [
    "# to get a complete row (starting from 0) pass the number of row\n",
    "array_2d[2] # row number 3 (3rd row, index from 0)\n",
    "\n",
    "# grab the 3rd row using negative index\n",
    "array_2d[-4] # -0,0 is same index"
   ]
  },
  {
   "cell_type": "markdown",
   "id": "fd35e7bd",
   "metadata": {},
   "source": [
    "General format to get an element from an array is:\n",
    "- array_2d[row][col]\n",
    "- array_2d[row,col]\n",
    "\n",
    "Get a slice of an array:\n",
    "\n",
    "array_2d[0:2,0:2] ==> array_2d[from_row_0:till_row_2(2 not included), from_col_0:till_col_2(2 not included)]"
   ]
  },
  {
   "cell_type": "code",
   "execution_count": 77,
   "id": "9f932367",
   "metadata": {},
   "outputs": [
    {
     "data": {
      "text/plain": [
       "22"
      ]
     },
     "execution_count": 77,
     "metadata": {},
     "output_type": "execute_result"
    }
   ],
   "source": [
    "# get the value at the row=5 and col=2\n",
    "array_2d[5,2]\n",
    "\n",
    "#another way\n",
    "row= 5\n",
    "col = 2\n",
    "array_2d[row, col]\n",
    "\n",
    "# another way\n",
    "array_2d[5][2]"
   ]
  },
  {
   "cell_type": "code",
   "execution_count": 78,
   "id": "27c6322c",
   "metadata": {},
   "outputs": [
    {
     "data": {
      "text/plain": [
       "array([[10, 11],\n",
       "       [14, 15]])"
      ]
     },
     "execution_count": 78,
     "metadata": {},
     "output_type": "execute_result"
    }
   ],
   "source": [
    "# grab a slice\n",
    "array_2d[:2,:2] # shape gives (2,2), 4 elements from top left corner\n",
    "# it is same as array_2d[0:2,0:2]\n",
    "# from row 0 til row 2 (row 2 is not included),\n",
    "# from col 0 til col 2 (col 2 is not included)\n",
    "\n",
    "array_2d[2:4,2:4]"
   ]
  },
  {
   "cell_type": "markdown",
   "id": "a87f8ad3",
   "metadata": {},
   "source": [
    "Broadcasting"
   ]
  },
  {
   "cell_type": "code",
   "execution_count": 79,
   "id": "513cb6f8",
   "metadata": {},
   "outputs": [
    {
     "data": {
      "text/plain": [
       "array([[1],\n",
       "       [2],\n",
       "       [3]])"
      ]
     },
     "execution_count": 79,
     "metadata": {},
     "output_type": "execute_result"
    }
   ],
   "source": [
    "# Lets create an array using arange()\n",
    "array_1d = np.arange(0,10) # from 0 to 10 (10 not included)\n",
    "array_1d\n",
    "\n",
    "#Take a slice of the array  (0:5) and set it equal to some number, say 500\n",
    "array_1d[0:5] = 500\n",
    "array_1d\n",
    "\n",
    "# Lets create a 2D martix with ones\n",
    "array_2d = np.ones((4,4))\n",
    "\n",
    "# Lets broadcast 300 to the first row of array_2d\n",
    "array_2d[0] = 300\n",
    "array_2d\n",
    "\n",
    "# Lets create a simple 1-D array and broadcast to array_2d\n",
    "array_2d + np.arange(0,4) # it adds 0,1,2,3 to the elements of the first row\n",
    "array_2d + 300 # it adds 300 to every elements\n",
    "\n",
    "array_1d = np.arange(1,4)\n",
    "array_2d = np.arange(1,4)[:,np.newaxis]\n",
    "array_2d"
   ]
  },
  {
   "cell_type": "code",
   "execution_count": 80,
   "id": "ea63a27e",
   "metadata": {},
   "outputs": [
    {
     "name": "stdout",
     "output_type": "stream",
     "text": [
      "[1 2 3]\n",
      "shape of the array is: (3,), this is 1-D array\n",
      "[[1]\n",
      " [2]\n",
      " [3]]\n",
      "shape of the array is: (3, 1), this is 2-D array\n"
     ]
    }
   ],
   "source": [
    "# Official way of printing is used, format() and len() are used for revisions\n",
    "print(array_1d)\n",
    "print('shape of the array is: {}, this is {}-D array'.format(array_1d.shape, len(array_1d.shape)))\n",
    "\n",
    "# (3,) indicates that this is a one dimensional array (vector)\n",
    "\n",
    "print(array_2d)\n",
    "print('shape of the array is: {}, this is {}-D array'.format(array_2d.shape,len(array_2d.shape)))\n",
    "# (3, 1) indicates that this is a 2-D array (matrix)"
   ]
  },
  {
   "cell_type": "code",
   "execution_count": 81,
   "id": "8c99023a",
   "metadata": {},
   "outputs": [
    {
     "data": {
      "text/plain": [
       "array([[2., 3., 4.],\n",
       "       [2., 3., 4.],\n",
       "       [2., 3., 4.]])"
      ]
     },
     "execution_count": 81,
     "metadata": {},
     "output_type": "execute_result"
    }
   ],
   "source": [
    " # Broadcasting arrays\n",
    "array_1d + array_2d\n",
    "\n",
    "#np.array([1,2,3]) + np.array([1])\n",
    "np.ones([3,3]) + np.array([1,2,3])\n",
    "\n",
    "np.ones([3,1]) + np.arange(1,4)"
   ]
  },
  {
   "cell_type": "code",
   "execution_count": 82,
   "id": "2a626cb7",
   "metadata": {},
   "outputs": [
    {
     "data": {
      "text/plain": [
       "array([[0., 0., 0., 0., 0.],\n",
       "       [1., 1., 1., 1., 1.],\n",
       "       [2., 2., 2., 2., 2.],\n",
       "       [3., 3., 3., 3., 3.],\n",
       "       [4., 4., 4., 4., 4.]])"
      ]
     },
     "execution_count": 82,
     "metadata": {},
     "output_type": "execute_result"
    }
   ],
   "source": [
    "#fancy indexing\n",
    "array_2d = np.zeros((5,5))\n",
    "array_2d[1] = 1 # broadcasting 1 to second row at the index 1\n",
    "array_2d[2] = 2 # broadcasting 2 to the third row at the index 2\n",
    "array_2d[3] = 3 # broadcasting 3 to the forth row at the index 3\n",
    "array_2d[4] = 4 # broadcasting 4 to the fifth row at the index 4\n",
    "array_2d"
   ]
  },
  {
   "cell_type": "code",
   "execution_count": 83,
   "id": "2f13c0bf",
   "metadata": {},
   "outputs": [
    {
     "data": {
      "text/plain": [
       "array([[0., 0., 0., 0., 0.],\n",
       "       [1., 1., 1., 1., 1.],\n",
       "       [2., 2., 2., 2., 2.],\n",
       "       [3., 3., 3., 3., 3.],\n",
       "       [4., 4., 4., 4., 4.]])"
      ]
     },
     "execution_count": 83,
     "metadata": {},
     "output_type": "execute_result"
    }
   ],
   "source": [
    "# fancy indexing using for loop\n",
    "array_2d = np.zeros((5,5))\n",
    "\n",
    "array_2d.shape[1] # using shape to get the number to run the loop\n",
    "\n",
    "for i in range(array_2d.shape[1]): #using range() in the loop\n",
    "    array_2d[i] = i\n",
    "\n",
    "array_2d # print out the matrix\n"
   ]
  },
  {
   "cell_type": "markdown",
   "id": "0a73f145",
   "metadata": {},
   "source": [
    "Fancy indexing allows us to grab any row using its index, let’s grab row 1, 2 and 3. We need to pass in\n",
    "a list of required rows in square brackets!"
   ]
  },
  {
   "cell_type": "code",
   "execution_count": 84,
   "id": "61e81f11",
   "metadata": {},
   "outputs": [
    {
     "data": {
      "text/plain": [
       "array([[3., 3., 3., 3., 3.],\n",
       "       [0., 0., 0., 0., 0.],\n",
       "       [4., 4., 4., 4., 4.]])"
      ]
     },
     "execution_count": 84,
     "metadata": {},
     "output_type": "execute_result"
    }
   ],
   "source": [
    "array_2d[[1,2,3]]\n",
    "# We can use any order e.g. row 3, 0 and 4 in this case\n",
    "array_2d[[3,0,4]]"
   ]
  },
  {
   "cell_type": "code",
   "execution_count": 85,
   "id": "556f6fc8",
   "metadata": {},
   "outputs": [
    {
     "data": {
      "text/plain": [
       "array([[ 3,  2],\n",
       "       [ 7,  6],\n",
       "       [11, 10],\n",
       "       [15, 14],\n",
       "       [19, 18],\n",
       "       [23, 22]])"
      ]
     },
     "execution_count": 85,
     "metadata": {},
     "output_type": "execute_result"
    }
   ],
   "source": [
    "# lets try another matrix for fancy indexing\n",
    "array_2d = np.arange(24) # 1d array with 24 elements\n",
    "array_2d.shape = (6,4) # convert 1D array to 2D array\n",
    "array_2d\n",
    "\n",
    "# grab list of rows 2,4\n",
    "array_2d[[2,4]] # need to pass the list of required rows in square brackets\n",
    "\n",
    "# grab cols\n",
    "array_2d[:,[3,2]] # for all rows, [3,2] for the 3rd and 2nd cols"
   ]
  },
  {
   "cell_type": "markdown",
   "id": "d6c56176",
   "metadata": {},
   "source": [
    "Boolean masking\n",
    "- Boolean mask arrays\n",
    "- Masking operation"
   ]
  },
  {
   "cell_type": "code",
   "execution_count": 86,
   "id": "248b351b",
   "metadata": {},
   "outputs": [
    {
     "data": {
      "text/plain": [
       "array([False,  True, False,  True, False,  True, False,  True, False,\n",
       "        True])"
      ]
     },
     "execution_count": 86,
     "metadata": {},
     "output_type": "execute_result"
    }
   ],
   "source": [
    "# Creating a simple array using arange()\n",
    "array_1d = np.arange(1,11)\n",
    "\n",
    "# lets create a bool_array for some condition, say array_1d > 3\n",
    "bool_array = array_1d > 3\n",
    "bool_array\n",
    "\n",
    "\n",
    "# A number is even if, number % 2 is \"0\"\n",
    "mod_2_mask_id = 0 == array_1d%2\n",
    "mod_2_mask_id"
   ]
  },
  {
   "cell_type": "code",
   "execution_count": 87,
   "id": "48e3275d",
   "metadata": {},
   "outputs": [
    {
     "name": "stdout",
     "output_type": "stream",
     "text": [
      "[ 2  4  6  8 10]\n"
     ]
    }
   ],
   "source": [
    "# filtering out the odds in masking operation\n",
    "even_values = array_1d[mod_2_mask_id]\n",
    "print(even_values)"
   ]
  },
  {
   "cell_type": "code",
   "execution_count": 88,
   "id": "734f8913",
   "metadata": {},
   "outputs": [
    {
     "name": "stdout",
     "output_type": "stream",
     "text": [
      "[[ True False  True False]\n",
      " [ True False  True False]\n",
      " [ True False  True False]\n",
      " [ True False  True False]\n",
      " [ True False  True False]\n",
      " [ True False  True False]]\n",
      "[[ 0  1  2  3]\n",
      " [ 4  5  6  7]\n",
      " [ 8  9 10 11]\n",
      " [12 13 14 15]\n",
      " [16 17 18 19]\n",
      " [20 21 22 23]]\n",
      "[ 0  2  4  6  8 10 12 14 16 18 20 22]\n"
     ]
    }
   ],
   "source": [
    "# Lets check with our array_2d\n",
    "array_2d = np.arange(24)\n",
    "array_2d.shape =(6,4)\n",
    "mask_mod_2_2d = 0 == array_2d%2 # masking\n",
    "print(mask_mod_2_2d)\n",
    "print(array_2d)\n",
    "\n",
    " # filtering out the odds in masking operation\n",
    "print(array_2d[mask_mod_2_2d])"
   ]
  },
  {
   "cell_type": "markdown",
   "id": "9615a7ba",
   "metadata": {},
   "source": [
    "Arithmetic operations"
   ]
  },
  {
   "cell_type": "code",
   "execution_count": 89,
   "id": "1b79b3bf",
   "metadata": {},
   "outputs": [
    {
     "name": "stdout",
     "output_type": "stream",
     "text": [
      "[0 1 2 3 4]\n",
      "[0 2 4 6 8]\n",
      "[0 0 0 0 0]\n",
      "[ 0  1  4  9 16]\n",
      "[nan  1.  1.  1.  1.]\n",
      "[       inf 1.         0.5        0.33333333 0.25      ]\n",
      "[ 0  1  4  9 16]\n",
      "[0 2 4 6 8]\n"
     ]
    },
    {
     "name": "stderr",
     "output_type": "stream",
     "text": [
      "C:\\Users\\Nazanin\\AppData\\Local\\Temp\\ipykernel_13656\\4159363651.py:15: RuntimeWarning: invalid value encountered in divide\n",
      "  print(arr/arr) # we got RuntimeWarning:invalid value encountered in divide # warning and 0/0 is replaced with nan\n",
      "C:\\Users\\Nazanin\\AppData\\Local\\Temp\\ipykernel_13656\\4159363651.py:17: RuntimeWarning: divide by zero encountered in divide\n",
      "  print(1/arr) # same RuntimeWarning # warning for 1/0, inf\n"
     ]
    }
   ],
   "source": [
    "# Let's create an array using arange() method\n",
    "arr = np.arange(0,5)\n",
    "\n",
    "print(arr)\n",
    "# Adding two arrays\n",
    "print(arr + arr)\n",
    "\n",
    "# Subtracting two arrays\n",
    "print(arr - arr)\n",
    "\n",
    "# Multiplication\n",
    "print(arr*arr)\n",
    "\n",
    "# Division\n",
    "print(arr/arr) # we got RuntimeWarning:invalid value encountered in divide # warning and 0/0 is replaced with nan\n",
    "\n",
    "print(1/arr) # same RuntimeWarning # warning for 1/0, inf\n",
    "\n",
    "# Power of all the elements in an array\n",
    "print(arr ** 2)\n",
    "\n",
    "# Multiplication with scalar\n",
    "print(arr*2)"
   ]
  },
  {
   "cell_type": "markdown",
   "id": "eb21d518",
   "metadata": {},
   "source": [
    "Universal functions"
   ]
  },
  {
   "cell_type": "code",
   "execution_count": 90,
   "id": "4176b1aa",
   "metadata": {},
   "outputs": [
    {
     "name": "stdout",
     "output_type": "stream",
     "text": [
      "[0.         1.         1.41421356 1.73205081 2.        ]\n",
      "The max element in the array is: 4\n",
      "The min element in the array is: 0\n",
      "[ 0.          0.84147098  0.90929743  0.14112001 -0.7568025 ]\n",
      "[ 1.          2.71828183  7.3890561  20.08553692 54.59815003]\n",
      "[      -inf 0.         0.69314718 1.09861229 1.38629436]\n",
      "[0.         0.01745329 0.03490659 0.05235988 0.06981317]\n",
      "[0. 1. 2. 3. 4.]\n"
     ]
    },
    {
     "name": "stderr",
     "output_type": "stream",
     "text": [
      "C:\\Users\\Nazanin\\AppData\\Local\\Temp\\ipykernel_13656\\900519147.py:15: RuntimeWarning: divide by zero encountered in log\n",
      "  print(np.log(arr)) # warning for inf\n"
     ]
    }
   ],
   "source": [
    "# Square root\n",
    "print(np.sqrt(arr))\n",
    "\n",
    "# max and min values\n",
    "print('The max element in the array is:',np.max(arr))\n",
    "print('The min element in the array is:', np.min(arr))\n",
    "\n",
    "# Trigonometric functions, e.g. sin, cos, tan, arcsin, ......\n",
    "print(np.sin(arr))\n",
    "\n",
    "# Calculate the exponential (e^) of all elements in the input array\n",
    "print(np.exp(arr))\n",
    "\n",
    "# log function\n",
    "print(np.log(arr)) # warning for inf\n",
    "\n",
    "# Convert angles from degrees to radians\n",
    "print(np.deg2rad(arr))\n",
    "\n",
    "# Convert angles from radians to degrees\n",
    "print(np.rad2deg(np.deg2rad(arr)))"
   ]
  },
  {
   "cell_type": "markdown",
   "id": "9304ecb6",
   "metadata": {},
   "source": [
    "## Practice"
   ]
  },
  {
   "cell_type": "markdown",
   "id": "7abb1ad5",
   "metadata": {},
   "source": [
    "1. What is the major difference between “Vector” and “Matrix”?\n",
    "\n",
    "- Vectors are 1 dimension array but Matrix are more than one dimension array\n"
   ]
  },
  {
   "cell_type": "markdown",
   "id": "afb7f343",
   "metadata": {},
   "source": [
    "2. How to import NumPy library?"
   ]
  },
  {
   "cell_type": "code",
   "execution_count": 91,
   "id": "c46430b1",
   "metadata": {},
   "outputs": [],
   "source": [
    "# import numpy as np"
   ]
  },
  {
   "cell_type": "markdown",
   "id": "09a47541",
   "metadata": {},
   "source": [
    "3. Convert the given Python list into NumPy array and check its data type."
   ]
  },
  {
   "cell_type": "code",
   "execution_count": 92,
   "id": "76347243",
   "metadata": {},
   "outputs": [
    {
     "data": {
      "text/plain": [
       "(array([1, 2, 3, 4, 5]), numpy.ndarray)"
      ]
     },
     "execution_count": 92,
     "metadata": {},
     "output_type": "execute_result"
    }
   ],
   "source": [
    "list_1 = [1,2,3,4,5]\n",
    "array_1 = np.array(list_1)\n",
    "array_1,type(array_1)"
   ]
  },
  {
   "cell_type": "markdown",
   "id": "deeb8895",
   "metadata": {},
   "source": [
    "4. Generate array [0,1,2,3,4,5] using NumPy built-in function, arange()."
   ]
  },
  {
   "cell_type": "code",
   "execution_count": 93,
   "id": "75a93f0f",
   "metadata": {},
   "outputs": [
    {
     "data": {
      "text/plain": [
       "array([0, 1, 2, 3, 4, 5])"
      ]
     },
     "execution_count": 93,
     "metadata": {},
     "output_type": "execute_result"
    }
   ],
   "source": [
    "array_2 = np.arange(0,6)\n",
    "array_2"
   ]
  },
  {
   "cell_type": "markdown",
   "id": "691785bd",
   "metadata": {},
   "source": [
    "5. Generate an array of \"5\" zeros"
   ]
  },
  {
   "cell_type": "code",
   "execution_count": 94,
   "id": "ce9d8819",
   "metadata": {},
   "outputs": [
    {
     "data": {
      "text/plain": [
       "array([0., 0., 0., 0., 0.])"
      ]
     },
     "execution_count": 94,
     "metadata": {},
     "output_type": "execute_result"
    }
   ],
   "source": [
    "array_3 = np.zeros(5)\n",
    "array_3"
   ]
  },
  {
   "cell_type": "markdown",
   "id": "13fb8bca",
   "metadata": {},
   "source": [
    "6. Generate the following matrix (3,4) zeros"
   ]
  },
  {
   "cell_type": "code",
   "execution_count": 95,
   "id": "07c36ae8",
   "metadata": {},
   "outputs": [
    {
     "data": {
      "text/plain": [
       "array([[0., 0., 0., 0.],\n",
       "       [0., 0., 0., 0.],\n",
       "       [0., 0., 0., 0.]])"
      ]
     },
     "execution_count": 95,
     "metadata": {},
     "output_type": "execute_result"
    }
   ],
   "source": [
    "matrix_1 = np.zeros((3,4))\n",
    "matrix_1"
   ]
  },
  {
   "cell_type": "markdown",
   "id": "2530f2a2",
   "metadata": {},
   "source": [
    "7. Generate [1.,1.,1.,1.,1.] using NumPy built-in function?\n"
   ]
  },
  {
   "cell_type": "code",
   "execution_count": 96,
   "id": "0960764b",
   "metadata": {},
   "outputs": [
    {
     "data": {
      "text/plain": [
       "array([1., 1., 1., 1., 1.])"
      ]
     },
     "execution_count": 96,
     "metadata": {},
     "output_type": "execute_result"
    }
   ],
   "source": [
    "array_4 = np.ones(5)\n",
    "array_4"
   ]
  },
  {
   "cell_type": "markdown",
   "id": "e4f6a3da",
   "metadata": {},
   "source": [
    "8. Generate an array of “5” tens."
   ]
  },
  {
   "cell_type": "code",
   "execution_count": 97,
   "id": "872b2751",
   "metadata": {},
   "outputs": [
    {
     "data": {
      "text/plain": [
       "array([10., 10., 10., 10., 10.])"
      ]
     },
     "execution_count": 97,
     "metadata": {},
     "output_type": "execute_result"
    }
   ],
   "source": [
    "array_5 = np.ones(5) * 10\n",
    "array_5"
   ]
  },
  {
   "cell_type": "markdown",
   "id": "83915f4a",
   "metadata": {},
   "source": [
    "9. Use arange() to generate an array of even numbers between 50 and 100. 50 and 100 are not included"
   ]
  },
  {
   "cell_type": "code",
   "execution_count": 98,
   "id": "371eea8b",
   "metadata": {},
   "outputs": [
    {
     "data": {
      "text/plain": [
       "array([52, 54, 56, 58, 60, 62, 64, 66, 68, 70, 72, 74, 76, 78, 80, 82, 84,\n",
       "       86, 88, 90, 92, 94, 96, 98])"
      ]
     },
     "execution_count": 98,
     "metadata": {},
     "output_type": "execute_result"
    }
   ],
   "source": [
    "array_6 = np.arange(52,100,2)\n",
    "array_6"
   ]
  },
  {
   "cell_type": "markdown",
   "id": "5a5f5760",
   "metadata": {},
   "source": [
    "10. Generate an array of 10 linearly spaced points between 0 and 1. Output step size as well?"
   ]
  },
  {
   "cell_type": "code",
   "execution_count": 99,
   "id": "6d14dc95",
   "metadata": {},
   "outputs": [
    {
     "name": "stdout",
     "output_type": "stream",
     "text": [
      "the array between 0,1 with 10 points: [0.         0.11111111 0.22222222 0.33333333 0.44444444 0.55555556\n",
      " 0.66666667 0.77777778 0.88888889 1.        ]\n",
      "the step size is: 0.1111111111111111\n"
     ]
    }
   ],
   "source": [
    "# np.linspace(0,1,10), np.linspace(0,1,10)[1]\n",
    "array_7 = np.linspace(0,1,10, retstep=True)\n",
    "print('the array between 0,1 with 10 points:',array_7[0])\n",
    "print('the step size is:', array_7[1])"
   ]
  },
  {
   "cell_type": "markdown",
   "id": "e40ada15",
   "metadata": {},
   "source": [
    "11. Perform the following tasks:\n",
    "\n",
    "- Generate a vector array of 25 numbers using arange().\n",
    "- Write a code to convert the vector array into 2-D matrix using reshape.\n",
    "- Can we use shape instead of reshape as well? No"
   ]
  },
  {
   "cell_type": "code",
   "execution_count": 100,
   "id": "b5ca250e",
   "metadata": {},
   "outputs": [
    {
     "name": "stdout",
     "output_type": "stream",
     "text": [
      "[ 0  1  2  3  4  5  6  7  8  9 10 11 12 13 14 15 16 17 18 19 20 21 22 23\n",
      " 24]\n"
     ]
    },
    {
     "data": {
      "text/plain": [
       "array([[ 0,  1,  2,  3,  4],\n",
       "       [ 5,  6,  7,  8,  9],\n",
       "       [10, 11, 12, 13, 14],\n",
       "       [15, 16, 17, 18, 19],\n",
       "       [20, 21, 22, 23, 24]])"
      ]
     },
     "execution_count": 100,
     "metadata": {},
     "output_type": "execute_result"
    }
   ],
   "source": [
    "# generating array vector\n",
    "array_8 = np.arange(25)\n",
    "print(array_8)\n",
    "\n",
    "# convert vector array into 2D matrix using reshape\n",
    "matrix_2 = array_8.reshape((5,5))\n",
    "#print(matrix_2)\n",
    "\n",
    "# shape vs reshape\n",
    "array_9 = np.arange(25)\n",
    "array_9.shape = (5,5)\n",
    "array_9\n"
   ]
  },
  {
   "cell_type": "markdown",
   "id": "f58173c0",
   "metadata": {},
   "source": [
    "12. Please generate the following matrix. (5,5) (0.1,2.5)"
   ]
  },
  {
   "cell_type": "code",
   "execution_count": 101,
   "id": "a72201bb",
   "metadata": {},
   "outputs": [
    {
     "data": {
      "text/plain": [
       "array([[0.1, 0.2, 0.3, 0.4, 0.5],\n",
       "       [0.6, 0.7, 0.8, 0.9, 1. ],\n",
       "       [1.1, 1.2, 1.3, 1.4, 1.5],\n",
       "       [1.6, 1.7, 1.8, 1.9, 2. ],\n",
       "       [2.1, 2.2, 2.3, 2.4, 2.5]])"
      ]
     },
     "execution_count": 101,
     "metadata": {},
     "output_type": "execute_result"
    }
   ],
   "source": [
    "array_10 = np.arange(0,2.6,0.1,dtype=float)[1:] \n",
    "array_10.shape = (5,5)\n",
    "\n",
    "\n",
    "np.arange(1,26).reshape(5,5) / 10"
   ]
  },
  {
   "cell_type": "markdown",
   "id": "eb0ca231",
   "metadata": {},
   "source": [
    "13. Write a code to generate the output below, use “linspace()” and “print()”."
   ]
  },
  {
   "cell_type": "code",
   "execution_count": 102,
   "id": "c95d5c14",
   "metadata": {},
   "outputs": [
    {
     "name": "stdout",
     "output_type": "stream",
     "text": [
      "[[ 0.  1.  2.  3.  4.]\n",
      " [ 5.  6.  7.  8.  9.]\n",
      " [10. 11. 12. 13. 14.]\n",
      " [15. 16. 17. 18. 19.]\n",
      " [20. 21. 22. 23. 24.]]\n",
      "Step size is: 1.0\n"
     ]
    }
   ],
   "source": [
    "array_11 = np.linspace(0,24,25) # having this argument ,retstep=True, make it as tuple\n",
    "print(array_11.reshape(5,5)) # making the matrix\n",
    "print('Step size is:', np.linspace(0,24,25)[1])"
   ]
  },
  {
   "cell_type": "markdown",
   "id": "299d671a",
   "metadata": {},
   "source": [
    "14. What is the main difference between linspace() and arange()?\n",
    "- arange() takes 3rd argument as step size.\n",
    "- linspace() take 3rd argument as no of point we want"
   ]
  },
  {
   "cell_type": "markdown",
   "id": "395f505a",
   "metadata": {},
   "source": [
    "15. How to generate a single random number using NumPy built-in function?\n"
   ]
  },
  {
   "cell_type": "code",
   "execution_count": 103,
   "id": "2e9dc5da",
   "metadata": {},
   "outputs": [
    {
     "data": {
      "text/plain": [
       "0.9729530506257676"
      ]
     },
     "execution_count": 103,
     "metadata": {},
     "output_type": "execute_result"
    }
   ],
   "source": [
    "np.random.rand()"
   ]
  },
  {
   "cell_type": "markdown",
   "id": "a1214690",
   "metadata": {},
   "source": [
    "16. Write a code to generate a 7x5 matrix of 35 random numbers? Notice, there are no ( ) in the output\n",
    "matrix!"
   ]
  },
  {
   "cell_type": "code",
   "execution_count": 104,
   "id": "242fbe83",
   "metadata": {},
   "outputs": [
    {
     "name": "stdout",
     "output_type": "stream",
     "text": [
      "[[0.58122771 0.65533569 0.03520981 0.70819337 0.05026575]\n",
      " [0.36678063 0.23664701 0.19891849 0.25706153 0.12551863]\n",
      " [0.06667517 0.97216068 0.49933747 0.28886937 0.41284579]\n",
      " [0.50127504 0.02342139 0.32561111 0.68256193 0.76040336]\n",
      " [0.30804584 0.3238113  0.2684944  0.24851697 0.31140886]\n",
      " [0.27969297 0.97141444 0.97210368 0.67951087 0.90067281]\n",
      " [0.38114112 0.12653769 0.19871235 0.46510301 0.26939044]]\n"
     ]
    }
   ],
   "source": [
    "print(np.random.rand(35).reshape(7,5))\n",
    "# using print() will remove the () form the output\n",
    "\n",
    "# OR print(np.random.rand(7,5))"
   ]
  },
  {
   "cell_type": "markdown",
   "id": "e888d9b6",
   "metadata": {},
   "source": [
    "17. Generate the following matrix using NumPy’s built-in method for identity matrix. (5,5)\n"
   ]
  },
  {
   "cell_type": "code",
   "execution_count": 105,
   "id": "92ab1150",
   "metadata": {},
   "outputs": [
    {
     "data": {
      "text/plain": [
       "array([[5., 0., 0., 0., 0.],\n",
       "       [0., 5., 0., 0., 0.],\n",
       "       [0., 0., 5., 0., 0.],\n",
       "       [0., 0., 0., 5., 0.],\n",
       "       [0., 0., 0., 0., 5.]])"
      ]
     },
     "execution_count": 105,
     "metadata": {},
     "output_type": "execute_result"
    }
   ],
   "source": [
    "np.eye(5,5)*5"
   ]
  },
  {
   "cell_type": "markdown",
   "id": "eed339e4",
   "metadata": {},
   "source": [
    "18. Generate the follow matrix “array_2d” and replicate the provided outputs.\n"
   ]
  },
  {
   "cell_type": "code",
   "execution_count": 106,
   "id": "63f64047",
   "metadata": {},
   "outputs": [
    {
     "name": "stdout",
     "output_type": "stream",
     "text": [
      "[ 0  1  2  3  4  5  6  7  8  9 10 11 12 13 14 15 16 17 18 19 20 21 22 23\n",
      " 24 25 26 27 28 29]\n",
      "[[ 0  1  2  3  4]\n",
      " [ 5  6  7  8  9]\n",
      " [10 11 12 13 14]\n",
      " [15 16 17 18 19]\n",
      " [20 21 22 23 24]\n",
      " [25 26 27 28 29]]\n",
      "[[ 1]\n",
      " [ 6]\n",
      " [11]]\n",
      "[10 11 12 13 14]\n",
      "[[10 11 12 13 14]\n",
      " [15 16 17 18 19]]\n"
     ]
    }
   ],
   "source": [
    "\n",
    "# generate array_2d\n",
    "array_2d = np.arange(0,30)\n",
    "print(array_2d)\n",
    "\n",
    "# convert it into matrix\n",
    "matrix_3 = array_2d.reshape(6,5) \n",
    "print(matrix_3)\n",
    "\n",
    "# OR array_2d= np.arange(30).reshape(6,5)\n",
    "\n",
    "\n",
    "# grab a slice of the matrix\n",
    "matrix_3[3:,2:]\n",
    "\n",
    "# grab an element from the matrix\n",
    "matrix_3[5,4]\n",
    "\n",
    "# grba another slice\n",
    "print(matrix_3[:3, 1:2]) # array_2d[:3,1:3] for col 1 and 2\n",
    "\n",
    "# grab a row\n",
    "print(matrix_3[2, :]) #array_2d[2:3,:]\n",
    "\n",
    "# grab two rows\n",
    "print(matrix_3[2:4,:])\n",
    "\n"
   ]
  },
  {
   "cell_type": "markdown",
   "id": "3f46ec46",
   "metadata": {},
   "source": [
    "19. Can you calculate the sum of all the numbers in array_2d?\n"
   ]
  },
  {
   "cell_type": "code",
   "execution_count": 107,
   "id": "f47f53e1",
   "metadata": {},
   "outputs": [
    {
     "data": {
      "text/plain": [
       "435"
      ]
     },
     "execution_count": 107,
     "metadata": {},
     "output_type": "execute_result"
    }
   ],
   "source": [
    "sum_of_array = array_2d.sum()\n",
    "sum_of_array"
   ]
  },
  {
   "cell_type": "markdown",
   "id": "c7aae7c9",
   "metadata": {},
   "source": [
    "20. Calculate sum of all the rows and columns in array_2d.\n"
   ]
  },
  {
   "cell_type": "code",
   "execution_count": 108,
   "id": "c7405171",
   "metadata": {},
   "outputs": [
    {
     "name": "stdout",
     "output_type": "stream",
     "text": [
      "The row sum is: [ 10  35  60  85 110 135]\n",
      "The col sum is: [75 81 87 93 99]\n"
     ]
    }
   ],
   "source": [
    "print('The row sum is:', matrix_3.sum(axis = 1))\n",
    "print('The col sum is:', matrix_3.sum(axis = 0))"
   ]
  },
  {
   "cell_type": "markdown",
   "id": "25dc4b8f",
   "metadata": {},
   "source": [
    "21. Calculate the standard deviation of the values in array_2d.\n"
   ]
  },
  {
   "cell_type": "code",
   "execution_count": 109,
   "id": "c7eb8a53",
   "metadata": {},
   "outputs": [
    {
     "data": {
      "text/plain": [
       "8.65544144839919"
      ]
     },
     "execution_count": 109,
     "metadata": {},
     "output_type": "execute_result"
    }
   ],
   "source": [
    "std_of_array = array_2d.std()\n",
    "std_of_array"
   ]
  },
  {
   "cell_type": "markdown",
   "id": "81cfb284",
   "metadata": {},
   "source": [
    "22. Create a boolean mask and list out the numbers that are not divisible by 3 in array_2d.\n"
   ]
  },
  {
   "cell_type": "code",
   "execution_count": 110,
   "id": "870917ca",
   "metadata": {},
   "outputs": [
    {
     "data": {
      "text/plain": [
       "array([ 1,  2,  4,  5,  7,  8, 10, 11, 13, 14, 16, 17, 19, 20, 22, 23, 25,\n",
       "       26, 28, 29])"
      ]
     },
     "execution_count": 110,
     "metadata": {},
     "output_type": "execute_result"
    }
   ],
   "source": [
    "# Lets check with our array_2d\n",
    "mask_mod_3 = 0 != array_2d%3 # creating mask for numbers not divided by 3\n",
    "array_2d[mask_mod_3]\n",
    " # filtering out the odds in masking operation\n"
   ]
  }
 ],
 "metadata": {
  "kernelspec": {
   "display_name": "Python 3 (ipykernel)",
   "language": "python",
   "name": "python3"
  },
  "language_info": {
   "codemirror_mode": {
    "name": "ipython",
    "version": 3
   },
   "file_extension": ".py",
   "mimetype": "text/x-python",
   "name": "python",
   "nbconvert_exporter": "python",
   "pygments_lexer": "ipython3",
   "version": "3.10.8"
  }
 },
 "nbformat": 4,
 "nbformat_minor": 5
}
