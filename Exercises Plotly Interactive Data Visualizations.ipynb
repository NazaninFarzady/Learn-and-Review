{
 "cells": [
  {
   "cell_type": "code",
   "execution_count": 1,
   "id": "d9bccdac",
   "metadata": {},
   "outputs": [
    {
     "data": {
      "text/html": [
       "        <script type=\"text/javascript\">\n",
       "        window.PlotlyConfig = {MathJaxConfig: 'local'};\n",
       "        if (window.MathJax && window.MathJax.Hub && window.MathJax.Hub.Config) {window.MathJax.Hub.Config({SVG: {font: \"STIX-Web\"}});}\n",
       "        if (typeof require !== 'undefined') {\n",
       "        require.undef(\"plotly\");\n",
       "        requirejs.config({\n",
       "            paths: {\n",
       "                'plotly': ['https://cdn.plot.ly/plotly-2.18.2.min']\n",
       "            }\n",
       "        });\n",
       "        require(['plotly'], function(Plotly) {\n",
       "            window._Plotly = Plotly;\n",
       "        });\n",
       "        }\n",
       "        </script>\n",
       "        "
      ]
     },
     "metadata": {},
     "output_type": "display_data"
    },
    {
     "data": {
      "text/html": [
       "        <script type=\"text/javascript\">\n",
       "        window.PlotlyConfig = {MathJaxConfig: 'local'};\n",
       "        if (window.MathJax && window.MathJax.Hub && window.MathJax.Hub.Config) {window.MathJax.Hub.Config({SVG: {font: \"STIX-Web\"}});}\n",
       "        if (typeof require !== 'undefined') {\n",
       "        require.undef(\"plotly\");\n",
       "        requirejs.config({\n",
       "            paths: {\n",
       "                'plotly': ['https://cdn.plot.ly/plotly-2.18.2.min']\n",
       "            }\n",
       "        });\n",
       "        require(['plotly'], function(Plotly) {\n",
       "            window._Plotly = Plotly;\n",
       "        });\n",
       "        }\n",
       "        </script>\n",
       "        "
      ]
     },
     "metadata": {},
     "output_type": "display_data"
    }
   ],
   "source": [
    "# import libraries\n",
    "import pandas as pd\n",
    "import plotly.graph_objs as go\n",
    "from plotly.offline import init_notebook_mode, iplot, plot\n",
    "init_notebook_mode(connected = True)\n",
    "import cufflinks as cf\n",
    "cf.go_offline()"
   ]
  },
  {
   "cell_type": "code",
   "execution_count": 2,
   "id": "975903da",
   "metadata": {},
   "outputs": [
    {
     "name": "stdout",
     "output_type": "stream",
     "text": [
      "<class 'pandas.core.frame.DataFrame'>\n",
      "RangeIndex: 157 entries, 0 to 156\n",
      "Data columns (total 13 columns):\n",
      " #   Column                         Non-Null Count  Dtype  \n",
      "---  ------                         --------------  -----  \n",
      " 0   Country                        157 non-null    object \n",
      " 1   Region                         157 non-null    object \n",
      " 2   Happiness Rank                 157 non-null    int64  \n",
      " 3   Happiness Score                157 non-null    float64\n",
      " 4   Lower Confidence Interval      157 non-null    float64\n",
      " 5   Upper Confidence Interval      157 non-null    float64\n",
      " 6   Economy (GDP per Capita)       157 non-null    float64\n",
      " 7   Family                         157 non-null    float64\n",
      " 8   Health (Life Expectancy)       157 non-null    float64\n",
      " 9   Freedom                        157 non-null    float64\n",
      " 10  Trust (Government Corruption)  157 non-null    float64\n",
      " 11  Generosity                     157 non-null    float64\n",
      " 12  Dystopia Residual              157 non-null    float64\n",
      "dtypes: float64(10), int64(1), object(2)\n",
      "memory usage: 16.1+ KB\n"
     ]
    },
    {
     "data": {
      "text/html": [
       "<div>\n",
       "<style scoped>\n",
       "    .dataframe tbody tr th:only-of-type {\n",
       "        vertical-align: middle;\n",
       "    }\n",
       "\n",
       "    .dataframe tbody tr th {\n",
       "        vertical-align: top;\n",
       "    }\n",
       "\n",
       "    .dataframe thead th {\n",
       "        text-align: right;\n",
       "    }\n",
       "</style>\n",
       "<table border=\"1\" class=\"dataframe\">\n",
       "  <thead>\n",
       "    <tr style=\"text-align: right;\">\n",
       "      <th></th>\n",
       "      <th>Country</th>\n",
       "      <th>Region</th>\n",
       "      <th>Happiness Rank</th>\n",
       "      <th>Happiness Score</th>\n",
       "      <th>Lower Confidence Interval</th>\n",
       "      <th>Upper Confidence Interval</th>\n",
       "      <th>Economy (GDP per Capita)</th>\n",
       "      <th>Family</th>\n",
       "      <th>Health (Life Expectancy)</th>\n",
       "      <th>Freedom</th>\n",
       "      <th>Trust (Government Corruption)</th>\n",
       "      <th>Generosity</th>\n",
       "      <th>Dystopia Residual</th>\n",
       "    </tr>\n",
       "  </thead>\n",
       "  <tbody>\n",
       "    <tr>\n",
       "      <th>0</th>\n",
       "      <td>Denmark</td>\n",
       "      <td>Western Europe</td>\n",
       "      <td>1</td>\n",
       "      <td>7.526</td>\n",
       "      <td>7.460</td>\n",
       "      <td>7.592</td>\n",
       "      <td>1.44178</td>\n",
       "      <td>1.16374</td>\n",
       "      <td>0.79504</td>\n",
       "      <td>0.57941</td>\n",
       "      <td>0.44453</td>\n",
       "      <td>0.36171</td>\n",
       "      <td>2.73939</td>\n",
       "    </tr>\n",
       "    <tr>\n",
       "      <th>1</th>\n",
       "      <td>Switzerland</td>\n",
       "      <td>Western Europe</td>\n",
       "      <td>2</td>\n",
       "      <td>7.509</td>\n",
       "      <td>7.428</td>\n",
       "      <td>7.590</td>\n",
       "      <td>1.52733</td>\n",
       "      <td>1.14524</td>\n",
       "      <td>0.86303</td>\n",
       "      <td>0.58557</td>\n",
       "      <td>0.41203</td>\n",
       "      <td>0.28083</td>\n",
       "      <td>2.69463</td>\n",
       "    </tr>\n",
       "    <tr>\n",
       "      <th>2</th>\n",
       "      <td>Iceland</td>\n",
       "      <td>Western Europe</td>\n",
       "      <td>3</td>\n",
       "      <td>7.501</td>\n",
       "      <td>7.333</td>\n",
       "      <td>7.669</td>\n",
       "      <td>1.42666</td>\n",
       "      <td>1.18326</td>\n",
       "      <td>0.86733</td>\n",
       "      <td>0.56624</td>\n",
       "      <td>0.14975</td>\n",
       "      <td>0.47678</td>\n",
       "      <td>2.83137</td>\n",
       "    </tr>\n",
       "    <tr>\n",
       "      <th>3</th>\n",
       "      <td>Norway</td>\n",
       "      <td>Western Europe</td>\n",
       "      <td>4</td>\n",
       "      <td>7.498</td>\n",
       "      <td>7.421</td>\n",
       "      <td>7.575</td>\n",
       "      <td>1.57744</td>\n",
       "      <td>1.12690</td>\n",
       "      <td>0.79579</td>\n",
       "      <td>0.59609</td>\n",
       "      <td>0.35776</td>\n",
       "      <td>0.37895</td>\n",
       "      <td>2.66465</td>\n",
       "    </tr>\n",
       "    <tr>\n",
       "      <th>4</th>\n",
       "      <td>Finland</td>\n",
       "      <td>Western Europe</td>\n",
       "      <td>5</td>\n",
       "      <td>7.413</td>\n",
       "      <td>7.351</td>\n",
       "      <td>7.475</td>\n",
       "      <td>1.40598</td>\n",
       "      <td>1.13464</td>\n",
       "      <td>0.81091</td>\n",
       "      <td>0.57104</td>\n",
       "      <td>0.41004</td>\n",
       "      <td>0.25492</td>\n",
       "      <td>2.82596</td>\n",
       "    </tr>\n",
       "  </tbody>\n",
       "</table>\n",
       "</div>"
      ],
      "text/plain": [
       "       Country          Region  Happiness Rank  Happiness Score  \\\n",
       "0      Denmark  Western Europe               1            7.526   \n",
       "1  Switzerland  Western Europe               2            7.509   \n",
       "2      Iceland  Western Europe               3            7.501   \n",
       "3       Norway  Western Europe               4            7.498   \n",
       "4      Finland  Western Europe               5            7.413   \n",
       "\n",
       "   Lower Confidence Interval  Upper Confidence Interval  \\\n",
       "0                      7.460                      7.592   \n",
       "1                      7.428                      7.590   \n",
       "2                      7.333                      7.669   \n",
       "3                      7.421                      7.575   \n",
       "4                      7.351                      7.475   \n",
       "\n",
       "   Economy (GDP per Capita)   Family  Health (Life Expectancy)  Freedom  \\\n",
       "0                   1.44178  1.16374                   0.79504  0.57941   \n",
       "1                   1.52733  1.14524                   0.86303  0.58557   \n",
       "2                   1.42666  1.18326                   0.86733  0.56624   \n",
       "3                   1.57744  1.12690                   0.79579  0.59609   \n",
       "4                   1.40598  1.13464                   0.81091  0.57104   \n",
       "\n",
       "   Trust (Government Corruption)  Generosity  Dystopia Residual  \n",
       "0                        0.44453     0.36171            2.73939  \n",
       "1                        0.41203     0.28083            2.69463  \n",
       "2                        0.14975     0.47678            2.83137  \n",
       "3                        0.35776     0.37895            2.66465  \n",
       "4                        0.41004     0.25492            2.82596  "
      ]
     },
     "execution_count": 2,
     "metadata": {},
     "output_type": "execute_result"
    }
   ],
   "source": [
    "# Set sample dataset, World Happines Dataset from Kaggle\n",
    "whp = pd.read_csv('archive/2016.csv')\n",
    "\n",
    "# Call info() on you dataframe\n",
    "whp.info()\n",
    "\n",
    "# Check the head of the dataframe\n",
    "whp.head()"
   ]
  },
  {
   "cell_type": "code",
   "execution_count": 3,
   "id": "5f1d5929",
   "metadata": {},
   "outputs": [
    {
     "name": "stdout",
     "output_type": "stream",
     "text": [
      "<class 'pandas.core.frame.DataFrame'>\n",
      "RangeIndex: 157 entries, 0 to 156\n",
      "Data columns (total 13 columns):\n",
      " #   Column                         Non-Null Count  Dtype \n",
      "---  ------                         --------------  ----- \n",
      " 0   Country                        157 non-null    object\n",
      " 1   Region                         157 non-null    object\n",
      " 2   Happiness Rank                 157 non-null    object\n",
      " 3   Happiness Score                157 non-null    object\n",
      " 4   Lower Confidence Interval      157 non-null    object\n",
      " 5   Upper Confidence Interval      157 non-null    object\n",
      " 6   Economy (GDP per Capita)       157 non-null    object\n",
      " 7   Family                         157 non-null    object\n",
      " 8   Health (Life Expectancy)       157 non-null    object\n",
      " 9   Freedom                        157 non-null    object\n",
      " 10  Trust (Government Corruption)  157 non-null    object\n",
      " 11  Generosity                     157 non-null    object\n",
      " 12  Dystopia Residual              157 non-null    object\n",
      "dtypes: object(13)\n",
      "memory usage: 16.1+ KB\n"
     ]
    }
   ],
   "source": [
    "# Change datatype using for loop along with .astype() method\n",
    "# Convert to string 'str'\n",
    "for col in whp.columns:\n",
    "    whp[col] = whp[col].astype(str)\n",
    "    \n",
    "# Check dataframe again\n",
    "whp.info()"
   ]
  },
  {
   "cell_type": "code",
   "execution_count": 4,
   "id": "b4d322cf",
   "metadata": {
    "scrolled": false
   },
   "outputs": [
    {
     "data": {
      "text/html": [
       "<div>\n",
       "<style scoped>\n",
       "    .dataframe tbody tr th:only-of-type {\n",
       "        vertical-align: middle;\n",
       "    }\n",
       "\n",
       "    .dataframe tbody tr th {\n",
       "        vertical-align: top;\n",
       "    }\n",
       "\n",
       "    .dataframe thead th {\n",
       "        text-align: right;\n",
       "    }\n",
       "</style>\n",
       "<table border=\"1\" class=\"dataframe\">\n",
       "  <thead>\n",
       "    <tr style=\"text-align: right;\">\n",
       "      <th></th>\n",
       "      <th>Country</th>\n",
       "      <th>Region</th>\n",
       "      <th>Happiness Rank</th>\n",
       "      <th>Happiness Score</th>\n",
       "      <th>Lower Confidence Interval</th>\n",
       "      <th>Upper Confidence Interval</th>\n",
       "      <th>Economy (GDP per Capita)</th>\n",
       "      <th>Family</th>\n",
       "      <th>Health (Life Expectancy)</th>\n",
       "      <th>Freedom</th>\n",
       "      <th>Trust (Government Corruption)</th>\n",
       "      <th>Generosity</th>\n",
       "      <th>Dystopia Residual</th>\n",
       "      <th>text</th>\n",
       "    </tr>\n",
       "  </thead>\n",
       "  <tbody>\n",
       "    <tr>\n",
       "      <th>0</th>\n",
       "      <td>Denmark</td>\n",
       "      <td>Western Europe</td>\n",
       "      <td>1</td>\n",
       "      <td>7.526</td>\n",
       "      <td>7.46</td>\n",
       "      <td>7.592</td>\n",
       "      <td>1.44178</td>\n",
       "      <td>1.16374</td>\n",
       "      <td>0.79504</td>\n",
       "      <td>0.57941</td>\n",
       "      <td>0.44453</td>\n",
       "      <td>0.36171</td>\n",
       "      <td>2.73939</td>\n",
       "      <td>Denmark&lt;br&gt;Happiness Rank 1&lt;br&gt;Happiness Score...</td>\n",
       "    </tr>\n",
       "    <tr>\n",
       "      <th>1</th>\n",
       "      <td>Switzerland</td>\n",
       "      <td>Western Europe</td>\n",
       "      <td>2</td>\n",
       "      <td>7.509</td>\n",
       "      <td>7.428</td>\n",
       "      <td>7.59</td>\n",
       "      <td>1.52733</td>\n",
       "      <td>1.14524</td>\n",
       "      <td>0.86303</td>\n",
       "      <td>0.58557</td>\n",
       "      <td>0.41203</td>\n",
       "      <td>0.28083</td>\n",
       "      <td>2.69463</td>\n",
       "      <td>Switzerland&lt;br&gt;Happiness Rank 2&lt;br&gt;Happiness S...</td>\n",
       "    </tr>\n",
       "    <tr>\n",
       "      <th>2</th>\n",
       "      <td>Iceland</td>\n",
       "      <td>Western Europe</td>\n",
       "      <td>3</td>\n",
       "      <td>7.501</td>\n",
       "      <td>7.333</td>\n",
       "      <td>7.669</td>\n",
       "      <td>1.42666</td>\n",
       "      <td>1.18326</td>\n",
       "      <td>0.86733</td>\n",
       "      <td>0.56624</td>\n",
       "      <td>0.14975</td>\n",
       "      <td>0.47678</td>\n",
       "      <td>2.83137</td>\n",
       "      <td>Iceland&lt;br&gt;Happiness Rank 3&lt;br&gt;Happiness Score...</td>\n",
       "    </tr>\n",
       "    <tr>\n",
       "      <th>3</th>\n",
       "      <td>Norway</td>\n",
       "      <td>Western Europe</td>\n",
       "      <td>4</td>\n",
       "      <td>7.498</td>\n",
       "      <td>7.421</td>\n",
       "      <td>7.575</td>\n",
       "      <td>1.57744</td>\n",
       "      <td>1.1269</td>\n",
       "      <td>0.79579</td>\n",
       "      <td>0.59609</td>\n",
       "      <td>0.35776</td>\n",
       "      <td>0.37895</td>\n",
       "      <td>2.66465</td>\n",
       "      <td>Norway&lt;br&gt;Happiness Rank 4&lt;br&gt;Happiness Score ...</td>\n",
       "    </tr>\n",
       "    <tr>\n",
       "      <th>4</th>\n",
       "      <td>Finland</td>\n",
       "      <td>Western Europe</td>\n",
       "      <td>5</td>\n",
       "      <td>7.413</td>\n",
       "      <td>7.351</td>\n",
       "      <td>7.475</td>\n",
       "      <td>1.40598</td>\n",
       "      <td>1.13464</td>\n",
       "      <td>0.81091</td>\n",
       "      <td>0.57104</td>\n",
       "      <td>0.41004</td>\n",
       "      <td>0.25492</td>\n",
       "      <td>2.82596</td>\n",
       "      <td>Finland&lt;br&gt;Happiness Rank 5&lt;br&gt;Happiness Score...</td>\n",
       "    </tr>\n",
       "  </tbody>\n",
       "</table>\n",
       "</div>"
      ],
      "text/plain": [
       "       Country          Region Happiness Rank Happiness Score  \\\n",
       "0      Denmark  Western Europe              1           7.526   \n",
       "1  Switzerland  Western Europe              2           7.509   \n",
       "2      Iceland  Western Europe              3           7.501   \n",
       "3       Norway  Western Europe              4           7.498   \n",
       "4      Finland  Western Europe              5           7.413   \n",
       "\n",
       "  Lower Confidence Interval Upper Confidence Interval  \\\n",
       "0                      7.46                     7.592   \n",
       "1                     7.428                      7.59   \n",
       "2                     7.333                     7.669   \n",
       "3                     7.421                     7.575   \n",
       "4                     7.351                     7.475   \n",
       "\n",
       "  Economy (GDP per Capita)   Family Health (Life Expectancy)  Freedom  \\\n",
       "0                  1.44178  1.16374                  0.79504  0.57941   \n",
       "1                  1.52733  1.14524                  0.86303  0.58557   \n",
       "2                  1.42666  1.18326                  0.86733  0.56624   \n",
       "3                  1.57744   1.1269                  0.79579  0.59609   \n",
       "4                  1.40598  1.13464                  0.81091  0.57104   \n",
       "\n",
       "  Trust (Government Corruption) Generosity Dystopia Residual  \\\n",
       "0                       0.44453    0.36171           2.73939   \n",
       "1                       0.41203    0.28083           2.69463   \n",
       "2                       0.14975    0.47678           2.83137   \n",
       "3                       0.35776    0.37895           2.66465   \n",
       "4                       0.41004    0.25492           2.82596   \n",
       "\n",
       "                                                text  \n",
       "0  Denmark<br>Happiness Rank 1<br>Happiness Score...  \n",
       "1  Switzerland<br>Happiness Rank 2<br>Happiness S...  \n",
       "2  Iceland<br>Happiness Rank 3<br>Happiness Score...  \n",
       "3  Norway<br>Happiness Rank 4<br>Happiness Score ...  \n",
       "4  Finland<br>Happiness Rank 5<br>Happiness Score...  "
      ]
     },
     "execution_count": 4,
     "metadata": {},
     "output_type": "execute_result"
    }
   ],
   "source": [
    "# Create a 'text' column for the World Happiness Dataset, to summerize\n",
    "whp['text'] = whp['Country'] + '<br>' +\\\n",
    "'Happiness Rank '+whp['Happiness Rank']+'<br>' +\\\n",
    "'Happiness Score '+whp['Happiness Score']+'<br>'+\\\n",
    "'Freedom '+whp['Freedom']+'<br>' +\\\n",
    "'Generosity ' + whp['Generosity']+'<br>'+\\\n",
    "'Trust (Government Corruption) '+whp['Trust (Government Corruption)']\n",
    "whp.head()"
   ]
  },
  {
   "cell_type": "code",
   "execution_count": 5,
   "id": "8b21d39f",
   "metadata": {},
   "outputs": [
    {
     "data": {
      "application/vnd.plotly.v1+json": {
       "config": {
        "linkText": "Export to plot.ly",
        "plotlyServerURL": "https://plot.ly",
        "showLink": true
       },
       "data": [
        {
         "line": {
          "color": "rgba(255, 153, 51, 1.0)",
          "dash": "solid",
          "shape": "linear",
          "width": 1.3
         },
         "mode": "lines",
         "name": "Health (Life Expectancy)",
         "text": "",
         "type": "scatter",
         "x": [
          "1",
          "2",
          "3",
          "4",
          "5",
          "6",
          "7",
          "8",
          "9",
          "10",
          "11",
          "12",
          "13",
          "14",
          "15",
          "16",
          "17",
          "18",
          "19",
          "20",
          "21",
          "22",
          "23",
          "24",
          "25",
          "26",
          "27",
          "28",
          "29",
          "30",
          "31",
          "32",
          "33",
          "34",
          "34",
          "36",
          "37",
          "38",
          "39",
          "40",
          "41",
          "42",
          "43",
          "44",
          "45",
          "46",
          "47",
          "48",
          "49",
          "50",
          "51",
          "52",
          "53",
          "54",
          "55",
          "56",
          "57",
          "57",
          "59",
          "60",
          "61",
          "62",
          "63",
          "64",
          "65",
          "66",
          "67",
          "68",
          "69",
          "70",
          "71",
          "72",
          "73",
          "74",
          "75",
          "76",
          "77",
          "78",
          "79",
          "80",
          "81",
          "82",
          "83",
          "84",
          "85",
          "86",
          "87",
          "88",
          "89",
          "90",
          "91",
          "92",
          "93",
          "94",
          "95",
          "96",
          "97",
          "98",
          "99",
          "100",
          "101",
          "102",
          "103",
          "104",
          "105",
          "106",
          "107",
          "108",
          "109",
          "110",
          "111",
          "112",
          "113",
          "114",
          "115",
          "116",
          "117",
          "118",
          "119",
          "120",
          "121",
          "122",
          "123",
          "124",
          "125",
          "126",
          "127",
          "128",
          "129",
          "130",
          "131",
          "132",
          "133",
          "134",
          "135",
          "136",
          "137",
          "138",
          "139",
          "140",
          "141",
          "142",
          "143",
          "144",
          "145",
          "145",
          "147",
          "148",
          "149",
          "150",
          "151",
          "152",
          "153",
          "154",
          "155",
          "156",
          "157"
         ],
         "y": [
          "0.79504",
          "0.86303",
          "0.86733",
          "0.79579",
          "0.81091",
          "0.8276",
          "0.81231",
          "0.83096",
          "0.8512",
          "0.83121",
          "0.84917",
          "0.80565",
          "0.779",
          "0.76146",
          "0.77758",
          "0.81487",
          "0.61415",
          "0.81959",
          "0.81455",
          "0.84542",
          "0.71143",
          "0.94719",
          "0.80991",
          "0.81883",
          "0.70835",
          "0.69711",
          "0.76376",
          "0.72993",
          "0.72183",
          "0.80315",
          "0.59659",
          "0.83795",
          "0.64915",
          "0.59267",
          "0.79565",
          "0.71723",
          "0.87896",
          "0.61804",
          "0.54039",
          "0.50933",
          "0.63569",
          "0.65696",
          "0.52608",
          "0.61904",
          "0.70367",
          "0.596",
          "0.62366",
          "0.65213",
          "0.50163",
          "0.85102",
          "0.68613",
          "0.45569",
          "0.91491",
          "0.57386",
          "0.52309",
          "0.58991",
          "0.69058",
          "0.88645",
          "0.4697",
          "0.64674",
          "0.63104",
          "0.84142",
          "0.79151",
          "0.62994",
          "0.44006",
          "0.66189",
          "0.52304",
          "0.63952",
          "0.8488",
          "0.58295",
          "0.67602",
          "0.68098",
          "0.59469",
          "0.70524",
          "0.95277",
          "0.11466",
          "0.54",
          "0.64718",
          "0.49374",
          "0.60712",
          "0.54504",
          "0.47036",
          "0.73561",
          "0.49759",
          "0.55449",
          "0.6458",
          "0.70766",
          "0.63533",
          "0.57669",
          "0.59471",
          "0.67608",
          "0.40306",
          "0.76171",
          "0.79363",
          "0.64738",
          "0.66157",
          "0.33108",
          "0.59577",
          "0.80029",
          "0.53119",
          "0.55469",
          "0.38291",
          "0.05108",
          "0.58383",
          "0.64232",
          "0.23573",
          "0.50073",
          "0.56844",
          "0.73007",
          "0.52989",
          "0.0",
          "0.51076",
          "0.34745",
          "0.12698",
          "0.34578",
          "0.18611",
          "0.62007",
          "0.45091",
          "0.3988",
          "0.52116",
          "0.64083",
          "0.30147",
          "0.58628",
          "0.29681",
          "0.188",
          "0.64035",
          "0.28212",
          "0.40457",
          "0.67806",
          "0.28639",
          "0.1595",
          "0.29364",
          "0.29759",
          "0.3494",
          "0.16347",
          "0.27494",
          "0.34752",
          "0.29981",
          "0.04476",
          "0.42494",
          "0.04991",
          "0.26162",
          "0.15781",
          "0.03824",
          "0.21297",
          "0.19625",
          "0.31048",
          "0.37109",
          "0.357",
          "0.23165",
          "0.18829",
          "0.31865",
          "0.21028",
          "0.17344",
          "0.24811",
          "0.62994",
          "0.15747"
         ]
        },
        {
         "line": {
          "color": "rgba(55, 128, 191, 1.0)",
          "dash": "solid",
          "shape": "linear",
          "width": 1.3
         },
         "mode": "lines",
         "name": "Freedom",
         "text": "",
         "type": "scatter",
         "x": [
          "1",
          "2",
          "3",
          "4",
          "5",
          "6",
          "7",
          "8",
          "9",
          "10",
          "11",
          "12",
          "13",
          "14",
          "15",
          "16",
          "17",
          "18",
          "19",
          "20",
          "21",
          "22",
          "23",
          "24",
          "25",
          "26",
          "27",
          "28",
          "29",
          "30",
          "31",
          "32",
          "33",
          "34",
          "34",
          "36",
          "37",
          "38",
          "39",
          "40",
          "41",
          "42",
          "43",
          "44",
          "45",
          "46",
          "47",
          "48",
          "49",
          "50",
          "51",
          "52",
          "53",
          "54",
          "55",
          "56",
          "57",
          "57",
          "59",
          "60",
          "61",
          "62",
          "63",
          "64",
          "65",
          "66",
          "67",
          "68",
          "69",
          "70",
          "71",
          "72",
          "73",
          "74",
          "75",
          "76",
          "77",
          "78",
          "79",
          "80",
          "81",
          "82",
          "83",
          "84",
          "85",
          "86",
          "87",
          "88",
          "89",
          "90",
          "91",
          "92",
          "93",
          "94",
          "95",
          "96",
          "97",
          "98",
          "99",
          "100",
          "101",
          "102",
          "103",
          "104",
          "105",
          "106",
          "107",
          "108",
          "109",
          "110",
          "111",
          "112",
          "113",
          "114",
          "115",
          "116",
          "117",
          "118",
          "119",
          "120",
          "121",
          "122",
          "123",
          "124",
          "125",
          "126",
          "127",
          "128",
          "129",
          "130",
          "131",
          "132",
          "133",
          "134",
          "135",
          "136",
          "137",
          "138",
          "139",
          "140",
          "141",
          "142",
          "143",
          "144",
          "145",
          "145",
          "147",
          "148",
          "149",
          "150",
          "151",
          "152",
          "153",
          "154",
          "155",
          "156",
          "157"
         ],
         "y": [
          "0.57941",
          "0.58557",
          "0.56624",
          "0.59609",
          "0.57104",
          "0.5737",
          "0.55211",
          "0.58147",
          "0.56837",
          "0.58218",
          "0.36432",
          "0.54355",
          "0.48163",
          "0.55225",
          "0.46823",
          "0.53466",
          "0.40425",
          "0.51354",
          "0.54008",
          "0.5487",
          "0.37709",
          "0.4877",
          "0.50036",
          "0.37789",
          "0.48927",
          "0.42284",
          "0.41418",
          "0.56215",
          "0.54388",
          "0.54994",
          "0.44735",
          "0.46562",
          "0.49553",
          "0.37904",
          "0.32377",
          "0.56679",
          "0.37545",
          "0.21006",
          "0.50379",
          "0.52234",
          "0.43166",
          "0.47375",
          "0.48453",
          "0.19847",
          "0.23391",
          "0.37269",
          "0.39031",
          "0.46582",
          "0.60848",
          "0.18827",
          "0.4027",
          "0.51231",
          "0.46761",
          "0.4052",
          "0.25202",
          "0.32682",
          "0.4519",
          "0.25168",
          "0.50961",
          "0.18929",
          "0.29091",
          "0.43596",
          "0.53164",
          "0.37502",
          "0.37408",
          "0.46145",
          "0.40672",
          "0.27996",
          "0.29507",
          "0.46235",
          "0.36712",
          "0.41511",
          "0.43597",
          "0.23907",
          "0.48079",
          "0.56778",
          "0.14396",
          "0.23889",
          "0.39237",
          "0.36023",
          "0.35327",
          "0.54854",
          "0.44012",
          "0.46074",
          "0.40212",
          "0.15718",
          "0.09511",
          "0.15111",
          "0.52259",
          "0.25646",
          "0.1977",
          "0.14622",
          "0.26228",
          "0.44727",
          "0.27668",
          "0.55954",
          "0.3913",
          "0.23553",
          "0.05822",
          "0.43408",
          "0.35972",
          "0.52168",
          "0.27854",
          "0.26755",
          "0.22544",
          "0.42662",
          "0.37012",
          "0.17744",
          "0.31866",
          "0.39778",
          "0.30685",
          "0.24856",
          "0.48614",
          "0.42736",
          "0.36703",
          "0.42483",
          "0.50817",
          "0.40285",
          "0.42692",
          "0.18847",
          "0.14037",
          "0.40576",
          "0.12859",
          "0.40973",
          "0.15602",
          "0.32461",
          "0.37938",
          "0.31056",
          "0.21219",
          "0.1268",
          "0.25429",
          "0.4143",
          "0.0",
          "0.28098",
          "0.27544",
          "0.12072",
          "0.44089",
          "0.15412",
          "0.40663",
          "0.58852",
          "0.00589",
          "0.38041",
          "0.19662",
          "0.12807",
          "0.3337",
          "0.43653",
          "0.2287",
          "0.13684",
          "0.3176",
          "0.25748",
          "0.30953",
          "0.5432",
          "0.39747",
          "0.1643",
          "0.34678",
          "0.06912",
          "0.0432"
         ]
        },
        {
         "line": {
          "color": "rgba(50, 171, 96, 1.0)",
          "dash": "solid",
          "shape": "linear",
          "width": 1.3
         },
         "mode": "lines",
         "name": "Trust (Government Corruption)",
         "text": "",
         "type": "scatter",
         "x": [
          "1",
          "2",
          "3",
          "4",
          "5",
          "6",
          "7",
          "8",
          "9",
          "10",
          "11",
          "12",
          "13",
          "14",
          "15",
          "16",
          "17",
          "18",
          "19",
          "20",
          "21",
          "22",
          "23",
          "24",
          "25",
          "26",
          "27",
          "28",
          "29",
          "30",
          "31",
          "32",
          "33",
          "34",
          "34",
          "36",
          "37",
          "38",
          "39",
          "40",
          "41",
          "42",
          "43",
          "44",
          "45",
          "46",
          "47",
          "48",
          "49",
          "50",
          "51",
          "52",
          "53",
          "54",
          "55",
          "56",
          "57",
          "57",
          "59",
          "60",
          "61",
          "62",
          "63",
          "64",
          "65",
          "66",
          "67",
          "68",
          "69",
          "70",
          "71",
          "72",
          "73",
          "74",
          "75",
          "76",
          "77",
          "78",
          "79",
          "80",
          "81",
          "82",
          "83",
          "84",
          "85",
          "86",
          "87",
          "88",
          "89",
          "90",
          "91",
          "92",
          "93",
          "94",
          "95",
          "96",
          "97",
          "98",
          "99",
          "100",
          "101",
          "102",
          "103",
          "104",
          "105",
          "106",
          "107",
          "108",
          "109",
          "110",
          "111",
          "112",
          "113",
          "114",
          "115",
          "116",
          "117",
          "118",
          "119",
          "120",
          "121",
          "122",
          "123",
          "124",
          "125",
          "126",
          "127",
          "128",
          "129",
          "130",
          "131",
          "132",
          "133",
          "134",
          "135",
          "136",
          "137",
          "138",
          "139",
          "140",
          "141",
          "142",
          "143",
          "144",
          "145",
          "145",
          "147",
          "148",
          "149",
          "150",
          "151",
          "152",
          "153",
          "154",
          "155",
          "156",
          "157"
         ],
         "y": [
          "0.44453",
          "0.41203",
          "0.14975",
          "0.35776",
          "0.41004",
          "0.31329",
          "0.29927",
          "0.41904",
          "0.32331",
          "0.40867",
          "0.08728",
          "0.21348",
          "0.14868",
          "0.10547",
          "0.12275",
          "0.28551",
          "0.14166",
          "0.26248",
          "0.29754",
          "0.35329",
          "0.18355",
          "0.46987",
          "0.27399",
          "0.11451",
          "0.08423",
          "0.07296",
          "0.03986",
          "0.35561",
          "0.21394",
          "0.17554",
          "0.05399",
          "0.17808",
          "0.02833",
          "0.30008",
          "0.0663",
          "0.48049",
          "0.06137",
          "0.16157",
          "0.08701",
          "0.12692",
          "0.23669",
          "0.25772",
          "0.01241",
          "0.08304",
          "0.02947",
          "0.10613",
          "0.09081",
          "0.16292",
          "0.28333",
          "0.02556",
          "0.18037",
          "0.10771",
          "0.18985",
          "0.11132",
          "0.01903",
          "0.03586",
          "0.055",
          "0.07716",
          "0.07746",
          "0.0182",
          "0.17457",
          "0.16578",
          "0.03635",
          "0.05292",
          "0.28467",
          "0.05203",
          "0.10339",
          "0.0889",
          "0.05228",
          "0.07396",
          "0.00679",
          "0.18519",
          "0.04294",
          "0.04002",
          "0.31647",
          "0.3118",
          "0.06547",
          "0.12348",
          "0.00322",
          "0.13297",
          "0.17914",
          "0.11757",
          "0.02745",
          "0.1616",
          "0.04762",
          "0.04339",
          "0.0",
          "0.12721",
          "0.12372",
          "0.08404",
          "0.04472",
          "0.1388",
          "0.03061",
          "0.01521",
          "0.07047",
          "0.11556",
          "0.36794",
          "0.0817",
          "0.04127",
          "0.13509",
          "0.03285",
          "0.22423",
          "0.0305",
          "0.06906",
          "0.0557",
          "0.11479",
          "0.07008",
          "0.10613",
          "0.05301",
          "0.12583",
          "0.08196",
          "0.13636",
          "0.10398",
          "0.06126",
          "0.1717",
          "0.08415",
          "0.07964",
          "0.08722",
          "0.20243",
          "0.10393",
          "0.03616",
          "0.06686",
          "0.01829",
          "0.0326",
          "0.06075",
          "0.3188",
          "0.09753",
          "0.11681",
          "0.00615",
          "0.17955",
          "0.08582",
          "0.07564",
          "0.10039",
          "0.09314",
          "0.13647",
          "0.14476",
          "0.10769",
          "0.18437",
          "0.1553",
          "0.08092",
          "0.08434",
          "0.17176",
          "0.13015",
          "0.04952",
          "0.12533",
          "0.06442",
          "0.05892",
          "0.07506",
          "0.05099",
          "0.04852",
          "0.1192",
          "0.50521",
          "0.06681",
          "0.07112",
          "0.11587",
          "0.17233",
          "0.09419"
         ]
        }
       ],
       "layout": {
        "legend": {
         "bgcolor": "#F5F6F9",
         "font": {
          "color": "#4D5663"
         }
        },
        "paper_bgcolor": "#F5F6F9",
        "plot_bgcolor": "#F5F6F9",
        "template": {
         "data": {
          "bar": [
           {
            "error_x": {
             "color": "#2a3f5f"
            },
            "error_y": {
             "color": "#2a3f5f"
            },
            "marker": {
             "line": {
              "color": "#E5ECF6",
              "width": 0.5
             },
             "pattern": {
              "fillmode": "overlay",
              "size": 10,
              "solidity": 0.2
             }
            },
            "type": "bar"
           }
          ],
          "barpolar": [
           {
            "marker": {
             "line": {
              "color": "#E5ECF6",
              "width": 0.5
             },
             "pattern": {
              "fillmode": "overlay",
              "size": 10,
              "solidity": 0.2
             }
            },
            "type": "barpolar"
           }
          ],
          "carpet": [
           {
            "aaxis": {
             "endlinecolor": "#2a3f5f",
             "gridcolor": "white",
             "linecolor": "white",
             "minorgridcolor": "white",
             "startlinecolor": "#2a3f5f"
            },
            "baxis": {
             "endlinecolor": "#2a3f5f",
             "gridcolor": "white",
             "linecolor": "white",
             "minorgridcolor": "white",
             "startlinecolor": "#2a3f5f"
            },
            "type": "carpet"
           }
          ],
          "choropleth": [
           {
            "colorbar": {
             "outlinewidth": 0,
             "ticks": ""
            },
            "type": "choropleth"
           }
          ],
          "contour": [
           {
            "colorbar": {
             "outlinewidth": 0,
             "ticks": ""
            },
            "colorscale": [
             [
              0,
              "#0d0887"
             ],
             [
              0.1111111111111111,
              "#46039f"
             ],
             [
              0.2222222222222222,
              "#7201a8"
             ],
             [
              0.3333333333333333,
              "#9c179e"
             ],
             [
              0.4444444444444444,
              "#bd3786"
             ],
             [
              0.5555555555555556,
              "#d8576b"
             ],
             [
              0.6666666666666666,
              "#ed7953"
             ],
             [
              0.7777777777777778,
              "#fb9f3a"
             ],
             [
              0.8888888888888888,
              "#fdca26"
             ],
             [
              1,
              "#f0f921"
             ]
            ],
            "type": "contour"
           }
          ],
          "contourcarpet": [
           {
            "colorbar": {
             "outlinewidth": 0,
             "ticks": ""
            },
            "type": "contourcarpet"
           }
          ],
          "heatmap": [
           {
            "colorbar": {
             "outlinewidth": 0,
             "ticks": ""
            },
            "colorscale": [
             [
              0,
              "#0d0887"
             ],
             [
              0.1111111111111111,
              "#46039f"
             ],
             [
              0.2222222222222222,
              "#7201a8"
             ],
             [
              0.3333333333333333,
              "#9c179e"
             ],
             [
              0.4444444444444444,
              "#bd3786"
             ],
             [
              0.5555555555555556,
              "#d8576b"
             ],
             [
              0.6666666666666666,
              "#ed7953"
             ],
             [
              0.7777777777777778,
              "#fb9f3a"
             ],
             [
              0.8888888888888888,
              "#fdca26"
             ],
             [
              1,
              "#f0f921"
             ]
            ],
            "type": "heatmap"
           }
          ],
          "heatmapgl": [
           {
            "colorbar": {
             "outlinewidth": 0,
             "ticks": ""
            },
            "colorscale": [
             [
              0,
              "#0d0887"
             ],
             [
              0.1111111111111111,
              "#46039f"
             ],
             [
              0.2222222222222222,
              "#7201a8"
             ],
             [
              0.3333333333333333,
              "#9c179e"
             ],
             [
              0.4444444444444444,
              "#bd3786"
             ],
             [
              0.5555555555555556,
              "#d8576b"
             ],
             [
              0.6666666666666666,
              "#ed7953"
             ],
             [
              0.7777777777777778,
              "#fb9f3a"
             ],
             [
              0.8888888888888888,
              "#fdca26"
             ],
             [
              1,
              "#f0f921"
             ]
            ],
            "type": "heatmapgl"
           }
          ],
          "histogram": [
           {
            "marker": {
             "pattern": {
              "fillmode": "overlay",
              "size": 10,
              "solidity": 0.2
             }
            },
            "type": "histogram"
           }
          ],
          "histogram2d": [
           {
            "colorbar": {
             "outlinewidth": 0,
             "ticks": ""
            },
            "colorscale": [
             [
              0,
              "#0d0887"
             ],
             [
              0.1111111111111111,
              "#46039f"
             ],
             [
              0.2222222222222222,
              "#7201a8"
             ],
             [
              0.3333333333333333,
              "#9c179e"
             ],
             [
              0.4444444444444444,
              "#bd3786"
             ],
             [
              0.5555555555555556,
              "#d8576b"
             ],
             [
              0.6666666666666666,
              "#ed7953"
             ],
             [
              0.7777777777777778,
              "#fb9f3a"
             ],
             [
              0.8888888888888888,
              "#fdca26"
             ],
             [
              1,
              "#f0f921"
             ]
            ],
            "type": "histogram2d"
           }
          ],
          "histogram2dcontour": [
           {
            "colorbar": {
             "outlinewidth": 0,
             "ticks": ""
            },
            "colorscale": [
             [
              0,
              "#0d0887"
             ],
             [
              0.1111111111111111,
              "#46039f"
             ],
             [
              0.2222222222222222,
              "#7201a8"
             ],
             [
              0.3333333333333333,
              "#9c179e"
             ],
             [
              0.4444444444444444,
              "#bd3786"
             ],
             [
              0.5555555555555556,
              "#d8576b"
             ],
             [
              0.6666666666666666,
              "#ed7953"
             ],
             [
              0.7777777777777778,
              "#fb9f3a"
             ],
             [
              0.8888888888888888,
              "#fdca26"
             ],
             [
              1,
              "#f0f921"
             ]
            ],
            "type": "histogram2dcontour"
           }
          ],
          "mesh3d": [
           {
            "colorbar": {
             "outlinewidth": 0,
             "ticks": ""
            },
            "type": "mesh3d"
           }
          ],
          "parcoords": [
           {
            "line": {
             "colorbar": {
              "outlinewidth": 0,
              "ticks": ""
             }
            },
            "type": "parcoords"
           }
          ],
          "pie": [
           {
            "automargin": true,
            "type": "pie"
           }
          ],
          "scatter": [
           {
            "fillpattern": {
             "fillmode": "overlay",
             "size": 10,
             "solidity": 0.2
            },
            "type": "scatter"
           }
          ],
          "scatter3d": [
           {
            "line": {
             "colorbar": {
              "outlinewidth": 0,
              "ticks": ""
             }
            },
            "marker": {
             "colorbar": {
              "outlinewidth": 0,
              "ticks": ""
             }
            },
            "type": "scatter3d"
           }
          ],
          "scattercarpet": [
           {
            "marker": {
             "colorbar": {
              "outlinewidth": 0,
              "ticks": ""
             }
            },
            "type": "scattercarpet"
           }
          ],
          "scattergeo": [
           {
            "marker": {
             "colorbar": {
              "outlinewidth": 0,
              "ticks": ""
             }
            },
            "type": "scattergeo"
           }
          ],
          "scattergl": [
           {
            "marker": {
             "colorbar": {
              "outlinewidth": 0,
              "ticks": ""
             }
            },
            "type": "scattergl"
           }
          ],
          "scattermapbox": [
           {
            "marker": {
             "colorbar": {
              "outlinewidth": 0,
              "ticks": ""
             }
            },
            "type": "scattermapbox"
           }
          ],
          "scatterpolar": [
           {
            "marker": {
             "colorbar": {
              "outlinewidth": 0,
              "ticks": ""
             }
            },
            "type": "scatterpolar"
           }
          ],
          "scatterpolargl": [
           {
            "marker": {
             "colorbar": {
              "outlinewidth": 0,
              "ticks": ""
             }
            },
            "type": "scatterpolargl"
           }
          ],
          "scatterternary": [
           {
            "marker": {
             "colorbar": {
              "outlinewidth": 0,
              "ticks": ""
             }
            },
            "type": "scatterternary"
           }
          ],
          "surface": [
           {
            "colorbar": {
             "outlinewidth": 0,
             "ticks": ""
            },
            "colorscale": [
             [
              0,
              "#0d0887"
             ],
             [
              0.1111111111111111,
              "#46039f"
             ],
             [
              0.2222222222222222,
              "#7201a8"
             ],
             [
              0.3333333333333333,
              "#9c179e"
             ],
             [
              0.4444444444444444,
              "#bd3786"
             ],
             [
              0.5555555555555556,
              "#d8576b"
             ],
             [
              0.6666666666666666,
              "#ed7953"
             ],
             [
              0.7777777777777778,
              "#fb9f3a"
             ],
             [
              0.8888888888888888,
              "#fdca26"
             ],
             [
              1,
              "#f0f921"
             ]
            ],
            "type": "surface"
           }
          ],
          "table": [
           {
            "cells": {
             "fill": {
              "color": "#EBF0F8"
             },
             "line": {
              "color": "white"
             }
            },
            "header": {
             "fill": {
              "color": "#C8D4E3"
             },
             "line": {
              "color": "white"
             }
            },
            "type": "table"
           }
          ]
         },
         "layout": {
          "annotationdefaults": {
           "arrowcolor": "#2a3f5f",
           "arrowhead": 0,
           "arrowwidth": 1
          },
          "autotypenumbers": "strict",
          "coloraxis": {
           "colorbar": {
            "outlinewidth": 0,
            "ticks": ""
           }
          },
          "colorscale": {
           "diverging": [
            [
             0,
             "#8e0152"
            ],
            [
             0.1,
             "#c51b7d"
            ],
            [
             0.2,
             "#de77ae"
            ],
            [
             0.3,
             "#f1b6da"
            ],
            [
             0.4,
             "#fde0ef"
            ],
            [
             0.5,
             "#f7f7f7"
            ],
            [
             0.6,
             "#e6f5d0"
            ],
            [
             0.7,
             "#b8e186"
            ],
            [
             0.8,
             "#7fbc41"
            ],
            [
             0.9,
             "#4d9221"
            ],
            [
             1,
             "#276419"
            ]
           ],
           "sequential": [
            [
             0,
             "#0d0887"
            ],
            [
             0.1111111111111111,
             "#46039f"
            ],
            [
             0.2222222222222222,
             "#7201a8"
            ],
            [
             0.3333333333333333,
             "#9c179e"
            ],
            [
             0.4444444444444444,
             "#bd3786"
            ],
            [
             0.5555555555555556,
             "#d8576b"
            ],
            [
             0.6666666666666666,
             "#ed7953"
            ],
            [
             0.7777777777777778,
             "#fb9f3a"
            ],
            [
             0.8888888888888888,
             "#fdca26"
            ],
            [
             1,
             "#f0f921"
            ]
           ],
           "sequentialminus": [
            [
             0,
             "#0d0887"
            ],
            [
             0.1111111111111111,
             "#46039f"
            ],
            [
             0.2222222222222222,
             "#7201a8"
            ],
            [
             0.3333333333333333,
             "#9c179e"
            ],
            [
             0.4444444444444444,
             "#bd3786"
            ],
            [
             0.5555555555555556,
             "#d8576b"
            ],
            [
             0.6666666666666666,
             "#ed7953"
            ],
            [
             0.7777777777777778,
             "#fb9f3a"
            ],
            [
             0.8888888888888888,
             "#fdca26"
            ],
            [
             1,
             "#f0f921"
            ]
           ]
          },
          "colorway": [
           "#636efa",
           "#EF553B",
           "#00cc96",
           "#ab63fa",
           "#FFA15A",
           "#19d3f3",
           "#FF6692",
           "#B6E880",
           "#FF97FF",
           "#FECB52"
          ],
          "font": {
           "color": "#2a3f5f"
          },
          "geo": {
           "bgcolor": "white",
           "lakecolor": "white",
           "landcolor": "#E5ECF6",
           "showlakes": true,
           "showland": true,
           "subunitcolor": "white"
          },
          "hoverlabel": {
           "align": "left"
          },
          "hovermode": "closest",
          "mapbox": {
           "style": "light"
          },
          "paper_bgcolor": "white",
          "plot_bgcolor": "#E5ECF6",
          "polar": {
           "angularaxis": {
            "gridcolor": "white",
            "linecolor": "white",
            "ticks": ""
           },
           "bgcolor": "#E5ECF6",
           "radialaxis": {
            "gridcolor": "white",
            "linecolor": "white",
            "ticks": ""
           }
          },
          "scene": {
           "xaxis": {
            "backgroundcolor": "#E5ECF6",
            "gridcolor": "white",
            "gridwidth": 2,
            "linecolor": "white",
            "showbackground": true,
            "ticks": "",
            "zerolinecolor": "white"
           },
           "yaxis": {
            "backgroundcolor": "#E5ECF6",
            "gridcolor": "white",
            "gridwidth": 2,
            "linecolor": "white",
            "showbackground": true,
            "ticks": "",
            "zerolinecolor": "white"
           },
           "zaxis": {
            "backgroundcolor": "#E5ECF6",
            "gridcolor": "white",
            "gridwidth": 2,
            "linecolor": "white",
            "showbackground": true,
            "ticks": "",
            "zerolinecolor": "white"
           }
          },
          "shapedefaults": {
           "line": {
            "color": "#2a3f5f"
           }
          },
          "ternary": {
           "aaxis": {
            "gridcolor": "white",
            "linecolor": "white",
            "ticks": ""
           },
           "baxis": {
            "gridcolor": "white",
            "linecolor": "white",
            "ticks": ""
           },
           "bgcolor": "#E5ECF6",
           "caxis": {
            "gridcolor": "white",
            "linecolor": "white",
            "ticks": ""
           }
          },
          "title": {
           "x": 0.05
          },
          "xaxis": {
           "automargin": true,
           "gridcolor": "white",
           "linecolor": "white",
           "ticks": "",
           "title": {
            "standoff": 15
           },
           "zerolinecolor": "white",
           "zerolinewidth": 2
          },
          "yaxis": {
           "automargin": true,
           "gridcolor": "white",
           "linecolor": "white",
           "ticks": "",
           "title": {
            "standoff": 15
           },
           "zerolinecolor": "white",
           "zerolinewidth": 2
          }
         }
        },
        "title": {
         "font": {
          "color": "#4D5663"
         },
         "text": "2016 Happiness Rank Vs Generosity / Freedom / Trust "
        },
        "xaxis": {
         "gridcolor": "#E1E5ED",
         "showgrid": true,
         "tickfont": {
          "color": "#4D5663"
         },
         "title": {
          "font": {
           "color": "#4D5663"
          },
          "text": "Happiness Rank"
         },
         "zerolinecolor": "#E1E5ED"
        },
        "yaxis": {
         "gridcolor": "#E1E5ED",
         "showgrid": true,
         "tickfont": {
          "color": "#4D5663"
         },
         "title": {
          "font": {
           "color": "#4D5663"
          },
          "text": "Index"
         },
         "zerolinecolor": "#E1E5ED"
        }
       }
      },
      "text/html": [
       "<div>                            <div id=\"e8676c9a-5e00-41a4-acea-c5de7d01ba1e\" class=\"plotly-graph-div\" style=\"height:525px; width:100%;\"></div>            <script type=\"text/javascript\">                require([\"plotly\"], function(Plotly) {                    window.PLOTLYENV=window.PLOTLYENV || {};\n",
       "                    window.PLOTLYENV.BASE_URL='https://plot.ly';                                    if (document.getElementById(\"e8676c9a-5e00-41a4-acea-c5de7d01ba1e\")) {                    Plotly.newPlot(                        \"e8676c9a-5e00-41a4-acea-c5de7d01ba1e\",                        [{\"line\":{\"color\":\"rgba(255, 153, 51, 1.0)\",\"dash\":\"solid\",\"shape\":\"linear\",\"width\":1.3},\"mode\":\"lines\",\"name\":\"Health (Life Expectancy)\",\"text\":\"\",\"x\":[\"1\",\"2\",\"3\",\"4\",\"5\",\"6\",\"7\",\"8\",\"9\",\"10\",\"11\",\"12\",\"13\",\"14\",\"15\",\"16\",\"17\",\"18\",\"19\",\"20\",\"21\",\"22\",\"23\",\"24\",\"25\",\"26\",\"27\",\"28\",\"29\",\"30\",\"31\",\"32\",\"33\",\"34\",\"34\",\"36\",\"37\",\"38\",\"39\",\"40\",\"41\",\"42\",\"43\",\"44\",\"45\",\"46\",\"47\",\"48\",\"49\",\"50\",\"51\",\"52\",\"53\",\"54\",\"55\",\"56\",\"57\",\"57\",\"59\",\"60\",\"61\",\"62\",\"63\",\"64\",\"65\",\"66\",\"67\",\"68\",\"69\",\"70\",\"71\",\"72\",\"73\",\"74\",\"75\",\"76\",\"77\",\"78\",\"79\",\"80\",\"81\",\"82\",\"83\",\"84\",\"85\",\"86\",\"87\",\"88\",\"89\",\"90\",\"91\",\"92\",\"93\",\"94\",\"95\",\"96\",\"97\",\"98\",\"99\",\"100\",\"101\",\"102\",\"103\",\"104\",\"105\",\"106\",\"107\",\"108\",\"109\",\"110\",\"111\",\"112\",\"113\",\"114\",\"115\",\"116\",\"117\",\"118\",\"119\",\"120\",\"121\",\"122\",\"123\",\"124\",\"125\",\"126\",\"127\",\"128\",\"129\",\"130\",\"131\",\"132\",\"133\",\"134\",\"135\",\"136\",\"137\",\"138\",\"139\",\"140\",\"141\",\"142\",\"143\",\"144\",\"145\",\"145\",\"147\",\"148\",\"149\",\"150\",\"151\",\"152\",\"153\",\"154\",\"155\",\"156\",\"157\"],\"y\":[\"0.79504\",\"0.86303\",\"0.86733\",\"0.79579\",\"0.81091\",\"0.8276\",\"0.81231\",\"0.83096\",\"0.8512\",\"0.83121\",\"0.84917\",\"0.80565\",\"0.779\",\"0.76146\",\"0.77758\",\"0.81487\",\"0.61415\",\"0.81959\",\"0.81455\",\"0.84542\",\"0.71143\",\"0.94719\",\"0.80991\",\"0.81883\",\"0.70835\",\"0.69711\",\"0.76376\",\"0.72993\",\"0.72183\",\"0.80315\",\"0.59659\",\"0.83795\",\"0.64915\",\"0.59267\",\"0.79565\",\"0.71723\",\"0.87896\",\"0.61804\",\"0.54039\",\"0.50933\",\"0.63569\",\"0.65696\",\"0.52608\",\"0.61904\",\"0.70367\",\"0.596\",\"0.62366\",\"0.65213\",\"0.50163\",\"0.85102\",\"0.68613\",\"0.45569\",\"0.91491\",\"0.57386\",\"0.52309\",\"0.58991\",\"0.69058\",\"0.88645\",\"0.4697\",\"0.64674\",\"0.63104\",\"0.84142\",\"0.79151\",\"0.62994\",\"0.44006\",\"0.66189\",\"0.52304\",\"0.63952\",\"0.8488\",\"0.58295\",\"0.67602\",\"0.68098\",\"0.59469\",\"0.70524\",\"0.95277\",\"0.11466\",\"0.54\",\"0.64718\",\"0.49374\",\"0.60712\",\"0.54504\",\"0.47036\",\"0.73561\",\"0.49759\",\"0.55449\",\"0.6458\",\"0.70766\",\"0.63533\",\"0.57669\",\"0.59471\",\"0.67608\",\"0.40306\",\"0.76171\",\"0.79363\",\"0.64738\",\"0.66157\",\"0.33108\",\"0.59577\",\"0.80029\",\"0.53119\",\"0.55469\",\"0.38291\",\"0.05108\",\"0.58383\",\"0.64232\",\"0.23573\",\"0.50073\",\"0.56844\",\"0.73007\",\"0.52989\",\"0.0\",\"0.51076\",\"0.34745\",\"0.12698\",\"0.34578\",\"0.18611\",\"0.62007\",\"0.45091\",\"0.3988\",\"0.52116\",\"0.64083\",\"0.30147\",\"0.58628\",\"0.29681\",\"0.188\",\"0.64035\",\"0.28212\",\"0.40457\",\"0.67806\",\"0.28639\",\"0.1595\",\"0.29364\",\"0.29759\",\"0.3494\",\"0.16347\",\"0.27494\",\"0.34752\",\"0.29981\",\"0.04476\",\"0.42494\",\"0.04991\",\"0.26162\",\"0.15781\",\"0.03824\",\"0.21297\",\"0.19625\",\"0.31048\",\"0.37109\",\"0.357\",\"0.23165\",\"0.18829\",\"0.31865\",\"0.21028\",\"0.17344\",\"0.24811\",\"0.62994\",\"0.15747\"],\"type\":\"scatter\"},{\"line\":{\"color\":\"rgba(55, 128, 191, 1.0)\",\"dash\":\"solid\",\"shape\":\"linear\",\"width\":1.3},\"mode\":\"lines\",\"name\":\"Freedom\",\"text\":\"\",\"x\":[\"1\",\"2\",\"3\",\"4\",\"5\",\"6\",\"7\",\"8\",\"9\",\"10\",\"11\",\"12\",\"13\",\"14\",\"15\",\"16\",\"17\",\"18\",\"19\",\"20\",\"21\",\"22\",\"23\",\"24\",\"25\",\"26\",\"27\",\"28\",\"29\",\"30\",\"31\",\"32\",\"33\",\"34\",\"34\",\"36\",\"37\",\"38\",\"39\",\"40\",\"41\",\"42\",\"43\",\"44\",\"45\",\"46\",\"47\",\"48\",\"49\",\"50\",\"51\",\"52\",\"53\",\"54\",\"55\",\"56\",\"57\",\"57\",\"59\",\"60\",\"61\",\"62\",\"63\",\"64\",\"65\",\"66\",\"67\",\"68\",\"69\",\"70\",\"71\",\"72\",\"73\",\"74\",\"75\",\"76\",\"77\",\"78\",\"79\",\"80\",\"81\",\"82\",\"83\",\"84\",\"85\",\"86\",\"87\",\"88\",\"89\",\"90\",\"91\",\"92\",\"93\",\"94\",\"95\",\"96\",\"97\",\"98\",\"99\",\"100\",\"101\",\"102\",\"103\",\"104\",\"105\",\"106\",\"107\",\"108\",\"109\",\"110\",\"111\",\"112\",\"113\",\"114\",\"115\",\"116\",\"117\",\"118\",\"119\",\"120\",\"121\",\"122\",\"123\",\"124\",\"125\",\"126\",\"127\",\"128\",\"129\",\"130\",\"131\",\"132\",\"133\",\"134\",\"135\",\"136\",\"137\",\"138\",\"139\",\"140\",\"141\",\"142\",\"143\",\"144\",\"145\",\"145\",\"147\",\"148\",\"149\",\"150\",\"151\",\"152\",\"153\",\"154\",\"155\",\"156\",\"157\"],\"y\":[\"0.57941\",\"0.58557\",\"0.56624\",\"0.59609\",\"0.57104\",\"0.5737\",\"0.55211\",\"0.58147\",\"0.56837\",\"0.58218\",\"0.36432\",\"0.54355\",\"0.48163\",\"0.55225\",\"0.46823\",\"0.53466\",\"0.40425\",\"0.51354\",\"0.54008\",\"0.5487\",\"0.37709\",\"0.4877\",\"0.50036\",\"0.37789\",\"0.48927\",\"0.42284\",\"0.41418\",\"0.56215\",\"0.54388\",\"0.54994\",\"0.44735\",\"0.46562\",\"0.49553\",\"0.37904\",\"0.32377\",\"0.56679\",\"0.37545\",\"0.21006\",\"0.50379\",\"0.52234\",\"0.43166\",\"0.47375\",\"0.48453\",\"0.19847\",\"0.23391\",\"0.37269\",\"0.39031\",\"0.46582\",\"0.60848\",\"0.18827\",\"0.4027\",\"0.51231\",\"0.46761\",\"0.4052\",\"0.25202\",\"0.32682\",\"0.4519\",\"0.25168\",\"0.50961\",\"0.18929\",\"0.29091\",\"0.43596\",\"0.53164\",\"0.37502\",\"0.37408\",\"0.46145\",\"0.40672\",\"0.27996\",\"0.29507\",\"0.46235\",\"0.36712\",\"0.41511\",\"0.43597\",\"0.23907\",\"0.48079\",\"0.56778\",\"0.14396\",\"0.23889\",\"0.39237\",\"0.36023\",\"0.35327\",\"0.54854\",\"0.44012\",\"0.46074\",\"0.40212\",\"0.15718\",\"0.09511\",\"0.15111\",\"0.52259\",\"0.25646\",\"0.1977\",\"0.14622\",\"0.26228\",\"0.44727\",\"0.27668\",\"0.55954\",\"0.3913\",\"0.23553\",\"0.05822\",\"0.43408\",\"0.35972\",\"0.52168\",\"0.27854\",\"0.26755\",\"0.22544\",\"0.42662\",\"0.37012\",\"0.17744\",\"0.31866\",\"0.39778\",\"0.30685\",\"0.24856\",\"0.48614\",\"0.42736\",\"0.36703\",\"0.42483\",\"0.50817\",\"0.40285\",\"0.42692\",\"0.18847\",\"0.14037\",\"0.40576\",\"0.12859\",\"0.40973\",\"0.15602\",\"0.32461\",\"0.37938\",\"0.31056\",\"0.21219\",\"0.1268\",\"0.25429\",\"0.4143\",\"0.0\",\"0.28098\",\"0.27544\",\"0.12072\",\"0.44089\",\"0.15412\",\"0.40663\",\"0.58852\",\"0.00589\",\"0.38041\",\"0.19662\",\"0.12807\",\"0.3337\",\"0.43653\",\"0.2287\",\"0.13684\",\"0.3176\",\"0.25748\",\"0.30953\",\"0.5432\",\"0.39747\",\"0.1643\",\"0.34678\",\"0.06912\",\"0.0432\"],\"type\":\"scatter\"},{\"line\":{\"color\":\"rgba(50, 171, 96, 1.0)\",\"dash\":\"solid\",\"shape\":\"linear\",\"width\":1.3},\"mode\":\"lines\",\"name\":\"Trust (Government Corruption)\",\"text\":\"\",\"x\":[\"1\",\"2\",\"3\",\"4\",\"5\",\"6\",\"7\",\"8\",\"9\",\"10\",\"11\",\"12\",\"13\",\"14\",\"15\",\"16\",\"17\",\"18\",\"19\",\"20\",\"21\",\"22\",\"23\",\"24\",\"25\",\"26\",\"27\",\"28\",\"29\",\"30\",\"31\",\"32\",\"33\",\"34\",\"34\",\"36\",\"37\",\"38\",\"39\",\"40\",\"41\",\"42\",\"43\",\"44\",\"45\",\"46\",\"47\",\"48\",\"49\",\"50\",\"51\",\"52\",\"53\",\"54\",\"55\",\"56\",\"57\",\"57\",\"59\",\"60\",\"61\",\"62\",\"63\",\"64\",\"65\",\"66\",\"67\",\"68\",\"69\",\"70\",\"71\",\"72\",\"73\",\"74\",\"75\",\"76\",\"77\",\"78\",\"79\",\"80\",\"81\",\"82\",\"83\",\"84\",\"85\",\"86\",\"87\",\"88\",\"89\",\"90\",\"91\",\"92\",\"93\",\"94\",\"95\",\"96\",\"97\",\"98\",\"99\",\"100\",\"101\",\"102\",\"103\",\"104\",\"105\",\"106\",\"107\",\"108\",\"109\",\"110\",\"111\",\"112\",\"113\",\"114\",\"115\",\"116\",\"117\",\"118\",\"119\",\"120\",\"121\",\"122\",\"123\",\"124\",\"125\",\"126\",\"127\",\"128\",\"129\",\"130\",\"131\",\"132\",\"133\",\"134\",\"135\",\"136\",\"137\",\"138\",\"139\",\"140\",\"141\",\"142\",\"143\",\"144\",\"145\",\"145\",\"147\",\"148\",\"149\",\"150\",\"151\",\"152\",\"153\",\"154\",\"155\",\"156\",\"157\"],\"y\":[\"0.44453\",\"0.41203\",\"0.14975\",\"0.35776\",\"0.41004\",\"0.31329\",\"0.29927\",\"0.41904\",\"0.32331\",\"0.40867\",\"0.08728\",\"0.21348\",\"0.14868\",\"0.10547\",\"0.12275\",\"0.28551\",\"0.14166\",\"0.26248\",\"0.29754\",\"0.35329\",\"0.18355\",\"0.46987\",\"0.27399\",\"0.11451\",\"0.08423\",\"0.07296\",\"0.03986\",\"0.35561\",\"0.21394\",\"0.17554\",\"0.05399\",\"0.17808\",\"0.02833\",\"0.30008\",\"0.0663\",\"0.48049\",\"0.06137\",\"0.16157\",\"0.08701\",\"0.12692\",\"0.23669\",\"0.25772\",\"0.01241\",\"0.08304\",\"0.02947\",\"0.10613\",\"0.09081\",\"0.16292\",\"0.28333\",\"0.02556\",\"0.18037\",\"0.10771\",\"0.18985\",\"0.11132\",\"0.01903\",\"0.03586\",\"0.055\",\"0.07716\",\"0.07746\",\"0.0182\",\"0.17457\",\"0.16578\",\"0.03635\",\"0.05292\",\"0.28467\",\"0.05203\",\"0.10339\",\"0.0889\",\"0.05228\",\"0.07396\",\"0.00679\",\"0.18519\",\"0.04294\",\"0.04002\",\"0.31647\",\"0.3118\",\"0.06547\",\"0.12348\",\"0.00322\",\"0.13297\",\"0.17914\",\"0.11757\",\"0.02745\",\"0.1616\",\"0.04762\",\"0.04339\",\"0.0\",\"0.12721\",\"0.12372\",\"0.08404\",\"0.04472\",\"0.1388\",\"0.03061\",\"0.01521\",\"0.07047\",\"0.11556\",\"0.36794\",\"0.0817\",\"0.04127\",\"0.13509\",\"0.03285\",\"0.22423\",\"0.0305\",\"0.06906\",\"0.0557\",\"0.11479\",\"0.07008\",\"0.10613\",\"0.05301\",\"0.12583\",\"0.08196\",\"0.13636\",\"0.10398\",\"0.06126\",\"0.1717\",\"0.08415\",\"0.07964\",\"0.08722\",\"0.20243\",\"0.10393\",\"0.03616\",\"0.06686\",\"0.01829\",\"0.0326\",\"0.06075\",\"0.3188\",\"0.09753\",\"0.11681\",\"0.00615\",\"0.17955\",\"0.08582\",\"0.07564\",\"0.10039\",\"0.09314\",\"0.13647\",\"0.14476\",\"0.10769\",\"0.18437\",\"0.1553\",\"0.08092\",\"0.08434\",\"0.17176\",\"0.13015\",\"0.04952\",\"0.12533\",\"0.06442\",\"0.05892\",\"0.07506\",\"0.05099\",\"0.04852\",\"0.1192\",\"0.50521\",\"0.06681\",\"0.07112\",\"0.11587\",\"0.17233\",\"0.09419\"],\"type\":\"scatter\"}],                        {\"legend\":{\"bgcolor\":\"#F5F6F9\",\"font\":{\"color\":\"#4D5663\"}},\"paper_bgcolor\":\"#F5F6F9\",\"plot_bgcolor\":\"#F5F6F9\",\"template\":{\"data\":{\"barpolar\":[{\"marker\":{\"line\":{\"color\":\"#E5ECF6\",\"width\":0.5},\"pattern\":{\"fillmode\":\"overlay\",\"size\":10,\"solidity\":0.2}},\"type\":\"barpolar\"}],\"bar\":[{\"error_x\":{\"color\":\"#2a3f5f\"},\"error_y\":{\"color\":\"#2a3f5f\"},\"marker\":{\"line\":{\"color\":\"#E5ECF6\",\"width\":0.5},\"pattern\":{\"fillmode\":\"overlay\",\"size\":10,\"solidity\":0.2}},\"type\":\"bar\"}],\"carpet\":[{\"aaxis\":{\"endlinecolor\":\"#2a3f5f\",\"gridcolor\":\"white\",\"linecolor\":\"white\",\"minorgridcolor\":\"white\",\"startlinecolor\":\"#2a3f5f\"},\"baxis\":{\"endlinecolor\":\"#2a3f5f\",\"gridcolor\":\"white\",\"linecolor\":\"white\",\"minorgridcolor\":\"white\",\"startlinecolor\":\"#2a3f5f\"},\"type\":\"carpet\"}],\"choropleth\":[{\"colorbar\":{\"outlinewidth\":0,\"ticks\":\"\"},\"type\":\"choropleth\"}],\"contourcarpet\":[{\"colorbar\":{\"outlinewidth\":0,\"ticks\":\"\"},\"type\":\"contourcarpet\"}],\"contour\":[{\"colorbar\":{\"outlinewidth\":0,\"ticks\":\"\"},\"colorscale\":[[0.0,\"#0d0887\"],[0.1111111111111111,\"#46039f\"],[0.2222222222222222,\"#7201a8\"],[0.3333333333333333,\"#9c179e\"],[0.4444444444444444,\"#bd3786\"],[0.5555555555555556,\"#d8576b\"],[0.6666666666666666,\"#ed7953\"],[0.7777777777777778,\"#fb9f3a\"],[0.8888888888888888,\"#fdca26\"],[1.0,\"#f0f921\"]],\"type\":\"contour\"}],\"heatmapgl\":[{\"colorbar\":{\"outlinewidth\":0,\"ticks\":\"\"},\"colorscale\":[[0.0,\"#0d0887\"],[0.1111111111111111,\"#46039f\"],[0.2222222222222222,\"#7201a8\"],[0.3333333333333333,\"#9c179e\"],[0.4444444444444444,\"#bd3786\"],[0.5555555555555556,\"#d8576b\"],[0.6666666666666666,\"#ed7953\"],[0.7777777777777778,\"#fb9f3a\"],[0.8888888888888888,\"#fdca26\"],[1.0,\"#f0f921\"]],\"type\":\"heatmapgl\"}],\"heatmap\":[{\"colorbar\":{\"outlinewidth\":0,\"ticks\":\"\"},\"colorscale\":[[0.0,\"#0d0887\"],[0.1111111111111111,\"#46039f\"],[0.2222222222222222,\"#7201a8\"],[0.3333333333333333,\"#9c179e\"],[0.4444444444444444,\"#bd3786\"],[0.5555555555555556,\"#d8576b\"],[0.6666666666666666,\"#ed7953\"],[0.7777777777777778,\"#fb9f3a\"],[0.8888888888888888,\"#fdca26\"],[1.0,\"#f0f921\"]],\"type\":\"heatmap\"}],\"histogram2dcontour\":[{\"colorbar\":{\"outlinewidth\":0,\"ticks\":\"\"},\"colorscale\":[[0.0,\"#0d0887\"],[0.1111111111111111,\"#46039f\"],[0.2222222222222222,\"#7201a8\"],[0.3333333333333333,\"#9c179e\"],[0.4444444444444444,\"#bd3786\"],[0.5555555555555556,\"#d8576b\"],[0.6666666666666666,\"#ed7953\"],[0.7777777777777778,\"#fb9f3a\"],[0.8888888888888888,\"#fdca26\"],[1.0,\"#f0f921\"]],\"type\":\"histogram2dcontour\"}],\"histogram2d\":[{\"colorbar\":{\"outlinewidth\":0,\"ticks\":\"\"},\"colorscale\":[[0.0,\"#0d0887\"],[0.1111111111111111,\"#46039f\"],[0.2222222222222222,\"#7201a8\"],[0.3333333333333333,\"#9c179e\"],[0.4444444444444444,\"#bd3786\"],[0.5555555555555556,\"#d8576b\"],[0.6666666666666666,\"#ed7953\"],[0.7777777777777778,\"#fb9f3a\"],[0.8888888888888888,\"#fdca26\"],[1.0,\"#f0f921\"]],\"type\":\"histogram2d\"}],\"histogram\":[{\"marker\":{\"pattern\":{\"fillmode\":\"overlay\",\"size\":10,\"solidity\":0.2}},\"type\":\"histogram\"}],\"mesh3d\":[{\"colorbar\":{\"outlinewidth\":0,\"ticks\":\"\"},\"type\":\"mesh3d\"}],\"parcoords\":[{\"line\":{\"colorbar\":{\"outlinewidth\":0,\"ticks\":\"\"}},\"type\":\"parcoords\"}],\"pie\":[{\"automargin\":true,\"type\":\"pie\"}],\"scatter3d\":[{\"line\":{\"colorbar\":{\"outlinewidth\":0,\"ticks\":\"\"}},\"marker\":{\"colorbar\":{\"outlinewidth\":0,\"ticks\":\"\"}},\"type\":\"scatter3d\"}],\"scattercarpet\":[{\"marker\":{\"colorbar\":{\"outlinewidth\":0,\"ticks\":\"\"}},\"type\":\"scattercarpet\"}],\"scattergeo\":[{\"marker\":{\"colorbar\":{\"outlinewidth\":0,\"ticks\":\"\"}},\"type\":\"scattergeo\"}],\"scattergl\":[{\"marker\":{\"colorbar\":{\"outlinewidth\":0,\"ticks\":\"\"}},\"type\":\"scattergl\"}],\"scattermapbox\":[{\"marker\":{\"colorbar\":{\"outlinewidth\":0,\"ticks\":\"\"}},\"type\":\"scattermapbox\"}],\"scatterpolargl\":[{\"marker\":{\"colorbar\":{\"outlinewidth\":0,\"ticks\":\"\"}},\"type\":\"scatterpolargl\"}],\"scatterpolar\":[{\"marker\":{\"colorbar\":{\"outlinewidth\":0,\"ticks\":\"\"}},\"type\":\"scatterpolar\"}],\"scatter\":[{\"fillpattern\":{\"fillmode\":\"overlay\",\"size\":10,\"solidity\":0.2},\"type\":\"scatter\"}],\"scatterternary\":[{\"marker\":{\"colorbar\":{\"outlinewidth\":0,\"ticks\":\"\"}},\"type\":\"scatterternary\"}],\"surface\":[{\"colorbar\":{\"outlinewidth\":0,\"ticks\":\"\"},\"colorscale\":[[0.0,\"#0d0887\"],[0.1111111111111111,\"#46039f\"],[0.2222222222222222,\"#7201a8\"],[0.3333333333333333,\"#9c179e\"],[0.4444444444444444,\"#bd3786\"],[0.5555555555555556,\"#d8576b\"],[0.6666666666666666,\"#ed7953\"],[0.7777777777777778,\"#fb9f3a\"],[0.8888888888888888,\"#fdca26\"],[1.0,\"#f0f921\"]],\"type\":\"surface\"}],\"table\":[{\"cells\":{\"fill\":{\"color\":\"#EBF0F8\"},\"line\":{\"color\":\"white\"}},\"header\":{\"fill\":{\"color\":\"#C8D4E3\"},\"line\":{\"color\":\"white\"}},\"type\":\"table\"}]},\"layout\":{\"annotationdefaults\":{\"arrowcolor\":\"#2a3f5f\",\"arrowhead\":0,\"arrowwidth\":1},\"autotypenumbers\":\"strict\",\"coloraxis\":{\"colorbar\":{\"outlinewidth\":0,\"ticks\":\"\"}},\"colorscale\":{\"diverging\":[[0,\"#8e0152\"],[0.1,\"#c51b7d\"],[0.2,\"#de77ae\"],[0.3,\"#f1b6da\"],[0.4,\"#fde0ef\"],[0.5,\"#f7f7f7\"],[0.6,\"#e6f5d0\"],[0.7,\"#b8e186\"],[0.8,\"#7fbc41\"],[0.9,\"#4d9221\"],[1,\"#276419\"]],\"sequential\":[[0.0,\"#0d0887\"],[0.1111111111111111,\"#46039f\"],[0.2222222222222222,\"#7201a8\"],[0.3333333333333333,\"#9c179e\"],[0.4444444444444444,\"#bd3786\"],[0.5555555555555556,\"#d8576b\"],[0.6666666666666666,\"#ed7953\"],[0.7777777777777778,\"#fb9f3a\"],[0.8888888888888888,\"#fdca26\"],[1.0,\"#f0f921\"]],\"sequentialminus\":[[0.0,\"#0d0887\"],[0.1111111111111111,\"#46039f\"],[0.2222222222222222,\"#7201a8\"],[0.3333333333333333,\"#9c179e\"],[0.4444444444444444,\"#bd3786\"],[0.5555555555555556,\"#d8576b\"],[0.6666666666666666,\"#ed7953\"],[0.7777777777777778,\"#fb9f3a\"],[0.8888888888888888,\"#fdca26\"],[1.0,\"#f0f921\"]]},\"colorway\":[\"#636efa\",\"#EF553B\",\"#00cc96\",\"#ab63fa\",\"#FFA15A\",\"#19d3f3\",\"#FF6692\",\"#B6E880\",\"#FF97FF\",\"#FECB52\"],\"font\":{\"color\":\"#2a3f5f\"},\"geo\":{\"bgcolor\":\"white\",\"lakecolor\":\"white\",\"landcolor\":\"#E5ECF6\",\"showlakes\":true,\"showland\":true,\"subunitcolor\":\"white\"},\"hoverlabel\":{\"align\":\"left\"},\"hovermode\":\"closest\",\"mapbox\":{\"style\":\"light\"},\"paper_bgcolor\":\"white\",\"plot_bgcolor\":\"#E5ECF6\",\"polar\":{\"angularaxis\":{\"gridcolor\":\"white\",\"linecolor\":\"white\",\"ticks\":\"\"},\"bgcolor\":\"#E5ECF6\",\"radialaxis\":{\"gridcolor\":\"white\",\"linecolor\":\"white\",\"ticks\":\"\"}},\"scene\":{\"xaxis\":{\"backgroundcolor\":\"#E5ECF6\",\"gridcolor\":\"white\",\"gridwidth\":2,\"linecolor\":\"white\",\"showbackground\":true,\"ticks\":\"\",\"zerolinecolor\":\"white\"},\"yaxis\":{\"backgroundcolor\":\"#E5ECF6\",\"gridcolor\":\"white\",\"gridwidth\":2,\"linecolor\":\"white\",\"showbackground\":true,\"ticks\":\"\",\"zerolinecolor\":\"white\"},\"zaxis\":{\"backgroundcolor\":\"#E5ECF6\",\"gridcolor\":\"white\",\"gridwidth\":2,\"linecolor\":\"white\",\"showbackground\":true,\"ticks\":\"\",\"zerolinecolor\":\"white\"}},\"shapedefaults\":{\"line\":{\"color\":\"#2a3f5f\"}},\"ternary\":{\"aaxis\":{\"gridcolor\":\"white\",\"linecolor\":\"white\",\"ticks\":\"\"},\"baxis\":{\"gridcolor\":\"white\",\"linecolor\":\"white\",\"ticks\":\"\"},\"bgcolor\":\"#E5ECF6\",\"caxis\":{\"gridcolor\":\"white\",\"linecolor\":\"white\",\"ticks\":\"\"}},\"title\":{\"x\":0.05},\"xaxis\":{\"automargin\":true,\"gridcolor\":\"white\",\"linecolor\":\"white\",\"ticks\":\"\",\"title\":{\"standoff\":15},\"zerolinecolor\":\"white\",\"zerolinewidth\":2},\"yaxis\":{\"automargin\":true,\"gridcolor\":\"white\",\"linecolor\":\"white\",\"ticks\":\"\",\"title\":{\"standoff\":15},\"zerolinecolor\":\"white\",\"zerolinewidth\":2}}},\"title\":{\"font\":{\"color\":\"#4D5663\"},\"text\":\"2016 Happiness Rank Vs Generosity / Freedom / Trust \"},\"xaxis\":{\"gridcolor\":\"#E1E5ED\",\"showgrid\":true,\"tickfont\":{\"color\":\"#4D5663\"},\"title\":{\"font\":{\"color\":\"#4D5663\"},\"text\":\"Happiness Rank\"},\"zerolinecolor\":\"#E1E5ED\"},\"yaxis\":{\"gridcolor\":\"#E1E5ED\",\"showgrid\":true,\"tickfont\":{\"color\":\"#4D5663\"},\"title\":{\"font\":{\"color\":\"#4D5663\"},\"text\":\"Index\"},\"zerolinecolor\":\"#E1E5ED\"}},                        {\"showLink\": true, \"linkText\": \"Export to plot.ly\", \"plotlyServerURL\": \"https://plot.ly\", \"responsive\": true}                    ).then(function(){\n",
       "                            \n",
       "var gd = document.getElementById('e8676c9a-5e00-41a4-acea-c5de7d01ba1e');\n",
       "var x = new MutationObserver(function (mutations, observer) {{\n",
       "        var display = window.getComputedStyle(gd).display;\n",
       "        if (!display || display === 'none') {{\n",
       "            console.log([gd, 'removed!']);\n",
       "            Plotly.purge(gd);\n",
       "            observer.disconnect();\n",
       "        }}\n",
       "}});\n",
       "\n",
       "// Listen for the removal of the full notebook cells\n",
       "var notebookContainer = gd.closest('#notebook-container');\n",
       "if (notebookContainer) {{\n",
       "    x.observe(notebookContainer, {childList: true});\n",
       "}}\n",
       "\n",
       "// Listen for the clearing of the current output cell\n",
       "var outputEl = gd.closest('.output');\n",
       "if (outputEl) {{\n",
       "    x.observe(outputEl, {childList: true});\n",
       "}}\n",
       "\n",
       "                        })                };                });            </script>        </div>"
      ]
     },
     "metadata": {},
     "output_type": "display_data"
    }
   ],
   "source": [
    "# Create line plots for Happiness Rank Vs Health / Freedom / Trust. * Do you think people living in happier countries have better health?\n",
    "whp.iplot(\n",
    "    x='Happiness Rank',\n",
    "    y=['Health (Life Expectancy)','Freedom','Trust (Government Corruption)'],\n",
    "    xTitle='Happiness Rank',\n",
    "    yTitle='Index',\n",
    "    title='2016 Happiness Rank Vs Generosity / Freedom / Trust '\n",
    ")"
   ]
  },
  {
   "cell_type": "code",
   "execution_count": 6,
   "id": "c8065b31",
   "metadata": {},
   "outputs": [
    {
     "data": {
      "application/vnd.plotly.v1+json": {
       "config": {
        "linkText": "Export to plot.ly",
        "plotlyServerURL": "https://plot.ly",
        "showLink": true
       },
       "data": [
        {
         "marker": {
          "color": "rgba(255, 153, 51, 0.6)",
          "line": {
           "color": "rgba(255, 153, 51, 1.0)",
           "width": 1
          }
         },
         "name": "Trust (Government Corruption)",
         "orientation": "v",
         "text": "",
         "type": "bar",
         "x": [
          "Denmark",
          "Switzerland",
          "Iceland",
          "Norway",
          "Finland",
          "Canada",
          "Netherlands",
          "New Zealand",
          "Australia",
          "Sweden",
          "Israel",
          "Austria",
          "United States",
          "Costa Rica",
          "Puerto Rico",
          "Germany",
          "Brazil",
          "Belgium",
          "Ireland",
          "Luxembourg",
          "Mexico",
          "Singapore",
          "United Kingdom",
          "Chile",
          "Panama",
          "Argentina",
          "Czech Republic",
          "United Arab Emirates",
          "Uruguay",
          "Malta",
          "Colombia",
          "France",
          "Thailand",
          "Saudi Arabia",
          "Taiwan",
          "Qatar",
          "Spain",
          "Algeria",
          "Guatemala",
          "Suriname",
          "Kuwait",
          "Bahrain",
          "Trinidad and Tobago",
          "Venezuela",
          "Slovakia",
          "El Salvador",
          "Malaysia",
          "Nicaragua",
          "Uzbekistan",
          "Italy",
          "Ecuador",
          "Belize",
          "Japan",
          "Kazakhstan",
          "Moldova",
          "Russia",
          "Poland",
          "South Korea",
          "Bolivia",
          "Lithuania",
          "Belarus",
          "North Cyprus",
          "Slovenia",
          "Peru",
          "Turkmenistan",
          "Mauritius",
          "Libya",
          "Latvia",
          "Cyprus",
          "Paraguay",
          "Romania",
          "Estonia",
          "Jamaica",
          "Croatia",
          "Hong Kong",
          "Somalia",
          "Kosovo",
          "Turkey",
          "Indonesia",
          "Jordan",
          "Azerbaijan",
          "Philippines",
          "China",
          "Bhutan",
          "Kyrgyzstan",
          "Serbia",
          "Bosnia and Herzegovina",
          "Montenegro",
          "Dominican Republic",
          "Morocco",
          "Hungary",
          "Pakistan",
          "Lebanon",
          "Portugal",
          "Macedonia",
          "Vietnam",
          "Somaliland Region",
          "Tunisia",
          "Greece",
          "Tajikistan",
          "Mongolia",
          "Laos",
          "Nigeria",
          "Honduras",
          "Iran",
          "Zambia",
          "Nepal",
          "Palestinian Territories",
          "Albania",
          "Bangladesh",
          "Sierra Leone",
          "Iraq",
          "Namibia",
          "Cameroon",
          "Ethiopia",
          "South Africa",
          "Sri Lanka",
          "India",
          "Myanmar",
          "Egypt",
          "Armenia",
          "Kenya",
          "Ukraine",
          "Ghana",
          "Congo (Kinshasa)",
          "Georgia",
          "Congo (Brazzaville)",
          "Senegal",
          "Bulgaria",
          "Mauritania",
          "Zimbabwe",
          "Malawi",
          "Sudan",
          "Gabon",
          "Mali",
          "Haiti",
          "Botswana",
          "Comoros",
          "Ivory Coast",
          "Cambodia",
          "Angola",
          "Niger",
          "South Sudan",
          "Chad",
          "Burkina Faso",
          "Uganda",
          "Yemen",
          "Madagascar",
          "Tanzania",
          "Liberia",
          "Guinea",
          "Rwanda",
          "Benin",
          "Afghanistan",
          "Togo",
          "Syria",
          "Burundi"
         ],
         "y": [
          "0.44453",
          "0.41203",
          "0.14975",
          "0.35776",
          "0.41004",
          "0.31329",
          "0.29927",
          "0.41904",
          "0.32331",
          "0.40867",
          "0.08728",
          "0.21348",
          "0.14868",
          "0.10547",
          "0.12275",
          "0.28551",
          "0.14166",
          "0.26248",
          "0.29754",
          "0.35329",
          "0.18355",
          "0.46987",
          "0.27399",
          "0.11451",
          "0.08423",
          "0.07296",
          "0.03986",
          "0.35561",
          "0.21394",
          "0.17554",
          "0.05399",
          "0.17808",
          "0.02833",
          "0.30008",
          "0.0663",
          "0.48049",
          "0.06137",
          "0.16157",
          "0.08701",
          "0.12692",
          "0.23669",
          "0.25772",
          "0.01241",
          "0.08304",
          "0.02947",
          "0.10613",
          "0.09081",
          "0.16292",
          "0.28333",
          "0.02556",
          "0.18037",
          "0.10771",
          "0.18985",
          "0.11132",
          "0.01903",
          "0.03586",
          "0.055",
          "0.07716",
          "0.07746",
          "0.0182",
          "0.17457",
          "0.16578",
          "0.03635",
          "0.05292",
          "0.28467",
          "0.05203",
          "0.10339",
          "0.0889",
          "0.05228",
          "0.07396",
          "0.00679",
          "0.18519",
          "0.04294",
          "0.04002",
          "0.31647",
          "0.3118",
          "0.06547",
          "0.12348",
          "0.00322",
          "0.13297",
          "0.17914",
          "0.11757",
          "0.02745",
          "0.1616",
          "0.04762",
          "0.04339",
          "0.0",
          "0.12721",
          "0.12372",
          "0.08404",
          "0.04472",
          "0.1388",
          "0.03061",
          "0.01521",
          "0.07047",
          "0.11556",
          "0.36794",
          "0.0817",
          "0.04127",
          "0.13509",
          "0.03285",
          "0.22423",
          "0.0305",
          "0.06906",
          "0.0557",
          "0.11479",
          "0.07008",
          "0.10613",
          "0.05301",
          "0.12583",
          "0.08196",
          "0.13636",
          "0.10398",
          "0.06126",
          "0.1717",
          "0.08415",
          "0.07964",
          "0.08722",
          "0.20243",
          "0.10393",
          "0.03616",
          "0.06686",
          "0.01829",
          "0.0326",
          "0.06075",
          "0.3188",
          "0.09753",
          "0.11681",
          "0.00615",
          "0.17955",
          "0.08582",
          "0.07564",
          "0.10039",
          "0.09314",
          "0.13647",
          "0.14476",
          "0.10769",
          "0.18437",
          "0.1553",
          "0.08092",
          "0.08434",
          "0.17176",
          "0.13015",
          "0.04952",
          "0.12533",
          "0.06442",
          "0.05892",
          "0.07506",
          "0.05099",
          "0.04852",
          "0.1192",
          "0.50521",
          "0.06681",
          "0.07112",
          "0.11587",
          "0.17233",
          "0.09419"
         ]
        }
       ],
       "layout": {
        "legend": {
         "bgcolor": "#F5F6F9",
         "font": {
          "color": "#4D5663"
         }
        },
        "paper_bgcolor": "#F5F6F9",
        "plot_bgcolor": "#F5F6F9",
        "template": {
         "data": {
          "bar": [
           {
            "error_x": {
             "color": "#2a3f5f"
            },
            "error_y": {
             "color": "#2a3f5f"
            },
            "marker": {
             "line": {
              "color": "#E5ECF6",
              "width": 0.5
             },
             "pattern": {
              "fillmode": "overlay",
              "size": 10,
              "solidity": 0.2
             }
            },
            "type": "bar"
           }
          ],
          "barpolar": [
           {
            "marker": {
             "line": {
              "color": "#E5ECF6",
              "width": 0.5
             },
             "pattern": {
              "fillmode": "overlay",
              "size": 10,
              "solidity": 0.2
             }
            },
            "type": "barpolar"
           }
          ],
          "carpet": [
           {
            "aaxis": {
             "endlinecolor": "#2a3f5f",
             "gridcolor": "white",
             "linecolor": "white",
             "minorgridcolor": "white",
             "startlinecolor": "#2a3f5f"
            },
            "baxis": {
             "endlinecolor": "#2a3f5f",
             "gridcolor": "white",
             "linecolor": "white",
             "minorgridcolor": "white",
             "startlinecolor": "#2a3f5f"
            },
            "type": "carpet"
           }
          ],
          "choropleth": [
           {
            "colorbar": {
             "outlinewidth": 0,
             "ticks": ""
            },
            "type": "choropleth"
           }
          ],
          "contour": [
           {
            "colorbar": {
             "outlinewidth": 0,
             "ticks": ""
            },
            "colorscale": [
             [
              0,
              "#0d0887"
             ],
             [
              0.1111111111111111,
              "#46039f"
             ],
             [
              0.2222222222222222,
              "#7201a8"
             ],
             [
              0.3333333333333333,
              "#9c179e"
             ],
             [
              0.4444444444444444,
              "#bd3786"
             ],
             [
              0.5555555555555556,
              "#d8576b"
             ],
             [
              0.6666666666666666,
              "#ed7953"
             ],
             [
              0.7777777777777778,
              "#fb9f3a"
             ],
             [
              0.8888888888888888,
              "#fdca26"
             ],
             [
              1,
              "#f0f921"
             ]
            ],
            "type": "contour"
           }
          ],
          "contourcarpet": [
           {
            "colorbar": {
             "outlinewidth": 0,
             "ticks": ""
            },
            "type": "contourcarpet"
           }
          ],
          "heatmap": [
           {
            "colorbar": {
             "outlinewidth": 0,
             "ticks": ""
            },
            "colorscale": [
             [
              0,
              "#0d0887"
             ],
             [
              0.1111111111111111,
              "#46039f"
             ],
             [
              0.2222222222222222,
              "#7201a8"
             ],
             [
              0.3333333333333333,
              "#9c179e"
             ],
             [
              0.4444444444444444,
              "#bd3786"
             ],
             [
              0.5555555555555556,
              "#d8576b"
             ],
             [
              0.6666666666666666,
              "#ed7953"
             ],
             [
              0.7777777777777778,
              "#fb9f3a"
             ],
             [
              0.8888888888888888,
              "#fdca26"
             ],
             [
              1,
              "#f0f921"
             ]
            ],
            "type": "heatmap"
           }
          ],
          "heatmapgl": [
           {
            "colorbar": {
             "outlinewidth": 0,
             "ticks": ""
            },
            "colorscale": [
             [
              0,
              "#0d0887"
             ],
             [
              0.1111111111111111,
              "#46039f"
             ],
             [
              0.2222222222222222,
              "#7201a8"
             ],
             [
              0.3333333333333333,
              "#9c179e"
             ],
             [
              0.4444444444444444,
              "#bd3786"
             ],
             [
              0.5555555555555556,
              "#d8576b"
             ],
             [
              0.6666666666666666,
              "#ed7953"
             ],
             [
              0.7777777777777778,
              "#fb9f3a"
             ],
             [
              0.8888888888888888,
              "#fdca26"
             ],
             [
              1,
              "#f0f921"
             ]
            ],
            "type": "heatmapgl"
           }
          ],
          "histogram": [
           {
            "marker": {
             "pattern": {
              "fillmode": "overlay",
              "size": 10,
              "solidity": 0.2
             }
            },
            "type": "histogram"
           }
          ],
          "histogram2d": [
           {
            "colorbar": {
             "outlinewidth": 0,
             "ticks": ""
            },
            "colorscale": [
             [
              0,
              "#0d0887"
             ],
             [
              0.1111111111111111,
              "#46039f"
             ],
             [
              0.2222222222222222,
              "#7201a8"
             ],
             [
              0.3333333333333333,
              "#9c179e"
             ],
             [
              0.4444444444444444,
              "#bd3786"
             ],
             [
              0.5555555555555556,
              "#d8576b"
             ],
             [
              0.6666666666666666,
              "#ed7953"
             ],
             [
              0.7777777777777778,
              "#fb9f3a"
             ],
             [
              0.8888888888888888,
              "#fdca26"
             ],
             [
              1,
              "#f0f921"
             ]
            ],
            "type": "histogram2d"
           }
          ],
          "histogram2dcontour": [
           {
            "colorbar": {
             "outlinewidth": 0,
             "ticks": ""
            },
            "colorscale": [
             [
              0,
              "#0d0887"
             ],
             [
              0.1111111111111111,
              "#46039f"
             ],
             [
              0.2222222222222222,
              "#7201a8"
             ],
             [
              0.3333333333333333,
              "#9c179e"
             ],
             [
              0.4444444444444444,
              "#bd3786"
             ],
             [
              0.5555555555555556,
              "#d8576b"
             ],
             [
              0.6666666666666666,
              "#ed7953"
             ],
             [
              0.7777777777777778,
              "#fb9f3a"
             ],
             [
              0.8888888888888888,
              "#fdca26"
             ],
             [
              1,
              "#f0f921"
             ]
            ],
            "type": "histogram2dcontour"
           }
          ],
          "mesh3d": [
           {
            "colorbar": {
             "outlinewidth": 0,
             "ticks": ""
            },
            "type": "mesh3d"
           }
          ],
          "parcoords": [
           {
            "line": {
             "colorbar": {
              "outlinewidth": 0,
              "ticks": ""
             }
            },
            "type": "parcoords"
           }
          ],
          "pie": [
           {
            "automargin": true,
            "type": "pie"
           }
          ],
          "scatter": [
           {
            "fillpattern": {
             "fillmode": "overlay",
             "size": 10,
             "solidity": 0.2
            },
            "type": "scatter"
           }
          ],
          "scatter3d": [
           {
            "line": {
             "colorbar": {
              "outlinewidth": 0,
              "ticks": ""
             }
            },
            "marker": {
             "colorbar": {
              "outlinewidth": 0,
              "ticks": ""
             }
            },
            "type": "scatter3d"
           }
          ],
          "scattercarpet": [
           {
            "marker": {
             "colorbar": {
              "outlinewidth": 0,
              "ticks": ""
             }
            },
            "type": "scattercarpet"
           }
          ],
          "scattergeo": [
           {
            "marker": {
             "colorbar": {
              "outlinewidth": 0,
              "ticks": ""
             }
            },
            "type": "scattergeo"
           }
          ],
          "scattergl": [
           {
            "marker": {
             "colorbar": {
              "outlinewidth": 0,
              "ticks": ""
             }
            },
            "type": "scattergl"
           }
          ],
          "scattermapbox": [
           {
            "marker": {
             "colorbar": {
              "outlinewidth": 0,
              "ticks": ""
             }
            },
            "type": "scattermapbox"
           }
          ],
          "scatterpolar": [
           {
            "marker": {
             "colorbar": {
              "outlinewidth": 0,
              "ticks": ""
             }
            },
            "type": "scatterpolar"
           }
          ],
          "scatterpolargl": [
           {
            "marker": {
             "colorbar": {
              "outlinewidth": 0,
              "ticks": ""
             }
            },
            "type": "scatterpolargl"
           }
          ],
          "scatterternary": [
           {
            "marker": {
             "colorbar": {
              "outlinewidth": 0,
              "ticks": ""
             }
            },
            "type": "scatterternary"
           }
          ],
          "surface": [
           {
            "colorbar": {
             "outlinewidth": 0,
             "ticks": ""
            },
            "colorscale": [
             [
              0,
              "#0d0887"
             ],
             [
              0.1111111111111111,
              "#46039f"
             ],
             [
              0.2222222222222222,
              "#7201a8"
             ],
             [
              0.3333333333333333,
              "#9c179e"
             ],
             [
              0.4444444444444444,
              "#bd3786"
             ],
             [
              0.5555555555555556,
              "#d8576b"
             ],
             [
              0.6666666666666666,
              "#ed7953"
             ],
             [
              0.7777777777777778,
              "#fb9f3a"
             ],
             [
              0.8888888888888888,
              "#fdca26"
             ],
             [
              1,
              "#f0f921"
             ]
            ],
            "type": "surface"
           }
          ],
          "table": [
           {
            "cells": {
             "fill": {
              "color": "#EBF0F8"
             },
             "line": {
              "color": "white"
             }
            },
            "header": {
             "fill": {
              "color": "#C8D4E3"
             },
             "line": {
              "color": "white"
             }
            },
            "type": "table"
           }
          ]
         },
         "layout": {
          "annotationdefaults": {
           "arrowcolor": "#2a3f5f",
           "arrowhead": 0,
           "arrowwidth": 1
          },
          "autotypenumbers": "strict",
          "coloraxis": {
           "colorbar": {
            "outlinewidth": 0,
            "ticks": ""
           }
          },
          "colorscale": {
           "diverging": [
            [
             0,
             "#8e0152"
            ],
            [
             0.1,
             "#c51b7d"
            ],
            [
             0.2,
             "#de77ae"
            ],
            [
             0.3,
             "#f1b6da"
            ],
            [
             0.4,
             "#fde0ef"
            ],
            [
             0.5,
             "#f7f7f7"
            ],
            [
             0.6,
             "#e6f5d0"
            ],
            [
             0.7,
             "#b8e186"
            ],
            [
             0.8,
             "#7fbc41"
            ],
            [
             0.9,
             "#4d9221"
            ],
            [
             1,
             "#276419"
            ]
           ],
           "sequential": [
            [
             0,
             "#0d0887"
            ],
            [
             0.1111111111111111,
             "#46039f"
            ],
            [
             0.2222222222222222,
             "#7201a8"
            ],
            [
             0.3333333333333333,
             "#9c179e"
            ],
            [
             0.4444444444444444,
             "#bd3786"
            ],
            [
             0.5555555555555556,
             "#d8576b"
            ],
            [
             0.6666666666666666,
             "#ed7953"
            ],
            [
             0.7777777777777778,
             "#fb9f3a"
            ],
            [
             0.8888888888888888,
             "#fdca26"
            ],
            [
             1,
             "#f0f921"
            ]
           ],
           "sequentialminus": [
            [
             0,
             "#0d0887"
            ],
            [
             0.1111111111111111,
             "#46039f"
            ],
            [
             0.2222222222222222,
             "#7201a8"
            ],
            [
             0.3333333333333333,
             "#9c179e"
            ],
            [
             0.4444444444444444,
             "#bd3786"
            ],
            [
             0.5555555555555556,
             "#d8576b"
            ],
            [
             0.6666666666666666,
             "#ed7953"
            ],
            [
             0.7777777777777778,
             "#fb9f3a"
            ],
            [
             0.8888888888888888,
             "#fdca26"
            ],
            [
             1,
             "#f0f921"
            ]
           ]
          },
          "colorway": [
           "#636efa",
           "#EF553B",
           "#00cc96",
           "#ab63fa",
           "#FFA15A",
           "#19d3f3",
           "#FF6692",
           "#B6E880",
           "#FF97FF",
           "#FECB52"
          ],
          "font": {
           "color": "#2a3f5f"
          },
          "geo": {
           "bgcolor": "white",
           "lakecolor": "white",
           "landcolor": "#E5ECF6",
           "showlakes": true,
           "showland": true,
           "subunitcolor": "white"
          },
          "hoverlabel": {
           "align": "left"
          },
          "hovermode": "closest",
          "mapbox": {
           "style": "light"
          },
          "paper_bgcolor": "white",
          "plot_bgcolor": "#E5ECF6",
          "polar": {
           "angularaxis": {
            "gridcolor": "white",
            "linecolor": "white",
            "ticks": ""
           },
           "bgcolor": "#E5ECF6",
           "radialaxis": {
            "gridcolor": "white",
            "linecolor": "white",
            "ticks": ""
           }
          },
          "scene": {
           "xaxis": {
            "backgroundcolor": "#E5ECF6",
            "gridcolor": "white",
            "gridwidth": 2,
            "linecolor": "white",
            "showbackground": true,
            "ticks": "",
            "zerolinecolor": "white"
           },
           "yaxis": {
            "backgroundcolor": "#E5ECF6",
            "gridcolor": "white",
            "gridwidth": 2,
            "linecolor": "white",
            "showbackground": true,
            "ticks": "",
            "zerolinecolor": "white"
           },
           "zaxis": {
            "backgroundcolor": "#E5ECF6",
            "gridcolor": "white",
            "gridwidth": 2,
            "linecolor": "white",
            "showbackground": true,
            "ticks": "",
            "zerolinecolor": "white"
           }
          },
          "shapedefaults": {
           "line": {
            "color": "#2a3f5f"
           }
          },
          "ternary": {
           "aaxis": {
            "gridcolor": "white",
            "linecolor": "white",
            "ticks": ""
           },
           "baxis": {
            "gridcolor": "white",
            "linecolor": "white",
            "ticks": ""
           },
           "bgcolor": "#E5ECF6",
           "caxis": {
            "gridcolor": "white",
            "linecolor": "white",
            "ticks": ""
           }
          },
          "title": {
           "x": 0.05
          },
          "xaxis": {
           "automargin": true,
           "gridcolor": "white",
           "linecolor": "white",
           "ticks": "",
           "title": {
            "standoff": 15
           },
           "zerolinecolor": "white",
           "zerolinewidth": 2
          },
          "yaxis": {
           "automargin": true,
           "gridcolor": "white",
           "linecolor": "white",
           "ticks": "",
           "title": {
            "standoff": 15
           },
           "zerolinecolor": "white",
           "zerolinewidth": 2
          }
         }
        },
        "title": {
         "font": {
          "color": "#4D5663"
         },
         "text": "2016 Happiness Rank, COuntry Vs Trust "
        },
        "xaxis": {
         "gridcolor": "#E1E5ED",
         "showgrid": true,
         "tickfont": {
          "color": "#4D5663"
         },
         "title": {
          "font": {
           "color": "#4D5663"
          },
          "text": "Country"
         },
         "zerolinecolor": "#E1E5ED"
        },
        "yaxis": {
         "gridcolor": "#E1E5ED",
         "showgrid": true,
         "tickfont": {
          "color": "#4D5663"
         },
         "title": {
          "font": {
           "color": "#4D5663"
          },
          "text": "Trust on Governemnt"
         },
         "zerolinecolor": "#E1E5ED"
        }
       }
      },
      "text/html": [
       "<div>                            <div id=\"abcd6073-f979-4630-8e48-0ceceafdfc70\" class=\"plotly-graph-div\" style=\"height:525px; width:100%;\"></div>            <script type=\"text/javascript\">                require([\"plotly\"], function(Plotly) {                    window.PLOTLYENV=window.PLOTLYENV || {};\n",
       "                    window.PLOTLYENV.BASE_URL='https://plot.ly';                                    if (document.getElementById(\"abcd6073-f979-4630-8e48-0ceceafdfc70\")) {                    Plotly.newPlot(                        \"abcd6073-f979-4630-8e48-0ceceafdfc70\",                        [{\"marker\":{\"color\":\"rgba(255, 153, 51, 0.6)\",\"line\":{\"color\":\"rgba(255, 153, 51, 1.0)\",\"width\":1}},\"name\":\"Trust (Government Corruption)\",\"orientation\":\"v\",\"text\":\"\",\"x\":[\"Denmark\",\"Switzerland\",\"Iceland\",\"Norway\",\"Finland\",\"Canada\",\"Netherlands\",\"New Zealand\",\"Australia\",\"Sweden\",\"Israel\",\"Austria\",\"United States\",\"Costa Rica\",\"Puerto Rico\",\"Germany\",\"Brazil\",\"Belgium\",\"Ireland\",\"Luxembourg\",\"Mexico\",\"Singapore\",\"United Kingdom\",\"Chile\",\"Panama\",\"Argentina\",\"Czech Republic\",\"United Arab Emirates\",\"Uruguay\",\"Malta\",\"Colombia\",\"France\",\"Thailand\",\"Saudi Arabia\",\"Taiwan\",\"Qatar\",\"Spain\",\"Algeria\",\"Guatemala\",\"Suriname\",\"Kuwait\",\"Bahrain\",\"Trinidad and Tobago\",\"Venezuela\",\"Slovakia\",\"El Salvador\",\"Malaysia\",\"Nicaragua\",\"Uzbekistan\",\"Italy\",\"Ecuador\",\"Belize\",\"Japan\",\"Kazakhstan\",\"Moldova\",\"Russia\",\"Poland\",\"South Korea\",\"Bolivia\",\"Lithuania\",\"Belarus\",\"North Cyprus\",\"Slovenia\",\"Peru\",\"Turkmenistan\",\"Mauritius\",\"Libya\",\"Latvia\",\"Cyprus\",\"Paraguay\",\"Romania\",\"Estonia\",\"Jamaica\",\"Croatia\",\"Hong Kong\",\"Somalia\",\"Kosovo\",\"Turkey\",\"Indonesia\",\"Jordan\",\"Azerbaijan\",\"Philippines\",\"China\",\"Bhutan\",\"Kyrgyzstan\",\"Serbia\",\"Bosnia and Herzegovina\",\"Montenegro\",\"Dominican Republic\",\"Morocco\",\"Hungary\",\"Pakistan\",\"Lebanon\",\"Portugal\",\"Macedonia\",\"Vietnam\",\"Somaliland Region\",\"Tunisia\",\"Greece\",\"Tajikistan\",\"Mongolia\",\"Laos\",\"Nigeria\",\"Honduras\",\"Iran\",\"Zambia\",\"Nepal\",\"Palestinian Territories\",\"Albania\",\"Bangladesh\",\"Sierra Leone\",\"Iraq\",\"Namibia\",\"Cameroon\",\"Ethiopia\",\"South Africa\",\"Sri Lanka\",\"India\",\"Myanmar\",\"Egypt\",\"Armenia\",\"Kenya\",\"Ukraine\",\"Ghana\",\"Congo (Kinshasa)\",\"Georgia\",\"Congo (Brazzaville)\",\"Senegal\",\"Bulgaria\",\"Mauritania\",\"Zimbabwe\",\"Malawi\",\"Sudan\",\"Gabon\",\"Mali\",\"Haiti\",\"Botswana\",\"Comoros\",\"Ivory Coast\",\"Cambodia\",\"Angola\",\"Niger\",\"South Sudan\",\"Chad\",\"Burkina Faso\",\"Uganda\",\"Yemen\",\"Madagascar\",\"Tanzania\",\"Liberia\",\"Guinea\",\"Rwanda\",\"Benin\",\"Afghanistan\",\"Togo\",\"Syria\",\"Burundi\"],\"y\":[\"0.44453\",\"0.41203\",\"0.14975\",\"0.35776\",\"0.41004\",\"0.31329\",\"0.29927\",\"0.41904\",\"0.32331\",\"0.40867\",\"0.08728\",\"0.21348\",\"0.14868\",\"0.10547\",\"0.12275\",\"0.28551\",\"0.14166\",\"0.26248\",\"0.29754\",\"0.35329\",\"0.18355\",\"0.46987\",\"0.27399\",\"0.11451\",\"0.08423\",\"0.07296\",\"0.03986\",\"0.35561\",\"0.21394\",\"0.17554\",\"0.05399\",\"0.17808\",\"0.02833\",\"0.30008\",\"0.0663\",\"0.48049\",\"0.06137\",\"0.16157\",\"0.08701\",\"0.12692\",\"0.23669\",\"0.25772\",\"0.01241\",\"0.08304\",\"0.02947\",\"0.10613\",\"0.09081\",\"0.16292\",\"0.28333\",\"0.02556\",\"0.18037\",\"0.10771\",\"0.18985\",\"0.11132\",\"0.01903\",\"0.03586\",\"0.055\",\"0.07716\",\"0.07746\",\"0.0182\",\"0.17457\",\"0.16578\",\"0.03635\",\"0.05292\",\"0.28467\",\"0.05203\",\"0.10339\",\"0.0889\",\"0.05228\",\"0.07396\",\"0.00679\",\"0.18519\",\"0.04294\",\"0.04002\",\"0.31647\",\"0.3118\",\"0.06547\",\"0.12348\",\"0.00322\",\"0.13297\",\"0.17914\",\"0.11757\",\"0.02745\",\"0.1616\",\"0.04762\",\"0.04339\",\"0.0\",\"0.12721\",\"0.12372\",\"0.08404\",\"0.04472\",\"0.1388\",\"0.03061\",\"0.01521\",\"0.07047\",\"0.11556\",\"0.36794\",\"0.0817\",\"0.04127\",\"0.13509\",\"0.03285\",\"0.22423\",\"0.0305\",\"0.06906\",\"0.0557\",\"0.11479\",\"0.07008\",\"0.10613\",\"0.05301\",\"0.12583\",\"0.08196\",\"0.13636\",\"0.10398\",\"0.06126\",\"0.1717\",\"0.08415\",\"0.07964\",\"0.08722\",\"0.20243\",\"0.10393\",\"0.03616\",\"0.06686\",\"0.01829\",\"0.0326\",\"0.06075\",\"0.3188\",\"0.09753\",\"0.11681\",\"0.00615\",\"0.17955\",\"0.08582\",\"0.07564\",\"0.10039\",\"0.09314\",\"0.13647\",\"0.14476\",\"0.10769\",\"0.18437\",\"0.1553\",\"0.08092\",\"0.08434\",\"0.17176\",\"0.13015\",\"0.04952\",\"0.12533\",\"0.06442\",\"0.05892\",\"0.07506\",\"0.05099\",\"0.04852\",\"0.1192\",\"0.50521\",\"0.06681\",\"0.07112\",\"0.11587\",\"0.17233\",\"0.09419\"],\"type\":\"bar\"}],                        {\"legend\":{\"bgcolor\":\"#F5F6F9\",\"font\":{\"color\":\"#4D5663\"}},\"paper_bgcolor\":\"#F5F6F9\",\"plot_bgcolor\":\"#F5F6F9\",\"template\":{\"data\":{\"barpolar\":[{\"marker\":{\"line\":{\"color\":\"#E5ECF6\",\"width\":0.5},\"pattern\":{\"fillmode\":\"overlay\",\"size\":10,\"solidity\":0.2}},\"type\":\"barpolar\"}],\"bar\":[{\"error_x\":{\"color\":\"#2a3f5f\"},\"error_y\":{\"color\":\"#2a3f5f\"},\"marker\":{\"line\":{\"color\":\"#E5ECF6\",\"width\":0.5},\"pattern\":{\"fillmode\":\"overlay\",\"size\":10,\"solidity\":0.2}},\"type\":\"bar\"}],\"carpet\":[{\"aaxis\":{\"endlinecolor\":\"#2a3f5f\",\"gridcolor\":\"white\",\"linecolor\":\"white\",\"minorgridcolor\":\"white\",\"startlinecolor\":\"#2a3f5f\"},\"baxis\":{\"endlinecolor\":\"#2a3f5f\",\"gridcolor\":\"white\",\"linecolor\":\"white\",\"minorgridcolor\":\"white\",\"startlinecolor\":\"#2a3f5f\"},\"type\":\"carpet\"}],\"choropleth\":[{\"colorbar\":{\"outlinewidth\":0,\"ticks\":\"\"},\"type\":\"choropleth\"}],\"contourcarpet\":[{\"colorbar\":{\"outlinewidth\":0,\"ticks\":\"\"},\"type\":\"contourcarpet\"}],\"contour\":[{\"colorbar\":{\"outlinewidth\":0,\"ticks\":\"\"},\"colorscale\":[[0.0,\"#0d0887\"],[0.1111111111111111,\"#46039f\"],[0.2222222222222222,\"#7201a8\"],[0.3333333333333333,\"#9c179e\"],[0.4444444444444444,\"#bd3786\"],[0.5555555555555556,\"#d8576b\"],[0.6666666666666666,\"#ed7953\"],[0.7777777777777778,\"#fb9f3a\"],[0.8888888888888888,\"#fdca26\"],[1.0,\"#f0f921\"]],\"type\":\"contour\"}],\"heatmapgl\":[{\"colorbar\":{\"outlinewidth\":0,\"ticks\":\"\"},\"colorscale\":[[0.0,\"#0d0887\"],[0.1111111111111111,\"#46039f\"],[0.2222222222222222,\"#7201a8\"],[0.3333333333333333,\"#9c179e\"],[0.4444444444444444,\"#bd3786\"],[0.5555555555555556,\"#d8576b\"],[0.6666666666666666,\"#ed7953\"],[0.7777777777777778,\"#fb9f3a\"],[0.8888888888888888,\"#fdca26\"],[1.0,\"#f0f921\"]],\"type\":\"heatmapgl\"}],\"heatmap\":[{\"colorbar\":{\"outlinewidth\":0,\"ticks\":\"\"},\"colorscale\":[[0.0,\"#0d0887\"],[0.1111111111111111,\"#46039f\"],[0.2222222222222222,\"#7201a8\"],[0.3333333333333333,\"#9c179e\"],[0.4444444444444444,\"#bd3786\"],[0.5555555555555556,\"#d8576b\"],[0.6666666666666666,\"#ed7953\"],[0.7777777777777778,\"#fb9f3a\"],[0.8888888888888888,\"#fdca26\"],[1.0,\"#f0f921\"]],\"type\":\"heatmap\"}],\"histogram2dcontour\":[{\"colorbar\":{\"outlinewidth\":0,\"ticks\":\"\"},\"colorscale\":[[0.0,\"#0d0887\"],[0.1111111111111111,\"#46039f\"],[0.2222222222222222,\"#7201a8\"],[0.3333333333333333,\"#9c179e\"],[0.4444444444444444,\"#bd3786\"],[0.5555555555555556,\"#d8576b\"],[0.6666666666666666,\"#ed7953\"],[0.7777777777777778,\"#fb9f3a\"],[0.8888888888888888,\"#fdca26\"],[1.0,\"#f0f921\"]],\"type\":\"histogram2dcontour\"}],\"histogram2d\":[{\"colorbar\":{\"outlinewidth\":0,\"ticks\":\"\"},\"colorscale\":[[0.0,\"#0d0887\"],[0.1111111111111111,\"#46039f\"],[0.2222222222222222,\"#7201a8\"],[0.3333333333333333,\"#9c179e\"],[0.4444444444444444,\"#bd3786\"],[0.5555555555555556,\"#d8576b\"],[0.6666666666666666,\"#ed7953\"],[0.7777777777777778,\"#fb9f3a\"],[0.8888888888888888,\"#fdca26\"],[1.0,\"#f0f921\"]],\"type\":\"histogram2d\"}],\"histogram\":[{\"marker\":{\"pattern\":{\"fillmode\":\"overlay\",\"size\":10,\"solidity\":0.2}},\"type\":\"histogram\"}],\"mesh3d\":[{\"colorbar\":{\"outlinewidth\":0,\"ticks\":\"\"},\"type\":\"mesh3d\"}],\"parcoords\":[{\"line\":{\"colorbar\":{\"outlinewidth\":0,\"ticks\":\"\"}},\"type\":\"parcoords\"}],\"pie\":[{\"automargin\":true,\"type\":\"pie\"}],\"scatter3d\":[{\"line\":{\"colorbar\":{\"outlinewidth\":0,\"ticks\":\"\"}},\"marker\":{\"colorbar\":{\"outlinewidth\":0,\"ticks\":\"\"}},\"type\":\"scatter3d\"}],\"scattercarpet\":[{\"marker\":{\"colorbar\":{\"outlinewidth\":0,\"ticks\":\"\"}},\"type\":\"scattercarpet\"}],\"scattergeo\":[{\"marker\":{\"colorbar\":{\"outlinewidth\":0,\"ticks\":\"\"}},\"type\":\"scattergeo\"}],\"scattergl\":[{\"marker\":{\"colorbar\":{\"outlinewidth\":0,\"ticks\":\"\"}},\"type\":\"scattergl\"}],\"scattermapbox\":[{\"marker\":{\"colorbar\":{\"outlinewidth\":0,\"ticks\":\"\"}},\"type\":\"scattermapbox\"}],\"scatterpolargl\":[{\"marker\":{\"colorbar\":{\"outlinewidth\":0,\"ticks\":\"\"}},\"type\":\"scatterpolargl\"}],\"scatterpolar\":[{\"marker\":{\"colorbar\":{\"outlinewidth\":0,\"ticks\":\"\"}},\"type\":\"scatterpolar\"}],\"scatter\":[{\"fillpattern\":{\"fillmode\":\"overlay\",\"size\":10,\"solidity\":0.2},\"type\":\"scatter\"}],\"scatterternary\":[{\"marker\":{\"colorbar\":{\"outlinewidth\":0,\"ticks\":\"\"}},\"type\":\"scatterternary\"}],\"surface\":[{\"colorbar\":{\"outlinewidth\":0,\"ticks\":\"\"},\"colorscale\":[[0.0,\"#0d0887\"],[0.1111111111111111,\"#46039f\"],[0.2222222222222222,\"#7201a8\"],[0.3333333333333333,\"#9c179e\"],[0.4444444444444444,\"#bd3786\"],[0.5555555555555556,\"#d8576b\"],[0.6666666666666666,\"#ed7953\"],[0.7777777777777778,\"#fb9f3a\"],[0.8888888888888888,\"#fdca26\"],[1.0,\"#f0f921\"]],\"type\":\"surface\"}],\"table\":[{\"cells\":{\"fill\":{\"color\":\"#EBF0F8\"},\"line\":{\"color\":\"white\"}},\"header\":{\"fill\":{\"color\":\"#C8D4E3\"},\"line\":{\"color\":\"white\"}},\"type\":\"table\"}]},\"layout\":{\"annotationdefaults\":{\"arrowcolor\":\"#2a3f5f\",\"arrowhead\":0,\"arrowwidth\":1},\"autotypenumbers\":\"strict\",\"coloraxis\":{\"colorbar\":{\"outlinewidth\":0,\"ticks\":\"\"}},\"colorscale\":{\"diverging\":[[0,\"#8e0152\"],[0.1,\"#c51b7d\"],[0.2,\"#de77ae\"],[0.3,\"#f1b6da\"],[0.4,\"#fde0ef\"],[0.5,\"#f7f7f7\"],[0.6,\"#e6f5d0\"],[0.7,\"#b8e186\"],[0.8,\"#7fbc41\"],[0.9,\"#4d9221\"],[1,\"#276419\"]],\"sequential\":[[0.0,\"#0d0887\"],[0.1111111111111111,\"#46039f\"],[0.2222222222222222,\"#7201a8\"],[0.3333333333333333,\"#9c179e\"],[0.4444444444444444,\"#bd3786\"],[0.5555555555555556,\"#d8576b\"],[0.6666666666666666,\"#ed7953\"],[0.7777777777777778,\"#fb9f3a\"],[0.8888888888888888,\"#fdca26\"],[1.0,\"#f0f921\"]],\"sequentialminus\":[[0.0,\"#0d0887\"],[0.1111111111111111,\"#46039f\"],[0.2222222222222222,\"#7201a8\"],[0.3333333333333333,\"#9c179e\"],[0.4444444444444444,\"#bd3786\"],[0.5555555555555556,\"#d8576b\"],[0.6666666666666666,\"#ed7953\"],[0.7777777777777778,\"#fb9f3a\"],[0.8888888888888888,\"#fdca26\"],[1.0,\"#f0f921\"]]},\"colorway\":[\"#636efa\",\"#EF553B\",\"#00cc96\",\"#ab63fa\",\"#FFA15A\",\"#19d3f3\",\"#FF6692\",\"#B6E880\",\"#FF97FF\",\"#FECB52\"],\"font\":{\"color\":\"#2a3f5f\"},\"geo\":{\"bgcolor\":\"white\",\"lakecolor\":\"white\",\"landcolor\":\"#E5ECF6\",\"showlakes\":true,\"showland\":true,\"subunitcolor\":\"white\"},\"hoverlabel\":{\"align\":\"left\"},\"hovermode\":\"closest\",\"mapbox\":{\"style\":\"light\"},\"paper_bgcolor\":\"white\",\"plot_bgcolor\":\"#E5ECF6\",\"polar\":{\"angularaxis\":{\"gridcolor\":\"white\",\"linecolor\":\"white\",\"ticks\":\"\"},\"bgcolor\":\"#E5ECF6\",\"radialaxis\":{\"gridcolor\":\"white\",\"linecolor\":\"white\",\"ticks\":\"\"}},\"scene\":{\"xaxis\":{\"backgroundcolor\":\"#E5ECF6\",\"gridcolor\":\"white\",\"gridwidth\":2,\"linecolor\":\"white\",\"showbackground\":true,\"ticks\":\"\",\"zerolinecolor\":\"white\"},\"yaxis\":{\"backgroundcolor\":\"#E5ECF6\",\"gridcolor\":\"white\",\"gridwidth\":2,\"linecolor\":\"white\",\"showbackground\":true,\"ticks\":\"\",\"zerolinecolor\":\"white\"},\"zaxis\":{\"backgroundcolor\":\"#E5ECF6\",\"gridcolor\":\"white\",\"gridwidth\":2,\"linecolor\":\"white\",\"showbackground\":true,\"ticks\":\"\",\"zerolinecolor\":\"white\"}},\"shapedefaults\":{\"line\":{\"color\":\"#2a3f5f\"}},\"ternary\":{\"aaxis\":{\"gridcolor\":\"white\",\"linecolor\":\"white\",\"ticks\":\"\"},\"baxis\":{\"gridcolor\":\"white\",\"linecolor\":\"white\",\"ticks\":\"\"},\"bgcolor\":\"#E5ECF6\",\"caxis\":{\"gridcolor\":\"white\",\"linecolor\":\"white\",\"ticks\":\"\"}},\"title\":{\"x\":0.05},\"xaxis\":{\"automargin\":true,\"gridcolor\":\"white\",\"linecolor\":\"white\",\"ticks\":\"\",\"title\":{\"standoff\":15},\"zerolinecolor\":\"white\",\"zerolinewidth\":2},\"yaxis\":{\"automargin\":true,\"gridcolor\":\"white\",\"linecolor\":\"white\",\"ticks\":\"\",\"title\":{\"standoff\":15},\"zerolinecolor\":\"white\",\"zerolinewidth\":2}}},\"title\":{\"font\":{\"color\":\"#4D5663\"},\"text\":\"2016 Happiness Rank, COuntry Vs Trust \"},\"xaxis\":{\"gridcolor\":\"#E1E5ED\",\"showgrid\":true,\"tickfont\":{\"color\":\"#4D5663\"},\"title\":{\"font\":{\"color\":\"#4D5663\"},\"text\":\"Country\"},\"zerolinecolor\":\"#E1E5ED\"},\"yaxis\":{\"gridcolor\":\"#E1E5ED\",\"showgrid\":true,\"tickfont\":{\"color\":\"#4D5663\"},\"title\":{\"font\":{\"color\":\"#4D5663\"},\"text\":\"Trust on Governemnt\"},\"zerolinecolor\":\"#E1E5ED\"}},                        {\"showLink\": true, \"linkText\": \"Export to plot.ly\", \"plotlyServerURL\": \"https://plot.ly\", \"responsive\": true}                    ).then(function(){\n",
       "                            \n",
       "var gd = document.getElementById('abcd6073-f979-4630-8e48-0ceceafdfc70');\n",
       "var x = new MutationObserver(function (mutations, observer) {{\n",
       "        var display = window.getComputedStyle(gd).display;\n",
       "        if (!display || display === 'none') {{\n",
       "            console.log([gd, 'removed!']);\n",
       "            Plotly.purge(gd);\n",
       "            observer.disconnect();\n",
       "        }}\n",
       "}});\n",
       "\n",
       "// Listen for the removal of the full notebook cells\n",
       "var notebookContainer = gd.closest('#notebook-container');\n",
       "if (notebookContainer) {{\n",
       "    x.observe(notebookContainer, {childList: true});\n",
       "}}\n",
       "\n",
       "// Listen for the clearing of the current output cell\n",
       "var outputEl = gd.closest('.output');\n",
       "if (outputEl) {{\n",
       "    x.observe(outputEl, {childList: true});\n",
       "}}\n",
       "\n",
       "                        })                };                });            </script>        </div>"
      ]
     },
     "metadata": {},
     "output_type": "display_data"
    }
   ],
   "source": [
    "# Recreate above plot with kind = 'bar'\n",
    "whp.iplot(\n",
    "    kind = 'bar',\n",
    "    x='Country',\n",
    "    y='Trust (Government Corruption)',\n",
    "    xTitle='Country',\n",
    "    yTitle='Trust on Governemnt',\n",
    "    title='2016 Happiness Rank, COuntry Vs Trust '\n",
    ")"
   ]
  },
  {
   "cell_type": "code",
   "execution_count": 7,
   "id": "fe12f7cc",
   "metadata": {},
   "outputs": [
    {
     "data": {
      "application/vnd.plotly.v1+json": {
       "config": {
        "linkText": "Export to plot.ly",
        "plotlyServerURL": "https://plot.ly",
        "showLink": false
       },
       "data": [
        {
         "colorbar": {
          "title": {
           "text": "Happiness Score"
          }
         },
         "colorscale": [
          [
           0,
           "rgb(12,51,131)"
          ],
          [
           0.25,
           "rgb(10,136,186)"
          ],
          [
           0.5,
           "rgb(242,211,56)"
          ],
          [
           0.75,
           "rgb(242,143,56)"
          ],
          [
           1,
           "rgb(217,30,30)"
          ]
         ],
         "locationmode": "country names",
         "locations": [
          "Denmark",
          "Switzerland",
          "Iceland",
          "Norway",
          "Finland",
          "Canada",
          "Netherlands",
          "New Zealand",
          "Australia",
          "Sweden",
          "Israel",
          "Austria",
          "United States",
          "Costa Rica",
          "Puerto Rico",
          "Germany",
          "Brazil",
          "Belgium",
          "Ireland",
          "Luxembourg",
          "Mexico",
          "Singapore",
          "United Kingdom",
          "Chile",
          "Panama",
          "Argentina",
          "Czech Republic",
          "United Arab Emirates",
          "Uruguay",
          "Malta",
          "Colombia",
          "France",
          "Thailand",
          "Saudi Arabia",
          "Taiwan",
          "Qatar",
          "Spain",
          "Algeria",
          "Guatemala",
          "Suriname",
          "Kuwait",
          "Bahrain",
          "Trinidad and Tobago",
          "Venezuela",
          "Slovakia",
          "El Salvador",
          "Malaysia",
          "Nicaragua",
          "Uzbekistan",
          "Italy",
          "Ecuador",
          "Belize",
          "Japan",
          "Kazakhstan",
          "Moldova",
          "Russia",
          "Poland",
          "South Korea",
          "Bolivia",
          "Lithuania",
          "Belarus",
          "North Cyprus",
          "Slovenia",
          "Peru",
          "Turkmenistan",
          "Mauritius",
          "Libya",
          "Latvia",
          "Cyprus",
          "Paraguay",
          "Romania",
          "Estonia",
          "Jamaica",
          "Croatia",
          "Hong Kong",
          "Somalia",
          "Kosovo",
          "Turkey",
          "Indonesia",
          "Jordan",
          "Azerbaijan",
          "Philippines",
          "China",
          "Bhutan",
          "Kyrgyzstan",
          "Serbia",
          "Bosnia and Herzegovina",
          "Montenegro",
          "Dominican Republic",
          "Morocco",
          "Hungary",
          "Pakistan",
          "Lebanon",
          "Portugal",
          "Macedonia",
          "Vietnam",
          "Somaliland Region",
          "Tunisia",
          "Greece",
          "Tajikistan",
          "Mongolia",
          "Laos",
          "Nigeria",
          "Honduras",
          "Iran",
          "Zambia",
          "Nepal",
          "Palestinian Territories",
          "Albania",
          "Bangladesh",
          "Sierra Leone",
          "Iraq",
          "Namibia",
          "Cameroon",
          "Ethiopia",
          "South Africa",
          "Sri Lanka",
          "India",
          "Myanmar",
          "Egypt",
          "Armenia",
          "Kenya",
          "Ukraine",
          "Ghana",
          "Congo (Kinshasa)",
          "Georgia",
          "Congo (Brazzaville)",
          "Senegal",
          "Bulgaria",
          "Mauritania",
          "Zimbabwe",
          "Malawi",
          "Sudan",
          "Gabon",
          "Mali",
          "Haiti",
          "Botswana",
          "Comoros",
          "Ivory Coast",
          "Cambodia",
          "Angola",
          "Niger",
          "South Sudan",
          "Chad",
          "Burkina Faso",
          "Uganda",
          "Yemen",
          "Madagascar",
          "Tanzania",
          "Liberia",
          "Guinea",
          "Rwanda",
          "Benin",
          "Afghanistan",
          "Togo",
          "Syria",
          "Burundi"
         ],
         "text": [
          "Denmark<br>Happiness Rank 1<br>Happiness Score 7.526<br>Freedom 0.57941<br>Generosity 0.36171<br>Trust (Government Corruption) 0.44453",
          "Switzerland<br>Happiness Rank 2<br>Happiness Score 7.509<br>Freedom 0.58557<br>Generosity 0.28083<br>Trust (Government Corruption) 0.41203",
          "Iceland<br>Happiness Rank 3<br>Happiness Score 7.501<br>Freedom 0.56624<br>Generosity 0.47678<br>Trust (Government Corruption) 0.14975",
          "Norway<br>Happiness Rank 4<br>Happiness Score 7.498<br>Freedom 0.59609<br>Generosity 0.37895<br>Trust (Government Corruption) 0.35776",
          "Finland<br>Happiness Rank 5<br>Happiness Score 7.413<br>Freedom 0.57104<br>Generosity 0.25492<br>Trust (Government Corruption) 0.41004",
          "Canada<br>Happiness Rank 6<br>Happiness Score 7.404<br>Freedom 0.5737<br>Generosity 0.44834<br>Trust (Government Corruption) 0.31329",
          "Netherlands<br>Happiness Rank 7<br>Happiness Score 7.339<br>Freedom 0.55211<br>Generosity 0.47416<br>Trust (Government Corruption) 0.29927",
          "New Zealand<br>Happiness Rank 8<br>Happiness Score 7.334<br>Freedom 0.58147<br>Generosity 0.49401<br>Trust (Government Corruption) 0.41904",
          "Australia<br>Happiness Rank 9<br>Happiness Score 7.313<br>Freedom 0.56837<br>Generosity 0.47407<br>Trust (Government Corruption) 0.32331",
          "Sweden<br>Happiness Rank 10<br>Happiness Score 7.291<br>Freedom 0.58218<br>Generosity 0.38254<br>Trust (Government Corruption) 0.40867",
          "Israel<br>Happiness Rank 11<br>Happiness Score 7.267<br>Freedom 0.36432<br>Generosity 0.32288<br>Trust (Government Corruption) 0.08728",
          "Austria<br>Happiness Rank 12<br>Happiness Score 7.119<br>Freedom 0.54355<br>Generosity 0.32865<br>Trust (Government Corruption) 0.21348",
          "United States<br>Happiness Rank 13<br>Happiness Score 7.104<br>Freedom 0.48163<br>Generosity 0.41077<br>Trust (Government Corruption) 0.14868",
          "Costa Rica<br>Happiness Rank 14<br>Happiness Score 7.087<br>Freedom 0.55225<br>Generosity 0.22553<br>Trust (Government Corruption) 0.10547",
          "Puerto Rico<br>Happiness Rank 15<br>Happiness Score 7.039<br>Freedom 0.46823<br>Generosity 0.22202<br>Trust (Government Corruption) 0.12275",
          "Germany<br>Happiness Rank 16<br>Happiness Score 6.994<br>Freedom 0.53466<br>Generosity 0.30452<br>Trust (Government Corruption) 0.28551",
          "Brazil<br>Happiness Rank 17<br>Happiness Score 6.952<br>Freedom 0.40425<br>Generosity 0.15776<br>Trust (Government Corruption) 0.14166",
          "Belgium<br>Happiness Rank 18<br>Happiness Score 6.929<br>Freedom 0.51354<br>Generosity 0.2424<br>Trust (Government Corruption) 0.26248",
          "Ireland<br>Happiness Rank 19<br>Happiness Score 6.907<br>Freedom 0.54008<br>Generosity 0.44963<br>Trust (Government Corruption) 0.29754",
          "Luxembourg<br>Happiness Rank 20<br>Happiness Score 6.871<br>Freedom 0.5487<br>Generosity 0.27571<br>Trust (Government Corruption) 0.35329",
          "Mexico<br>Happiness Rank 21<br>Happiness Score 6.778<br>Freedom 0.37709<br>Generosity 0.11735<br>Trust (Government Corruption) 0.18355",
          "Singapore<br>Happiness Rank 22<br>Happiness Score 6.739<br>Freedom 0.4877<br>Generosity 0.32706<br>Trust (Government Corruption) 0.46987",
          "United Kingdom<br>Happiness Rank 23<br>Happiness Score 6.725<br>Freedom 0.50036<br>Generosity 0.50156<br>Trust (Government Corruption) 0.27399",
          "Chile<br>Happiness Rank 24<br>Happiness Score 6.705<br>Freedom 0.37789<br>Generosity 0.31595<br>Trust (Government Corruption) 0.11451",
          "Panama<br>Happiness Rank 25<br>Happiness Score 6.701<br>Freedom 0.48927<br>Generosity 0.2418<br>Trust (Government Corruption) 0.08423",
          "Argentina<br>Happiness Rank 26<br>Happiness Score 6.65<br>Freedom 0.42284<br>Generosity 0.10989<br>Trust (Government Corruption) 0.07296",
          "Czech Republic<br>Happiness Rank 27<br>Happiness Score 6.596<br>Freedom 0.41418<br>Generosity 0.09929<br>Trust (Government Corruption) 0.03986",
          "United Arab Emirates<br>Happiness Rank 28<br>Happiness Score 6.573<br>Freedom 0.56215<br>Generosity 0.26591<br>Trust (Government Corruption) 0.35561",
          "Uruguay<br>Happiness Rank 29<br>Happiness Score 6.545<br>Freedom 0.54388<br>Generosity 0.18056<br>Trust (Government Corruption) 0.21394",
          "Malta<br>Happiness Rank 30<br>Happiness Score 6.488<br>Freedom 0.54994<br>Generosity 0.56237<br>Trust (Government Corruption) 0.17554",
          "Colombia<br>Happiness Rank 31<br>Happiness Score 6.481<br>Freedom 0.44735<br>Generosity 0.15626<br>Trust (Government Corruption) 0.05399",
          "France<br>Happiness Rank 32<br>Happiness Score 6.478<br>Freedom 0.46562<br>Generosity 0.1216<br>Trust (Government Corruption) 0.17808",
          "Thailand<br>Happiness Rank 33<br>Happiness Score 6.474<br>Freedom 0.49553<br>Generosity 0.58696<br>Trust (Government Corruption) 0.02833",
          "Saudi Arabia<br>Happiness Rank 34<br>Happiness Score 6.379<br>Freedom 0.37904<br>Generosity 0.15457<br>Trust (Government Corruption) 0.30008",
          "Taiwan<br>Happiness Rank 34<br>Happiness Score 6.379<br>Freedom 0.32377<br>Generosity 0.25495<br>Trust (Government Corruption) 0.0663",
          "Qatar<br>Happiness Rank 36<br>Happiness Score 6.375<br>Freedom 0.56679<br>Generosity 0.32388<br>Trust (Government Corruption) 0.48049",
          "Spain<br>Happiness Rank 37<br>Happiness Score 6.361<br>Freedom 0.37545<br>Generosity 0.17665<br>Trust (Government Corruption) 0.06137",
          "Algeria<br>Happiness Rank 38<br>Happiness Score 6.355<br>Freedom 0.21006<br>Generosity 0.07044<br>Trust (Government Corruption) 0.16157",
          "Guatemala<br>Happiness Rank 39<br>Happiness Score 6.324<br>Freedom 0.50379<br>Generosity 0.28808<br>Trust (Government Corruption) 0.08701",
          "Suriname<br>Happiness Rank 40<br>Happiness Score 6.269<br>Freedom 0.52234<br>Generosity 0.16665<br>Trust (Government Corruption) 0.12692",
          "Kuwait<br>Happiness Rank 41<br>Happiness Score 6.239<br>Freedom 0.43166<br>Generosity 0.15965<br>Trust (Government Corruption) 0.23669",
          "Bahrain<br>Happiness Rank 42<br>Happiness Score 6.218<br>Freedom 0.47375<br>Generosity 0.17147<br>Trust (Government Corruption) 0.25772",
          "Trinidad and Tobago<br>Happiness Rank 43<br>Happiness Score 6.168<br>Freedom 0.48453<br>Generosity 0.31935<br>Trust (Government Corruption) 0.01241",
          "Venezuela<br>Happiness Rank 44<br>Happiness Score 6.084<br>Freedom 0.19847<br>Generosity 0.0425<br>Trust (Government Corruption) 0.08304",
          "Slovakia<br>Happiness Rank 45<br>Happiness Score 6.078<br>Freedom 0.23391<br>Generosity 0.13837<br>Trust (Government Corruption) 0.02947",
          "El Salvador<br>Happiness Rank 46<br>Happiness Score 6.068<br>Freedom 0.37269<br>Generosity 0.08877<br>Trust (Government Corruption) 0.10613",
          "Malaysia<br>Happiness Rank 47<br>Happiness Score 6.005<br>Freedom 0.39031<br>Generosity 0.41474<br>Trust (Government Corruption) 0.09081",
          "Nicaragua<br>Happiness Rank 48<br>Happiness Score 5.992<br>Freedom 0.46582<br>Generosity 0.29773<br>Trust (Government Corruption) 0.16292",
          "Uzbekistan<br>Happiness Rank 49<br>Happiness Score 5.987<br>Freedom 0.60848<br>Generosity 0.34326<br>Trust (Government Corruption) 0.28333",
          "Italy<br>Happiness Rank 50<br>Happiness Score 5.977<br>Freedom 0.18827<br>Generosity 0.16684<br>Trust (Government Corruption) 0.02556",
          "Ecuador<br>Happiness Rank 51<br>Happiness Score 5.976<br>Freedom 0.4027<br>Generosity 0.10074<br>Trust (Government Corruption) 0.18037",
          "Belize<br>Happiness Rank 52<br>Happiness Score 5.956<br>Freedom 0.51231<br>Generosity 0.23684<br>Trust (Government Corruption) 0.10771",
          "Japan<br>Happiness Rank 53<br>Happiness Score 5.921<br>Freedom 0.46761<br>Generosity 0.10224<br>Trust (Government Corruption) 0.18985",
          "Kazakhstan<br>Happiness Rank 54<br>Happiness Score 5.919<br>Freedom 0.4052<br>Generosity 0.15011<br>Trust (Government Corruption) 0.11132",
          "Moldova<br>Happiness Rank 55<br>Happiness Score 5.897<br>Freedom 0.25202<br>Generosity 0.19997<br>Trust (Government Corruption) 0.01903",
          "Russia<br>Happiness Rank 56<br>Happiness Score 5.856<br>Freedom 0.32682<br>Generosity 0.02736<br>Trust (Government Corruption) 0.03586",
          "Poland<br>Happiness Rank 57<br>Happiness Score 5.835<br>Freedom 0.4519<br>Generosity 0.14443<br>Trust (Government Corruption) 0.055",
          "South Korea<br>Happiness Rank 57<br>Happiness Score 5.835<br>Freedom 0.25168<br>Generosity 0.18824<br>Trust (Government Corruption) 0.07716",
          "Bolivia<br>Happiness Rank 59<br>Happiness Score 5.822<br>Freedom 0.50961<br>Generosity 0.21698<br>Trust (Government Corruption) 0.07746",
          "Lithuania<br>Happiness Rank 60<br>Happiness Score 5.813<br>Freedom 0.18929<br>Generosity 0.02025<br>Trust (Government Corruption) 0.0182",
          "Belarus<br>Happiness Rank 61<br>Happiness Score 5.802<br>Freedom 0.29091<br>Generosity 0.13942<br>Trust (Government Corruption) 0.17457",
          "North Cyprus<br>Happiness Rank 62<br>Happiness Score 5.771<br>Freedom 0.43596<br>Generosity 0.26322<br>Trust (Government Corruption) 0.16578",
          "Slovenia<br>Happiness Rank 63<br>Happiness Score 5.768<br>Freedom 0.53164<br>Generosity 0.25738<br>Trust (Government Corruption) 0.03635",
          "Peru<br>Happiness Rank 64<br>Happiness Score 5.743<br>Freedom 0.37502<br>Generosity 0.14527<br>Trust (Government Corruption) 0.05292",
          "Turkmenistan<br>Happiness Rank 65<br>Happiness Score 5.658<br>Freedom 0.37408<br>Generosity 0.22567<br>Trust (Government Corruption) 0.28467",
          "Mauritius<br>Happiness Rank 66<br>Happiness Score 5.648<br>Freedom 0.46145<br>Generosity 0.36951<br>Trust (Government Corruption) 0.05203",
          "Libya<br>Happiness Rank 67<br>Happiness Score 5.615<br>Freedom 0.40672<br>Generosity 0.17087<br>Trust (Government Corruption) 0.10339",
          "Latvia<br>Happiness Rank 68<br>Happiness Score 5.56<br>Freedom 0.27996<br>Generosity 0.17445<br>Trust (Government Corruption) 0.0889",
          "Cyprus<br>Happiness Rank 69<br>Happiness Score 5.546<br>Freedom 0.29507<br>Generosity 0.27906<br>Trust (Government Corruption) 0.05228",
          "Paraguay<br>Happiness Rank 70<br>Happiness Score 5.538<br>Freedom 0.46235<br>Generosity 0.25296<br>Trust (Government Corruption) 0.07396",
          "Romania<br>Happiness Rank 71<br>Happiness Score 5.528<br>Freedom 0.36712<br>Generosity 0.12889<br>Trust (Government Corruption) 0.00679",
          "Estonia<br>Happiness Rank 72<br>Happiness Score 5.517<br>Freedom 0.41511<br>Generosity 0.08423<br>Trust (Government Corruption) 0.18519",
          "Jamaica<br>Happiness Rank 73<br>Happiness Score 5.51<br>Freedom 0.43597<br>Generosity 0.22245<br>Trust (Government Corruption) 0.04294",
          "Croatia<br>Happiness Rank 74<br>Happiness Score 5.488<br>Freedom 0.23907<br>Generosity 0.18434<br>Trust (Government Corruption) 0.04002",
          "Hong Kong<br>Happiness Rank 75<br>Happiness Score 5.458<br>Freedom 0.48079<br>Generosity 0.40097<br>Trust (Government Corruption) 0.31647",
          "Somalia<br>Happiness Rank 76<br>Happiness Score 5.44<br>Freedom 0.56778<br>Generosity 0.27225<br>Trust (Government Corruption) 0.3118",
          "Kosovo<br>Happiness Rank 77<br>Happiness Score 5.401<br>Freedom 0.14396<br>Generosity 0.27992<br>Trust (Government Corruption) 0.06547",
          "Turkey<br>Happiness Rank 78<br>Happiness Score 5.389<br>Freedom 0.23889<br>Generosity 0.04707<br>Trust (Government Corruption) 0.12348",
          "Indonesia<br>Happiness Rank 79<br>Happiness Score 5.314<br>Freedom 0.39237<br>Generosity 0.56521<br>Trust (Government Corruption) 0.00322",
          "Jordan<br>Happiness Rank 80<br>Happiness Score 5.303<br>Freedom 0.36023<br>Generosity 0.14262<br>Trust (Government Corruption) 0.13297",
          "Azerbaijan<br>Happiness Rank 81<br>Happiness Score 5.291<br>Freedom 0.35327<br>Generosity 0.0564<br>Trust (Government Corruption) 0.17914",
          "Philippines<br>Happiness Rank 82<br>Happiness Score 5.279<br>Freedom 0.54854<br>Generosity 0.21674<br>Trust (Government Corruption) 0.11757",
          "China<br>Happiness Rank 83<br>Happiness Score 5.245<br>Freedom 0.44012<br>Generosity 0.04959<br>Trust (Government Corruption) 0.02745",
          "Bhutan<br>Happiness Rank 84<br>Happiness Score 5.196<br>Freedom 0.46074<br>Generosity 0.48546<br>Trust (Government Corruption) 0.1616",
          "Kyrgyzstan<br>Happiness Rank 85<br>Happiness Score 5.185<br>Freedom 0.40212<br>Generosity 0.38432<br>Trust (Government Corruption) 0.04762",
          "Serbia<br>Happiness Rank 86<br>Happiness Score 5.177<br>Freedom 0.15718<br>Generosity 0.20737<br>Trust (Government Corruption) 0.04339",
          "Bosnia and Herzegovina<br>Happiness Rank 87<br>Happiness Score 5.163<br>Freedom 0.09511<br>Generosity 0.29889<br>Trust (Government Corruption) 0.0",
          "Montenegro<br>Happiness Rank 88<br>Happiness Score 5.161<br>Freedom 0.15111<br>Generosity 0.17191<br>Trust (Government Corruption) 0.12721",
          "Dominican Republic<br>Happiness Rank 89<br>Happiness Score 5.155<br>Freedom 0.52259<br>Generosity 0.21286<br>Trust (Government Corruption) 0.12372",
          "Morocco<br>Happiness Rank 90<br>Happiness Score 5.151<br>Freedom 0.25646<br>Generosity 0.04053<br>Trust (Government Corruption) 0.08404",
          "Hungary<br>Happiness Rank 91<br>Happiness Score 5.145<br>Freedom 0.1977<br>Generosity 0.099<br>Trust (Government Corruption) 0.04472",
          "Pakistan<br>Happiness Rank 92<br>Happiness Score 5.132<br>Freedom 0.14622<br>Generosity 0.31185<br>Trust (Government Corruption) 0.1388",
          "Lebanon<br>Happiness Rank 93<br>Happiness Score 5.129<br>Freedom 0.26228<br>Generosity 0.23693<br>Trust (Government Corruption) 0.03061",
          "Portugal<br>Happiness Rank 94<br>Happiness Score 5.123<br>Freedom 0.44727<br>Generosity 0.11691<br>Trust (Government Corruption) 0.01521",
          "Macedonia<br>Happiness Rank 95<br>Happiness Score 5.121<br>Freedom 0.27668<br>Generosity 0.23507<br>Trust (Government Corruption) 0.07047",
          "Vietnam<br>Happiness Rank 96<br>Happiness Score 5.061<br>Freedom 0.55954<br>Generosity 0.25075<br>Trust (Government Corruption) 0.11556",
          "Somaliland Region<br>Happiness Rank 97<br>Happiness Score 5.057<br>Freedom 0.3913<br>Generosity 0.51479<br>Trust (Government Corruption) 0.36794",
          "Tunisia<br>Happiness Rank 98<br>Happiness Score 5.045<br>Freedom 0.23553<br>Generosity 0.03936<br>Trust (Government Corruption) 0.0817",
          "Greece<br>Happiness Rank 99<br>Happiness Score 5.033<br>Freedom 0.05822<br>Generosity 0.0<br>Trust (Government Corruption) 0.04127",
          "Tajikistan<br>Happiness Rank 100<br>Happiness Score 4.996<br>Freedom 0.43408<br>Generosity 0.25998<br>Trust (Government Corruption) 0.13509",
          "Mongolia<br>Happiness Rank 101<br>Happiness Score 4.907<br>Freedom 0.35972<br>Generosity 0.34539<br>Trust (Government Corruption) 0.03285",
          "Laos<br>Happiness Rank 102<br>Happiness Score 4.876<br>Freedom 0.52168<br>Generosity 0.43079<br>Trust (Government Corruption) 0.22423",
          "Nigeria<br>Happiness Rank 103<br>Happiness Score 4.875<br>Freedom 0.27854<br>Generosity 0.23219<br>Trust (Government Corruption) 0.0305",
          "Honduras<br>Happiness Rank 104<br>Happiness Score 4.871<br>Freedom 0.26755<br>Generosity 0.2044<br>Trust (Government Corruption) 0.06906",
          "Iran<br>Happiness Rank 105<br>Happiness Score 4.813<br>Freedom 0.22544<br>Generosity 0.38538<br>Trust (Government Corruption) 0.0557",
          "Zambia<br>Happiness Rank 106<br>Happiness Score 4.795<br>Freedom 0.42662<br>Generosity 0.17866<br>Trust (Government Corruption) 0.11479",
          "Nepal<br>Happiness Rank 107<br>Happiness Score 4.793<br>Freedom 0.37012<br>Generosity 0.3816<br>Trust (Government Corruption) 0.07008",
          "Palestinian Territories<br>Happiness Rank 108<br>Happiness Score 4.754<br>Freedom 0.17744<br>Generosity 0.11154<br>Trust (Government Corruption) 0.10613",
          "Albania<br>Happiness Rank 109<br>Happiness Score 4.655<br>Freedom 0.31866<br>Generosity 0.1684<br>Trust (Government Corruption) 0.05301",
          "Bangladesh<br>Happiness Rank 110<br>Happiness Score 4.643<br>Freedom 0.39778<br>Generosity 0.19132<br>Trust (Government Corruption) 0.12583",
          "Sierra Leone<br>Happiness Rank 111<br>Happiness Score 4.635<br>Freedom 0.30685<br>Generosity 0.23897<br>Trust (Government Corruption) 0.08196",
          "Iraq<br>Happiness Rank 112<br>Happiness Score 4.575<br>Freedom 0.24856<br>Generosity 0.19589<br>Trust (Government Corruption) 0.13636",
          "Namibia<br>Happiness Rank 113<br>Happiness Score 4.574<br>Freedom 0.48614<br>Generosity 0.07795<br>Trust (Government Corruption) 0.10398",
          "Cameroon<br>Happiness Rank 114<br>Happiness Score 4.513<br>Freedom 0.42736<br>Generosity 0.2268<br>Trust (Government Corruption) 0.06126",
          "Ethiopia<br>Happiness Rank 115<br>Happiness Score 4.508<br>Freedom 0.36703<br>Generosity 0.29522<br>Trust (Government Corruption) 0.1717",
          "South Africa<br>Happiness Rank 116<br>Happiness Score 4.459<br>Freedom 0.42483<br>Generosity 0.13656<br>Trust (Government Corruption) 0.08415",
          "Sri Lanka<br>Happiness Rank 117<br>Happiness Score 4.415<br>Freedom 0.50817<br>Generosity 0.46978<br>Trust (Government Corruption) 0.07964",
          "India<br>Happiness Rank 118<br>Happiness Score 4.404<br>Freedom 0.40285<br>Generosity 0.25028<br>Trust (Government Corruption) 0.08722",
          "Myanmar<br>Happiness Rank 119<br>Happiness Score 4.395<br>Freedom 0.42692<br>Generosity 0.81971<br>Trust (Government Corruption) 0.20243",
          "Egypt<br>Happiness Rank 120<br>Happiness Score 4.362<br>Freedom 0.18847<br>Generosity 0.12706<br>Trust (Government Corruption) 0.10393",
          "Armenia<br>Happiness Rank 121<br>Happiness Score 4.36<br>Freedom 0.14037<br>Generosity 0.07793<br>Trust (Government Corruption) 0.03616",
          "Kenya<br>Happiness Rank 122<br>Happiness Score 4.356<br>Freedom 0.40576<br>Generosity 0.41328<br>Trust (Government Corruption) 0.06686",
          "Ukraine<br>Happiness Rank 123<br>Happiness Score 4.324<br>Freedom 0.12859<br>Generosity 0.20363<br>Trust (Government Corruption) 0.01829",
          "Ghana<br>Happiness Rank 124<br>Happiness Score 4.276<br>Freedom 0.40973<br>Generosity 0.21203<br>Trust (Government Corruption) 0.0326",
          "Congo (Kinshasa)<br>Happiness Rank 125<br>Happiness Score 4.272<br>Freedom 0.15602<br>Generosity 0.25458<br>Trust (Government Corruption) 0.06075",
          "Georgia<br>Happiness Rank 126<br>Happiness Score 4.252<br>Freedom 0.32461<br>Generosity 0.06786<br>Trust (Government Corruption) 0.3188",
          "Congo (Brazzaville)<br>Happiness Rank 127<br>Happiness Score 4.236<br>Freedom 0.37938<br>Generosity 0.12077<br>Trust (Government Corruption) 0.09753",
          "Senegal<br>Happiness Rank 128<br>Happiness Score 4.219<br>Freedom 0.31056<br>Generosity 0.19103<br>Trust (Government Corruption) 0.11681",
          "Bulgaria<br>Happiness Rank 129<br>Happiness Score 4.217<br>Freedom 0.21219<br>Generosity 0.12793<br>Trust (Government Corruption) 0.00615",
          "Mauritania<br>Happiness Rank 130<br>Happiness Score 4.201<br>Freedom 0.1268<br>Generosity 0.22686<br>Trust (Government Corruption) 0.17955",
          "Zimbabwe<br>Happiness Rank 131<br>Happiness Score 4.193<br>Freedom 0.25429<br>Generosity 0.18503<br>Trust (Government Corruption) 0.08582",
          "Malawi<br>Happiness Rank 132<br>Happiness Score 4.156<br>Freedom 0.4143<br>Generosity 0.30968<br>Trust (Government Corruption) 0.07564",
          "Sudan<br>Happiness Rank 133<br>Happiness Score 4.139<br>Freedom 0.0<br>Generosity 0.18077<br>Trust (Government Corruption) 0.10039",
          "Gabon<br>Happiness Rank 134<br>Happiness Score 4.121<br>Freedom 0.28098<br>Generosity 0.06244<br>Trust (Government Corruption) 0.09314",
          "Mali<br>Happiness Rank 135<br>Happiness Score 4.073<br>Freedom 0.27544<br>Generosity 0.21064<br>Trust (Government Corruption) 0.13647",
          "Haiti<br>Happiness Rank 136<br>Happiness Score 4.028<br>Freedom 0.12072<br>Generosity 0.47958<br>Trust (Government Corruption) 0.14476",
          "Botswana<br>Happiness Rank 137<br>Happiness Score 3.974<br>Freedom 0.44089<br>Generosity 0.12425<br>Trust (Government Corruption) 0.10769",
          "Comoros<br>Happiness Rank 138<br>Happiness Score 3.956<br>Freedom 0.15412<br>Generosity 0.1827<br>Trust (Government Corruption) 0.18437",
          "Ivory Coast<br>Happiness Rank 139<br>Happiness Score 3.916<br>Freedom 0.40663<br>Generosity 0.20338<br>Trust (Government Corruption) 0.1553",
          "Cambodia<br>Happiness Rank 140<br>Happiness Score 3.907<br>Freedom 0.58852<br>Generosity 0.40339<br>Trust (Government Corruption) 0.08092",
          "Angola<br>Happiness Rank 141<br>Happiness Score 3.866<br>Freedom 0.00589<br>Generosity 0.12071<br>Trust (Government Corruption) 0.08434",
          "Niger<br>Happiness Rank 142<br>Happiness Score 3.856<br>Freedom 0.38041<br>Generosity 0.2097<br>Trust (Government Corruption) 0.17176",
          "South Sudan<br>Happiness Rank 143<br>Happiness Score 3.832<br>Freedom 0.19662<br>Generosity 0.25899<br>Trust (Government Corruption) 0.13015",
          "Chad<br>Happiness Rank 144<br>Happiness Score 3.763<br>Freedom 0.12807<br>Generosity 0.18667<br>Trust (Government Corruption) 0.04952",
          "Burkina Faso<br>Happiness Rank 145<br>Happiness Score 3.739<br>Freedom 0.3337<br>Generosity 0.24353<br>Trust (Government Corruption) 0.12533",
          "Uganda<br>Happiness Rank 145<br>Happiness Score 3.739<br>Freedom 0.43653<br>Generosity 0.27102<br>Trust (Government Corruption) 0.06442",
          "Yemen<br>Happiness Rank 147<br>Happiness Score 3.724<br>Freedom 0.2287<br>Generosity 0.09821<br>Trust (Government Corruption) 0.05892",
          "Madagascar<br>Happiness Rank 148<br>Happiness Score 3.695<br>Freedom 0.13684<br>Generosity 0.2204<br>Trust (Government Corruption) 0.07506",
          "Tanzania<br>Happiness Rank 149<br>Happiness Score 3.666<br>Freedom 0.3176<br>Generosity 0.31472<br>Trust (Government Corruption) 0.05099",
          "Liberia<br>Happiness Rank 150<br>Happiness Score 3.622<br>Freedom 0.25748<br>Generosity 0.24063<br>Trust (Government Corruption) 0.04852",
          "Guinea<br>Happiness Rank 151<br>Happiness Score 3.607<br>Freedom 0.30953<br>Generosity 0.29914<br>Trust (Government Corruption) 0.1192",
          "Rwanda<br>Happiness Rank 152<br>Happiness Score 3.515<br>Freedom 0.5432<br>Generosity 0.23552<br>Trust (Government Corruption) 0.50521",
          "Benin<br>Happiness Rank 153<br>Happiness Score 3.484<br>Freedom 0.39747<br>Generosity 0.2018<br>Trust (Government Corruption) 0.06681",
          "Afghanistan<br>Happiness Rank 154<br>Happiness Score 3.36<br>Freedom 0.1643<br>Generosity 0.31268<br>Trust (Government Corruption) 0.07112",
          "Togo<br>Happiness Rank 155<br>Happiness Score 3.303<br>Freedom 0.34678<br>Generosity 0.17517<br>Trust (Government Corruption) 0.11587",
          "Syria<br>Happiness Rank 156<br>Happiness Score 3.069<br>Freedom 0.06912<br>Generosity 0.48397<br>Trust (Government Corruption) 0.17233",
          "Burundi<br>Happiness Rank 157<br>Happiness Score 2.905<br>Freedom 0.0432<br>Generosity 0.2029<br>Trust (Government Corruption) 0.09419"
         ],
         "type": "choropleth",
         "z": [
          "7.526",
          "7.509",
          "7.501",
          "7.498",
          "7.413",
          "7.404",
          "7.339",
          "7.334",
          "7.313",
          "7.291",
          "7.267",
          "7.119",
          "7.104",
          "7.087",
          "7.039",
          "6.994",
          "6.952",
          "6.929",
          "6.907",
          "6.871",
          "6.778",
          "6.739",
          "6.725",
          "6.705",
          "6.701",
          "6.65",
          "6.596",
          "6.573",
          "6.545",
          "6.488",
          "6.481",
          "6.478",
          "6.474",
          "6.379",
          "6.379",
          "6.375",
          "6.361",
          "6.355",
          "6.324",
          "6.269",
          "6.239",
          "6.218",
          "6.168",
          "6.084",
          "6.078",
          "6.068",
          "6.005",
          "5.992",
          "5.987",
          "5.977",
          "5.976",
          "5.956",
          "5.921",
          "5.919",
          "5.897",
          "5.856",
          "5.835",
          "5.835",
          "5.822",
          "5.813",
          "5.802",
          "5.771",
          "5.768",
          "5.743",
          "5.658",
          "5.648",
          "5.615",
          "5.56",
          "5.546",
          "5.538",
          "5.528",
          "5.517",
          "5.51",
          "5.488",
          "5.458",
          "5.44",
          "5.401",
          "5.389",
          "5.314",
          "5.303",
          "5.291",
          "5.279",
          "5.245",
          "5.196",
          "5.185",
          "5.177",
          "5.163",
          "5.161",
          "5.155",
          "5.151",
          "5.145",
          "5.132",
          "5.129",
          "5.123",
          "5.121",
          "5.061",
          "5.057",
          "5.045",
          "5.033",
          "4.996",
          "4.907",
          "4.876",
          "4.875",
          "4.871",
          "4.813",
          "4.795",
          "4.793",
          "4.754",
          "4.655",
          "4.643",
          "4.635",
          "4.575",
          "4.574",
          "4.513",
          "4.508",
          "4.459",
          "4.415",
          "4.404",
          "4.395",
          "4.362",
          "4.36",
          "4.356",
          "4.324",
          "4.276",
          "4.272",
          "4.252",
          "4.236",
          "4.219",
          "4.217",
          "4.201",
          "4.193",
          "4.156",
          "4.139",
          "4.121",
          "4.073",
          "4.028",
          "3.974",
          "3.956",
          "3.916",
          "3.907",
          "3.866",
          "3.856",
          "3.832",
          "3.763",
          "3.739",
          "3.739",
          "3.724",
          "3.695",
          "3.666",
          "3.622",
          "3.607",
          "3.515",
          "3.484",
          "3.36",
          "3.303",
          "3.069",
          "2.905"
         ]
        }
       ],
       "layout": {
        "geo": {
         "projection": {
          "type": "mercator"
         },
         "showframe": false
        },
        "template": {
         "data": {
          "bar": [
           {
            "error_x": {
             "color": "#2a3f5f"
            },
            "error_y": {
             "color": "#2a3f5f"
            },
            "marker": {
             "line": {
              "color": "#E5ECF6",
              "width": 0.5
             },
             "pattern": {
              "fillmode": "overlay",
              "size": 10,
              "solidity": 0.2
             }
            },
            "type": "bar"
           }
          ],
          "barpolar": [
           {
            "marker": {
             "line": {
              "color": "#E5ECF6",
              "width": 0.5
             },
             "pattern": {
              "fillmode": "overlay",
              "size": 10,
              "solidity": 0.2
             }
            },
            "type": "barpolar"
           }
          ],
          "carpet": [
           {
            "aaxis": {
             "endlinecolor": "#2a3f5f",
             "gridcolor": "white",
             "linecolor": "white",
             "minorgridcolor": "white",
             "startlinecolor": "#2a3f5f"
            },
            "baxis": {
             "endlinecolor": "#2a3f5f",
             "gridcolor": "white",
             "linecolor": "white",
             "minorgridcolor": "white",
             "startlinecolor": "#2a3f5f"
            },
            "type": "carpet"
           }
          ],
          "choropleth": [
           {
            "colorbar": {
             "outlinewidth": 0,
             "ticks": ""
            },
            "type": "choropleth"
           }
          ],
          "contour": [
           {
            "colorbar": {
             "outlinewidth": 0,
             "ticks": ""
            },
            "colorscale": [
             [
              0,
              "#0d0887"
             ],
             [
              0.1111111111111111,
              "#46039f"
             ],
             [
              0.2222222222222222,
              "#7201a8"
             ],
             [
              0.3333333333333333,
              "#9c179e"
             ],
             [
              0.4444444444444444,
              "#bd3786"
             ],
             [
              0.5555555555555556,
              "#d8576b"
             ],
             [
              0.6666666666666666,
              "#ed7953"
             ],
             [
              0.7777777777777778,
              "#fb9f3a"
             ],
             [
              0.8888888888888888,
              "#fdca26"
             ],
             [
              1,
              "#f0f921"
             ]
            ],
            "type": "contour"
           }
          ],
          "contourcarpet": [
           {
            "colorbar": {
             "outlinewidth": 0,
             "ticks": ""
            },
            "type": "contourcarpet"
           }
          ],
          "heatmap": [
           {
            "colorbar": {
             "outlinewidth": 0,
             "ticks": ""
            },
            "colorscale": [
             [
              0,
              "#0d0887"
             ],
             [
              0.1111111111111111,
              "#46039f"
             ],
             [
              0.2222222222222222,
              "#7201a8"
             ],
             [
              0.3333333333333333,
              "#9c179e"
             ],
             [
              0.4444444444444444,
              "#bd3786"
             ],
             [
              0.5555555555555556,
              "#d8576b"
             ],
             [
              0.6666666666666666,
              "#ed7953"
             ],
             [
              0.7777777777777778,
              "#fb9f3a"
             ],
             [
              0.8888888888888888,
              "#fdca26"
             ],
             [
              1,
              "#f0f921"
             ]
            ],
            "type": "heatmap"
           }
          ],
          "heatmapgl": [
           {
            "colorbar": {
             "outlinewidth": 0,
             "ticks": ""
            },
            "colorscale": [
             [
              0,
              "#0d0887"
             ],
             [
              0.1111111111111111,
              "#46039f"
             ],
             [
              0.2222222222222222,
              "#7201a8"
             ],
             [
              0.3333333333333333,
              "#9c179e"
             ],
             [
              0.4444444444444444,
              "#bd3786"
             ],
             [
              0.5555555555555556,
              "#d8576b"
             ],
             [
              0.6666666666666666,
              "#ed7953"
             ],
             [
              0.7777777777777778,
              "#fb9f3a"
             ],
             [
              0.8888888888888888,
              "#fdca26"
             ],
             [
              1,
              "#f0f921"
             ]
            ],
            "type": "heatmapgl"
           }
          ],
          "histogram": [
           {
            "marker": {
             "pattern": {
              "fillmode": "overlay",
              "size": 10,
              "solidity": 0.2
             }
            },
            "type": "histogram"
           }
          ],
          "histogram2d": [
           {
            "colorbar": {
             "outlinewidth": 0,
             "ticks": ""
            },
            "colorscale": [
             [
              0,
              "#0d0887"
             ],
             [
              0.1111111111111111,
              "#46039f"
             ],
             [
              0.2222222222222222,
              "#7201a8"
             ],
             [
              0.3333333333333333,
              "#9c179e"
             ],
             [
              0.4444444444444444,
              "#bd3786"
             ],
             [
              0.5555555555555556,
              "#d8576b"
             ],
             [
              0.6666666666666666,
              "#ed7953"
             ],
             [
              0.7777777777777778,
              "#fb9f3a"
             ],
             [
              0.8888888888888888,
              "#fdca26"
             ],
             [
              1,
              "#f0f921"
             ]
            ],
            "type": "histogram2d"
           }
          ],
          "histogram2dcontour": [
           {
            "colorbar": {
             "outlinewidth": 0,
             "ticks": ""
            },
            "colorscale": [
             [
              0,
              "#0d0887"
             ],
             [
              0.1111111111111111,
              "#46039f"
             ],
             [
              0.2222222222222222,
              "#7201a8"
             ],
             [
              0.3333333333333333,
              "#9c179e"
             ],
             [
              0.4444444444444444,
              "#bd3786"
             ],
             [
              0.5555555555555556,
              "#d8576b"
             ],
             [
              0.6666666666666666,
              "#ed7953"
             ],
             [
              0.7777777777777778,
              "#fb9f3a"
             ],
             [
              0.8888888888888888,
              "#fdca26"
             ],
             [
              1,
              "#f0f921"
             ]
            ],
            "type": "histogram2dcontour"
           }
          ],
          "mesh3d": [
           {
            "colorbar": {
             "outlinewidth": 0,
             "ticks": ""
            },
            "type": "mesh3d"
           }
          ],
          "parcoords": [
           {
            "line": {
             "colorbar": {
              "outlinewidth": 0,
              "ticks": ""
             }
            },
            "type": "parcoords"
           }
          ],
          "pie": [
           {
            "automargin": true,
            "type": "pie"
           }
          ],
          "scatter": [
           {
            "fillpattern": {
             "fillmode": "overlay",
             "size": 10,
             "solidity": 0.2
            },
            "type": "scatter"
           }
          ],
          "scatter3d": [
           {
            "line": {
             "colorbar": {
              "outlinewidth": 0,
              "ticks": ""
             }
            },
            "marker": {
             "colorbar": {
              "outlinewidth": 0,
              "ticks": ""
             }
            },
            "type": "scatter3d"
           }
          ],
          "scattercarpet": [
           {
            "marker": {
             "colorbar": {
              "outlinewidth": 0,
              "ticks": ""
             }
            },
            "type": "scattercarpet"
           }
          ],
          "scattergeo": [
           {
            "marker": {
             "colorbar": {
              "outlinewidth": 0,
              "ticks": ""
             }
            },
            "type": "scattergeo"
           }
          ],
          "scattergl": [
           {
            "marker": {
             "colorbar": {
              "outlinewidth": 0,
              "ticks": ""
             }
            },
            "type": "scattergl"
           }
          ],
          "scattermapbox": [
           {
            "marker": {
             "colorbar": {
              "outlinewidth": 0,
              "ticks": ""
             }
            },
            "type": "scattermapbox"
           }
          ],
          "scatterpolar": [
           {
            "marker": {
             "colorbar": {
              "outlinewidth": 0,
              "ticks": ""
             }
            },
            "type": "scatterpolar"
           }
          ],
          "scatterpolargl": [
           {
            "marker": {
             "colorbar": {
              "outlinewidth": 0,
              "ticks": ""
             }
            },
            "type": "scatterpolargl"
           }
          ],
          "scatterternary": [
           {
            "marker": {
             "colorbar": {
              "outlinewidth": 0,
              "ticks": ""
             }
            },
            "type": "scatterternary"
           }
          ],
          "surface": [
           {
            "colorbar": {
             "outlinewidth": 0,
             "ticks": ""
            },
            "colorscale": [
             [
              0,
              "#0d0887"
             ],
             [
              0.1111111111111111,
              "#46039f"
             ],
             [
              0.2222222222222222,
              "#7201a8"
             ],
             [
              0.3333333333333333,
              "#9c179e"
             ],
             [
              0.4444444444444444,
              "#bd3786"
             ],
             [
              0.5555555555555556,
              "#d8576b"
             ],
             [
              0.6666666666666666,
              "#ed7953"
             ],
             [
              0.7777777777777778,
              "#fb9f3a"
             ],
             [
              0.8888888888888888,
              "#fdca26"
             ],
             [
              1,
              "#f0f921"
             ]
            ],
            "type": "surface"
           }
          ],
          "table": [
           {
            "cells": {
             "fill": {
              "color": "#EBF0F8"
             },
             "line": {
              "color": "white"
             }
            },
            "header": {
             "fill": {
              "color": "#C8D4E3"
             },
             "line": {
              "color": "white"
             }
            },
            "type": "table"
           }
          ]
         },
         "layout": {
          "annotationdefaults": {
           "arrowcolor": "#2a3f5f",
           "arrowhead": 0,
           "arrowwidth": 1
          },
          "autotypenumbers": "strict",
          "coloraxis": {
           "colorbar": {
            "outlinewidth": 0,
            "ticks": ""
           }
          },
          "colorscale": {
           "diverging": [
            [
             0,
             "#8e0152"
            ],
            [
             0.1,
             "#c51b7d"
            ],
            [
             0.2,
             "#de77ae"
            ],
            [
             0.3,
             "#f1b6da"
            ],
            [
             0.4,
             "#fde0ef"
            ],
            [
             0.5,
             "#f7f7f7"
            ],
            [
             0.6,
             "#e6f5d0"
            ],
            [
             0.7,
             "#b8e186"
            ],
            [
             0.8,
             "#7fbc41"
            ],
            [
             0.9,
             "#4d9221"
            ],
            [
             1,
             "#276419"
            ]
           ],
           "sequential": [
            [
             0,
             "#0d0887"
            ],
            [
             0.1111111111111111,
             "#46039f"
            ],
            [
             0.2222222222222222,
             "#7201a8"
            ],
            [
             0.3333333333333333,
             "#9c179e"
            ],
            [
             0.4444444444444444,
             "#bd3786"
            ],
            [
             0.5555555555555556,
             "#d8576b"
            ],
            [
             0.6666666666666666,
             "#ed7953"
            ],
            [
             0.7777777777777778,
             "#fb9f3a"
            ],
            [
             0.8888888888888888,
             "#fdca26"
            ],
            [
             1,
             "#f0f921"
            ]
           ],
           "sequentialminus": [
            [
             0,
             "#0d0887"
            ],
            [
             0.1111111111111111,
             "#46039f"
            ],
            [
             0.2222222222222222,
             "#7201a8"
            ],
            [
             0.3333333333333333,
             "#9c179e"
            ],
            [
             0.4444444444444444,
             "#bd3786"
            ],
            [
             0.5555555555555556,
             "#d8576b"
            ],
            [
             0.6666666666666666,
             "#ed7953"
            ],
            [
             0.7777777777777778,
             "#fb9f3a"
            ],
            [
             0.8888888888888888,
             "#fdca26"
            ],
            [
             1,
             "#f0f921"
            ]
           ]
          },
          "colorway": [
           "#636efa",
           "#EF553B",
           "#00cc96",
           "#ab63fa",
           "#FFA15A",
           "#19d3f3",
           "#FF6692",
           "#B6E880",
           "#FF97FF",
           "#FECB52"
          ],
          "font": {
           "color": "#2a3f5f"
          },
          "geo": {
           "bgcolor": "white",
           "lakecolor": "white",
           "landcolor": "#E5ECF6",
           "showlakes": true,
           "showland": true,
           "subunitcolor": "white"
          },
          "hoverlabel": {
           "align": "left"
          },
          "hovermode": "closest",
          "mapbox": {
           "style": "light"
          },
          "paper_bgcolor": "white",
          "plot_bgcolor": "#E5ECF6",
          "polar": {
           "angularaxis": {
            "gridcolor": "white",
            "linecolor": "white",
            "ticks": ""
           },
           "bgcolor": "#E5ECF6",
           "radialaxis": {
            "gridcolor": "white",
            "linecolor": "white",
            "ticks": ""
           }
          },
          "scene": {
           "xaxis": {
            "backgroundcolor": "#E5ECF6",
            "gridcolor": "white",
            "gridwidth": 2,
            "linecolor": "white",
            "showbackground": true,
            "ticks": "",
            "zerolinecolor": "white"
           },
           "yaxis": {
            "backgroundcolor": "#E5ECF6",
            "gridcolor": "white",
            "gridwidth": 2,
            "linecolor": "white",
            "showbackground": true,
            "ticks": "",
            "zerolinecolor": "white"
           },
           "zaxis": {
            "backgroundcolor": "#E5ECF6",
            "gridcolor": "white",
            "gridwidth": 2,
            "linecolor": "white",
            "showbackground": true,
            "ticks": "",
            "zerolinecolor": "white"
           }
          },
          "shapedefaults": {
           "line": {
            "color": "#2a3f5f"
           }
          },
          "ternary": {
           "aaxis": {
            "gridcolor": "white",
            "linecolor": "white",
            "ticks": ""
           },
           "baxis": {
            "gridcolor": "white",
            "linecolor": "white",
            "ticks": ""
           },
           "bgcolor": "#E5ECF6",
           "caxis": {
            "gridcolor": "white",
            "linecolor": "white",
            "ticks": ""
           }
          },
          "title": {
           "x": 0.05
          },
          "xaxis": {
           "automargin": true,
           "gridcolor": "white",
           "linecolor": "white",
           "ticks": "",
           "title": {
            "standoff": 15
           },
           "zerolinecolor": "white",
           "zerolinewidth": 2
          },
          "yaxis": {
           "automargin": true,
           "gridcolor": "white",
           "linecolor": "white",
           "ticks": "",
           "title": {
            "standoff": 15
           },
           "zerolinecolor": "white",
           "zerolinewidth": 2
          }
         }
        },
        "title": {
         "text": "Happiness Score"
        }
       }
      },
      "text/html": [
       "<div>                            <div id=\"c24aa4a3-1e00-4a99-b561-6afaa13b0bdf\" class=\"plotly-graph-div\" style=\"height:525px; width:100%;\"></div>            <script type=\"text/javascript\">                require([\"plotly\"], function(Plotly) {                    window.PLOTLYENV=window.PLOTLYENV || {};                                    if (document.getElementById(\"c24aa4a3-1e00-4a99-b561-6afaa13b0bdf\")) {                    Plotly.newPlot(                        \"c24aa4a3-1e00-4a99-b561-6afaa13b0bdf\",                        [{\"colorbar\":{\"title\":{\"text\":\"Happiness Score\"}},\"colorscale\":[[0.0,\"rgb(12,51,131)\"],[0.25,\"rgb(10,136,186)\"],[0.5,\"rgb(242,211,56)\"],[0.75,\"rgb(242,143,56)\"],[1.0,\"rgb(217,30,30)\"]],\"locationmode\":\"country names\",\"locations\":[\"Denmark\",\"Switzerland\",\"Iceland\",\"Norway\",\"Finland\",\"Canada\",\"Netherlands\",\"New Zealand\",\"Australia\",\"Sweden\",\"Israel\",\"Austria\",\"United States\",\"Costa Rica\",\"Puerto Rico\",\"Germany\",\"Brazil\",\"Belgium\",\"Ireland\",\"Luxembourg\",\"Mexico\",\"Singapore\",\"United Kingdom\",\"Chile\",\"Panama\",\"Argentina\",\"Czech Republic\",\"United Arab Emirates\",\"Uruguay\",\"Malta\",\"Colombia\",\"France\",\"Thailand\",\"Saudi Arabia\",\"Taiwan\",\"Qatar\",\"Spain\",\"Algeria\",\"Guatemala\",\"Suriname\",\"Kuwait\",\"Bahrain\",\"Trinidad and Tobago\",\"Venezuela\",\"Slovakia\",\"El Salvador\",\"Malaysia\",\"Nicaragua\",\"Uzbekistan\",\"Italy\",\"Ecuador\",\"Belize\",\"Japan\",\"Kazakhstan\",\"Moldova\",\"Russia\",\"Poland\",\"South Korea\",\"Bolivia\",\"Lithuania\",\"Belarus\",\"North Cyprus\",\"Slovenia\",\"Peru\",\"Turkmenistan\",\"Mauritius\",\"Libya\",\"Latvia\",\"Cyprus\",\"Paraguay\",\"Romania\",\"Estonia\",\"Jamaica\",\"Croatia\",\"Hong Kong\",\"Somalia\",\"Kosovo\",\"Turkey\",\"Indonesia\",\"Jordan\",\"Azerbaijan\",\"Philippines\",\"China\",\"Bhutan\",\"Kyrgyzstan\",\"Serbia\",\"Bosnia and Herzegovina\",\"Montenegro\",\"Dominican Republic\",\"Morocco\",\"Hungary\",\"Pakistan\",\"Lebanon\",\"Portugal\",\"Macedonia\",\"Vietnam\",\"Somaliland Region\",\"Tunisia\",\"Greece\",\"Tajikistan\",\"Mongolia\",\"Laos\",\"Nigeria\",\"Honduras\",\"Iran\",\"Zambia\",\"Nepal\",\"Palestinian Territories\",\"Albania\",\"Bangladesh\",\"Sierra Leone\",\"Iraq\",\"Namibia\",\"Cameroon\",\"Ethiopia\",\"South Africa\",\"Sri Lanka\",\"India\",\"Myanmar\",\"Egypt\",\"Armenia\",\"Kenya\",\"Ukraine\",\"Ghana\",\"Congo (Kinshasa)\",\"Georgia\",\"Congo (Brazzaville)\",\"Senegal\",\"Bulgaria\",\"Mauritania\",\"Zimbabwe\",\"Malawi\",\"Sudan\",\"Gabon\",\"Mali\",\"Haiti\",\"Botswana\",\"Comoros\",\"Ivory Coast\",\"Cambodia\",\"Angola\",\"Niger\",\"South Sudan\",\"Chad\",\"Burkina Faso\",\"Uganda\",\"Yemen\",\"Madagascar\",\"Tanzania\",\"Liberia\",\"Guinea\",\"Rwanda\",\"Benin\",\"Afghanistan\",\"Togo\",\"Syria\",\"Burundi\"],\"text\":[\"Denmark<br>Happiness Rank 1<br>Happiness Score 7.526<br>Freedom 0.57941<br>Generosity 0.36171<br>Trust (Government Corruption) 0.44453\",\"Switzerland<br>Happiness Rank 2<br>Happiness Score 7.509<br>Freedom 0.58557<br>Generosity 0.28083<br>Trust (Government Corruption) 0.41203\",\"Iceland<br>Happiness Rank 3<br>Happiness Score 7.501<br>Freedom 0.56624<br>Generosity 0.47678<br>Trust (Government Corruption) 0.14975\",\"Norway<br>Happiness Rank 4<br>Happiness Score 7.498<br>Freedom 0.59609<br>Generosity 0.37895<br>Trust (Government Corruption) 0.35776\",\"Finland<br>Happiness Rank 5<br>Happiness Score 7.413<br>Freedom 0.57104<br>Generosity 0.25492<br>Trust (Government Corruption) 0.41004\",\"Canada<br>Happiness Rank 6<br>Happiness Score 7.404<br>Freedom 0.5737<br>Generosity 0.44834<br>Trust (Government Corruption) 0.31329\",\"Netherlands<br>Happiness Rank 7<br>Happiness Score 7.339<br>Freedom 0.55211<br>Generosity 0.47416<br>Trust (Government Corruption) 0.29927\",\"New Zealand<br>Happiness Rank 8<br>Happiness Score 7.334<br>Freedom 0.58147<br>Generosity 0.49401<br>Trust (Government Corruption) 0.41904\",\"Australia<br>Happiness Rank 9<br>Happiness Score 7.313<br>Freedom 0.56837<br>Generosity 0.47407<br>Trust (Government Corruption) 0.32331\",\"Sweden<br>Happiness Rank 10<br>Happiness Score 7.291<br>Freedom 0.58218<br>Generosity 0.38254<br>Trust (Government Corruption) 0.40867\",\"Israel<br>Happiness Rank 11<br>Happiness Score 7.267<br>Freedom 0.36432<br>Generosity 0.32288<br>Trust (Government Corruption) 0.08728\",\"Austria<br>Happiness Rank 12<br>Happiness Score 7.119<br>Freedom 0.54355<br>Generosity 0.32865<br>Trust (Government Corruption) 0.21348\",\"United States<br>Happiness Rank 13<br>Happiness Score 7.104<br>Freedom 0.48163<br>Generosity 0.41077<br>Trust (Government Corruption) 0.14868\",\"Costa Rica<br>Happiness Rank 14<br>Happiness Score 7.087<br>Freedom 0.55225<br>Generosity 0.22553<br>Trust (Government Corruption) 0.10547\",\"Puerto Rico<br>Happiness Rank 15<br>Happiness Score 7.039<br>Freedom 0.46823<br>Generosity 0.22202<br>Trust (Government Corruption) 0.12275\",\"Germany<br>Happiness Rank 16<br>Happiness Score 6.994<br>Freedom 0.53466<br>Generosity 0.30452<br>Trust (Government Corruption) 0.28551\",\"Brazil<br>Happiness Rank 17<br>Happiness Score 6.952<br>Freedom 0.40425<br>Generosity 0.15776<br>Trust (Government Corruption) 0.14166\",\"Belgium<br>Happiness Rank 18<br>Happiness Score 6.929<br>Freedom 0.51354<br>Generosity 0.2424<br>Trust (Government Corruption) 0.26248\",\"Ireland<br>Happiness Rank 19<br>Happiness Score 6.907<br>Freedom 0.54008<br>Generosity 0.44963<br>Trust (Government Corruption) 0.29754\",\"Luxembourg<br>Happiness Rank 20<br>Happiness Score 6.871<br>Freedom 0.5487<br>Generosity 0.27571<br>Trust (Government Corruption) 0.35329\",\"Mexico<br>Happiness Rank 21<br>Happiness Score 6.778<br>Freedom 0.37709<br>Generosity 0.11735<br>Trust (Government Corruption) 0.18355\",\"Singapore<br>Happiness Rank 22<br>Happiness Score 6.739<br>Freedom 0.4877<br>Generosity 0.32706<br>Trust (Government Corruption) 0.46987\",\"United Kingdom<br>Happiness Rank 23<br>Happiness Score 6.725<br>Freedom 0.50036<br>Generosity 0.50156<br>Trust (Government Corruption) 0.27399\",\"Chile<br>Happiness Rank 24<br>Happiness Score 6.705<br>Freedom 0.37789<br>Generosity 0.31595<br>Trust (Government Corruption) 0.11451\",\"Panama<br>Happiness Rank 25<br>Happiness Score 6.701<br>Freedom 0.48927<br>Generosity 0.2418<br>Trust (Government Corruption) 0.08423\",\"Argentina<br>Happiness Rank 26<br>Happiness Score 6.65<br>Freedom 0.42284<br>Generosity 0.10989<br>Trust (Government Corruption) 0.07296\",\"Czech Republic<br>Happiness Rank 27<br>Happiness Score 6.596<br>Freedom 0.41418<br>Generosity 0.09929<br>Trust (Government Corruption) 0.03986\",\"United Arab Emirates<br>Happiness Rank 28<br>Happiness Score 6.573<br>Freedom 0.56215<br>Generosity 0.26591<br>Trust (Government Corruption) 0.35561\",\"Uruguay<br>Happiness Rank 29<br>Happiness Score 6.545<br>Freedom 0.54388<br>Generosity 0.18056<br>Trust (Government Corruption) 0.21394\",\"Malta<br>Happiness Rank 30<br>Happiness Score 6.488<br>Freedom 0.54994<br>Generosity 0.56237<br>Trust (Government Corruption) 0.17554\",\"Colombia<br>Happiness Rank 31<br>Happiness Score 6.481<br>Freedom 0.44735<br>Generosity 0.15626<br>Trust (Government Corruption) 0.05399\",\"France<br>Happiness Rank 32<br>Happiness Score 6.478<br>Freedom 0.46562<br>Generosity 0.1216<br>Trust (Government Corruption) 0.17808\",\"Thailand<br>Happiness Rank 33<br>Happiness Score 6.474<br>Freedom 0.49553<br>Generosity 0.58696<br>Trust (Government Corruption) 0.02833\",\"Saudi Arabia<br>Happiness Rank 34<br>Happiness Score 6.379<br>Freedom 0.37904<br>Generosity 0.15457<br>Trust (Government Corruption) 0.30008\",\"Taiwan<br>Happiness Rank 34<br>Happiness Score 6.379<br>Freedom 0.32377<br>Generosity 0.25495<br>Trust (Government Corruption) 0.0663\",\"Qatar<br>Happiness Rank 36<br>Happiness Score 6.375<br>Freedom 0.56679<br>Generosity 0.32388<br>Trust (Government Corruption) 0.48049\",\"Spain<br>Happiness Rank 37<br>Happiness Score 6.361<br>Freedom 0.37545<br>Generosity 0.17665<br>Trust (Government Corruption) 0.06137\",\"Algeria<br>Happiness Rank 38<br>Happiness Score 6.355<br>Freedom 0.21006<br>Generosity 0.07044<br>Trust (Government Corruption) 0.16157\",\"Guatemala<br>Happiness Rank 39<br>Happiness Score 6.324<br>Freedom 0.50379<br>Generosity 0.28808<br>Trust (Government Corruption) 0.08701\",\"Suriname<br>Happiness Rank 40<br>Happiness Score 6.269<br>Freedom 0.52234<br>Generosity 0.16665<br>Trust (Government Corruption) 0.12692\",\"Kuwait<br>Happiness Rank 41<br>Happiness Score 6.239<br>Freedom 0.43166<br>Generosity 0.15965<br>Trust (Government Corruption) 0.23669\",\"Bahrain<br>Happiness Rank 42<br>Happiness Score 6.218<br>Freedom 0.47375<br>Generosity 0.17147<br>Trust (Government Corruption) 0.25772\",\"Trinidad and Tobago<br>Happiness Rank 43<br>Happiness Score 6.168<br>Freedom 0.48453<br>Generosity 0.31935<br>Trust (Government Corruption) 0.01241\",\"Venezuela<br>Happiness Rank 44<br>Happiness Score 6.084<br>Freedom 0.19847<br>Generosity 0.0425<br>Trust (Government Corruption) 0.08304\",\"Slovakia<br>Happiness Rank 45<br>Happiness Score 6.078<br>Freedom 0.23391<br>Generosity 0.13837<br>Trust (Government Corruption) 0.02947\",\"El Salvador<br>Happiness Rank 46<br>Happiness Score 6.068<br>Freedom 0.37269<br>Generosity 0.08877<br>Trust (Government Corruption) 0.10613\",\"Malaysia<br>Happiness Rank 47<br>Happiness Score 6.005<br>Freedom 0.39031<br>Generosity 0.41474<br>Trust (Government Corruption) 0.09081\",\"Nicaragua<br>Happiness Rank 48<br>Happiness Score 5.992<br>Freedom 0.46582<br>Generosity 0.29773<br>Trust (Government Corruption) 0.16292\",\"Uzbekistan<br>Happiness Rank 49<br>Happiness Score 5.987<br>Freedom 0.60848<br>Generosity 0.34326<br>Trust (Government Corruption) 0.28333\",\"Italy<br>Happiness Rank 50<br>Happiness Score 5.977<br>Freedom 0.18827<br>Generosity 0.16684<br>Trust (Government Corruption) 0.02556\",\"Ecuador<br>Happiness Rank 51<br>Happiness Score 5.976<br>Freedom 0.4027<br>Generosity 0.10074<br>Trust (Government Corruption) 0.18037\",\"Belize<br>Happiness Rank 52<br>Happiness Score 5.956<br>Freedom 0.51231<br>Generosity 0.23684<br>Trust (Government Corruption) 0.10771\",\"Japan<br>Happiness Rank 53<br>Happiness Score 5.921<br>Freedom 0.46761<br>Generosity 0.10224<br>Trust (Government Corruption) 0.18985\",\"Kazakhstan<br>Happiness Rank 54<br>Happiness Score 5.919<br>Freedom 0.4052<br>Generosity 0.15011<br>Trust (Government Corruption) 0.11132\",\"Moldova<br>Happiness Rank 55<br>Happiness Score 5.897<br>Freedom 0.25202<br>Generosity 0.19997<br>Trust (Government Corruption) 0.01903\",\"Russia<br>Happiness Rank 56<br>Happiness Score 5.856<br>Freedom 0.32682<br>Generosity 0.02736<br>Trust (Government Corruption) 0.03586\",\"Poland<br>Happiness Rank 57<br>Happiness Score 5.835<br>Freedom 0.4519<br>Generosity 0.14443<br>Trust (Government Corruption) 0.055\",\"South Korea<br>Happiness Rank 57<br>Happiness Score 5.835<br>Freedom 0.25168<br>Generosity 0.18824<br>Trust (Government Corruption) 0.07716\",\"Bolivia<br>Happiness Rank 59<br>Happiness Score 5.822<br>Freedom 0.50961<br>Generosity 0.21698<br>Trust (Government Corruption) 0.07746\",\"Lithuania<br>Happiness Rank 60<br>Happiness Score 5.813<br>Freedom 0.18929<br>Generosity 0.02025<br>Trust (Government Corruption) 0.0182\",\"Belarus<br>Happiness Rank 61<br>Happiness Score 5.802<br>Freedom 0.29091<br>Generosity 0.13942<br>Trust (Government Corruption) 0.17457\",\"North Cyprus<br>Happiness Rank 62<br>Happiness Score 5.771<br>Freedom 0.43596<br>Generosity 0.26322<br>Trust (Government Corruption) 0.16578\",\"Slovenia<br>Happiness Rank 63<br>Happiness Score 5.768<br>Freedom 0.53164<br>Generosity 0.25738<br>Trust (Government Corruption) 0.03635\",\"Peru<br>Happiness Rank 64<br>Happiness Score 5.743<br>Freedom 0.37502<br>Generosity 0.14527<br>Trust (Government Corruption) 0.05292\",\"Turkmenistan<br>Happiness Rank 65<br>Happiness Score 5.658<br>Freedom 0.37408<br>Generosity 0.22567<br>Trust (Government Corruption) 0.28467\",\"Mauritius<br>Happiness Rank 66<br>Happiness Score 5.648<br>Freedom 0.46145<br>Generosity 0.36951<br>Trust (Government Corruption) 0.05203\",\"Libya<br>Happiness Rank 67<br>Happiness Score 5.615<br>Freedom 0.40672<br>Generosity 0.17087<br>Trust (Government Corruption) 0.10339\",\"Latvia<br>Happiness Rank 68<br>Happiness Score 5.56<br>Freedom 0.27996<br>Generosity 0.17445<br>Trust (Government Corruption) 0.0889\",\"Cyprus<br>Happiness Rank 69<br>Happiness Score 5.546<br>Freedom 0.29507<br>Generosity 0.27906<br>Trust (Government Corruption) 0.05228\",\"Paraguay<br>Happiness Rank 70<br>Happiness Score 5.538<br>Freedom 0.46235<br>Generosity 0.25296<br>Trust (Government Corruption) 0.07396\",\"Romania<br>Happiness Rank 71<br>Happiness Score 5.528<br>Freedom 0.36712<br>Generosity 0.12889<br>Trust (Government Corruption) 0.00679\",\"Estonia<br>Happiness Rank 72<br>Happiness Score 5.517<br>Freedom 0.41511<br>Generosity 0.08423<br>Trust (Government Corruption) 0.18519\",\"Jamaica<br>Happiness Rank 73<br>Happiness Score 5.51<br>Freedom 0.43597<br>Generosity 0.22245<br>Trust (Government Corruption) 0.04294\",\"Croatia<br>Happiness Rank 74<br>Happiness Score 5.488<br>Freedom 0.23907<br>Generosity 0.18434<br>Trust (Government Corruption) 0.04002\",\"Hong Kong<br>Happiness Rank 75<br>Happiness Score 5.458<br>Freedom 0.48079<br>Generosity 0.40097<br>Trust (Government Corruption) 0.31647\",\"Somalia<br>Happiness Rank 76<br>Happiness Score 5.44<br>Freedom 0.56778<br>Generosity 0.27225<br>Trust (Government Corruption) 0.3118\",\"Kosovo<br>Happiness Rank 77<br>Happiness Score 5.401<br>Freedom 0.14396<br>Generosity 0.27992<br>Trust (Government Corruption) 0.06547\",\"Turkey<br>Happiness Rank 78<br>Happiness Score 5.389<br>Freedom 0.23889<br>Generosity 0.04707<br>Trust (Government Corruption) 0.12348\",\"Indonesia<br>Happiness Rank 79<br>Happiness Score 5.314<br>Freedom 0.39237<br>Generosity 0.56521<br>Trust (Government Corruption) 0.00322\",\"Jordan<br>Happiness Rank 80<br>Happiness Score 5.303<br>Freedom 0.36023<br>Generosity 0.14262<br>Trust (Government Corruption) 0.13297\",\"Azerbaijan<br>Happiness Rank 81<br>Happiness Score 5.291<br>Freedom 0.35327<br>Generosity 0.0564<br>Trust (Government Corruption) 0.17914\",\"Philippines<br>Happiness Rank 82<br>Happiness Score 5.279<br>Freedom 0.54854<br>Generosity 0.21674<br>Trust (Government Corruption) 0.11757\",\"China<br>Happiness Rank 83<br>Happiness Score 5.245<br>Freedom 0.44012<br>Generosity 0.04959<br>Trust (Government Corruption) 0.02745\",\"Bhutan<br>Happiness Rank 84<br>Happiness Score 5.196<br>Freedom 0.46074<br>Generosity 0.48546<br>Trust (Government Corruption) 0.1616\",\"Kyrgyzstan<br>Happiness Rank 85<br>Happiness Score 5.185<br>Freedom 0.40212<br>Generosity 0.38432<br>Trust (Government Corruption) 0.04762\",\"Serbia<br>Happiness Rank 86<br>Happiness Score 5.177<br>Freedom 0.15718<br>Generosity 0.20737<br>Trust (Government Corruption) 0.04339\",\"Bosnia and Herzegovina<br>Happiness Rank 87<br>Happiness Score 5.163<br>Freedom 0.09511<br>Generosity 0.29889<br>Trust (Government Corruption) 0.0\",\"Montenegro<br>Happiness Rank 88<br>Happiness Score 5.161<br>Freedom 0.15111<br>Generosity 0.17191<br>Trust (Government Corruption) 0.12721\",\"Dominican Republic<br>Happiness Rank 89<br>Happiness Score 5.155<br>Freedom 0.52259<br>Generosity 0.21286<br>Trust (Government Corruption) 0.12372\",\"Morocco<br>Happiness Rank 90<br>Happiness Score 5.151<br>Freedom 0.25646<br>Generosity 0.04053<br>Trust (Government Corruption) 0.08404\",\"Hungary<br>Happiness Rank 91<br>Happiness Score 5.145<br>Freedom 0.1977<br>Generosity 0.099<br>Trust (Government Corruption) 0.04472\",\"Pakistan<br>Happiness Rank 92<br>Happiness Score 5.132<br>Freedom 0.14622<br>Generosity 0.31185<br>Trust (Government Corruption) 0.1388\",\"Lebanon<br>Happiness Rank 93<br>Happiness Score 5.129<br>Freedom 0.26228<br>Generosity 0.23693<br>Trust (Government Corruption) 0.03061\",\"Portugal<br>Happiness Rank 94<br>Happiness Score 5.123<br>Freedom 0.44727<br>Generosity 0.11691<br>Trust (Government Corruption) 0.01521\",\"Macedonia<br>Happiness Rank 95<br>Happiness Score 5.121<br>Freedom 0.27668<br>Generosity 0.23507<br>Trust (Government Corruption) 0.07047\",\"Vietnam<br>Happiness Rank 96<br>Happiness Score 5.061<br>Freedom 0.55954<br>Generosity 0.25075<br>Trust (Government Corruption) 0.11556\",\"Somaliland Region<br>Happiness Rank 97<br>Happiness Score 5.057<br>Freedom 0.3913<br>Generosity 0.51479<br>Trust (Government Corruption) 0.36794\",\"Tunisia<br>Happiness Rank 98<br>Happiness Score 5.045<br>Freedom 0.23553<br>Generosity 0.03936<br>Trust (Government Corruption) 0.0817\",\"Greece<br>Happiness Rank 99<br>Happiness Score 5.033<br>Freedom 0.05822<br>Generosity 0.0<br>Trust (Government Corruption) 0.04127\",\"Tajikistan<br>Happiness Rank 100<br>Happiness Score 4.996<br>Freedom 0.43408<br>Generosity 0.25998<br>Trust (Government Corruption) 0.13509\",\"Mongolia<br>Happiness Rank 101<br>Happiness Score 4.907<br>Freedom 0.35972<br>Generosity 0.34539<br>Trust (Government Corruption) 0.03285\",\"Laos<br>Happiness Rank 102<br>Happiness Score 4.876<br>Freedom 0.52168<br>Generosity 0.43079<br>Trust (Government Corruption) 0.22423\",\"Nigeria<br>Happiness Rank 103<br>Happiness Score 4.875<br>Freedom 0.27854<br>Generosity 0.23219<br>Trust (Government Corruption) 0.0305\",\"Honduras<br>Happiness Rank 104<br>Happiness Score 4.871<br>Freedom 0.26755<br>Generosity 0.2044<br>Trust (Government Corruption) 0.06906\",\"Iran<br>Happiness Rank 105<br>Happiness Score 4.813<br>Freedom 0.22544<br>Generosity 0.38538<br>Trust (Government Corruption) 0.0557\",\"Zambia<br>Happiness Rank 106<br>Happiness Score 4.795<br>Freedom 0.42662<br>Generosity 0.17866<br>Trust (Government Corruption) 0.11479\",\"Nepal<br>Happiness Rank 107<br>Happiness Score 4.793<br>Freedom 0.37012<br>Generosity 0.3816<br>Trust (Government Corruption) 0.07008\",\"Palestinian Territories<br>Happiness Rank 108<br>Happiness Score 4.754<br>Freedom 0.17744<br>Generosity 0.11154<br>Trust (Government Corruption) 0.10613\",\"Albania<br>Happiness Rank 109<br>Happiness Score 4.655<br>Freedom 0.31866<br>Generosity 0.1684<br>Trust (Government Corruption) 0.05301\",\"Bangladesh<br>Happiness Rank 110<br>Happiness Score 4.643<br>Freedom 0.39778<br>Generosity 0.19132<br>Trust (Government Corruption) 0.12583\",\"Sierra Leone<br>Happiness Rank 111<br>Happiness Score 4.635<br>Freedom 0.30685<br>Generosity 0.23897<br>Trust (Government Corruption) 0.08196\",\"Iraq<br>Happiness Rank 112<br>Happiness Score 4.575<br>Freedom 0.24856<br>Generosity 0.19589<br>Trust (Government Corruption) 0.13636\",\"Namibia<br>Happiness Rank 113<br>Happiness Score 4.574<br>Freedom 0.48614<br>Generosity 0.07795<br>Trust (Government Corruption) 0.10398\",\"Cameroon<br>Happiness Rank 114<br>Happiness Score 4.513<br>Freedom 0.42736<br>Generosity 0.2268<br>Trust (Government Corruption) 0.06126\",\"Ethiopia<br>Happiness Rank 115<br>Happiness Score 4.508<br>Freedom 0.36703<br>Generosity 0.29522<br>Trust (Government Corruption) 0.1717\",\"South Africa<br>Happiness Rank 116<br>Happiness Score 4.459<br>Freedom 0.42483<br>Generosity 0.13656<br>Trust (Government Corruption) 0.08415\",\"Sri Lanka<br>Happiness Rank 117<br>Happiness Score 4.415<br>Freedom 0.50817<br>Generosity 0.46978<br>Trust (Government Corruption) 0.07964\",\"India<br>Happiness Rank 118<br>Happiness Score 4.404<br>Freedom 0.40285<br>Generosity 0.25028<br>Trust (Government Corruption) 0.08722\",\"Myanmar<br>Happiness Rank 119<br>Happiness Score 4.395<br>Freedom 0.42692<br>Generosity 0.81971<br>Trust (Government Corruption) 0.20243\",\"Egypt<br>Happiness Rank 120<br>Happiness Score 4.362<br>Freedom 0.18847<br>Generosity 0.12706<br>Trust (Government Corruption) 0.10393\",\"Armenia<br>Happiness Rank 121<br>Happiness Score 4.36<br>Freedom 0.14037<br>Generosity 0.07793<br>Trust (Government Corruption) 0.03616\",\"Kenya<br>Happiness Rank 122<br>Happiness Score 4.356<br>Freedom 0.40576<br>Generosity 0.41328<br>Trust (Government Corruption) 0.06686\",\"Ukraine<br>Happiness Rank 123<br>Happiness Score 4.324<br>Freedom 0.12859<br>Generosity 0.20363<br>Trust (Government Corruption) 0.01829\",\"Ghana<br>Happiness Rank 124<br>Happiness Score 4.276<br>Freedom 0.40973<br>Generosity 0.21203<br>Trust (Government Corruption) 0.0326\",\"Congo (Kinshasa)<br>Happiness Rank 125<br>Happiness Score 4.272<br>Freedom 0.15602<br>Generosity 0.25458<br>Trust (Government Corruption) 0.06075\",\"Georgia<br>Happiness Rank 126<br>Happiness Score 4.252<br>Freedom 0.32461<br>Generosity 0.06786<br>Trust (Government Corruption) 0.3188\",\"Congo (Brazzaville)<br>Happiness Rank 127<br>Happiness Score 4.236<br>Freedom 0.37938<br>Generosity 0.12077<br>Trust (Government Corruption) 0.09753\",\"Senegal<br>Happiness Rank 128<br>Happiness Score 4.219<br>Freedom 0.31056<br>Generosity 0.19103<br>Trust (Government Corruption) 0.11681\",\"Bulgaria<br>Happiness Rank 129<br>Happiness Score 4.217<br>Freedom 0.21219<br>Generosity 0.12793<br>Trust (Government Corruption) 0.00615\",\"Mauritania<br>Happiness Rank 130<br>Happiness Score 4.201<br>Freedom 0.1268<br>Generosity 0.22686<br>Trust (Government Corruption) 0.17955\",\"Zimbabwe<br>Happiness Rank 131<br>Happiness Score 4.193<br>Freedom 0.25429<br>Generosity 0.18503<br>Trust (Government Corruption) 0.08582\",\"Malawi<br>Happiness Rank 132<br>Happiness Score 4.156<br>Freedom 0.4143<br>Generosity 0.30968<br>Trust (Government Corruption) 0.07564\",\"Sudan<br>Happiness Rank 133<br>Happiness Score 4.139<br>Freedom 0.0<br>Generosity 0.18077<br>Trust (Government Corruption) 0.10039\",\"Gabon<br>Happiness Rank 134<br>Happiness Score 4.121<br>Freedom 0.28098<br>Generosity 0.06244<br>Trust (Government Corruption) 0.09314\",\"Mali<br>Happiness Rank 135<br>Happiness Score 4.073<br>Freedom 0.27544<br>Generosity 0.21064<br>Trust (Government Corruption) 0.13647\",\"Haiti<br>Happiness Rank 136<br>Happiness Score 4.028<br>Freedom 0.12072<br>Generosity 0.47958<br>Trust (Government Corruption) 0.14476\",\"Botswana<br>Happiness Rank 137<br>Happiness Score 3.974<br>Freedom 0.44089<br>Generosity 0.12425<br>Trust (Government Corruption) 0.10769\",\"Comoros<br>Happiness Rank 138<br>Happiness Score 3.956<br>Freedom 0.15412<br>Generosity 0.1827<br>Trust (Government Corruption) 0.18437\",\"Ivory Coast<br>Happiness Rank 139<br>Happiness Score 3.916<br>Freedom 0.40663<br>Generosity 0.20338<br>Trust (Government Corruption) 0.1553\",\"Cambodia<br>Happiness Rank 140<br>Happiness Score 3.907<br>Freedom 0.58852<br>Generosity 0.40339<br>Trust (Government Corruption) 0.08092\",\"Angola<br>Happiness Rank 141<br>Happiness Score 3.866<br>Freedom 0.00589<br>Generosity 0.12071<br>Trust (Government Corruption) 0.08434\",\"Niger<br>Happiness Rank 142<br>Happiness Score 3.856<br>Freedom 0.38041<br>Generosity 0.2097<br>Trust (Government Corruption) 0.17176\",\"South Sudan<br>Happiness Rank 143<br>Happiness Score 3.832<br>Freedom 0.19662<br>Generosity 0.25899<br>Trust (Government Corruption) 0.13015\",\"Chad<br>Happiness Rank 144<br>Happiness Score 3.763<br>Freedom 0.12807<br>Generosity 0.18667<br>Trust (Government Corruption) 0.04952\",\"Burkina Faso<br>Happiness Rank 145<br>Happiness Score 3.739<br>Freedom 0.3337<br>Generosity 0.24353<br>Trust (Government Corruption) 0.12533\",\"Uganda<br>Happiness Rank 145<br>Happiness Score 3.739<br>Freedom 0.43653<br>Generosity 0.27102<br>Trust (Government Corruption) 0.06442\",\"Yemen<br>Happiness Rank 147<br>Happiness Score 3.724<br>Freedom 0.2287<br>Generosity 0.09821<br>Trust (Government Corruption) 0.05892\",\"Madagascar<br>Happiness Rank 148<br>Happiness Score 3.695<br>Freedom 0.13684<br>Generosity 0.2204<br>Trust (Government Corruption) 0.07506\",\"Tanzania<br>Happiness Rank 149<br>Happiness Score 3.666<br>Freedom 0.3176<br>Generosity 0.31472<br>Trust (Government Corruption) 0.05099\",\"Liberia<br>Happiness Rank 150<br>Happiness Score 3.622<br>Freedom 0.25748<br>Generosity 0.24063<br>Trust (Government Corruption) 0.04852\",\"Guinea<br>Happiness Rank 151<br>Happiness Score 3.607<br>Freedom 0.30953<br>Generosity 0.29914<br>Trust (Government Corruption) 0.1192\",\"Rwanda<br>Happiness Rank 152<br>Happiness Score 3.515<br>Freedom 0.5432<br>Generosity 0.23552<br>Trust (Government Corruption) 0.50521\",\"Benin<br>Happiness Rank 153<br>Happiness Score 3.484<br>Freedom 0.39747<br>Generosity 0.2018<br>Trust (Government Corruption) 0.06681\",\"Afghanistan<br>Happiness Rank 154<br>Happiness Score 3.36<br>Freedom 0.1643<br>Generosity 0.31268<br>Trust (Government Corruption) 0.07112\",\"Togo<br>Happiness Rank 155<br>Happiness Score 3.303<br>Freedom 0.34678<br>Generosity 0.17517<br>Trust (Government Corruption) 0.11587\",\"Syria<br>Happiness Rank 156<br>Happiness Score 3.069<br>Freedom 0.06912<br>Generosity 0.48397<br>Trust (Government Corruption) 0.17233\",\"Burundi<br>Happiness Rank 157<br>Happiness Score 2.905<br>Freedom 0.0432<br>Generosity 0.2029<br>Trust (Government Corruption) 0.09419\"],\"z\":[\"7.526\",\"7.509\",\"7.501\",\"7.498\",\"7.413\",\"7.404\",\"7.339\",\"7.334\",\"7.313\",\"7.291\",\"7.267\",\"7.119\",\"7.104\",\"7.087\",\"7.039\",\"6.994\",\"6.952\",\"6.929\",\"6.907\",\"6.871\",\"6.778\",\"6.739\",\"6.725\",\"6.705\",\"6.701\",\"6.65\",\"6.596\",\"6.573\",\"6.545\",\"6.488\",\"6.481\",\"6.478\",\"6.474\",\"6.379\",\"6.379\",\"6.375\",\"6.361\",\"6.355\",\"6.324\",\"6.269\",\"6.239\",\"6.218\",\"6.168\",\"6.084\",\"6.078\",\"6.068\",\"6.005\",\"5.992\",\"5.987\",\"5.977\",\"5.976\",\"5.956\",\"5.921\",\"5.919\",\"5.897\",\"5.856\",\"5.835\",\"5.835\",\"5.822\",\"5.813\",\"5.802\",\"5.771\",\"5.768\",\"5.743\",\"5.658\",\"5.648\",\"5.615\",\"5.56\",\"5.546\",\"5.538\",\"5.528\",\"5.517\",\"5.51\",\"5.488\",\"5.458\",\"5.44\",\"5.401\",\"5.389\",\"5.314\",\"5.303\",\"5.291\",\"5.279\",\"5.245\",\"5.196\",\"5.185\",\"5.177\",\"5.163\",\"5.161\",\"5.155\",\"5.151\",\"5.145\",\"5.132\",\"5.129\",\"5.123\",\"5.121\",\"5.061\",\"5.057\",\"5.045\",\"5.033\",\"4.996\",\"4.907\",\"4.876\",\"4.875\",\"4.871\",\"4.813\",\"4.795\",\"4.793\",\"4.754\",\"4.655\",\"4.643\",\"4.635\",\"4.575\",\"4.574\",\"4.513\",\"4.508\",\"4.459\",\"4.415\",\"4.404\",\"4.395\",\"4.362\",\"4.36\",\"4.356\",\"4.324\",\"4.276\",\"4.272\",\"4.252\",\"4.236\",\"4.219\",\"4.217\",\"4.201\",\"4.193\",\"4.156\",\"4.139\",\"4.121\",\"4.073\",\"4.028\",\"3.974\",\"3.956\",\"3.916\",\"3.907\",\"3.866\",\"3.856\",\"3.832\",\"3.763\",\"3.739\",\"3.739\",\"3.724\",\"3.695\",\"3.666\",\"3.622\",\"3.607\",\"3.515\",\"3.484\",\"3.36\",\"3.303\",\"3.069\",\"2.905\"],\"type\":\"choropleth\"}],                        {\"geo\":{\"projection\":{\"type\":\"mercator\"},\"showframe\":false},\"title\":{\"text\":\"Happiness Score\"},\"template\":{\"data\":{\"histogram2dcontour\":[{\"type\":\"histogram2dcontour\",\"colorbar\":{\"outlinewidth\":0,\"ticks\":\"\"},\"colorscale\":[[0.0,\"#0d0887\"],[0.1111111111111111,\"#46039f\"],[0.2222222222222222,\"#7201a8\"],[0.3333333333333333,\"#9c179e\"],[0.4444444444444444,\"#bd3786\"],[0.5555555555555556,\"#d8576b\"],[0.6666666666666666,\"#ed7953\"],[0.7777777777777778,\"#fb9f3a\"],[0.8888888888888888,\"#fdca26\"],[1.0,\"#f0f921\"]]}],\"choropleth\":[{\"type\":\"choropleth\",\"colorbar\":{\"outlinewidth\":0,\"ticks\":\"\"}}],\"histogram2d\":[{\"type\":\"histogram2d\",\"colorbar\":{\"outlinewidth\":0,\"ticks\":\"\"},\"colorscale\":[[0.0,\"#0d0887\"],[0.1111111111111111,\"#46039f\"],[0.2222222222222222,\"#7201a8\"],[0.3333333333333333,\"#9c179e\"],[0.4444444444444444,\"#bd3786\"],[0.5555555555555556,\"#d8576b\"],[0.6666666666666666,\"#ed7953\"],[0.7777777777777778,\"#fb9f3a\"],[0.8888888888888888,\"#fdca26\"],[1.0,\"#f0f921\"]]}],\"heatmap\":[{\"type\":\"heatmap\",\"colorbar\":{\"outlinewidth\":0,\"ticks\":\"\"},\"colorscale\":[[0.0,\"#0d0887\"],[0.1111111111111111,\"#46039f\"],[0.2222222222222222,\"#7201a8\"],[0.3333333333333333,\"#9c179e\"],[0.4444444444444444,\"#bd3786\"],[0.5555555555555556,\"#d8576b\"],[0.6666666666666666,\"#ed7953\"],[0.7777777777777778,\"#fb9f3a\"],[0.8888888888888888,\"#fdca26\"],[1.0,\"#f0f921\"]]}],\"heatmapgl\":[{\"type\":\"heatmapgl\",\"colorbar\":{\"outlinewidth\":0,\"ticks\":\"\"},\"colorscale\":[[0.0,\"#0d0887\"],[0.1111111111111111,\"#46039f\"],[0.2222222222222222,\"#7201a8\"],[0.3333333333333333,\"#9c179e\"],[0.4444444444444444,\"#bd3786\"],[0.5555555555555556,\"#d8576b\"],[0.6666666666666666,\"#ed7953\"],[0.7777777777777778,\"#fb9f3a\"],[0.8888888888888888,\"#fdca26\"],[1.0,\"#f0f921\"]]}],\"contourcarpet\":[{\"type\":\"contourcarpet\",\"colorbar\":{\"outlinewidth\":0,\"ticks\":\"\"}}],\"contour\":[{\"type\":\"contour\",\"colorbar\":{\"outlinewidth\":0,\"ticks\":\"\"},\"colorscale\":[[0.0,\"#0d0887\"],[0.1111111111111111,\"#46039f\"],[0.2222222222222222,\"#7201a8\"],[0.3333333333333333,\"#9c179e\"],[0.4444444444444444,\"#bd3786\"],[0.5555555555555556,\"#d8576b\"],[0.6666666666666666,\"#ed7953\"],[0.7777777777777778,\"#fb9f3a\"],[0.8888888888888888,\"#fdca26\"],[1.0,\"#f0f921\"]]}],\"surface\":[{\"type\":\"surface\",\"colorbar\":{\"outlinewidth\":0,\"ticks\":\"\"},\"colorscale\":[[0.0,\"#0d0887\"],[0.1111111111111111,\"#46039f\"],[0.2222222222222222,\"#7201a8\"],[0.3333333333333333,\"#9c179e\"],[0.4444444444444444,\"#bd3786\"],[0.5555555555555556,\"#d8576b\"],[0.6666666666666666,\"#ed7953\"],[0.7777777777777778,\"#fb9f3a\"],[0.8888888888888888,\"#fdca26\"],[1.0,\"#f0f921\"]]}],\"mesh3d\":[{\"type\":\"mesh3d\",\"colorbar\":{\"outlinewidth\":0,\"ticks\":\"\"}}],\"scatter\":[{\"fillpattern\":{\"fillmode\":\"overlay\",\"size\":10,\"solidity\":0.2},\"type\":\"scatter\"}],\"parcoords\":[{\"type\":\"parcoords\",\"line\":{\"colorbar\":{\"outlinewidth\":0,\"ticks\":\"\"}}}],\"scatterpolargl\":[{\"type\":\"scatterpolargl\",\"marker\":{\"colorbar\":{\"outlinewidth\":0,\"ticks\":\"\"}}}],\"bar\":[{\"error_x\":{\"color\":\"#2a3f5f\"},\"error_y\":{\"color\":\"#2a3f5f\"},\"marker\":{\"line\":{\"color\":\"#E5ECF6\",\"width\":0.5},\"pattern\":{\"fillmode\":\"overlay\",\"size\":10,\"solidity\":0.2}},\"type\":\"bar\"}],\"scattergeo\":[{\"type\":\"scattergeo\",\"marker\":{\"colorbar\":{\"outlinewidth\":0,\"ticks\":\"\"}}}],\"scatterpolar\":[{\"type\":\"scatterpolar\",\"marker\":{\"colorbar\":{\"outlinewidth\":0,\"ticks\":\"\"}}}],\"histogram\":[{\"marker\":{\"pattern\":{\"fillmode\":\"overlay\",\"size\":10,\"solidity\":0.2}},\"type\":\"histogram\"}],\"scattergl\":[{\"type\":\"scattergl\",\"marker\":{\"colorbar\":{\"outlinewidth\":0,\"ticks\":\"\"}}}],\"scatter3d\":[{\"type\":\"scatter3d\",\"line\":{\"colorbar\":{\"outlinewidth\":0,\"ticks\":\"\"}},\"marker\":{\"colorbar\":{\"outlinewidth\":0,\"ticks\":\"\"}}}],\"scattermapbox\":[{\"type\":\"scattermapbox\",\"marker\":{\"colorbar\":{\"outlinewidth\":0,\"ticks\":\"\"}}}],\"scatterternary\":[{\"type\":\"scatterternary\",\"marker\":{\"colorbar\":{\"outlinewidth\":0,\"ticks\":\"\"}}}],\"scattercarpet\":[{\"type\":\"scattercarpet\",\"marker\":{\"colorbar\":{\"outlinewidth\":0,\"ticks\":\"\"}}}],\"carpet\":[{\"aaxis\":{\"endlinecolor\":\"#2a3f5f\",\"gridcolor\":\"white\",\"linecolor\":\"white\",\"minorgridcolor\":\"white\",\"startlinecolor\":\"#2a3f5f\"},\"baxis\":{\"endlinecolor\":\"#2a3f5f\",\"gridcolor\":\"white\",\"linecolor\":\"white\",\"minorgridcolor\":\"white\",\"startlinecolor\":\"#2a3f5f\"},\"type\":\"carpet\"}],\"table\":[{\"cells\":{\"fill\":{\"color\":\"#EBF0F8\"},\"line\":{\"color\":\"white\"}},\"header\":{\"fill\":{\"color\":\"#C8D4E3\"},\"line\":{\"color\":\"white\"}},\"type\":\"table\"}],\"barpolar\":[{\"marker\":{\"line\":{\"color\":\"#E5ECF6\",\"width\":0.5},\"pattern\":{\"fillmode\":\"overlay\",\"size\":10,\"solidity\":0.2}},\"type\":\"barpolar\"}],\"pie\":[{\"automargin\":true,\"type\":\"pie\"}]},\"layout\":{\"autotypenumbers\":\"strict\",\"colorway\":[\"#636efa\",\"#EF553B\",\"#00cc96\",\"#ab63fa\",\"#FFA15A\",\"#19d3f3\",\"#FF6692\",\"#B6E880\",\"#FF97FF\",\"#FECB52\"],\"font\":{\"color\":\"#2a3f5f\"},\"hovermode\":\"closest\",\"hoverlabel\":{\"align\":\"left\"},\"paper_bgcolor\":\"white\",\"plot_bgcolor\":\"#E5ECF6\",\"polar\":{\"bgcolor\":\"#E5ECF6\",\"angularaxis\":{\"gridcolor\":\"white\",\"linecolor\":\"white\",\"ticks\":\"\"},\"radialaxis\":{\"gridcolor\":\"white\",\"linecolor\":\"white\",\"ticks\":\"\"}},\"ternary\":{\"bgcolor\":\"#E5ECF6\",\"aaxis\":{\"gridcolor\":\"white\",\"linecolor\":\"white\",\"ticks\":\"\"},\"baxis\":{\"gridcolor\":\"white\",\"linecolor\":\"white\",\"ticks\":\"\"},\"caxis\":{\"gridcolor\":\"white\",\"linecolor\":\"white\",\"ticks\":\"\"}},\"coloraxis\":{\"colorbar\":{\"outlinewidth\":0,\"ticks\":\"\"}},\"colorscale\":{\"sequential\":[[0.0,\"#0d0887\"],[0.1111111111111111,\"#46039f\"],[0.2222222222222222,\"#7201a8\"],[0.3333333333333333,\"#9c179e\"],[0.4444444444444444,\"#bd3786\"],[0.5555555555555556,\"#d8576b\"],[0.6666666666666666,\"#ed7953\"],[0.7777777777777778,\"#fb9f3a\"],[0.8888888888888888,\"#fdca26\"],[1.0,\"#f0f921\"]],\"sequentialminus\":[[0.0,\"#0d0887\"],[0.1111111111111111,\"#46039f\"],[0.2222222222222222,\"#7201a8\"],[0.3333333333333333,\"#9c179e\"],[0.4444444444444444,\"#bd3786\"],[0.5555555555555556,\"#d8576b\"],[0.6666666666666666,\"#ed7953\"],[0.7777777777777778,\"#fb9f3a\"],[0.8888888888888888,\"#fdca26\"],[1.0,\"#f0f921\"]],\"diverging\":[[0,\"#8e0152\"],[0.1,\"#c51b7d\"],[0.2,\"#de77ae\"],[0.3,\"#f1b6da\"],[0.4,\"#fde0ef\"],[0.5,\"#f7f7f7\"],[0.6,\"#e6f5d0\"],[0.7,\"#b8e186\"],[0.8,\"#7fbc41\"],[0.9,\"#4d9221\"],[1,\"#276419\"]]},\"xaxis\":{\"gridcolor\":\"white\",\"linecolor\":\"white\",\"ticks\":\"\",\"title\":{\"standoff\":15},\"zerolinecolor\":\"white\",\"automargin\":true,\"zerolinewidth\":2},\"yaxis\":{\"gridcolor\":\"white\",\"linecolor\":\"white\",\"ticks\":\"\",\"title\":{\"standoff\":15},\"zerolinecolor\":\"white\",\"automargin\":true,\"zerolinewidth\":2},\"scene\":{\"xaxis\":{\"backgroundcolor\":\"#E5ECF6\",\"gridcolor\":\"white\",\"linecolor\":\"white\",\"showbackground\":true,\"ticks\":\"\",\"zerolinecolor\":\"white\",\"gridwidth\":2},\"yaxis\":{\"backgroundcolor\":\"#E5ECF6\",\"gridcolor\":\"white\",\"linecolor\":\"white\",\"showbackground\":true,\"ticks\":\"\",\"zerolinecolor\":\"white\",\"gridwidth\":2},\"zaxis\":{\"backgroundcolor\":\"#E5ECF6\",\"gridcolor\":\"white\",\"linecolor\":\"white\",\"showbackground\":true,\"ticks\":\"\",\"zerolinecolor\":\"white\",\"gridwidth\":2}},\"shapedefaults\":{\"line\":{\"color\":\"#2a3f5f\"}},\"annotationdefaults\":{\"arrowcolor\":\"#2a3f5f\",\"arrowhead\":0,\"arrowwidth\":1},\"geo\":{\"bgcolor\":\"white\",\"landcolor\":\"#E5ECF6\",\"subunitcolor\":\"white\",\"showland\":true,\"showlakes\":true,\"lakecolor\":\"white\"},\"title\":{\"x\":0.05},\"mapbox\":{\"style\":\"light\"}}}},                        {\"responsive\": true}                    ).then(function(){\n",
       "                            \n",
       "var gd = document.getElementById('c24aa4a3-1e00-4a99-b561-6afaa13b0bdf');\n",
       "var x = new MutationObserver(function (mutations, observer) {{\n",
       "        var display = window.getComputedStyle(gd).display;\n",
       "        if (!display || display === 'none') {{\n",
       "            console.log([gd, 'removed!']);\n",
       "            Plotly.purge(gd);\n",
       "            observer.disconnect();\n",
       "        }}\n",
       "}});\n",
       "\n",
       "// Listen for the removal of the full notebook cells\n",
       "var notebookContainer = gd.closest('#notebook-container');\n",
       "if (notebookContainer) {{\n",
       "    x.observe(notebookContainer, {childList: true});\n",
       "}}\n",
       "\n",
       "// Listen for the clearing of the current output cell\n",
       "var outputEl = gd.closest('.output');\n",
       "if (outputEl) {{\n",
       "    x.observe(outputEl, {childList: true});\n",
       "}}\n",
       "\n",
       "                        })                };                });            </script>        </div>"
      ]
     },
     "metadata": {},
     "output_type": "display_data"
    }
   ],
   "source": [
    "# Create a “choropleth” for happiness score that displays the data from the newly generated ‘text’ column when hover.\n",
    "# create a data dictionary\n",
    "data = dict(type = 'choropleth', # type of plot\n",
    "           colorscale = 'Portland', # can be 'Blues', 'Earth', ...\n",
    "           locations = whp['Country'], # Get the country column\n",
    "           locationmode = 'country names', # the level of map\n",
    "           z = whp['Happiness Score'], # the color scale\n",
    "           text = whp['text'], # text column from the dataframe\n",
    "           colorbar = {'title':'Happiness Score'}, # Title for color bar\n",
    "           #reversescale = True, # in-case you want the reverse scale! default is False\n",
    "           )\n",
    "\n",
    "# Setting the layout\n",
    "layout = dict(title = 'Happiness Score',\n",
    "             geo = dict(showframe = False,projection = {'type':'mercator'})\n",
    "             )\n",
    "\n",
    "choropleth_map = go.Figure(data = [data],layout = layout)\n",
    "iplot(choropleth_map, validate=False)"
   ]
  },
  {
   "cell_type": "markdown",
   "id": "45c138a1",
   "metadata": {},
   "source": [
    "2012 US Election Data"
   ]
  },
  {
   "cell_type": "code",
   "execution_count": 8,
   "id": "a3e84bf5",
   "metadata": {
    "scrolled": false
   },
   "outputs": [
    {
     "name": "stdout",
     "output_type": "stream",
     "text": [
      "<class 'pandas.core.frame.DataFrame'>\n",
      "RangeIndex: 51 entries, 0 to 50\n",
      "Data columns (total 17 columns):\n",
      " #   Column                            Non-Null Count  Dtype  \n",
      "---  ------                            --------------  -----  \n",
      " 0   Year                              51 non-null     int64  \n",
      " 1   ICPSR State Code                  51 non-null     int64  \n",
      " 2   Alphanumeric State Code           51 non-null     int64  \n",
      " 3   State                             51 non-null     object \n",
      " 4   VEP Total Ballots Counted         41 non-null     object \n",
      " 5   VEP Highest Office                51 non-null     object \n",
      " 6   VAP Highest Office                51 non-null     object \n",
      " 7   Total Ballots Counted             41 non-null     object \n",
      " 8   Highest Office                    51 non-null     object \n",
      " 9   Voting-Eligible Population (VEP)  51 non-null     object \n",
      " 10  Voting-Age Population (VAP)       51 non-null     float64\n",
      " 11  % Non-citizen                     51 non-null     object \n",
      " 12  Prison                            51 non-null     object \n",
      " 13  Probation                         51 non-null     object \n",
      " 14  Parole                            51 non-null     object \n",
      " 15  Total Ineligible Felon            51 non-null     object \n",
      " 16  State Abv                         51 non-null     object \n",
      "dtypes: float64(1), int64(3), object(13)\n",
      "memory usage: 6.9+ KB\n"
     ]
    },
    {
     "data": {
      "text/html": [
       "<div>\n",
       "<style scoped>\n",
       "    .dataframe tbody tr th:only-of-type {\n",
       "        vertical-align: middle;\n",
       "    }\n",
       "\n",
       "    .dataframe tbody tr th {\n",
       "        vertical-align: top;\n",
       "    }\n",
       "\n",
       "    .dataframe thead th {\n",
       "        text-align: right;\n",
       "    }\n",
       "</style>\n",
       "<table border=\"1\" class=\"dataframe\">\n",
       "  <thead>\n",
       "    <tr style=\"text-align: right;\">\n",
       "      <th></th>\n",
       "      <th>Year</th>\n",
       "      <th>ICPSR State Code</th>\n",
       "      <th>Alphanumeric State Code</th>\n",
       "      <th>State</th>\n",
       "      <th>VEP Total Ballots Counted</th>\n",
       "      <th>VEP Highest Office</th>\n",
       "      <th>VAP Highest Office</th>\n",
       "      <th>Total Ballots Counted</th>\n",
       "      <th>Highest Office</th>\n",
       "      <th>Voting-Eligible Population (VEP)</th>\n",
       "      <th>Voting-Age Population (VAP)</th>\n",
       "      <th>% Non-citizen</th>\n",
       "      <th>Prison</th>\n",
       "      <th>Probation</th>\n",
       "      <th>Parole</th>\n",
       "      <th>Total Ineligible Felon</th>\n",
       "      <th>State Abv</th>\n",
       "    </tr>\n",
       "  </thead>\n",
       "  <tbody>\n",
       "    <tr>\n",
       "      <th>0</th>\n",
       "      <td>2012</td>\n",
       "      <td>41</td>\n",
       "      <td>1</td>\n",
       "      <td>Alabama</td>\n",
       "      <td>NaN</td>\n",
       "      <td>58.6%</td>\n",
       "      <td>56.0%</td>\n",
       "      <td>NaN</td>\n",
       "      <td>2,074,338</td>\n",
       "      <td>3,539,217</td>\n",
       "      <td>3707440.0</td>\n",
       "      <td>2.6%</td>\n",
       "      <td>32,232</td>\n",
       "      <td>57,993</td>\n",
       "      <td>8,616</td>\n",
       "      <td>71,584</td>\n",
       "      <td>AL</td>\n",
       "    </tr>\n",
       "    <tr>\n",
       "      <th>1</th>\n",
       "      <td>2012</td>\n",
       "      <td>81</td>\n",
       "      <td>2</td>\n",
       "      <td>Alaska</td>\n",
       "      <td>58.9%</td>\n",
       "      <td>58.7%</td>\n",
       "      <td>55.3%</td>\n",
       "      <td>301,694</td>\n",
       "      <td>300,495</td>\n",
       "      <td>511,792</td>\n",
       "      <td>543763.0</td>\n",
       "      <td>3.8%</td>\n",
       "      <td>5,633</td>\n",
       "      <td>7,173</td>\n",
       "      <td>1,882</td>\n",
       "      <td>11,317</td>\n",
       "      <td>AK</td>\n",
       "    </tr>\n",
       "    <tr>\n",
       "      <th>2</th>\n",
       "      <td>2012</td>\n",
       "      <td>61</td>\n",
       "      <td>3</td>\n",
       "      <td>Arizona</td>\n",
       "      <td>53.0%</td>\n",
       "      <td>52.6%</td>\n",
       "      <td>46.5%</td>\n",
       "      <td>2,323,579</td>\n",
       "      <td>2,306,559</td>\n",
       "      <td>4,387,900</td>\n",
       "      <td>4959270.0</td>\n",
       "      <td>9.9%</td>\n",
       "      <td>35,188</td>\n",
       "      <td>72,452</td>\n",
       "      <td>7,460</td>\n",
       "      <td>81,048</td>\n",
       "      <td>AZ</td>\n",
       "    </tr>\n",
       "    <tr>\n",
       "      <th>3</th>\n",
       "      <td>2012</td>\n",
       "      <td>42</td>\n",
       "      <td>4</td>\n",
       "      <td>Arkansas</td>\n",
       "      <td>51.1%</td>\n",
       "      <td>50.7%</td>\n",
       "      <td>47.7%</td>\n",
       "      <td>1,078,548</td>\n",
       "      <td>1,069,468</td>\n",
       "      <td>2,109,847</td>\n",
       "      <td>2242740.0</td>\n",
       "      <td>3.5%</td>\n",
       "      <td>14,471</td>\n",
       "      <td>30,122</td>\n",
       "      <td>23,372</td>\n",
       "      <td>53,808</td>\n",
       "      <td>AR</td>\n",
       "    </tr>\n",
       "    <tr>\n",
       "      <th>4</th>\n",
       "      <td>2012</td>\n",
       "      <td>71</td>\n",
       "      <td>5</td>\n",
       "      <td>California</td>\n",
       "      <td>55.7%</td>\n",
       "      <td>55.1%</td>\n",
       "      <td>45.1%</td>\n",
       "      <td>13,202,158</td>\n",
       "      <td>13,038,547</td>\n",
       "      <td>23,681,837</td>\n",
       "      <td>28913129.0</td>\n",
       "      <td>17.4%</td>\n",
       "      <td>119,455</td>\n",
       "      <td>0</td>\n",
       "      <td>89,287</td>\n",
       "      <td>208,742</td>\n",
       "      <td>CA</td>\n",
       "    </tr>\n",
       "  </tbody>\n",
       "</table>\n",
       "</div>"
      ],
      "text/plain": [
       "   Year  ICPSR State Code  Alphanumeric State Code       State  \\\n",
       "0  2012                41                        1     Alabama   \n",
       "1  2012                81                        2      Alaska   \n",
       "2  2012                61                        3     Arizona   \n",
       "3  2012                42                        4    Arkansas   \n",
       "4  2012                71                        5  California   \n",
       "\n",
       "  VEP Total Ballots Counted VEP Highest Office VAP Highest Office  \\\n",
       "0                       NaN              58.6%              56.0%   \n",
       "1                     58.9%              58.7%              55.3%   \n",
       "2                     53.0%              52.6%              46.5%   \n",
       "3                     51.1%              50.7%              47.7%   \n",
       "4                     55.7%              55.1%              45.1%   \n",
       "\n",
       "  Total Ballots Counted Highest Office Voting-Eligible Population (VEP)  \\\n",
       "0                   NaN      2,074,338                        3,539,217   \n",
       "1               301,694        300,495                          511,792   \n",
       "2             2,323,579      2,306,559                        4,387,900   \n",
       "3             1,078,548      1,069,468                        2,109,847   \n",
       "4            13,202,158     13,038,547                       23,681,837   \n",
       "\n",
       "   Voting-Age Population (VAP) % Non-citizen   Prison Probation  Parole  \\\n",
       "0                    3707440.0          2.6%   32,232    57,993   8,616   \n",
       "1                     543763.0          3.8%    5,633     7,173   1,882   \n",
       "2                    4959270.0          9.9%   35,188    72,452   7,460   \n",
       "3                    2242740.0          3.5%   14,471    30,122  23,372   \n",
       "4                   28913129.0         17.4%  119,455         0  89,287   \n",
       "\n",
       "  Total Ineligible Felon State Abv  \n",
       "0                 71,584        AL  \n",
       "1                 11,317        AK  \n",
       "2                 81,048        AZ  \n",
       "3                 53,808        AR  \n",
       "4                208,742        CA  "
      ]
     },
     "execution_count": 8,
     "metadata": {},
     "output_type": "execute_result"
    }
   ],
   "source": [
    "# importing dataset using pandas\n",
    "usdf = pd.read_csv('2012_Election_Data.csv')\n",
    "\n",
    "usdf.info()\n",
    "\n",
    "usdf.head()"
   ]
  },
  {
   "cell_type": "code",
   "execution_count": 9,
   "id": "25763dd2",
   "metadata": {},
   "outputs": [
    {
     "data": {
      "application/vnd.plotly.v1+json": {
       "config": {
        "linkText": "Export to plot.ly",
        "plotlyServerURL": "https://plot.ly",
        "showLink": true
       },
       "data": [
        {
         "marker": {
          "color": "rgba(255, 153, 51, 0.6)",
          "line": {
           "color": "rgba(255, 153, 51, 1.0)",
           "width": 1
          }
         },
         "name": "Voting-Age Population (VAP)",
         "orientation": "v",
         "text": "",
         "type": "bar",
         "x": [
          "AL",
          "AK",
          "AZ",
          "AR",
          "CA",
          "CO",
          "CT",
          "DE",
          "District of Columbia",
          "FL",
          "GA",
          "HI",
          "ID",
          "IL",
          "IN",
          "IA",
          "KS",
          "KY",
          "LA",
          "ME",
          "MD",
          "MA",
          "MI",
          "MN",
          "MS",
          "MO",
          "MT",
          "NE",
          "NV",
          "NH",
          "NJ",
          "NM",
          "NY",
          "NC",
          "ND",
          "OH",
          "OK",
          "OR",
          "PA",
          "RI",
          "SC",
          "SD",
          "TN",
          "TX",
          "UT",
          "VT",
          "VA",
          "WA",
          "WV",
          "WI",
          "WY"
         ],
         "y": [
          3707440,
          543763,
          4959270,
          2242740,
          28913129,
          3981208,
          2801375,
          715708,
          528848,
          15380947,
          7452696,
          1088335,
          1173727,
          9827043,
          4960376,
          2356209,
          2162442,
          3368684,
          3495847,
          1064779,
          4553853,
          5263550,
          7625576,
          4114820,
          2246931,
          4628500,
          785454,
          1396507,
          2105976,
          1047978,
          6847503,
          1573400,
          15344671,
          7496980,
          549955,
          8896930,
          2885093,
          3050747,
          10037099,
          834983,
          3662322,
          631472,
          4976284,
          19185395,
          1978956,
          502242,
          6348827,
          5329782,
          1472642,
          4417273,
          441726
         ]
        }
       ],
       "layout": {
        "legend": {
         "bgcolor": "#F5F6F9",
         "font": {
          "color": "#4D5663"
         }
        },
        "paper_bgcolor": "#F5F6F9",
        "plot_bgcolor": "#F5F6F9",
        "template": {
         "data": {
          "bar": [
           {
            "error_x": {
             "color": "#2a3f5f"
            },
            "error_y": {
             "color": "#2a3f5f"
            },
            "marker": {
             "line": {
              "color": "#E5ECF6",
              "width": 0.5
             },
             "pattern": {
              "fillmode": "overlay",
              "size": 10,
              "solidity": 0.2
             }
            },
            "type": "bar"
           }
          ],
          "barpolar": [
           {
            "marker": {
             "line": {
              "color": "#E5ECF6",
              "width": 0.5
             },
             "pattern": {
              "fillmode": "overlay",
              "size": 10,
              "solidity": 0.2
             }
            },
            "type": "barpolar"
           }
          ],
          "carpet": [
           {
            "aaxis": {
             "endlinecolor": "#2a3f5f",
             "gridcolor": "white",
             "linecolor": "white",
             "minorgridcolor": "white",
             "startlinecolor": "#2a3f5f"
            },
            "baxis": {
             "endlinecolor": "#2a3f5f",
             "gridcolor": "white",
             "linecolor": "white",
             "minorgridcolor": "white",
             "startlinecolor": "#2a3f5f"
            },
            "type": "carpet"
           }
          ],
          "choropleth": [
           {
            "colorbar": {
             "outlinewidth": 0,
             "ticks": ""
            },
            "type": "choropleth"
           }
          ],
          "contour": [
           {
            "colorbar": {
             "outlinewidth": 0,
             "ticks": ""
            },
            "colorscale": [
             [
              0,
              "#0d0887"
             ],
             [
              0.1111111111111111,
              "#46039f"
             ],
             [
              0.2222222222222222,
              "#7201a8"
             ],
             [
              0.3333333333333333,
              "#9c179e"
             ],
             [
              0.4444444444444444,
              "#bd3786"
             ],
             [
              0.5555555555555556,
              "#d8576b"
             ],
             [
              0.6666666666666666,
              "#ed7953"
             ],
             [
              0.7777777777777778,
              "#fb9f3a"
             ],
             [
              0.8888888888888888,
              "#fdca26"
             ],
             [
              1,
              "#f0f921"
             ]
            ],
            "type": "contour"
           }
          ],
          "contourcarpet": [
           {
            "colorbar": {
             "outlinewidth": 0,
             "ticks": ""
            },
            "type": "contourcarpet"
           }
          ],
          "heatmap": [
           {
            "colorbar": {
             "outlinewidth": 0,
             "ticks": ""
            },
            "colorscale": [
             [
              0,
              "#0d0887"
             ],
             [
              0.1111111111111111,
              "#46039f"
             ],
             [
              0.2222222222222222,
              "#7201a8"
             ],
             [
              0.3333333333333333,
              "#9c179e"
             ],
             [
              0.4444444444444444,
              "#bd3786"
             ],
             [
              0.5555555555555556,
              "#d8576b"
             ],
             [
              0.6666666666666666,
              "#ed7953"
             ],
             [
              0.7777777777777778,
              "#fb9f3a"
             ],
             [
              0.8888888888888888,
              "#fdca26"
             ],
             [
              1,
              "#f0f921"
             ]
            ],
            "type": "heatmap"
           }
          ],
          "heatmapgl": [
           {
            "colorbar": {
             "outlinewidth": 0,
             "ticks": ""
            },
            "colorscale": [
             [
              0,
              "#0d0887"
             ],
             [
              0.1111111111111111,
              "#46039f"
             ],
             [
              0.2222222222222222,
              "#7201a8"
             ],
             [
              0.3333333333333333,
              "#9c179e"
             ],
             [
              0.4444444444444444,
              "#bd3786"
             ],
             [
              0.5555555555555556,
              "#d8576b"
             ],
             [
              0.6666666666666666,
              "#ed7953"
             ],
             [
              0.7777777777777778,
              "#fb9f3a"
             ],
             [
              0.8888888888888888,
              "#fdca26"
             ],
             [
              1,
              "#f0f921"
             ]
            ],
            "type": "heatmapgl"
           }
          ],
          "histogram": [
           {
            "marker": {
             "pattern": {
              "fillmode": "overlay",
              "size": 10,
              "solidity": 0.2
             }
            },
            "type": "histogram"
           }
          ],
          "histogram2d": [
           {
            "colorbar": {
             "outlinewidth": 0,
             "ticks": ""
            },
            "colorscale": [
             [
              0,
              "#0d0887"
             ],
             [
              0.1111111111111111,
              "#46039f"
             ],
             [
              0.2222222222222222,
              "#7201a8"
             ],
             [
              0.3333333333333333,
              "#9c179e"
             ],
             [
              0.4444444444444444,
              "#bd3786"
             ],
             [
              0.5555555555555556,
              "#d8576b"
             ],
             [
              0.6666666666666666,
              "#ed7953"
             ],
             [
              0.7777777777777778,
              "#fb9f3a"
             ],
             [
              0.8888888888888888,
              "#fdca26"
             ],
             [
              1,
              "#f0f921"
             ]
            ],
            "type": "histogram2d"
           }
          ],
          "histogram2dcontour": [
           {
            "colorbar": {
             "outlinewidth": 0,
             "ticks": ""
            },
            "colorscale": [
             [
              0,
              "#0d0887"
             ],
             [
              0.1111111111111111,
              "#46039f"
             ],
             [
              0.2222222222222222,
              "#7201a8"
             ],
             [
              0.3333333333333333,
              "#9c179e"
             ],
             [
              0.4444444444444444,
              "#bd3786"
             ],
             [
              0.5555555555555556,
              "#d8576b"
             ],
             [
              0.6666666666666666,
              "#ed7953"
             ],
             [
              0.7777777777777778,
              "#fb9f3a"
             ],
             [
              0.8888888888888888,
              "#fdca26"
             ],
             [
              1,
              "#f0f921"
             ]
            ],
            "type": "histogram2dcontour"
           }
          ],
          "mesh3d": [
           {
            "colorbar": {
             "outlinewidth": 0,
             "ticks": ""
            },
            "type": "mesh3d"
           }
          ],
          "parcoords": [
           {
            "line": {
             "colorbar": {
              "outlinewidth": 0,
              "ticks": ""
             }
            },
            "type": "parcoords"
           }
          ],
          "pie": [
           {
            "automargin": true,
            "type": "pie"
           }
          ],
          "scatter": [
           {
            "fillpattern": {
             "fillmode": "overlay",
             "size": 10,
             "solidity": 0.2
            },
            "type": "scatter"
           }
          ],
          "scatter3d": [
           {
            "line": {
             "colorbar": {
              "outlinewidth": 0,
              "ticks": ""
             }
            },
            "marker": {
             "colorbar": {
              "outlinewidth": 0,
              "ticks": ""
             }
            },
            "type": "scatter3d"
           }
          ],
          "scattercarpet": [
           {
            "marker": {
             "colorbar": {
              "outlinewidth": 0,
              "ticks": ""
             }
            },
            "type": "scattercarpet"
           }
          ],
          "scattergeo": [
           {
            "marker": {
             "colorbar": {
              "outlinewidth": 0,
              "ticks": ""
             }
            },
            "type": "scattergeo"
           }
          ],
          "scattergl": [
           {
            "marker": {
             "colorbar": {
              "outlinewidth": 0,
              "ticks": ""
             }
            },
            "type": "scattergl"
           }
          ],
          "scattermapbox": [
           {
            "marker": {
             "colorbar": {
              "outlinewidth": 0,
              "ticks": ""
             }
            },
            "type": "scattermapbox"
           }
          ],
          "scatterpolar": [
           {
            "marker": {
             "colorbar": {
              "outlinewidth": 0,
              "ticks": ""
             }
            },
            "type": "scatterpolar"
           }
          ],
          "scatterpolargl": [
           {
            "marker": {
             "colorbar": {
              "outlinewidth": 0,
              "ticks": ""
             }
            },
            "type": "scatterpolargl"
           }
          ],
          "scatterternary": [
           {
            "marker": {
             "colorbar": {
              "outlinewidth": 0,
              "ticks": ""
             }
            },
            "type": "scatterternary"
           }
          ],
          "surface": [
           {
            "colorbar": {
             "outlinewidth": 0,
             "ticks": ""
            },
            "colorscale": [
             [
              0,
              "#0d0887"
             ],
             [
              0.1111111111111111,
              "#46039f"
             ],
             [
              0.2222222222222222,
              "#7201a8"
             ],
             [
              0.3333333333333333,
              "#9c179e"
             ],
             [
              0.4444444444444444,
              "#bd3786"
             ],
             [
              0.5555555555555556,
              "#d8576b"
             ],
             [
              0.6666666666666666,
              "#ed7953"
             ],
             [
              0.7777777777777778,
              "#fb9f3a"
             ],
             [
              0.8888888888888888,
              "#fdca26"
             ],
             [
              1,
              "#f0f921"
             ]
            ],
            "type": "surface"
           }
          ],
          "table": [
           {
            "cells": {
             "fill": {
              "color": "#EBF0F8"
             },
             "line": {
              "color": "white"
             }
            },
            "header": {
             "fill": {
              "color": "#C8D4E3"
             },
             "line": {
              "color": "white"
             }
            },
            "type": "table"
           }
          ]
         },
         "layout": {
          "annotationdefaults": {
           "arrowcolor": "#2a3f5f",
           "arrowhead": 0,
           "arrowwidth": 1
          },
          "autotypenumbers": "strict",
          "coloraxis": {
           "colorbar": {
            "outlinewidth": 0,
            "ticks": ""
           }
          },
          "colorscale": {
           "diverging": [
            [
             0,
             "#8e0152"
            ],
            [
             0.1,
             "#c51b7d"
            ],
            [
             0.2,
             "#de77ae"
            ],
            [
             0.3,
             "#f1b6da"
            ],
            [
             0.4,
             "#fde0ef"
            ],
            [
             0.5,
             "#f7f7f7"
            ],
            [
             0.6,
             "#e6f5d0"
            ],
            [
             0.7,
             "#b8e186"
            ],
            [
             0.8,
             "#7fbc41"
            ],
            [
             0.9,
             "#4d9221"
            ],
            [
             1,
             "#276419"
            ]
           ],
           "sequential": [
            [
             0,
             "#0d0887"
            ],
            [
             0.1111111111111111,
             "#46039f"
            ],
            [
             0.2222222222222222,
             "#7201a8"
            ],
            [
             0.3333333333333333,
             "#9c179e"
            ],
            [
             0.4444444444444444,
             "#bd3786"
            ],
            [
             0.5555555555555556,
             "#d8576b"
            ],
            [
             0.6666666666666666,
             "#ed7953"
            ],
            [
             0.7777777777777778,
             "#fb9f3a"
            ],
            [
             0.8888888888888888,
             "#fdca26"
            ],
            [
             1,
             "#f0f921"
            ]
           ],
           "sequentialminus": [
            [
             0,
             "#0d0887"
            ],
            [
             0.1111111111111111,
             "#46039f"
            ],
            [
             0.2222222222222222,
             "#7201a8"
            ],
            [
             0.3333333333333333,
             "#9c179e"
            ],
            [
             0.4444444444444444,
             "#bd3786"
            ],
            [
             0.5555555555555556,
             "#d8576b"
            ],
            [
             0.6666666666666666,
             "#ed7953"
            ],
            [
             0.7777777777777778,
             "#fb9f3a"
            ],
            [
             0.8888888888888888,
             "#fdca26"
            ],
            [
             1,
             "#f0f921"
            ]
           ]
          },
          "colorway": [
           "#636efa",
           "#EF553B",
           "#00cc96",
           "#ab63fa",
           "#FFA15A",
           "#19d3f3",
           "#FF6692",
           "#B6E880",
           "#FF97FF",
           "#FECB52"
          ],
          "font": {
           "color": "#2a3f5f"
          },
          "geo": {
           "bgcolor": "white",
           "lakecolor": "white",
           "landcolor": "#E5ECF6",
           "showlakes": true,
           "showland": true,
           "subunitcolor": "white"
          },
          "hoverlabel": {
           "align": "left"
          },
          "hovermode": "closest",
          "mapbox": {
           "style": "light"
          },
          "paper_bgcolor": "white",
          "plot_bgcolor": "#E5ECF6",
          "polar": {
           "angularaxis": {
            "gridcolor": "white",
            "linecolor": "white",
            "ticks": ""
           },
           "bgcolor": "#E5ECF6",
           "radialaxis": {
            "gridcolor": "white",
            "linecolor": "white",
            "ticks": ""
           }
          },
          "scene": {
           "xaxis": {
            "backgroundcolor": "#E5ECF6",
            "gridcolor": "white",
            "gridwidth": 2,
            "linecolor": "white",
            "showbackground": true,
            "ticks": "",
            "zerolinecolor": "white"
           },
           "yaxis": {
            "backgroundcolor": "#E5ECF6",
            "gridcolor": "white",
            "gridwidth": 2,
            "linecolor": "white",
            "showbackground": true,
            "ticks": "",
            "zerolinecolor": "white"
           },
           "zaxis": {
            "backgroundcolor": "#E5ECF6",
            "gridcolor": "white",
            "gridwidth": 2,
            "linecolor": "white",
            "showbackground": true,
            "ticks": "",
            "zerolinecolor": "white"
           }
          },
          "shapedefaults": {
           "line": {
            "color": "#2a3f5f"
           }
          },
          "ternary": {
           "aaxis": {
            "gridcolor": "white",
            "linecolor": "white",
            "ticks": ""
           },
           "baxis": {
            "gridcolor": "white",
            "linecolor": "white",
            "ticks": ""
           },
           "bgcolor": "#E5ECF6",
           "caxis": {
            "gridcolor": "white",
            "linecolor": "white",
            "ticks": ""
           }
          },
          "title": {
           "x": 0.05
          },
          "xaxis": {
           "automargin": true,
           "gridcolor": "white",
           "linecolor": "white",
           "ticks": "",
           "title": {
            "standoff": 15
           },
           "zerolinecolor": "white",
           "zerolinewidth": 2
          },
          "yaxis": {
           "automargin": true,
           "gridcolor": "white",
           "linecolor": "white",
           "ticks": "",
           "title": {
            "standoff": 15
           },
           "zerolinecolor": "white",
           "zerolinewidth": 2
          }
         }
        },
        "title": {
         "font": {
          "color": "#4D5663"
         }
        },
        "xaxis": {
         "gridcolor": "#E1E5ED",
         "showgrid": true,
         "tickfont": {
          "color": "#4D5663"
         },
         "title": {
          "font": {
           "color": "#4D5663"
          },
          "text": ""
         },
         "zerolinecolor": "#E1E5ED"
        },
        "yaxis": {
         "gridcolor": "#E1E5ED",
         "showgrid": true,
         "tickfont": {
          "color": "#4D5663"
         },
         "title": {
          "font": {
           "color": "#4D5663"
          },
          "text": ""
         },
         "zerolinecolor": "#E1E5ED"
        }
       }
      },
      "text/html": [
       "<div>                            <div id=\"0a3e96e4-48a5-4295-b842-91579356324a\" class=\"plotly-graph-div\" style=\"height:525px; width:100%;\"></div>            <script type=\"text/javascript\">                require([\"plotly\"], function(Plotly) {                    window.PLOTLYENV=window.PLOTLYENV || {};\n",
       "                    window.PLOTLYENV.BASE_URL='https://plot.ly';                                    if (document.getElementById(\"0a3e96e4-48a5-4295-b842-91579356324a\")) {                    Plotly.newPlot(                        \"0a3e96e4-48a5-4295-b842-91579356324a\",                        [{\"marker\":{\"color\":\"rgba(255, 153, 51, 0.6)\",\"line\":{\"color\":\"rgba(255, 153, 51, 1.0)\",\"width\":1}},\"name\":\"Voting-Age Population (VAP)\",\"orientation\":\"v\",\"text\":\"\",\"x\":[\"AL\",\"AK\",\"AZ\",\"AR\",\"CA\",\"CO\",\"CT\",\"DE\",\"District of Columbia\",\"FL\",\"GA\",\"HI\",\"ID\",\"IL\",\"IN\",\"IA\",\"KS\",\"KY\",\"LA\",\"ME\",\"MD\",\"MA\",\"MI\",\"MN\",\"MS\",\"MO\",\"MT\",\"NE\",\"NV\",\"NH\",\"NJ\",\"NM\",\"NY\",\"NC\",\"ND\",\"OH\",\"OK\",\"OR\",\"PA\",\"RI\",\"SC\",\"SD\",\"TN\",\"TX\",\"UT\",\"VT\",\"VA\",\"WA\",\"WV\",\"WI\",\"WY\"],\"y\":[3707440.0,543763.0,4959270.0,2242740.0,28913129.0,3981208.0,2801375.0,715708.0,528848.0,15380947.0,7452696.0,1088335.0,1173727.0,9827043.0,4960376.0,2356209.0,2162442.0,3368684.0,3495847.0,1064779.0,4553853.0,5263550.0,7625576.0,4114820.0,2246931.0,4628500.0,785454.0,1396507.0,2105976.0,1047978.0,6847503.0,1573400.0,15344671.0,7496980.0,549955.0,8896930.0,2885093.0,3050747.0,10037099.0,834983.0,3662322.0,631472.0,4976284.0,19185395.0,1978956.0,502242.0,6348827.0,5329782.0,1472642.0,4417273.0,441726.0],\"type\":\"bar\"}],                        {\"legend\":{\"bgcolor\":\"#F5F6F9\",\"font\":{\"color\":\"#4D5663\"}},\"paper_bgcolor\":\"#F5F6F9\",\"plot_bgcolor\":\"#F5F6F9\",\"template\":{\"data\":{\"barpolar\":[{\"marker\":{\"line\":{\"color\":\"#E5ECF6\",\"width\":0.5},\"pattern\":{\"fillmode\":\"overlay\",\"size\":10,\"solidity\":0.2}},\"type\":\"barpolar\"}],\"bar\":[{\"error_x\":{\"color\":\"#2a3f5f\"},\"error_y\":{\"color\":\"#2a3f5f\"},\"marker\":{\"line\":{\"color\":\"#E5ECF6\",\"width\":0.5},\"pattern\":{\"fillmode\":\"overlay\",\"size\":10,\"solidity\":0.2}},\"type\":\"bar\"}],\"carpet\":[{\"aaxis\":{\"endlinecolor\":\"#2a3f5f\",\"gridcolor\":\"white\",\"linecolor\":\"white\",\"minorgridcolor\":\"white\",\"startlinecolor\":\"#2a3f5f\"},\"baxis\":{\"endlinecolor\":\"#2a3f5f\",\"gridcolor\":\"white\",\"linecolor\":\"white\",\"minorgridcolor\":\"white\",\"startlinecolor\":\"#2a3f5f\"},\"type\":\"carpet\"}],\"choropleth\":[{\"colorbar\":{\"outlinewidth\":0,\"ticks\":\"\"},\"type\":\"choropleth\"}],\"contourcarpet\":[{\"colorbar\":{\"outlinewidth\":0,\"ticks\":\"\"},\"type\":\"contourcarpet\"}],\"contour\":[{\"colorbar\":{\"outlinewidth\":0,\"ticks\":\"\"},\"colorscale\":[[0.0,\"#0d0887\"],[0.1111111111111111,\"#46039f\"],[0.2222222222222222,\"#7201a8\"],[0.3333333333333333,\"#9c179e\"],[0.4444444444444444,\"#bd3786\"],[0.5555555555555556,\"#d8576b\"],[0.6666666666666666,\"#ed7953\"],[0.7777777777777778,\"#fb9f3a\"],[0.8888888888888888,\"#fdca26\"],[1.0,\"#f0f921\"]],\"type\":\"contour\"}],\"heatmapgl\":[{\"colorbar\":{\"outlinewidth\":0,\"ticks\":\"\"},\"colorscale\":[[0.0,\"#0d0887\"],[0.1111111111111111,\"#46039f\"],[0.2222222222222222,\"#7201a8\"],[0.3333333333333333,\"#9c179e\"],[0.4444444444444444,\"#bd3786\"],[0.5555555555555556,\"#d8576b\"],[0.6666666666666666,\"#ed7953\"],[0.7777777777777778,\"#fb9f3a\"],[0.8888888888888888,\"#fdca26\"],[1.0,\"#f0f921\"]],\"type\":\"heatmapgl\"}],\"heatmap\":[{\"colorbar\":{\"outlinewidth\":0,\"ticks\":\"\"},\"colorscale\":[[0.0,\"#0d0887\"],[0.1111111111111111,\"#46039f\"],[0.2222222222222222,\"#7201a8\"],[0.3333333333333333,\"#9c179e\"],[0.4444444444444444,\"#bd3786\"],[0.5555555555555556,\"#d8576b\"],[0.6666666666666666,\"#ed7953\"],[0.7777777777777778,\"#fb9f3a\"],[0.8888888888888888,\"#fdca26\"],[1.0,\"#f0f921\"]],\"type\":\"heatmap\"}],\"histogram2dcontour\":[{\"colorbar\":{\"outlinewidth\":0,\"ticks\":\"\"},\"colorscale\":[[0.0,\"#0d0887\"],[0.1111111111111111,\"#46039f\"],[0.2222222222222222,\"#7201a8\"],[0.3333333333333333,\"#9c179e\"],[0.4444444444444444,\"#bd3786\"],[0.5555555555555556,\"#d8576b\"],[0.6666666666666666,\"#ed7953\"],[0.7777777777777778,\"#fb9f3a\"],[0.8888888888888888,\"#fdca26\"],[1.0,\"#f0f921\"]],\"type\":\"histogram2dcontour\"}],\"histogram2d\":[{\"colorbar\":{\"outlinewidth\":0,\"ticks\":\"\"},\"colorscale\":[[0.0,\"#0d0887\"],[0.1111111111111111,\"#46039f\"],[0.2222222222222222,\"#7201a8\"],[0.3333333333333333,\"#9c179e\"],[0.4444444444444444,\"#bd3786\"],[0.5555555555555556,\"#d8576b\"],[0.6666666666666666,\"#ed7953\"],[0.7777777777777778,\"#fb9f3a\"],[0.8888888888888888,\"#fdca26\"],[1.0,\"#f0f921\"]],\"type\":\"histogram2d\"}],\"histogram\":[{\"marker\":{\"pattern\":{\"fillmode\":\"overlay\",\"size\":10,\"solidity\":0.2}},\"type\":\"histogram\"}],\"mesh3d\":[{\"colorbar\":{\"outlinewidth\":0,\"ticks\":\"\"},\"type\":\"mesh3d\"}],\"parcoords\":[{\"line\":{\"colorbar\":{\"outlinewidth\":0,\"ticks\":\"\"}},\"type\":\"parcoords\"}],\"pie\":[{\"automargin\":true,\"type\":\"pie\"}],\"scatter3d\":[{\"line\":{\"colorbar\":{\"outlinewidth\":0,\"ticks\":\"\"}},\"marker\":{\"colorbar\":{\"outlinewidth\":0,\"ticks\":\"\"}},\"type\":\"scatter3d\"}],\"scattercarpet\":[{\"marker\":{\"colorbar\":{\"outlinewidth\":0,\"ticks\":\"\"}},\"type\":\"scattercarpet\"}],\"scattergeo\":[{\"marker\":{\"colorbar\":{\"outlinewidth\":0,\"ticks\":\"\"}},\"type\":\"scattergeo\"}],\"scattergl\":[{\"marker\":{\"colorbar\":{\"outlinewidth\":0,\"ticks\":\"\"}},\"type\":\"scattergl\"}],\"scattermapbox\":[{\"marker\":{\"colorbar\":{\"outlinewidth\":0,\"ticks\":\"\"}},\"type\":\"scattermapbox\"}],\"scatterpolargl\":[{\"marker\":{\"colorbar\":{\"outlinewidth\":0,\"ticks\":\"\"}},\"type\":\"scatterpolargl\"}],\"scatterpolar\":[{\"marker\":{\"colorbar\":{\"outlinewidth\":0,\"ticks\":\"\"}},\"type\":\"scatterpolar\"}],\"scatter\":[{\"fillpattern\":{\"fillmode\":\"overlay\",\"size\":10,\"solidity\":0.2},\"type\":\"scatter\"}],\"scatterternary\":[{\"marker\":{\"colorbar\":{\"outlinewidth\":0,\"ticks\":\"\"}},\"type\":\"scatterternary\"}],\"surface\":[{\"colorbar\":{\"outlinewidth\":0,\"ticks\":\"\"},\"colorscale\":[[0.0,\"#0d0887\"],[0.1111111111111111,\"#46039f\"],[0.2222222222222222,\"#7201a8\"],[0.3333333333333333,\"#9c179e\"],[0.4444444444444444,\"#bd3786\"],[0.5555555555555556,\"#d8576b\"],[0.6666666666666666,\"#ed7953\"],[0.7777777777777778,\"#fb9f3a\"],[0.8888888888888888,\"#fdca26\"],[1.0,\"#f0f921\"]],\"type\":\"surface\"}],\"table\":[{\"cells\":{\"fill\":{\"color\":\"#EBF0F8\"},\"line\":{\"color\":\"white\"}},\"header\":{\"fill\":{\"color\":\"#C8D4E3\"},\"line\":{\"color\":\"white\"}},\"type\":\"table\"}]},\"layout\":{\"annotationdefaults\":{\"arrowcolor\":\"#2a3f5f\",\"arrowhead\":0,\"arrowwidth\":1},\"autotypenumbers\":\"strict\",\"coloraxis\":{\"colorbar\":{\"outlinewidth\":0,\"ticks\":\"\"}},\"colorscale\":{\"diverging\":[[0,\"#8e0152\"],[0.1,\"#c51b7d\"],[0.2,\"#de77ae\"],[0.3,\"#f1b6da\"],[0.4,\"#fde0ef\"],[0.5,\"#f7f7f7\"],[0.6,\"#e6f5d0\"],[0.7,\"#b8e186\"],[0.8,\"#7fbc41\"],[0.9,\"#4d9221\"],[1,\"#276419\"]],\"sequential\":[[0.0,\"#0d0887\"],[0.1111111111111111,\"#46039f\"],[0.2222222222222222,\"#7201a8\"],[0.3333333333333333,\"#9c179e\"],[0.4444444444444444,\"#bd3786\"],[0.5555555555555556,\"#d8576b\"],[0.6666666666666666,\"#ed7953\"],[0.7777777777777778,\"#fb9f3a\"],[0.8888888888888888,\"#fdca26\"],[1.0,\"#f0f921\"]],\"sequentialminus\":[[0.0,\"#0d0887\"],[0.1111111111111111,\"#46039f\"],[0.2222222222222222,\"#7201a8\"],[0.3333333333333333,\"#9c179e\"],[0.4444444444444444,\"#bd3786\"],[0.5555555555555556,\"#d8576b\"],[0.6666666666666666,\"#ed7953\"],[0.7777777777777778,\"#fb9f3a\"],[0.8888888888888888,\"#fdca26\"],[1.0,\"#f0f921\"]]},\"colorway\":[\"#636efa\",\"#EF553B\",\"#00cc96\",\"#ab63fa\",\"#FFA15A\",\"#19d3f3\",\"#FF6692\",\"#B6E880\",\"#FF97FF\",\"#FECB52\"],\"font\":{\"color\":\"#2a3f5f\"},\"geo\":{\"bgcolor\":\"white\",\"lakecolor\":\"white\",\"landcolor\":\"#E5ECF6\",\"showlakes\":true,\"showland\":true,\"subunitcolor\":\"white\"},\"hoverlabel\":{\"align\":\"left\"},\"hovermode\":\"closest\",\"mapbox\":{\"style\":\"light\"},\"paper_bgcolor\":\"white\",\"plot_bgcolor\":\"#E5ECF6\",\"polar\":{\"angularaxis\":{\"gridcolor\":\"white\",\"linecolor\":\"white\",\"ticks\":\"\"},\"bgcolor\":\"#E5ECF6\",\"radialaxis\":{\"gridcolor\":\"white\",\"linecolor\":\"white\",\"ticks\":\"\"}},\"scene\":{\"xaxis\":{\"backgroundcolor\":\"#E5ECF6\",\"gridcolor\":\"white\",\"gridwidth\":2,\"linecolor\":\"white\",\"showbackground\":true,\"ticks\":\"\",\"zerolinecolor\":\"white\"},\"yaxis\":{\"backgroundcolor\":\"#E5ECF6\",\"gridcolor\":\"white\",\"gridwidth\":2,\"linecolor\":\"white\",\"showbackground\":true,\"ticks\":\"\",\"zerolinecolor\":\"white\"},\"zaxis\":{\"backgroundcolor\":\"#E5ECF6\",\"gridcolor\":\"white\",\"gridwidth\":2,\"linecolor\":\"white\",\"showbackground\":true,\"ticks\":\"\",\"zerolinecolor\":\"white\"}},\"shapedefaults\":{\"line\":{\"color\":\"#2a3f5f\"}},\"ternary\":{\"aaxis\":{\"gridcolor\":\"white\",\"linecolor\":\"white\",\"ticks\":\"\"},\"baxis\":{\"gridcolor\":\"white\",\"linecolor\":\"white\",\"ticks\":\"\"},\"bgcolor\":\"#E5ECF6\",\"caxis\":{\"gridcolor\":\"white\",\"linecolor\":\"white\",\"ticks\":\"\"}},\"title\":{\"x\":0.05},\"xaxis\":{\"automargin\":true,\"gridcolor\":\"white\",\"linecolor\":\"white\",\"ticks\":\"\",\"title\":{\"standoff\":15},\"zerolinecolor\":\"white\",\"zerolinewidth\":2},\"yaxis\":{\"automargin\":true,\"gridcolor\":\"white\",\"linecolor\":\"white\",\"ticks\":\"\",\"title\":{\"standoff\":15},\"zerolinecolor\":\"white\",\"zerolinewidth\":2}}},\"title\":{\"font\":{\"color\":\"#4D5663\"}},\"xaxis\":{\"gridcolor\":\"#E1E5ED\",\"showgrid\":true,\"tickfont\":{\"color\":\"#4D5663\"},\"title\":{\"font\":{\"color\":\"#4D5663\"},\"text\":\"\"},\"zerolinecolor\":\"#E1E5ED\"},\"yaxis\":{\"gridcolor\":\"#E1E5ED\",\"showgrid\":true,\"tickfont\":{\"color\":\"#4D5663\"},\"title\":{\"font\":{\"color\":\"#4D5663\"},\"text\":\"\"},\"zerolinecolor\":\"#E1E5ED\"}},                        {\"showLink\": true, \"linkText\": \"Export to plot.ly\", \"plotlyServerURL\": \"https://plot.ly\", \"responsive\": true}                    ).then(function(){\n",
       "                            \n",
       "var gd = document.getElementById('0a3e96e4-48a5-4295-b842-91579356324a');\n",
       "var x = new MutationObserver(function (mutations, observer) {{\n",
       "        var display = window.getComputedStyle(gd).display;\n",
       "        if (!display || display === 'none') {{\n",
       "            console.log([gd, 'removed!']);\n",
       "            Plotly.purge(gd);\n",
       "            observer.disconnect();\n",
       "        }}\n",
       "}});\n",
       "\n",
       "// Listen for the removal of the full notebook cells\n",
       "var notebookContainer = gd.closest('#notebook-container');\n",
       "if (notebookContainer) {{\n",
       "    x.observe(notebookContainer, {childList: true});\n",
       "}}\n",
       "\n",
       "// Listen for the clearing of the current output cell\n",
       "var outputEl = gd.closest('.output');\n",
       "if (outputEl) {{\n",
       "    x.observe(outputEl, {childList: true});\n",
       "}}\n",
       "\n",
       "                        })                };                });            </script>        </div>"
      ]
     },
     "metadata": {},
     "output_type": "display_data"
    }
   ],
   "source": [
    "# create the plot with kind is bar, x is State and y is Voting-Age Population (VAP)\n",
    "usdf.iplot(x = 'State Abv', y = 'Voting-Age Population (VAP)', kind = 'bar')"
   ]
  },
  {
   "cell_type": "code",
   "execution_count": 10,
   "id": "185a8311",
   "metadata": {},
   "outputs": [
    {
     "data": {
      "application/vnd.plotly.v1+json": {
       "config": {
        "linkText": "Export to plot.ly",
        "plotlyServerURL": "https://plot.ly",
        "showLink": false
       },
       "data": [
        {
         "colorbar": {
          "title": {
           "text": "Voting-Age Population (VAP)"
          }
         },
         "locationmode": "USA-states",
         "locations": [
          "AL",
          "AK",
          "AZ",
          "AR",
          "CA",
          "CO",
          "CT",
          "DE",
          "District of Columbia",
          "FL",
          "GA",
          "HI",
          "ID",
          "IL",
          "IN",
          "IA",
          "KS",
          "KY",
          "LA",
          "ME",
          "MD",
          "MA",
          "MI",
          "MN",
          "MS",
          "MO",
          "MT",
          "NE",
          "NV",
          "NH",
          "NJ",
          "NM",
          "NY",
          "NC",
          "ND",
          "OH",
          "OK",
          "OR",
          "PA",
          "RI",
          "SC",
          "SD",
          "TN",
          "TX",
          "UT",
          "VT",
          "VA",
          "WA",
          "WV",
          "WI",
          "WY"
         ],
         "marker": {
          "line": {
           "color": "rgb(255,255,255)",
           "width": 2
          }
         },
         "text": [
          "Alabama",
          "Alaska",
          "Arizona",
          "Arkansas",
          "California",
          "Colorado",
          "Connecticut",
          "Delaware",
          "District of Columbia",
          "Florida",
          "Georgia",
          "Hawaii",
          "Idaho",
          "Illinois",
          "Indiana",
          "Iowa",
          "Kansas",
          "Kentucky",
          "Louisiana",
          "Maine",
          "Maryland",
          "Massachusetts",
          "Michigan",
          "Minnesota",
          "Mississippi",
          "Missouri",
          "Montana",
          "Nebraska",
          "Nevada",
          "New Hampshire",
          "New Jersey",
          "New Mexico",
          "New York",
          "North Carolina",
          "North Dakota",
          "Ohio",
          "Oklahoma",
          "Oregon",
          "Pennsylvania",
          "Rhode Island",
          "South Carolina",
          "South Dakota",
          "Tennessee",
          "Texas",
          "Utah",
          "Vermont",
          "Virginia",
          "Washington",
          "West Virginia",
          "Wisconsin",
          "Wyoming"
         ],
         "type": "choropleth",
         "z": [
          3707440,
          543763,
          4959270,
          2242740,
          28913129,
          3981208,
          2801375,
          715708,
          528848,
          15380947,
          7452696,
          1088335,
          1173727,
          9827043,
          4960376,
          2356209,
          2162442,
          3368684,
          3495847,
          1064779,
          4553853,
          5263550,
          7625576,
          4114820,
          2246931,
          4628500,
          785454,
          1396507,
          2105976,
          1047978,
          6847503,
          1573400,
          15344671,
          7496980,
          549955,
          8896930,
          2885093,
          3050747,
          10037099,
          834983,
          3662322,
          631472,
          4976284,
          19185395,
          1978956,
          502242,
          6348827,
          5329782,
          1472642,
          4417273,
          441726
         ]
        }
       ],
       "layout": {
        "geo": {
         "lakecolor": "rgb(85,173,240)",
         "scope": "usa",
         "showlakes": true
        },
        "template": {
         "data": {
          "bar": [
           {
            "error_x": {
             "color": "#2a3f5f"
            },
            "error_y": {
             "color": "#2a3f5f"
            },
            "marker": {
             "line": {
              "color": "#E5ECF6",
              "width": 0.5
             },
             "pattern": {
              "fillmode": "overlay",
              "size": 10,
              "solidity": 0.2
             }
            },
            "type": "bar"
           }
          ],
          "barpolar": [
           {
            "marker": {
             "line": {
              "color": "#E5ECF6",
              "width": 0.5
             },
             "pattern": {
              "fillmode": "overlay",
              "size": 10,
              "solidity": 0.2
             }
            },
            "type": "barpolar"
           }
          ],
          "carpet": [
           {
            "aaxis": {
             "endlinecolor": "#2a3f5f",
             "gridcolor": "white",
             "linecolor": "white",
             "minorgridcolor": "white",
             "startlinecolor": "#2a3f5f"
            },
            "baxis": {
             "endlinecolor": "#2a3f5f",
             "gridcolor": "white",
             "linecolor": "white",
             "minorgridcolor": "white",
             "startlinecolor": "#2a3f5f"
            },
            "type": "carpet"
           }
          ],
          "choropleth": [
           {
            "colorbar": {
             "outlinewidth": 0,
             "ticks": ""
            },
            "type": "choropleth"
           }
          ],
          "contour": [
           {
            "colorbar": {
             "outlinewidth": 0,
             "ticks": ""
            },
            "colorscale": [
             [
              0,
              "#0d0887"
             ],
             [
              0.1111111111111111,
              "#46039f"
             ],
             [
              0.2222222222222222,
              "#7201a8"
             ],
             [
              0.3333333333333333,
              "#9c179e"
             ],
             [
              0.4444444444444444,
              "#bd3786"
             ],
             [
              0.5555555555555556,
              "#d8576b"
             ],
             [
              0.6666666666666666,
              "#ed7953"
             ],
             [
              0.7777777777777778,
              "#fb9f3a"
             ],
             [
              0.8888888888888888,
              "#fdca26"
             ],
             [
              1,
              "#f0f921"
             ]
            ],
            "type": "contour"
           }
          ],
          "contourcarpet": [
           {
            "colorbar": {
             "outlinewidth": 0,
             "ticks": ""
            },
            "type": "contourcarpet"
           }
          ],
          "heatmap": [
           {
            "colorbar": {
             "outlinewidth": 0,
             "ticks": ""
            },
            "colorscale": [
             [
              0,
              "#0d0887"
             ],
             [
              0.1111111111111111,
              "#46039f"
             ],
             [
              0.2222222222222222,
              "#7201a8"
             ],
             [
              0.3333333333333333,
              "#9c179e"
             ],
             [
              0.4444444444444444,
              "#bd3786"
             ],
             [
              0.5555555555555556,
              "#d8576b"
             ],
             [
              0.6666666666666666,
              "#ed7953"
             ],
             [
              0.7777777777777778,
              "#fb9f3a"
             ],
             [
              0.8888888888888888,
              "#fdca26"
             ],
             [
              1,
              "#f0f921"
             ]
            ],
            "type": "heatmap"
           }
          ],
          "heatmapgl": [
           {
            "colorbar": {
             "outlinewidth": 0,
             "ticks": ""
            },
            "colorscale": [
             [
              0,
              "#0d0887"
             ],
             [
              0.1111111111111111,
              "#46039f"
             ],
             [
              0.2222222222222222,
              "#7201a8"
             ],
             [
              0.3333333333333333,
              "#9c179e"
             ],
             [
              0.4444444444444444,
              "#bd3786"
             ],
             [
              0.5555555555555556,
              "#d8576b"
             ],
             [
              0.6666666666666666,
              "#ed7953"
             ],
             [
              0.7777777777777778,
              "#fb9f3a"
             ],
             [
              0.8888888888888888,
              "#fdca26"
             ],
             [
              1,
              "#f0f921"
             ]
            ],
            "type": "heatmapgl"
           }
          ],
          "histogram": [
           {
            "marker": {
             "pattern": {
              "fillmode": "overlay",
              "size": 10,
              "solidity": 0.2
             }
            },
            "type": "histogram"
           }
          ],
          "histogram2d": [
           {
            "colorbar": {
             "outlinewidth": 0,
             "ticks": ""
            },
            "colorscale": [
             [
              0,
              "#0d0887"
             ],
             [
              0.1111111111111111,
              "#46039f"
             ],
             [
              0.2222222222222222,
              "#7201a8"
             ],
             [
              0.3333333333333333,
              "#9c179e"
             ],
             [
              0.4444444444444444,
              "#bd3786"
             ],
             [
              0.5555555555555556,
              "#d8576b"
             ],
             [
              0.6666666666666666,
              "#ed7953"
             ],
             [
              0.7777777777777778,
              "#fb9f3a"
             ],
             [
              0.8888888888888888,
              "#fdca26"
             ],
             [
              1,
              "#f0f921"
             ]
            ],
            "type": "histogram2d"
           }
          ],
          "histogram2dcontour": [
           {
            "colorbar": {
             "outlinewidth": 0,
             "ticks": ""
            },
            "colorscale": [
             [
              0,
              "#0d0887"
             ],
             [
              0.1111111111111111,
              "#46039f"
             ],
             [
              0.2222222222222222,
              "#7201a8"
             ],
             [
              0.3333333333333333,
              "#9c179e"
             ],
             [
              0.4444444444444444,
              "#bd3786"
             ],
             [
              0.5555555555555556,
              "#d8576b"
             ],
             [
              0.6666666666666666,
              "#ed7953"
             ],
             [
              0.7777777777777778,
              "#fb9f3a"
             ],
             [
              0.8888888888888888,
              "#fdca26"
             ],
             [
              1,
              "#f0f921"
             ]
            ],
            "type": "histogram2dcontour"
           }
          ],
          "mesh3d": [
           {
            "colorbar": {
             "outlinewidth": 0,
             "ticks": ""
            },
            "type": "mesh3d"
           }
          ],
          "parcoords": [
           {
            "line": {
             "colorbar": {
              "outlinewidth": 0,
              "ticks": ""
             }
            },
            "type": "parcoords"
           }
          ],
          "pie": [
           {
            "automargin": true,
            "type": "pie"
           }
          ],
          "scatter": [
           {
            "fillpattern": {
             "fillmode": "overlay",
             "size": 10,
             "solidity": 0.2
            },
            "type": "scatter"
           }
          ],
          "scatter3d": [
           {
            "line": {
             "colorbar": {
              "outlinewidth": 0,
              "ticks": ""
             }
            },
            "marker": {
             "colorbar": {
              "outlinewidth": 0,
              "ticks": ""
             }
            },
            "type": "scatter3d"
           }
          ],
          "scattercarpet": [
           {
            "marker": {
             "colorbar": {
              "outlinewidth": 0,
              "ticks": ""
             }
            },
            "type": "scattercarpet"
           }
          ],
          "scattergeo": [
           {
            "marker": {
             "colorbar": {
              "outlinewidth": 0,
              "ticks": ""
             }
            },
            "type": "scattergeo"
           }
          ],
          "scattergl": [
           {
            "marker": {
             "colorbar": {
              "outlinewidth": 0,
              "ticks": ""
             }
            },
            "type": "scattergl"
           }
          ],
          "scattermapbox": [
           {
            "marker": {
             "colorbar": {
              "outlinewidth": 0,
              "ticks": ""
             }
            },
            "type": "scattermapbox"
           }
          ],
          "scatterpolar": [
           {
            "marker": {
             "colorbar": {
              "outlinewidth": 0,
              "ticks": ""
             }
            },
            "type": "scatterpolar"
           }
          ],
          "scatterpolargl": [
           {
            "marker": {
             "colorbar": {
              "outlinewidth": 0,
              "ticks": ""
             }
            },
            "type": "scatterpolargl"
           }
          ],
          "scatterternary": [
           {
            "marker": {
             "colorbar": {
              "outlinewidth": 0,
              "ticks": ""
             }
            },
            "type": "scatterternary"
           }
          ],
          "surface": [
           {
            "colorbar": {
             "outlinewidth": 0,
             "ticks": ""
            },
            "colorscale": [
             [
              0,
              "#0d0887"
             ],
             [
              0.1111111111111111,
              "#46039f"
             ],
             [
              0.2222222222222222,
              "#7201a8"
             ],
             [
              0.3333333333333333,
              "#9c179e"
             ],
             [
              0.4444444444444444,
              "#bd3786"
             ],
             [
              0.5555555555555556,
              "#d8576b"
             ],
             [
              0.6666666666666666,
              "#ed7953"
             ],
             [
              0.7777777777777778,
              "#fb9f3a"
             ],
             [
              0.8888888888888888,
              "#fdca26"
             ],
             [
              1,
              "#f0f921"
             ]
            ],
            "type": "surface"
           }
          ],
          "table": [
           {
            "cells": {
             "fill": {
              "color": "#EBF0F8"
             },
             "line": {
              "color": "white"
             }
            },
            "header": {
             "fill": {
              "color": "#C8D4E3"
             },
             "line": {
              "color": "white"
             }
            },
            "type": "table"
           }
          ]
         },
         "layout": {
          "annotationdefaults": {
           "arrowcolor": "#2a3f5f",
           "arrowhead": 0,
           "arrowwidth": 1
          },
          "autotypenumbers": "strict",
          "coloraxis": {
           "colorbar": {
            "outlinewidth": 0,
            "ticks": ""
           }
          },
          "colorscale": {
           "diverging": [
            [
             0,
             "#8e0152"
            ],
            [
             0.1,
             "#c51b7d"
            ],
            [
             0.2,
             "#de77ae"
            ],
            [
             0.3,
             "#f1b6da"
            ],
            [
             0.4,
             "#fde0ef"
            ],
            [
             0.5,
             "#f7f7f7"
            ],
            [
             0.6,
             "#e6f5d0"
            ],
            [
             0.7,
             "#b8e186"
            ],
            [
             0.8,
             "#7fbc41"
            ],
            [
             0.9,
             "#4d9221"
            ],
            [
             1,
             "#276419"
            ]
           ],
           "sequential": [
            [
             0,
             "#0d0887"
            ],
            [
             0.1111111111111111,
             "#46039f"
            ],
            [
             0.2222222222222222,
             "#7201a8"
            ],
            [
             0.3333333333333333,
             "#9c179e"
            ],
            [
             0.4444444444444444,
             "#bd3786"
            ],
            [
             0.5555555555555556,
             "#d8576b"
            ],
            [
             0.6666666666666666,
             "#ed7953"
            ],
            [
             0.7777777777777778,
             "#fb9f3a"
            ],
            [
             0.8888888888888888,
             "#fdca26"
            ],
            [
             1,
             "#f0f921"
            ]
           ],
           "sequentialminus": [
            [
             0,
             "#0d0887"
            ],
            [
             0.1111111111111111,
             "#46039f"
            ],
            [
             0.2222222222222222,
             "#7201a8"
            ],
            [
             0.3333333333333333,
             "#9c179e"
            ],
            [
             0.4444444444444444,
             "#bd3786"
            ],
            [
             0.5555555555555556,
             "#d8576b"
            ],
            [
             0.6666666666666666,
             "#ed7953"
            ],
            [
             0.7777777777777778,
             "#fb9f3a"
            ],
            [
             0.8888888888888888,
             "#fdca26"
            ],
            [
             1,
             "#f0f921"
            ]
           ]
          },
          "colorway": [
           "#636efa",
           "#EF553B",
           "#00cc96",
           "#ab63fa",
           "#FFA15A",
           "#19d3f3",
           "#FF6692",
           "#B6E880",
           "#FF97FF",
           "#FECB52"
          ],
          "font": {
           "color": "#2a3f5f"
          },
          "geo": {
           "bgcolor": "white",
           "lakecolor": "white",
           "landcolor": "#E5ECF6",
           "showlakes": true,
           "showland": true,
           "subunitcolor": "white"
          },
          "hoverlabel": {
           "align": "left"
          },
          "hovermode": "closest",
          "mapbox": {
           "style": "light"
          },
          "paper_bgcolor": "white",
          "plot_bgcolor": "#E5ECF6",
          "polar": {
           "angularaxis": {
            "gridcolor": "white",
            "linecolor": "white",
            "ticks": ""
           },
           "bgcolor": "#E5ECF6",
           "radialaxis": {
            "gridcolor": "white",
            "linecolor": "white",
            "ticks": ""
           }
          },
          "scene": {
           "xaxis": {
            "backgroundcolor": "#E5ECF6",
            "gridcolor": "white",
            "gridwidth": 2,
            "linecolor": "white",
            "showbackground": true,
            "ticks": "",
            "zerolinecolor": "white"
           },
           "yaxis": {
            "backgroundcolor": "#E5ECF6",
            "gridcolor": "white",
            "gridwidth": 2,
            "linecolor": "white",
            "showbackground": true,
            "ticks": "",
            "zerolinecolor": "white"
           },
           "zaxis": {
            "backgroundcolor": "#E5ECF6",
            "gridcolor": "white",
            "gridwidth": 2,
            "linecolor": "white",
            "showbackground": true,
            "ticks": "",
            "zerolinecolor": "white"
           }
          },
          "shapedefaults": {
           "line": {
            "color": "#2a3f5f"
           }
          },
          "ternary": {
           "aaxis": {
            "gridcolor": "white",
            "linecolor": "white",
            "ticks": ""
           },
           "baxis": {
            "gridcolor": "white",
            "linecolor": "white",
            "ticks": ""
           },
           "bgcolor": "#E5ECF6",
           "caxis": {
            "gridcolor": "white",
            "linecolor": "white",
            "ticks": ""
           }
          },
          "title": {
           "x": 0.05
          },
          "xaxis": {
           "automargin": true,
           "gridcolor": "white",
           "linecolor": "white",
           "ticks": "",
           "title": {
            "standoff": 15
           },
           "zerolinecolor": "white",
           "zerolinewidth": 2
          },
          "yaxis": {
           "automargin": true,
           "gridcolor": "white",
           "linecolor": "white",
           "ticks": "",
           "title": {
            "standoff": 15
           },
           "zerolinecolor": "white",
           "zerolinewidth": 2
          }
         }
        },
        "title": {
         "text": "2012 General Election Voting Data"
        }
       }
      },
      "text/html": [
       "<div>                            <div id=\"77dfe58b-49e0-4fab-8460-dd3556652d8b\" class=\"plotly-graph-div\" style=\"height:525px; width:100%;\"></div>            <script type=\"text/javascript\">                require([\"plotly\"], function(Plotly) {                    window.PLOTLYENV=window.PLOTLYENV || {};                                    if (document.getElementById(\"77dfe58b-49e0-4fab-8460-dd3556652d8b\")) {                    Plotly.newPlot(                        \"77dfe58b-49e0-4fab-8460-dd3556652d8b\",                        [{\"colorbar\":{\"title\":{\"text\":\"Voting-Age Population (VAP)\"}},\"locationmode\":\"USA-states\",\"locations\":[\"AL\",\"AK\",\"AZ\",\"AR\",\"CA\",\"CO\",\"CT\",\"DE\",\"District of Columbia\",\"FL\",\"GA\",\"HI\",\"ID\",\"IL\",\"IN\",\"IA\",\"KS\",\"KY\",\"LA\",\"ME\",\"MD\",\"MA\",\"MI\",\"MN\",\"MS\",\"MO\",\"MT\",\"NE\",\"NV\",\"NH\",\"NJ\",\"NM\",\"NY\",\"NC\",\"ND\",\"OH\",\"OK\",\"OR\",\"PA\",\"RI\",\"SC\",\"SD\",\"TN\",\"TX\",\"UT\",\"VT\",\"VA\",\"WA\",\"WV\",\"WI\",\"WY\"],\"marker\":{\"line\":{\"color\":\"rgb(255,255,255)\",\"width\":2}},\"text\":[\"Alabama\",\"Alaska\",\"Arizona\",\"Arkansas\",\"California\",\"Colorado\",\"Connecticut\",\"Delaware\",\"District of Columbia\",\"Florida\",\"Georgia\",\"Hawaii\",\"Idaho\",\"Illinois\",\"Indiana\",\"Iowa\",\"Kansas\",\"Kentucky\",\"Louisiana\",\"Maine\",\"Maryland\",\"Massachusetts\",\"Michigan\",\"Minnesota\",\"Mississippi\",\"Missouri\",\"Montana\",\"Nebraska\",\"Nevada\",\"New Hampshire\",\"New Jersey\",\"New Mexico\",\"New York\",\"North Carolina\",\"North Dakota\",\"Ohio\",\"Oklahoma\",\"Oregon\",\"Pennsylvania\",\"Rhode Island\",\"South Carolina\",\"South Dakota\",\"Tennessee\",\"Texas\",\"Utah\",\"Vermont\",\"Virginia\",\"Washington\",\"West Virginia\",\"Wisconsin\",\"Wyoming\"],\"z\":[3707440.0,543763.0,4959270.0,2242740.0,28913129.0,3981208.0,2801375.0,715708.0,528848.0,15380947.0,7452696.0,1088335.0,1173727.0,9827043.0,4960376.0,2356209.0,2162442.0,3368684.0,3495847.0,1064779.0,4553853.0,5263550.0,7625576.0,4114820.0,2246931.0,4628500.0,785454.0,1396507.0,2105976.0,1047978.0,6847503.0,1573400.0,15344671.0,7496980.0,549955.0,8896930.0,2885093.0,3050747.0,10037099.0,834983.0,3662322.0,631472.0,4976284.0,19185395.0,1978956.0,502242.0,6348827.0,5329782.0,1472642.0,4417273.0,441726.0],\"type\":\"choropleth\"}],                        {\"geo\":{\"lakecolor\":\"rgb(85,173,240)\",\"scope\":\"usa\",\"showlakes\":true},\"title\":{\"text\":\"2012 General Election Voting Data\"},\"template\":{\"data\":{\"histogram2dcontour\":[{\"type\":\"histogram2dcontour\",\"colorbar\":{\"outlinewidth\":0,\"ticks\":\"\"},\"colorscale\":[[0.0,\"#0d0887\"],[0.1111111111111111,\"#46039f\"],[0.2222222222222222,\"#7201a8\"],[0.3333333333333333,\"#9c179e\"],[0.4444444444444444,\"#bd3786\"],[0.5555555555555556,\"#d8576b\"],[0.6666666666666666,\"#ed7953\"],[0.7777777777777778,\"#fb9f3a\"],[0.8888888888888888,\"#fdca26\"],[1.0,\"#f0f921\"]]}],\"choropleth\":[{\"type\":\"choropleth\",\"colorbar\":{\"outlinewidth\":0,\"ticks\":\"\"}}],\"histogram2d\":[{\"type\":\"histogram2d\",\"colorbar\":{\"outlinewidth\":0,\"ticks\":\"\"},\"colorscale\":[[0.0,\"#0d0887\"],[0.1111111111111111,\"#46039f\"],[0.2222222222222222,\"#7201a8\"],[0.3333333333333333,\"#9c179e\"],[0.4444444444444444,\"#bd3786\"],[0.5555555555555556,\"#d8576b\"],[0.6666666666666666,\"#ed7953\"],[0.7777777777777778,\"#fb9f3a\"],[0.8888888888888888,\"#fdca26\"],[1.0,\"#f0f921\"]]}],\"heatmap\":[{\"type\":\"heatmap\",\"colorbar\":{\"outlinewidth\":0,\"ticks\":\"\"},\"colorscale\":[[0.0,\"#0d0887\"],[0.1111111111111111,\"#46039f\"],[0.2222222222222222,\"#7201a8\"],[0.3333333333333333,\"#9c179e\"],[0.4444444444444444,\"#bd3786\"],[0.5555555555555556,\"#d8576b\"],[0.6666666666666666,\"#ed7953\"],[0.7777777777777778,\"#fb9f3a\"],[0.8888888888888888,\"#fdca26\"],[1.0,\"#f0f921\"]]}],\"heatmapgl\":[{\"type\":\"heatmapgl\",\"colorbar\":{\"outlinewidth\":0,\"ticks\":\"\"},\"colorscale\":[[0.0,\"#0d0887\"],[0.1111111111111111,\"#46039f\"],[0.2222222222222222,\"#7201a8\"],[0.3333333333333333,\"#9c179e\"],[0.4444444444444444,\"#bd3786\"],[0.5555555555555556,\"#d8576b\"],[0.6666666666666666,\"#ed7953\"],[0.7777777777777778,\"#fb9f3a\"],[0.8888888888888888,\"#fdca26\"],[1.0,\"#f0f921\"]]}],\"contourcarpet\":[{\"type\":\"contourcarpet\",\"colorbar\":{\"outlinewidth\":0,\"ticks\":\"\"}}],\"contour\":[{\"type\":\"contour\",\"colorbar\":{\"outlinewidth\":0,\"ticks\":\"\"},\"colorscale\":[[0.0,\"#0d0887\"],[0.1111111111111111,\"#46039f\"],[0.2222222222222222,\"#7201a8\"],[0.3333333333333333,\"#9c179e\"],[0.4444444444444444,\"#bd3786\"],[0.5555555555555556,\"#d8576b\"],[0.6666666666666666,\"#ed7953\"],[0.7777777777777778,\"#fb9f3a\"],[0.8888888888888888,\"#fdca26\"],[1.0,\"#f0f921\"]]}],\"surface\":[{\"type\":\"surface\",\"colorbar\":{\"outlinewidth\":0,\"ticks\":\"\"},\"colorscale\":[[0.0,\"#0d0887\"],[0.1111111111111111,\"#46039f\"],[0.2222222222222222,\"#7201a8\"],[0.3333333333333333,\"#9c179e\"],[0.4444444444444444,\"#bd3786\"],[0.5555555555555556,\"#d8576b\"],[0.6666666666666666,\"#ed7953\"],[0.7777777777777778,\"#fb9f3a\"],[0.8888888888888888,\"#fdca26\"],[1.0,\"#f0f921\"]]}],\"mesh3d\":[{\"type\":\"mesh3d\",\"colorbar\":{\"outlinewidth\":0,\"ticks\":\"\"}}],\"scatter\":[{\"fillpattern\":{\"fillmode\":\"overlay\",\"size\":10,\"solidity\":0.2},\"type\":\"scatter\"}],\"parcoords\":[{\"type\":\"parcoords\",\"line\":{\"colorbar\":{\"outlinewidth\":0,\"ticks\":\"\"}}}],\"scatterpolargl\":[{\"type\":\"scatterpolargl\",\"marker\":{\"colorbar\":{\"outlinewidth\":0,\"ticks\":\"\"}}}],\"bar\":[{\"error_x\":{\"color\":\"#2a3f5f\"},\"error_y\":{\"color\":\"#2a3f5f\"},\"marker\":{\"line\":{\"color\":\"#E5ECF6\",\"width\":0.5},\"pattern\":{\"fillmode\":\"overlay\",\"size\":10,\"solidity\":0.2}},\"type\":\"bar\"}],\"scattergeo\":[{\"type\":\"scattergeo\",\"marker\":{\"colorbar\":{\"outlinewidth\":0,\"ticks\":\"\"}}}],\"scatterpolar\":[{\"type\":\"scatterpolar\",\"marker\":{\"colorbar\":{\"outlinewidth\":0,\"ticks\":\"\"}}}],\"histogram\":[{\"marker\":{\"pattern\":{\"fillmode\":\"overlay\",\"size\":10,\"solidity\":0.2}},\"type\":\"histogram\"}],\"scattergl\":[{\"type\":\"scattergl\",\"marker\":{\"colorbar\":{\"outlinewidth\":0,\"ticks\":\"\"}}}],\"scatter3d\":[{\"type\":\"scatter3d\",\"line\":{\"colorbar\":{\"outlinewidth\":0,\"ticks\":\"\"}},\"marker\":{\"colorbar\":{\"outlinewidth\":0,\"ticks\":\"\"}}}],\"scattermapbox\":[{\"type\":\"scattermapbox\",\"marker\":{\"colorbar\":{\"outlinewidth\":0,\"ticks\":\"\"}}}],\"scatterternary\":[{\"type\":\"scatterternary\",\"marker\":{\"colorbar\":{\"outlinewidth\":0,\"ticks\":\"\"}}}],\"scattercarpet\":[{\"type\":\"scattercarpet\",\"marker\":{\"colorbar\":{\"outlinewidth\":0,\"ticks\":\"\"}}}],\"carpet\":[{\"aaxis\":{\"endlinecolor\":\"#2a3f5f\",\"gridcolor\":\"white\",\"linecolor\":\"white\",\"minorgridcolor\":\"white\",\"startlinecolor\":\"#2a3f5f\"},\"baxis\":{\"endlinecolor\":\"#2a3f5f\",\"gridcolor\":\"white\",\"linecolor\":\"white\",\"minorgridcolor\":\"white\",\"startlinecolor\":\"#2a3f5f\"},\"type\":\"carpet\"}],\"table\":[{\"cells\":{\"fill\":{\"color\":\"#EBF0F8\"},\"line\":{\"color\":\"white\"}},\"header\":{\"fill\":{\"color\":\"#C8D4E3\"},\"line\":{\"color\":\"white\"}},\"type\":\"table\"}],\"barpolar\":[{\"marker\":{\"line\":{\"color\":\"#E5ECF6\",\"width\":0.5},\"pattern\":{\"fillmode\":\"overlay\",\"size\":10,\"solidity\":0.2}},\"type\":\"barpolar\"}],\"pie\":[{\"automargin\":true,\"type\":\"pie\"}]},\"layout\":{\"autotypenumbers\":\"strict\",\"colorway\":[\"#636efa\",\"#EF553B\",\"#00cc96\",\"#ab63fa\",\"#FFA15A\",\"#19d3f3\",\"#FF6692\",\"#B6E880\",\"#FF97FF\",\"#FECB52\"],\"font\":{\"color\":\"#2a3f5f\"},\"hovermode\":\"closest\",\"hoverlabel\":{\"align\":\"left\"},\"paper_bgcolor\":\"white\",\"plot_bgcolor\":\"#E5ECF6\",\"polar\":{\"bgcolor\":\"#E5ECF6\",\"angularaxis\":{\"gridcolor\":\"white\",\"linecolor\":\"white\",\"ticks\":\"\"},\"radialaxis\":{\"gridcolor\":\"white\",\"linecolor\":\"white\",\"ticks\":\"\"}},\"ternary\":{\"bgcolor\":\"#E5ECF6\",\"aaxis\":{\"gridcolor\":\"white\",\"linecolor\":\"white\",\"ticks\":\"\"},\"baxis\":{\"gridcolor\":\"white\",\"linecolor\":\"white\",\"ticks\":\"\"},\"caxis\":{\"gridcolor\":\"white\",\"linecolor\":\"white\",\"ticks\":\"\"}},\"coloraxis\":{\"colorbar\":{\"outlinewidth\":0,\"ticks\":\"\"}},\"colorscale\":{\"sequential\":[[0.0,\"#0d0887\"],[0.1111111111111111,\"#46039f\"],[0.2222222222222222,\"#7201a8\"],[0.3333333333333333,\"#9c179e\"],[0.4444444444444444,\"#bd3786\"],[0.5555555555555556,\"#d8576b\"],[0.6666666666666666,\"#ed7953\"],[0.7777777777777778,\"#fb9f3a\"],[0.8888888888888888,\"#fdca26\"],[1.0,\"#f0f921\"]],\"sequentialminus\":[[0.0,\"#0d0887\"],[0.1111111111111111,\"#46039f\"],[0.2222222222222222,\"#7201a8\"],[0.3333333333333333,\"#9c179e\"],[0.4444444444444444,\"#bd3786\"],[0.5555555555555556,\"#d8576b\"],[0.6666666666666666,\"#ed7953\"],[0.7777777777777778,\"#fb9f3a\"],[0.8888888888888888,\"#fdca26\"],[1.0,\"#f0f921\"]],\"diverging\":[[0,\"#8e0152\"],[0.1,\"#c51b7d\"],[0.2,\"#de77ae\"],[0.3,\"#f1b6da\"],[0.4,\"#fde0ef\"],[0.5,\"#f7f7f7\"],[0.6,\"#e6f5d0\"],[0.7,\"#b8e186\"],[0.8,\"#7fbc41\"],[0.9,\"#4d9221\"],[1,\"#276419\"]]},\"xaxis\":{\"gridcolor\":\"white\",\"linecolor\":\"white\",\"ticks\":\"\",\"title\":{\"standoff\":15},\"zerolinecolor\":\"white\",\"automargin\":true,\"zerolinewidth\":2},\"yaxis\":{\"gridcolor\":\"white\",\"linecolor\":\"white\",\"ticks\":\"\",\"title\":{\"standoff\":15},\"zerolinecolor\":\"white\",\"automargin\":true,\"zerolinewidth\":2},\"scene\":{\"xaxis\":{\"backgroundcolor\":\"#E5ECF6\",\"gridcolor\":\"white\",\"linecolor\":\"white\",\"showbackground\":true,\"ticks\":\"\",\"zerolinecolor\":\"white\",\"gridwidth\":2},\"yaxis\":{\"backgroundcolor\":\"#E5ECF6\",\"gridcolor\":\"white\",\"linecolor\":\"white\",\"showbackground\":true,\"ticks\":\"\",\"zerolinecolor\":\"white\",\"gridwidth\":2},\"zaxis\":{\"backgroundcolor\":\"#E5ECF6\",\"gridcolor\":\"white\",\"linecolor\":\"white\",\"showbackground\":true,\"ticks\":\"\",\"zerolinecolor\":\"white\",\"gridwidth\":2}},\"shapedefaults\":{\"line\":{\"color\":\"#2a3f5f\"}},\"annotationdefaults\":{\"arrowcolor\":\"#2a3f5f\",\"arrowhead\":0,\"arrowwidth\":1},\"geo\":{\"bgcolor\":\"white\",\"landcolor\":\"#E5ECF6\",\"subunitcolor\":\"white\",\"showland\":true,\"showlakes\":true,\"lakecolor\":\"white\"},\"title\":{\"x\":0.05},\"mapbox\":{\"style\":\"light\"}}}},                        {\"responsive\": true}                    ).then(function(){\n",
       "                            \n",
       "var gd = document.getElementById('77dfe58b-49e0-4fab-8460-dd3556652d8b');\n",
       "var x = new MutationObserver(function (mutations, observer) {{\n",
       "        var display = window.getComputedStyle(gd).display;\n",
       "        if (!display || display === 'none') {{\n",
       "            console.log([gd, 'removed!']);\n",
       "            Plotly.purge(gd);\n",
       "            observer.disconnect();\n",
       "        }}\n",
       "}});\n",
       "\n",
       "// Listen for the removal of the full notebook cells\n",
       "var notebookContainer = gd.closest('#notebook-container');\n",
       "if (notebookContainer) {{\n",
       "    x.observe(notebookContainer, {childList: true});\n",
       "}}\n",
       "\n",
       "// Listen for the clearing of the current output cell\n",
       "var outputEl = gd.closest('.output');\n",
       "if (outputEl) {{\n",
       "    x.observe(outputEl, {childList: true});\n",
       "}}\n",
       "\n",
       "                        })                };                });            </script>        </div>"
      ]
     },
     "metadata": {},
     "output_type": "display_data"
    }
   ],
   "source": [
    "# create a plot that displays the Voting-Age Population (VAP) per state. \n",
    "# To play around with other columns, make sure you consider their data type. \n",
    "# Hint: * In the marker (data dictionary) set the line color to white and its \n",
    "# thickness 2 between the states. * Set showlakes = True in the layout\n",
    "\n",
    "data = dict( type='choropleth',\n",
    "            #colorscale = 'Viridis',#'Hot','Jet','Earth'.....\n",
    "            #reversescale = True,\n",
    "            locations = usdf['State Abv'],\n",
    "            locationmode = 'USA-states',\n",
    "            z = usdf['Voting-Age Population (VAP)'],\n",
    "            text = usdf['State'],\n",
    "            # setting the thickness and color of the line in marker\n",
    "            marker = dict(line = dict(color = 'rgb(255,255,255)',width = 2)),\n",
    "            colorbar = {'title':\"Voting-Age Population (VAP)\"}\n",
    "           )\n",
    "\n",
    "layout = dict(title = '2012 General Election Voting Data',\n",
    "              geo = dict(scope='usa',\n",
    "                         showlakes = True,\n",
    "                         lakecolor = 'rgb(85,173,240)')\n",
    "             )\n",
    "choropleth_map = go.Figure(data = [data],layout = layout)\n",
    "iplot(choropleth_map,validate=False)"
   ]
  },
  {
   "cell_type": "markdown",
   "id": "c18d7b51",
   "metadata": {},
   "source": [
    "A dataset on Alcohol Consumption by Country"
   ]
  },
  {
   "cell_type": "code",
   "execution_count": 11,
   "id": "010736a8",
   "metadata": {},
   "outputs": [
    {
     "name": "stdout",
     "output_type": "stream",
     "text": [
      "<class 'pandas.core.frame.DataFrame'>\n",
      "RangeIndex: 191 entries, 0 to 190\n",
      "Data columns (total 2 columns):\n",
      " #   Column    Non-Null Count  Dtype  \n",
      "---  ------    --------------  -----  \n",
      " 0   location  191 non-null    object \n",
      " 1   alcohol   191 non-null    float64\n",
      "dtypes: float64(1), object(1)\n",
      "memory usage: 3.1+ KB\n"
     ]
    },
    {
     "data": {
      "text/html": [
       "<div>\n",
       "<style scoped>\n",
       "    .dataframe tbody tr th:only-of-type {\n",
       "        vertical-align: middle;\n",
       "    }\n",
       "\n",
       "    .dataframe tbody tr th {\n",
       "        vertical-align: top;\n",
       "    }\n",
       "\n",
       "    .dataframe thead th {\n",
       "        text-align: right;\n",
       "    }\n",
       "</style>\n",
       "<table border=\"1\" class=\"dataframe\">\n",
       "  <thead>\n",
       "    <tr style=\"text-align: right;\">\n",
       "      <th></th>\n",
       "      <th>location</th>\n",
       "      <th>alcohol</th>\n",
       "    </tr>\n",
       "  </thead>\n",
       "  <tbody>\n",
       "    <tr>\n",
       "      <th>0</th>\n",
       "      <td>Belarus</td>\n",
       "      <td>17.5</td>\n",
       "    </tr>\n",
       "    <tr>\n",
       "      <th>1</th>\n",
       "      <td>Moldova</td>\n",
       "      <td>16.8</td>\n",
       "    </tr>\n",
       "    <tr>\n",
       "      <th>2</th>\n",
       "      <td>Lithuania</td>\n",
       "      <td>15.4</td>\n",
       "    </tr>\n",
       "    <tr>\n",
       "      <th>3</th>\n",
       "      <td>Russia</td>\n",
       "      <td>15.1</td>\n",
       "    </tr>\n",
       "    <tr>\n",
       "      <th>4</th>\n",
       "      <td>Romania</td>\n",
       "      <td>14.4</td>\n",
       "    </tr>\n",
       "  </tbody>\n",
       "</table>\n",
       "</div>"
      ],
      "text/plain": [
       "    location  alcohol\n",
       "0    Belarus     17.5\n",
       "1    Moldova     16.8\n",
       "2  Lithuania     15.4\n",
       "3     Russia     15.1\n",
       "4    Romania     14.4"
      ]
     },
     "execution_count": 11,
     "metadata": {},
     "output_type": "execute_result"
    }
   ],
   "source": [
    "# read dataset\n",
    "alcoDf = pd.read_csv('https://raw.githubusercontent.com/plotly/datasets/master/2010_alcohol_consumption_by_country.csv')\n",
    "alcoDf.info()\n",
    "alcoDf.head()"
   ]
  },
  {
   "cell_type": "code",
   "execution_count": 12,
   "id": "0d46dace",
   "metadata": {},
   "outputs": [
    {
     "data": {
      "application/vnd.plotly.v1+json": {
       "config": {
        "linkText": "Export to plot.ly",
        "plotlyServerURL": "https://plot.ly",
        "showLink": true
       },
       "data": [
        {
         "marker": {
          "color": "rgba(255, 153, 51, 0.6)",
          "line": {
           "color": "rgba(255, 153, 51, 1.0)",
           "width": 1
          }
         },
         "name": "alcohol",
         "orientation": "v",
         "text": "",
         "type": "bar",
         "x": [
          "Belarus",
          "Moldova",
          "Lithuania",
          "Russia",
          "Romania",
          "Ukraine",
          "Andorra",
          "Hungary",
          "Czech Republic",
          "Slovakia",
          "Portugal",
          "Serbia",
          "Grenada",
          "Poland",
          "Latvia",
          "Finland",
          "South Korea",
          "France",
          "Australia",
          "Croatia",
          "Ireland",
          "Luxembourg",
          "Germany",
          "Slovenia",
          "United Kingdom",
          "Denmark",
          "Bulgaria",
          "Spain",
          "Belgium",
          "South Africa",
          "New Zealand",
          "Gabon",
          "Namibia",
          "Switzerland",
          "Saint Lucia",
          "Austria",
          "Estonia",
          "Greece",
          "Kazakhstan",
          "Canada",
          "Nigeria",
          "Netherlands",
          "Uganda",
          "Rwanda",
          "Chile",
          "Argentina",
          "Burundi",
          "United States",
          "Cyprus",
          "Sweden",
          "Venezuela",
          "Paraguay",
          "Brazil",
          "Sierra Leone",
          "Montenegro",
          "Belize",
          "Cameroon",
          "Botswana",
          "Saint Kitts and Nevis",
          "Guyana",
          "Peru",
          "Panama",
          "Niue",
          "Palau",
          "Norway",
          "Tanzania",
          "Georgia",
          "Uruguay",
          "Angola",
          "Laos",
          "Japan",
          "Mexico",
          "Ecuador",
          "Dominica",
          "Iceland",
          "Thailand",
          "Bosnia and Herzegovina",
          "Sao Tome and Principe",
          "Malta",
          "Albania",
          "Bahamas",
          "Dominican Republic",
          "Mongolia",
          "Cape Verde",
          "Barbados",
          "Burkina Faso",
          "Italy",
          "Trinidad and Tobago",
          "China",
          "Macedonia",
          "Saint Vincent and the Grenadines",
          "Equatorial Guinea",
          "Suriname",
          "Vietnam",
          "Lesotho",
          "Haiti",
          "Cook Islands",
          "Colombia",
          "Ivory Coast",
          "Bolivia",
          "Swaziland",
          "Zimbabwe",
          "Seychelles",
          "Cambodia",
          "Puerto Rico",
          "Netherlands Antilles",
          "Philippines",
          "Costa Rica",
          "Armenia",
          "Cuba",
          "Nicaragua",
          "Jamaica",
          "Ghana",
          "Liberia",
          "Uzbekistan",
          "Chad",
          "United Arab Emirates",
          "Kyrgyzstan",
          "India",
          "Turkmenistan",
          "Kenya",
          "Ethiopia",
          "Honduras",
          "Guinea-Bissau",
          "Zambia",
          "Republic of the Congo",
          "Guatemala",
          "Central African Republic",
          "North Korea",
          "Sri Lanka",
          "Mauritius",
          "Samoa",
          "Democratic Republic of the Congo",
          "Nauru",
          "Gambia",
          "Federated States of Micronesia",
          "El Salvador",
          "Fiji",
          "Papua New Guinea",
          "Kiribati",
          "Tajikistan",
          "Israel",
          "Sudan",
          "Malawi",
          "Lebanon",
          "Azerbaijan",
          "Mozambique",
          "Togo",
          "Nepal",
          "Brunei",
          "Benin",
          "Singapore",
          "Turkey",
          "Madagascar",
          "Solomon Islands",
          "Tonga",
          "Tunisia",
          "Tuvalu",
          "Qatar",
          "Vanuatu",
          "Djibouti",
          "Malaysia",
          "Syria",
          "Maldives",
          "Mali",
          "Eritrea",
          "Algeria",
          "Iran",
          "Oman",
          "Brunei",
          "Morocco",
          "Jordan",
          "Bhutan",
          "Guinea",
          "Burma",
          "Afghanistan",
          "Senegal",
          "Indonesia",
          "Timor-Leste",
          "Iraq",
          "Somalia",
          "Egypt",
          "Niger",
          "Yemen",
          "Comoros",
          "Saudi Arabia",
          "Bangladesh",
          "Kuwait",
          "Libya",
          "Mauritania",
          "Pakistan"
         ],
         "y": [
          17.5,
          16.8,
          15.4,
          15.1,
          14.4,
          13.9,
          13.8,
          13.3,
          13,
          13,
          12.9,
          12.6,
          12.5,
          12.5,
          12.3,
          12.3,
          12.3,
          12.2,
          12.2,
          12.2,
          11.9,
          11.9,
          11.8,
          11.6,
          11.6,
          11.4,
          11.4,
          11.2,
          11,
          11,
          10.9,
          10.9,
          10.8,
          10.7,
          10.4,
          10.3,
          10.3,
          10.3,
          10.3,
          10.2,
          10.1,
          9.9,
          9.8,
          9.8,
          9.6,
          9.3,
          9.3,
          9.2,
          9.2,
          9.2,
          8.9,
          8.8,
          8.7,
          8.7,
          8.7,
          8.5,
          8.4,
          8.4,
          8.2,
          8.1,
          8.1,
          8,
          8,
          7.9,
          7.7,
          7.7,
          7.7,
          7.6,
          7.5,
          7.3,
          7.2,
          7.2,
          7.2,
          7.1,
          7.1,
          7.1,
          7.1,
          7.1,
          7,
          7,
          6.9,
          6.9,
          6.9,
          6.9,
          6.8,
          6.8,
          6.7,
          6.7,
          6.7,
          6.7,
          6.6,
          6.6,
          6.6,
          6.6,
          6.5,
          6.4,
          6.4,
          6.2,
          6,
          5.9,
          5.7,
          5.7,
          5.6,
          5.5,
          5.4,
          5.4,
          5.4,
          5.4,
          5.3,
          5.2,
          5,
          4.9,
          4.8,
          4.7,
          4.6,
          4.4,
          4.3,
          4.3,
          4.3,
          4.3,
          4.3,
          4.2,
          4,
          4,
          4,
          3.9,
          3.8,
          3.8,
          3.7,
          3.7,
          3.6,
          3.6,
          3.6,
          3.5,
          3.4,
          3.3,
          3.2,
          3,
          3,
          3,
          2.8,
          2.8,
          2.7,
          2.5,
          2.4,
          2.3,
          2.3,
          2.3,
          2.2,
          2.1,
          2.1,
          2,
          2,
          1.8,
          1.7,
          1.6,
          1.5,
          1.5,
          1.5,
          1.4,
          1.3,
          1.3,
          1.2,
          1.2,
          1.1,
          1.1,
          1,
          1,
          0.9,
          0.9,
          0.9,
          0.7,
          0.7,
          0.7,
          0.7,
          0.7,
          0.6,
          0.6,
          0.6,
          0.5,
          0.5,
          0.4,
          0.3,
          0.3,
          0.2,
          0.2,
          0.2,
          0.1,
          0.1,
          0.1,
          0.1
         ]
        }
       ],
       "layout": {
        "legend": {
         "bgcolor": "#F5F6F9",
         "font": {
          "color": "#4D5663"
         }
        },
        "paper_bgcolor": "#F5F6F9",
        "plot_bgcolor": "#F5F6F9",
        "template": {
         "data": {
          "bar": [
           {
            "error_x": {
             "color": "#2a3f5f"
            },
            "error_y": {
             "color": "#2a3f5f"
            },
            "marker": {
             "line": {
              "color": "#E5ECF6",
              "width": 0.5
             },
             "pattern": {
              "fillmode": "overlay",
              "size": 10,
              "solidity": 0.2
             }
            },
            "type": "bar"
           }
          ],
          "barpolar": [
           {
            "marker": {
             "line": {
              "color": "#E5ECF6",
              "width": 0.5
             },
             "pattern": {
              "fillmode": "overlay",
              "size": 10,
              "solidity": 0.2
             }
            },
            "type": "barpolar"
           }
          ],
          "carpet": [
           {
            "aaxis": {
             "endlinecolor": "#2a3f5f",
             "gridcolor": "white",
             "linecolor": "white",
             "minorgridcolor": "white",
             "startlinecolor": "#2a3f5f"
            },
            "baxis": {
             "endlinecolor": "#2a3f5f",
             "gridcolor": "white",
             "linecolor": "white",
             "minorgridcolor": "white",
             "startlinecolor": "#2a3f5f"
            },
            "type": "carpet"
           }
          ],
          "choropleth": [
           {
            "colorbar": {
             "outlinewidth": 0,
             "ticks": ""
            },
            "type": "choropleth"
           }
          ],
          "contour": [
           {
            "colorbar": {
             "outlinewidth": 0,
             "ticks": ""
            },
            "colorscale": [
             [
              0,
              "#0d0887"
             ],
             [
              0.1111111111111111,
              "#46039f"
             ],
             [
              0.2222222222222222,
              "#7201a8"
             ],
             [
              0.3333333333333333,
              "#9c179e"
             ],
             [
              0.4444444444444444,
              "#bd3786"
             ],
             [
              0.5555555555555556,
              "#d8576b"
             ],
             [
              0.6666666666666666,
              "#ed7953"
             ],
             [
              0.7777777777777778,
              "#fb9f3a"
             ],
             [
              0.8888888888888888,
              "#fdca26"
             ],
             [
              1,
              "#f0f921"
             ]
            ],
            "type": "contour"
           }
          ],
          "contourcarpet": [
           {
            "colorbar": {
             "outlinewidth": 0,
             "ticks": ""
            },
            "type": "contourcarpet"
           }
          ],
          "heatmap": [
           {
            "colorbar": {
             "outlinewidth": 0,
             "ticks": ""
            },
            "colorscale": [
             [
              0,
              "#0d0887"
             ],
             [
              0.1111111111111111,
              "#46039f"
             ],
             [
              0.2222222222222222,
              "#7201a8"
             ],
             [
              0.3333333333333333,
              "#9c179e"
             ],
             [
              0.4444444444444444,
              "#bd3786"
             ],
             [
              0.5555555555555556,
              "#d8576b"
             ],
             [
              0.6666666666666666,
              "#ed7953"
             ],
             [
              0.7777777777777778,
              "#fb9f3a"
             ],
             [
              0.8888888888888888,
              "#fdca26"
             ],
             [
              1,
              "#f0f921"
             ]
            ],
            "type": "heatmap"
           }
          ],
          "heatmapgl": [
           {
            "colorbar": {
             "outlinewidth": 0,
             "ticks": ""
            },
            "colorscale": [
             [
              0,
              "#0d0887"
             ],
             [
              0.1111111111111111,
              "#46039f"
             ],
             [
              0.2222222222222222,
              "#7201a8"
             ],
             [
              0.3333333333333333,
              "#9c179e"
             ],
             [
              0.4444444444444444,
              "#bd3786"
             ],
             [
              0.5555555555555556,
              "#d8576b"
             ],
             [
              0.6666666666666666,
              "#ed7953"
             ],
             [
              0.7777777777777778,
              "#fb9f3a"
             ],
             [
              0.8888888888888888,
              "#fdca26"
             ],
             [
              1,
              "#f0f921"
             ]
            ],
            "type": "heatmapgl"
           }
          ],
          "histogram": [
           {
            "marker": {
             "pattern": {
              "fillmode": "overlay",
              "size": 10,
              "solidity": 0.2
             }
            },
            "type": "histogram"
           }
          ],
          "histogram2d": [
           {
            "colorbar": {
             "outlinewidth": 0,
             "ticks": ""
            },
            "colorscale": [
             [
              0,
              "#0d0887"
             ],
             [
              0.1111111111111111,
              "#46039f"
             ],
             [
              0.2222222222222222,
              "#7201a8"
             ],
             [
              0.3333333333333333,
              "#9c179e"
             ],
             [
              0.4444444444444444,
              "#bd3786"
             ],
             [
              0.5555555555555556,
              "#d8576b"
             ],
             [
              0.6666666666666666,
              "#ed7953"
             ],
             [
              0.7777777777777778,
              "#fb9f3a"
             ],
             [
              0.8888888888888888,
              "#fdca26"
             ],
             [
              1,
              "#f0f921"
             ]
            ],
            "type": "histogram2d"
           }
          ],
          "histogram2dcontour": [
           {
            "colorbar": {
             "outlinewidth": 0,
             "ticks": ""
            },
            "colorscale": [
             [
              0,
              "#0d0887"
             ],
             [
              0.1111111111111111,
              "#46039f"
             ],
             [
              0.2222222222222222,
              "#7201a8"
             ],
             [
              0.3333333333333333,
              "#9c179e"
             ],
             [
              0.4444444444444444,
              "#bd3786"
             ],
             [
              0.5555555555555556,
              "#d8576b"
             ],
             [
              0.6666666666666666,
              "#ed7953"
             ],
             [
              0.7777777777777778,
              "#fb9f3a"
             ],
             [
              0.8888888888888888,
              "#fdca26"
             ],
             [
              1,
              "#f0f921"
             ]
            ],
            "type": "histogram2dcontour"
           }
          ],
          "mesh3d": [
           {
            "colorbar": {
             "outlinewidth": 0,
             "ticks": ""
            },
            "type": "mesh3d"
           }
          ],
          "parcoords": [
           {
            "line": {
             "colorbar": {
              "outlinewidth": 0,
              "ticks": ""
             }
            },
            "type": "parcoords"
           }
          ],
          "pie": [
           {
            "automargin": true,
            "type": "pie"
           }
          ],
          "scatter": [
           {
            "fillpattern": {
             "fillmode": "overlay",
             "size": 10,
             "solidity": 0.2
            },
            "type": "scatter"
           }
          ],
          "scatter3d": [
           {
            "line": {
             "colorbar": {
              "outlinewidth": 0,
              "ticks": ""
             }
            },
            "marker": {
             "colorbar": {
              "outlinewidth": 0,
              "ticks": ""
             }
            },
            "type": "scatter3d"
           }
          ],
          "scattercarpet": [
           {
            "marker": {
             "colorbar": {
              "outlinewidth": 0,
              "ticks": ""
             }
            },
            "type": "scattercarpet"
           }
          ],
          "scattergeo": [
           {
            "marker": {
             "colorbar": {
              "outlinewidth": 0,
              "ticks": ""
             }
            },
            "type": "scattergeo"
           }
          ],
          "scattergl": [
           {
            "marker": {
             "colorbar": {
              "outlinewidth": 0,
              "ticks": ""
             }
            },
            "type": "scattergl"
           }
          ],
          "scattermapbox": [
           {
            "marker": {
             "colorbar": {
              "outlinewidth": 0,
              "ticks": ""
             }
            },
            "type": "scattermapbox"
           }
          ],
          "scatterpolar": [
           {
            "marker": {
             "colorbar": {
              "outlinewidth": 0,
              "ticks": ""
             }
            },
            "type": "scatterpolar"
           }
          ],
          "scatterpolargl": [
           {
            "marker": {
             "colorbar": {
              "outlinewidth": 0,
              "ticks": ""
             }
            },
            "type": "scatterpolargl"
           }
          ],
          "scatterternary": [
           {
            "marker": {
             "colorbar": {
              "outlinewidth": 0,
              "ticks": ""
             }
            },
            "type": "scatterternary"
           }
          ],
          "surface": [
           {
            "colorbar": {
             "outlinewidth": 0,
             "ticks": ""
            },
            "colorscale": [
             [
              0,
              "#0d0887"
             ],
             [
              0.1111111111111111,
              "#46039f"
             ],
             [
              0.2222222222222222,
              "#7201a8"
             ],
             [
              0.3333333333333333,
              "#9c179e"
             ],
             [
              0.4444444444444444,
              "#bd3786"
             ],
             [
              0.5555555555555556,
              "#d8576b"
             ],
             [
              0.6666666666666666,
              "#ed7953"
             ],
             [
              0.7777777777777778,
              "#fb9f3a"
             ],
             [
              0.8888888888888888,
              "#fdca26"
             ],
             [
              1,
              "#f0f921"
             ]
            ],
            "type": "surface"
           }
          ],
          "table": [
           {
            "cells": {
             "fill": {
              "color": "#EBF0F8"
             },
             "line": {
              "color": "white"
             }
            },
            "header": {
             "fill": {
              "color": "#C8D4E3"
             },
             "line": {
              "color": "white"
             }
            },
            "type": "table"
           }
          ]
         },
         "layout": {
          "annotationdefaults": {
           "arrowcolor": "#2a3f5f",
           "arrowhead": 0,
           "arrowwidth": 1
          },
          "autotypenumbers": "strict",
          "coloraxis": {
           "colorbar": {
            "outlinewidth": 0,
            "ticks": ""
           }
          },
          "colorscale": {
           "diverging": [
            [
             0,
             "#8e0152"
            ],
            [
             0.1,
             "#c51b7d"
            ],
            [
             0.2,
             "#de77ae"
            ],
            [
             0.3,
             "#f1b6da"
            ],
            [
             0.4,
             "#fde0ef"
            ],
            [
             0.5,
             "#f7f7f7"
            ],
            [
             0.6,
             "#e6f5d0"
            ],
            [
             0.7,
             "#b8e186"
            ],
            [
             0.8,
             "#7fbc41"
            ],
            [
             0.9,
             "#4d9221"
            ],
            [
             1,
             "#276419"
            ]
           ],
           "sequential": [
            [
             0,
             "#0d0887"
            ],
            [
             0.1111111111111111,
             "#46039f"
            ],
            [
             0.2222222222222222,
             "#7201a8"
            ],
            [
             0.3333333333333333,
             "#9c179e"
            ],
            [
             0.4444444444444444,
             "#bd3786"
            ],
            [
             0.5555555555555556,
             "#d8576b"
            ],
            [
             0.6666666666666666,
             "#ed7953"
            ],
            [
             0.7777777777777778,
             "#fb9f3a"
            ],
            [
             0.8888888888888888,
             "#fdca26"
            ],
            [
             1,
             "#f0f921"
            ]
           ],
           "sequentialminus": [
            [
             0,
             "#0d0887"
            ],
            [
             0.1111111111111111,
             "#46039f"
            ],
            [
             0.2222222222222222,
             "#7201a8"
            ],
            [
             0.3333333333333333,
             "#9c179e"
            ],
            [
             0.4444444444444444,
             "#bd3786"
            ],
            [
             0.5555555555555556,
             "#d8576b"
            ],
            [
             0.6666666666666666,
             "#ed7953"
            ],
            [
             0.7777777777777778,
             "#fb9f3a"
            ],
            [
             0.8888888888888888,
             "#fdca26"
            ],
            [
             1,
             "#f0f921"
            ]
           ]
          },
          "colorway": [
           "#636efa",
           "#EF553B",
           "#00cc96",
           "#ab63fa",
           "#FFA15A",
           "#19d3f3",
           "#FF6692",
           "#B6E880",
           "#FF97FF",
           "#FECB52"
          ],
          "font": {
           "color": "#2a3f5f"
          },
          "geo": {
           "bgcolor": "white",
           "lakecolor": "white",
           "landcolor": "#E5ECF6",
           "showlakes": true,
           "showland": true,
           "subunitcolor": "white"
          },
          "hoverlabel": {
           "align": "left"
          },
          "hovermode": "closest",
          "mapbox": {
           "style": "light"
          },
          "paper_bgcolor": "white",
          "plot_bgcolor": "#E5ECF6",
          "polar": {
           "angularaxis": {
            "gridcolor": "white",
            "linecolor": "white",
            "ticks": ""
           },
           "bgcolor": "#E5ECF6",
           "radialaxis": {
            "gridcolor": "white",
            "linecolor": "white",
            "ticks": ""
           }
          },
          "scene": {
           "xaxis": {
            "backgroundcolor": "#E5ECF6",
            "gridcolor": "white",
            "gridwidth": 2,
            "linecolor": "white",
            "showbackground": true,
            "ticks": "",
            "zerolinecolor": "white"
           },
           "yaxis": {
            "backgroundcolor": "#E5ECF6",
            "gridcolor": "white",
            "gridwidth": 2,
            "linecolor": "white",
            "showbackground": true,
            "ticks": "",
            "zerolinecolor": "white"
           },
           "zaxis": {
            "backgroundcolor": "#E5ECF6",
            "gridcolor": "white",
            "gridwidth": 2,
            "linecolor": "white",
            "showbackground": true,
            "ticks": "",
            "zerolinecolor": "white"
           }
          },
          "shapedefaults": {
           "line": {
            "color": "#2a3f5f"
           }
          },
          "ternary": {
           "aaxis": {
            "gridcolor": "white",
            "linecolor": "white",
            "ticks": ""
           },
           "baxis": {
            "gridcolor": "white",
            "linecolor": "white",
            "ticks": ""
           },
           "bgcolor": "#E5ECF6",
           "caxis": {
            "gridcolor": "white",
            "linecolor": "white",
            "ticks": ""
           }
          },
          "title": {
           "x": 0.05
          },
          "xaxis": {
           "automargin": true,
           "gridcolor": "white",
           "linecolor": "white",
           "ticks": "",
           "title": {
            "standoff": 15
           },
           "zerolinecolor": "white",
           "zerolinewidth": 2
          },
          "yaxis": {
           "automargin": true,
           "gridcolor": "white",
           "linecolor": "white",
           "ticks": "",
           "title": {
            "standoff": 15
           },
           "zerolinecolor": "white",
           "zerolinewidth": 2
          }
         }
        },
        "title": {
         "font": {
          "color": "#4D5663"
         },
         "text": "Alcohol Consumption by Country in 2010"
        },
        "xaxis": {
         "gridcolor": "#E1E5ED",
         "showgrid": true,
         "tickfont": {
          "color": "#4D5663"
         },
         "title": {
          "font": {
           "color": "#4D5663"
          },
          "text": "Country Name"
         },
         "zerolinecolor": "#E1E5ED"
        },
        "yaxis": {
         "gridcolor": "#E1E5ED",
         "showgrid": true,
         "tickfont": {
          "color": "#4D5663"
         },
         "title": {
          "font": {
           "color": "#4D5663"
          },
          "text": "Alcohol Consumption"
         },
         "zerolinecolor": "#E1E5ED"
        }
       }
      },
      "text/html": [
       "<div>                            <div id=\"e0a2e639-36ee-4968-855a-f1c41754dad5\" class=\"plotly-graph-div\" style=\"height:525px; width:100%;\"></div>            <script type=\"text/javascript\">                require([\"plotly\"], function(Plotly) {                    window.PLOTLYENV=window.PLOTLYENV || {};\n",
       "                    window.PLOTLYENV.BASE_URL='https://plot.ly';                                    if (document.getElementById(\"e0a2e639-36ee-4968-855a-f1c41754dad5\")) {                    Plotly.newPlot(                        \"e0a2e639-36ee-4968-855a-f1c41754dad5\",                        [{\"marker\":{\"color\":\"rgba(255, 153, 51, 0.6)\",\"line\":{\"color\":\"rgba(255, 153, 51, 1.0)\",\"width\":1}},\"name\":\"alcohol\",\"orientation\":\"v\",\"text\":\"\",\"x\":[\"Belarus\",\"Moldova\",\"Lithuania\",\"Russia\",\"Romania\",\"Ukraine\",\"Andorra\",\"Hungary\",\"Czech Republic\",\"Slovakia\",\"Portugal\",\"Serbia\",\"Grenada\",\"Poland\",\"Latvia\",\"Finland\",\"South Korea\",\"France\",\"Australia\",\"Croatia\",\"Ireland\",\"Luxembourg\",\"Germany\",\"Slovenia\",\"United Kingdom\",\"Denmark\",\"Bulgaria\",\"Spain\",\"Belgium\",\"South Africa\",\"New Zealand\",\"Gabon\",\"Namibia\",\"Switzerland\",\"Saint Lucia\",\"Austria\",\"Estonia\",\"Greece\",\"Kazakhstan\",\"Canada\",\"Nigeria\",\"Netherlands\",\"Uganda\",\"Rwanda\",\"Chile\",\"Argentina\",\"Burundi\",\"United States\",\"Cyprus\",\"Sweden\",\"Venezuela\",\"Paraguay\",\"Brazil\",\"Sierra Leone\",\"Montenegro\",\"Belize\",\"Cameroon\",\"Botswana\",\"Saint Kitts and Nevis\",\"Guyana\",\"Peru\",\"Panama\",\"Niue\",\"Palau\",\"Norway\",\"Tanzania\",\"Georgia\",\"Uruguay\",\"Angola\",\"Laos\",\"Japan\",\"Mexico\",\"Ecuador\",\"Dominica\",\"Iceland\",\"Thailand\",\"Bosnia and Herzegovina\",\"Sao Tome and Principe\",\"Malta\",\"Albania\",\"Bahamas\",\"Dominican Republic\",\"Mongolia\",\"Cape Verde\",\"Barbados\",\"Burkina Faso\",\"Italy\",\"Trinidad and Tobago\",\"China\",\"Macedonia\",\"Saint Vincent and the Grenadines\",\"Equatorial Guinea\",\"Suriname\",\"Vietnam\",\"Lesotho\",\"Haiti\",\"Cook Islands\",\"Colombia\",\"Ivory Coast\",\"Bolivia\",\"Swaziland\",\"Zimbabwe\",\"Seychelles\",\"Cambodia\",\"Puerto Rico\",\"Netherlands Antilles\",\"Philippines\",\"Costa Rica\",\"Armenia\",\"Cuba\",\"Nicaragua\",\"Jamaica\",\"Ghana\",\"Liberia\",\"Uzbekistan\",\"Chad\",\"United Arab Emirates\",\"Kyrgyzstan\",\"India\",\"Turkmenistan\",\"Kenya\",\"Ethiopia\",\"Honduras\",\"Guinea-Bissau\",\"Zambia\",\"Republic of the Congo\",\"Guatemala\",\"Central African Republic\",\"North Korea\",\"Sri Lanka\",\"Mauritius\",\"Samoa\",\"Democratic Republic of the Congo\",\"Nauru\",\"Gambia\",\"Federated States of Micronesia\",\"El Salvador\",\"Fiji\",\"Papua New Guinea\",\"Kiribati\",\"Tajikistan\",\"Israel\",\"Sudan\",\"Malawi\",\"Lebanon\",\"Azerbaijan\",\"Mozambique\",\"Togo\",\"Nepal\",\"Brunei\",\"Benin\",\"Singapore\",\"Turkey\",\"Madagascar\",\"Solomon Islands\",\"Tonga\",\"Tunisia\",\"Tuvalu\",\"Qatar\",\"Vanuatu\",\"Djibouti\",\"Malaysia\",\"Syria\",\"Maldives\",\"Mali\",\"Eritrea\",\"Algeria\",\"Iran\",\"Oman\",\"Brunei\",\"Morocco\",\"Jordan\",\"Bhutan\",\"Guinea\",\"Burma\",\"Afghanistan\",\"Senegal\",\"Indonesia\",\"Timor-Leste\",\"Iraq\",\"Somalia\",\"Egypt\",\"Niger\",\"Yemen\",\"Comoros\",\"Saudi Arabia\",\"Bangladesh\",\"Kuwait\",\"Libya\",\"Mauritania\",\"Pakistan\"],\"y\":[17.5,16.8,15.4,15.1,14.4,13.9,13.8,13.3,13.0,13.0,12.9,12.6,12.5,12.5,12.3,12.3,12.3,12.2,12.2,12.2,11.9,11.9,11.8,11.6,11.6,11.4,11.4,11.2,11.0,11.0,10.9,10.9,10.8,10.7,10.4,10.3,10.3,10.3,10.3,10.2,10.1,9.9,9.8,9.8,9.6,9.3,9.3,9.2,9.2,9.2,8.9,8.8,8.7,8.7,8.7,8.5,8.4,8.4,8.2,8.1,8.1,8.0,8.0,7.9,7.7,7.7,7.7,7.6,7.5,7.3,7.2,7.2,7.2,7.1,7.1,7.1,7.1,7.1,7.0,7.0,6.9,6.9,6.9,6.9,6.8,6.8,6.7,6.7,6.7,6.7,6.6,6.6,6.6,6.6,6.5,6.4,6.4,6.2,6.0,5.9,5.7,5.7,5.6,5.5,5.4,5.4,5.4,5.4,5.3,5.2,5.0,4.9,4.8,4.7,4.6,4.4,4.3,4.3,4.3,4.3,4.3,4.2,4.0,4.0,4.0,3.9,3.8,3.8,3.7,3.7,3.6,3.6,3.6,3.5,3.4,3.3,3.2,3.0,3.0,3.0,2.8,2.8,2.7,2.5,2.4,2.3,2.3,2.3,2.2,2.1,2.1,2.0,2.0,1.8,1.7,1.6,1.5,1.5,1.5,1.4,1.3,1.3,1.2,1.2,1.1,1.1,1.0,1.0,0.9,0.9,0.9,0.7,0.7,0.7,0.7,0.7,0.6,0.6,0.6,0.5,0.5,0.4,0.3,0.3,0.2,0.2,0.2,0.1,0.1,0.1,0.1],\"type\":\"bar\"}],                        {\"legend\":{\"bgcolor\":\"#F5F6F9\",\"font\":{\"color\":\"#4D5663\"}},\"paper_bgcolor\":\"#F5F6F9\",\"plot_bgcolor\":\"#F5F6F9\",\"template\":{\"data\":{\"barpolar\":[{\"marker\":{\"line\":{\"color\":\"#E5ECF6\",\"width\":0.5},\"pattern\":{\"fillmode\":\"overlay\",\"size\":10,\"solidity\":0.2}},\"type\":\"barpolar\"}],\"bar\":[{\"error_x\":{\"color\":\"#2a3f5f\"},\"error_y\":{\"color\":\"#2a3f5f\"},\"marker\":{\"line\":{\"color\":\"#E5ECF6\",\"width\":0.5},\"pattern\":{\"fillmode\":\"overlay\",\"size\":10,\"solidity\":0.2}},\"type\":\"bar\"}],\"carpet\":[{\"aaxis\":{\"endlinecolor\":\"#2a3f5f\",\"gridcolor\":\"white\",\"linecolor\":\"white\",\"minorgridcolor\":\"white\",\"startlinecolor\":\"#2a3f5f\"},\"baxis\":{\"endlinecolor\":\"#2a3f5f\",\"gridcolor\":\"white\",\"linecolor\":\"white\",\"minorgridcolor\":\"white\",\"startlinecolor\":\"#2a3f5f\"},\"type\":\"carpet\"}],\"choropleth\":[{\"colorbar\":{\"outlinewidth\":0,\"ticks\":\"\"},\"type\":\"choropleth\"}],\"contourcarpet\":[{\"colorbar\":{\"outlinewidth\":0,\"ticks\":\"\"},\"type\":\"contourcarpet\"}],\"contour\":[{\"colorbar\":{\"outlinewidth\":0,\"ticks\":\"\"},\"colorscale\":[[0.0,\"#0d0887\"],[0.1111111111111111,\"#46039f\"],[0.2222222222222222,\"#7201a8\"],[0.3333333333333333,\"#9c179e\"],[0.4444444444444444,\"#bd3786\"],[0.5555555555555556,\"#d8576b\"],[0.6666666666666666,\"#ed7953\"],[0.7777777777777778,\"#fb9f3a\"],[0.8888888888888888,\"#fdca26\"],[1.0,\"#f0f921\"]],\"type\":\"contour\"}],\"heatmapgl\":[{\"colorbar\":{\"outlinewidth\":0,\"ticks\":\"\"},\"colorscale\":[[0.0,\"#0d0887\"],[0.1111111111111111,\"#46039f\"],[0.2222222222222222,\"#7201a8\"],[0.3333333333333333,\"#9c179e\"],[0.4444444444444444,\"#bd3786\"],[0.5555555555555556,\"#d8576b\"],[0.6666666666666666,\"#ed7953\"],[0.7777777777777778,\"#fb9f3a\"],[0.8888888888888888,\"#fdca26\"],[1.0,\"#f0f921\"]],\"type\":\"heatmapgl\"}],\"heatmap\":[{\"colorbar\":{\"outlinewidth\":0,\"ticks\":\"\"},\"colorscale\":[[0.0,\"#0d0887\"],[0.1111111111111111,\"#46039f\"],[0.2222222222222222,\"#7201a8\"],[0.3333333333333333,\"#9c179e\"],[0.4444444444444444,\"#bd3786\"],[0.5555555555555556,\"#d8576b\"],[0.6666666666666666,\"#ed7953\"],[0.7777777777777778,\"#fb9f3a\"],[0.8888888888888888,\"#fdca26\"],[1.0,\"#f0f921\"]],\"type\":\"heatmap\"}],\"histogram2dcontour\":[{\"colorbar\":{\"outlinewidth\":0,\"ticks\":\"\"},\"colorscale\":[[0.0,\"#0d0887\"],[0.1111111111111111,\"#46039f\"],[0.2222222222222222,\"#7201a8\"],[0.3333333333333333,\"#9c179e\"],[0.4444444444444444,\"#bd3786\"],[0.5555555555555556,\"#d8576b\"],[0.6666666666666666,\"#ed7953\"],[0.7777777777777778,\"#fb9f3a\"],[0.8888888888888888,\"#fdca26\"],[1.0,\"#f0f921\"]],\"type\":\"histogram2dcontour\"}],\"histogram2d\":[{\"colorbar\":{\"outlinewidth\":0,\"ticks\":\"\"},\"colorscale\":[[0.0,\"#0d0887\"],[0.1111111111111111,\"#46039f\"],[0.2222222222222222,\"#7201a8\"],[0.3333333333333333,\"#9c179e\"],[0.4444444444444444,\"#bd3786\"],[0.5555555555555556,\"#d8576b\"],[0.6666666666666666,\"#ed7953\"],[0.7777777777777778,\"#fb9f3a\"],[0.8888888888888888,\"#fdca26\"],[1.0,\"#f0f921\"]],\"type\":\"histogram2d\"}],\"histogram\":[{\"marker\":{\"pattern\":{\"fillmode\":\"overlay\",\"size\":10,\"solidity\":0.2}},\"type\":\"histogram\"}],\"mesh3d\":[{\"colorbar\":{\"outlinewidth\":0,\"ticks\":\"\"},\"type\":\"mesh3d\"}],\"parcoords\":[{\"line\":{\"colorbar\":{\"outlinewidth\":0,\"ticks\":\"\"}},\"type\":\"parcoords\"}],\"pie\":[{\"automargin\":true,\"type\":\"pie\"}],\"scatter3d\":[{\"line\":{\"colorbar\":{\"outlinewidth\":0,\"ticks\":\"\"}},\"marker\":{\"colorbar\":{\"outlinewidth\":0,\"ticks\":\"\"}},\"type\":\"scatter3d\"}],\"scattercarpet\":[{\"marker\":{\"colorbar\":{\"outlinewidth\":0,\"ticks\":\"\"}},\"type\":\"scattercarpet\"}],\"scattergeo\":[{\"marker\":{\"colorbar\":{\"outlinewidth\":0,\"ticks\":\"\"}},\"type\":\"scattergeo\"}],\"scattergl\":[{\"marker\":{\"colorbar\":{\"outlinewidth\":0,\"ticks\":\"\"}},\"type\":\"scattergl\"}],\"scattermapbox\":[{\"marker\":{\"colorbar\":{\"outlinewidth\":0,\"ticks\":\"\"}},\"type\":\"scattermapbox\"}],\"scatterpolargl\":[{\"marker\":{\"colorbar\":{\"outlinewidth\":0,\"ticks\":\"\"}},\"type\":\"scatterpolargl\"}],\"scatterpolar\":[{\"marker\":{\"colorbar\":{\"outlinewidth\":0,\"ticks\":\"\"}},\"type\":\"scatterpolar\"}],\"scatter\":[{\"fillpattern\":{\"fillmode\":\"overlay\",\"size\":10,\"solidity\":0.2},\"type\":\"scatter\"}],\"scatterternary\":[{\"marker\":{\"colorbar\":{\"outlinewidth\":0,\"ticks\":\"\"}},\"type\":\"scatterternary\"}],\"surface\":[{\"colorbar\":{\"outlinewidth\":0,\"ticks\":\"\"},\"colorscale\":[[0.0,\"#0d0887\"],[0.1111111111111111,\"#46039f\"],[0.2222222222222222,\"#7201a8\"],[0.3333333333333333,\"#9c179e\"],[0.4444444444444444,\"#bd3786\"],[0.5555555555555556,\"#d8576b\"],[0.6666666666666666,\"#ed7953\"],[0.7777777777777778,\"#fb9f3a\"],[0.8888888888888888,\"#fdca26\"],[1.0,\"#f0f921\"]],\"type\":\"surface\"}],\"table\":[{\"cells\":{\"fill\":{\"color\":\"#EBF0F8\"},\"line\":{\"color\":\"white\"}},\"header\":{\"fill\":{\"color\":\"#C8D4E3\"},\"line\":{\"color\":\"white\"}},\"type\":\"table\"}]},\"layout\":{\"annotationdefaults\":{\"arrowcolor\":\"#2a3f5f\",\"arrowhead\":0,\"arrowwidth\":1},\"autotypenumbers\":\"strict\",\"coloraxis\":{\"colorbar\":{\"outlinewidth\":0,\"ticks\":\"\"}},\"colorscale\":{\"diverging\":[[0,\"#8e0152\"],[0.1,\"#c51b7d\"],[0.2,\"#de77ae\"],[0.3,\"#f1b6da\"],[0.4,\"#fde0ef\"],[0.5,\"#f7f7f7\"],[0.6,\"#e6f5d0\"],[0.7,\"#b8e186\"],[0.8,\"#7fbc41\"],[0.9,\"#4d9221\"],[1,\"#276419\"]],\"sequential\":[[0.0,\"#0d0887\"],[0.1111111111111111,\"#46039f\"],[0.2222222222222222,\"#7201a8\"],[0.3333333333333333,\"#9c179e\"],[0.4444444444444444,\"#bd3786\"],[0.5555555555555556,\"#d8576b\"],[0.6666666666666666,\"#ed7953\"],[0.7777777777777778,\"#fb9f3a\"],[0.8888888888888888,\"#fdca26\"],[1.0,\"#f0f921\"]],\"sequentialminus\":[[0.0,\"#0d0887\"],[0.1111111111111111,\"#46039f\"],[0.2222222222222222,\"#7201a8\"],[0.3333333333333333,\"#9c179e\"],[0.4444444444444444,\"#bd3786\"],[0.5555555555555556,\"#d8576b\"],[0.6666666666666666,\"#ed7953\"],[0.7777777777777778,\"#fb9f3a\"],[0.8888888888888888,\"#fdca26\"],[1.0,\"#f0f921\"]]},\"colorway\":[\"#636efa\",\"#EF553B\",\"#00cc96\",\"#ab63fa\",\"#FFA15A\",\"#19d3f3\",\"#FF6692\",\"#B6E880\",\"#FF97FF\",\"#FECB52\"],\"font\":{\"color\":\"#2a3f5f\"},\"geo\":{\"bgcolor\":\"white\",\"lakecolor\":\"white\",\"landcolor\":\"#E5ECF6\",\"showlakes\":true,\"showland\":true,\"subunitcolor\":\"white\"},\"hoverlabel\":{\"align\":\"left\"},\"hovermode\":\"closest\",\"mapbox\":{\"style\":\"light\"},\"paper_bgcolor\":\"white\",\"plot_bgcolor\":\"#E5ECF6\",\"polar\":{\"angularaxis\":{\"gridcolor\":\"white\",\"linecolor\":\"white\",\"ticks\":\"\"},\"bgcolor\":\"#E5ECF6\",\"radialaxis\":{\"gridcolor\":\"white\",\"linecolor\":\"white\",\"ticks\":\"\"}},\"scene\":{\"xaxis\":{\"backgroundcolor\":\"#E5ECF6\",\"gridcolor\":\"white\",\"gridwidth\":2,\"linecolor\":\"white\",\"showbackground\":true,\"ticks\":\"\",\"zerolinecolor\":\"white\"},\"yaxis\":{\"backgroundcolor\":\"#E5ECF6\",\"gridcolor\":\"white\",\"gridwidth\":2,\"linecolor\":\"white\",\"showbackground\":true,\"ticks\":\"\",\"zerolinecolor\":\"white\"},\"zaxis\":{\"backgroundcolor\":\"#E5ECF6\",\"gridcolor\":\"white\",\"gridwidth\":2,\"linecolor\":\"white\",\"showbackground\":true,\"ticks\":\"\",\"zerolinecolor\":\"white\"}},\"shapedefaults\":{\"line\":{\"color\":\"#2a3f5f\"}},\"ternary\":{\"aaxis\":{\"gridcolor\":\"white\",\"linecolor\":\"white\",\"ticks\":\"\"},\"baxis\":{\"gridcolor\":\"white\",\"linecolor\":\"white\",\"ticks\":\"\"},\"bgcolor\":\"#E5ECF6\",\"caxis\":{\"gridcolor\":\"white\",\"linecolor\":\"white\",\"ticks\":\"\"}},\"title\":{\"x\":0.05},\"xaxis\":{\"automargin\":true,\"gridcolor\":\"white\",\"linecolor\":\"white\",\"ticks\":\"\",\"title\":{\"standoff\":15},\"zerolinecolor\":\"white\",\"zerolinewidth\":2},\"yaxis\":{\"automargin\":true,\"gridcolor\":\"white\",\"linecolor\":\"white\",\"ticks\":\"\",\"title\":{\"standoff\":15},\"zerolinecolor\":\"white\",\"zerolinewidth\":2}}},\"title\":{\"font\":{\"color\":\"#4D5663\"},\"text\":\"Alcohol Consumption by Country in 2010\"},\"xaxis\":{\"gridcolor\":\"#E1E5ED\",\"showgrid\":true,\"tickfont\":{\"color\":\"#4D5663\"},\"title\":{\"font\":{\"color\":\"#4D5663\"},\"text\":\"Country Name\"},\"zerolinecolor\":\"#E1E5ED\"},\"yaxis\":{\"gridcolor\":\"#E1E5ED\",\"showgrid\":true,\"tickfont\":{\"color\":\"#4D5663\"},\"title\":{\"font\":{\"color\":\"#4D5663\"},\"text\":\"Alcohol Consumption\"},\"zerolinecolor\":\"#E1E5ED\"}},                        {\"showLink\": true, \"linkText\": \"Export to plot.ly\", \"plotlyServerURL\": \"https://plot.ly\", \"responsive\": true}                    ).then(function(){\n",
       "                            \n",
       "var gd = document.getElementById('e0a2e639-36ee-4968-855a-f1c41754dad5');\n",
       "var x = new MutationObserver(function (mutations, observer) {{\n",
       "        var display = window.getComputedStyle(gd).display;\n",
       "        if (!display || display === 'none') {{\n",
       "            console.log([gd, 'removed!']);\n",
       "            Plotly.purge(gd);\n",
       "            observer.disconnect();\n",
       "        }}\n",
       "}});\n",
       "\n",
       "// Listen for the removal of the full notebook cells\n",
       "var notebookContainer = gd.closest('#notebook-container');\n",
       "if (notebookContainer) {{\n",
       "    x.observe(notebookContainer, {childList: true});\n",
       "}}\n",
       "\n",
       "// Listen for the clearing of the current output cell\n",
       "var outputEl = gd.closest('.output');\n",
       "if (outputEl) {{\n",
       "    x.observe(outputEl, {childList: true});\n",
       "}}\n",
       "\n",
       "                        })                };                });            </script>        </div>"
      ]
     },
     "metadata": {},
     "output_type": "display_data"
    }
   ],
   "source": [
    "# create the bar plot \n",
    "alcoDf.iplot(kind = 'bar', x = 'location', y ='alcohol', xTitle = 'Country Name', yTitle = 'Alcohol Consumption', title = 'Alcohol Consumption by Country in 2010')"
   ]
  },
  {
   "cell_type": "code",
   "execution_count": 13,
   "id": "33201928",
   "metadata": {},
   "outputs": [
    {
     "data": {
      "application/vnd.plotly.v1+json": {
       "config": {
        "linkText": "Export to plot.ly",
        "plotlyServerURL": "https://plot.ly",
        "showLink": false
       },
       "data": [
        {
         "colorbar": {
          "title": {
           "text": "Alcohol Consumption"
          }
         },
         "colorscale": [
          [
           0,
           "#440154"
          ],
          [
           0.1111111111111111,
           "#482878"
          ],
          [
           0.2222222222222222,
           "#3e4989"
          ],
          [
           0.3333333333333333,
           "#31688e"
          ],
          [
           0.4444444444444444,
           "#26828e"
          ],
          [
           0.5555555555555556,
           "#1f9e89"
          ],
          [
           0.6666666666666666,
           "#35b779"
          ],
          [
           0.7777777777777778,
           "#6ece58"
          ],
          [
           0.8888888888888888,
           "#b5de2b"
          ],
          [
           1,
           "#fde725"
          ]
         ],
         "locationmode": "country names",
         "locations": [
          "Belarus",
          "Moldova",
          "Lithuania",
          "Russia",
          "Romania",
          "Ukraine",
          "Andorra",
          "Hungary",
          "Czech Republic",
          "Slovakia",
          "Portugal",
          "Serbia",
          "Grenada",
          "Poland",
          "Latvia",
          "Finland",
          "South Korea",
          "France",
          "Australia",
          "Croatia",
          "Ireland",
          "Luxembourg",
          "Germany",
          "Slovenia",
          "United Kingdom",
          "Denmark",
          "Bulgaria",
          "Spain",
          "Belgium",
          "South Africa",
          "New Zealand",
          "Gabon",
          "Namibia",
          "Switzerland",
          "Saint Lucia",
          "Austria",
          "Estonia",
          "Greece",
          "Kazakhstan",
          "Canada",
          "Nigeria",
          "Netherlands",
          "Uganda",
          "Rwanda",
          "Chile",
          "Argentina",
          "Burundi",
          "United States",
          "Cyprus",
          "Sweden",
          "Venezuela",
          "Paraguay",
          "Brazil",
          "Sierra Leone",
          "Montenegro",
          "Belize",
          "Cameroon",
          "Botswana",
          "Saint Kitts and Nevis",
          "Guyana",
          "Peru",
          "Panama",
          "Niue",
          "Palau",
          "Norway",
          "Tanzania",
          "Georgia",
          "Uruguay",
          "Angola",
          "Laos",
          "Japan",
          "Mexico",
          "Ecuador",
          "Dominica",
          "Iceland",
          "Thailand",
          "Bosnia and Herzegovina",
          "Sao Tome and Principe",
          "Malta",
          "Albania",
          "Bahamas",
          "Dominican Republic",
          "Mongolia",
          "Cape Verde",
          "Barbados",
          "Burkina Faso",
          "Italy",
          "Trinidad and Tobago",
          "China",
          "Macedonia",
          "Saint Vincent and the Grenadines",
          "Equatorial Guinea",
          "Suriname",
          "Vietnam",
          "Lesotho",
          "Haiti",
          "Cook Islands",
          "Colombia",
          "Ivory Coast",
          "Bolivia",
          "Swaziland",
          "Zimbabwe",
          "Seychelles",
          "Cambodia",
          "Puerto Rico",
          "Netherlands Antilles",
          "Philippines",
          "Costa Rica",
          "Armenia",
          "Cuba",
          "Nicaragua",
          "Jamaica",
          "Ghana",
          "Liberia",
          "Uzbekistan",
          "Chad",
          "United Arab Emirates",
          "Kyrgyzstan",
          "India",
          "Turkmenistan",
          "Kenya",
          "Ethiopia",
          "Honduras",
          "Guinea-Bissau",
          "Zambia",
          "Republic of the Congo",
          "Guatemala",
          "Central African Republic",
          "North Korea",
          "Sri Lanka",
          "Mauritius",
          "Samoa",
          "Democratic Republic of the Congo",
          "Nauru",
          "Gambia",
          "Federated States of Micronesia",
          "El Salvador",
          "Fiji",
          "Papua New Guinea",
          "Kiribati",
          "Tajikistan",
          "Israel",
          "Sudan",
          "Malawi",
          "Lebanon",
          "Azerbaijan",
          "Mozambique",
          "Togo",
          "Nepal",
          "Brunei",
          "Benin",
          "Singapore",
          "Turkey",
          "Madagascar",
          "Solomon Islands",
          "Tonga",
          "Tunisia",
          "Tuvalu",
          "Qatar",
          "Vanuatu",
          "Djibouti",
          "Malaysia",
          "Syria",
          "Maldives",
          "Mali",
          "Eritrea",
          "Algeria",
          "Iran",
          "Oman",
          "Brunei",
          "Morocco",
          "Jordan",
          "Bhutan",
          "Guinea",
          "Burma",
          "Afghanistan",
          "Senegal",
          "Indonesia",
          "Timor-Leste",
          "Iraq",
          "Somalia",
          "Egypt",
          "Niger",
          "Yemen",
          "Comoros",
          "Saudi Arabia",
          "Bangladesh",
          "Kuwait",
          "Libya",
          "Mauritania",
          "Pakistan"
         ],
         "reversescale": true,
         "text": [
          "Belarus",
          "Moldova",
          "Lithuania",
          "Russia",
          "Romania",
          "Ukraine",
          "Andorra",
          "Hungary",
          "Czech Republic",
          "Slovakia",
          "Portugal",
          "Serbia",
          "Grenada",
          "Poland",
          "Latvia",
          "Finland",
          "South Korea",
          "France",
          "Australia",
          "Croatia",
          "Ireland",
          "Luxembourg",
          "Germany",
          "Slovenia",
          "United Kingdom",
          "Denmark",
          "Bulgaria",
          "Spain",
          "Belgium",
          "South Africa",
          "New Zealand",
          "Gabon",
          "Namibia",
          "Switzerland",
          "Saint Lucia",
          "Austria",
          "Estonia",
          "Greece",
          "Kazakhstan",
          "Canada",
          "Nigeria",
          "Netherlands",
          "Uganda",
          "Rwanda",
          "Chile",
          "Argentina",
          "Burundi",
          "United States",
          "Cyprus",
          "Sweden",
          "Venezuela",
          "Paraguay",
          "Brazil",
          "Sierra Leone",
          "Montenegro",
          "Belize",
          "Cameroon",
          "Botswana",
          "Saint Kitts and Nevis",
          "Guyana",
          "Peru",
          "Panama",
          "Niue",
          "Palau",
          "Norway",
          "Tanzania",
          "Georgia",
          "Uruguay",
          "Angola",
          "Laos",
          "Japan",
          "Mexico",
          "Ecuador",
          "Dominica",
          "Iceland",
          "Thailand",
          "Bosnia and Herzegovina",
          "Sao Tome and Principe",
          "Malta",
          "Albania",
          "Bahamas",
          "Dominican Republic",
          "Mongolia",
          "Cape Verde",
          "Barbados",
          "Burkina Faso",
          "Italy",
          "Trinidad and Tobago",
          "China",
          "Macedonia",
          "Saint Vincent and the Grenadines",
          "Equatorial Guinea",
          "Suriname",
          "Vietnam",
          "Lesotho",
          "Haiti",
          "Cook Islands",
          "Colombia",
          "Ivory Coast",
          "Bolivia",
          "Swaziland",
          "Zimbabwe",
          "Seychelles",
          "Cambodia",
          "Puerto Rico",
          "Netherlands Antilles",
          "Philippines",
          "Costa Rica",
          "Armenia",
          "Cuba",
          "Nicaragua",
          "Jamaica",
          "Ghana",
          "Liberia",
          "Uzbekistan",
          "Chad",
          "United Arab Emirates",
          "Kyrgyzstan",
          "India",
          "Turkmenistan",
          "Kenya",
          "Ethiopia",
          "Honduras",
          "Guinea-Bissau",
          "Zambia",
          "Republic of the Congo",
          "Guatemala",
          "Central African Republic",
          "North Korea",
          "Sri Lanka",
          "Mauritius",
          "Samoa",
          "Democratic Republic of the Congo",
          "Nauru",
          "Gambia",
          "Federated States of Micronesia",
          "El Salvador",
          "Fiji",
          "Papua New Guinea",
          "Kiribati",
          "Tajikistan",
          "Israel",
          "Sudan",
          "Malawi",
          "Lebanon",
          "Azerbaijan",
          "Mozambique",
          "Togo",
          "Nepal",
          "Brunei",
          "Benin",
          "Singapore",
          "Turkey",
          "Madagascar",
          "Solomon Islands",
          "Tonga",
          "Tunisia",
          "Tuvalu",
          "Qatar",
          "Vanuatu",
          "Djibouti",
          "Malaysia",
          "Syria",
          "Maldives",
          "Mali",
          "Eritrea",
          "Algeria",
          "Iran",
          "Oman",
          "Brunei",
          "Morocco",
          "Jordan",
          "Bhutan",
          "Guinea",
          "Burma",
          "Afghanistan",
          "Senegal",
          "Indonesia",
          "Timor-Leste",
          "Iraq",
          "Somalia",
          "Egypt",
          "Niger",
          "Yemen",
          "Comoros",
          "Saudi Arabia",
          "Bangladesh",
          "Kuwait",
          "Libya",
          "Mauritania",
          "Pakistan"
         ],
         "type": "choropleth",
         "z": [
          17.5,
          16.8,
          15.4,
          15.1,
          14.4,
          13.9,
          13.8,
          13.3,
          13,
          13,
          12.9,
          12.6,
          12.5,
          12.5,
          12.3,
          12.3,
          12.3,
          12.2,
          12.2,
          12.2,
          11.9,
          11.9,
          11.8,
          11.6,
          11.6,
          11.4,
          11.4,
          11.2,
          11,
          11,
          10.9,
          10.9,
          10.8,
          10.7,
          10.4,
          10.3,
          10.3,
          10.3,
          10.3,
          10.2,
          10.1,
          9.9,
          9.8,
          9.8,
          9.6,
          9.3,
          9.3,
          9.2,
          9.2,
          9.2,
          8.9,
          8.8,
          8.7,
          8.7,
          8.7,
          8.5,
          8.4,
          8.4,
          8.2,
          8.1,
          8.1,
          8,
          8,
          7.9,
          7.7,
          7.7,
          7.7,
          7.6,
          7.5,
          7.3,
          7.2,
          7.2,
          7.2,
          7.1,
          7.1,
          7.1,
          7.1,
          7.1,
          7,
          7,
          6.9,
          6.9,
          6.9,
          6.9,
          6.8,
          6.8,
          6.7,
          6.7,
          6.7,
          6.7,
          6.6,
          6.6,
          6.6,
          6.6,
          6.5,
          6.4,
          6.4,
          6.2,
          6,
          5.9,
          5.7,
          5.7,
          5.6,
          5.5,
          5.4,
          5.4,
          5.4,
          5.4,
          5.3,
          5.2,
          5,
          4.9,
          4.8,
          4.7,
          4.6,
          4.4,
          4.3,
          4.3,
          4.3,
          4.3,
          4.3,
          4.2,
          4,
          4,
          4,
          3.9,
          3.8,
          3.8,
          3.7,
          3.7,
          3.6,
          3.6,
          3.6,
          3.5,
          3.4,
          3.3,
          3.2,
          3,
          3,
          3,
          2.8,
          2.8,
          2.7,
          2.5,
          2.4,
          2.3,
          2.3,
          2.3,
          2.2,
          2.1,
          2.1,
          2,
          2,
          1.8,
          1.7,
          1.6,
          1.5,
          1.5,
          1.5,
          1.4,
          1.3,
          1.3,
          1.2,
          1.2,
          1.1,
          1.1,
          1,
          1,
          0.9,
          0.9,
          0.9,
          0.7,
          0.7,
          0.7,
          0.7,
          0.7,
          0.6,
          0.6,
          0.6,
          0.5,
          0.5,
          0.4,
          0.3,
          0.3,
          0.2,
          0.2,
          0.2,
          0.1,
          0.1,
          0.1,
          0.1
         ]
        }
       ],
       "layout": {
        "geo": {
         "projection": {
          "type": "robinson"
         }
        },
        "template": {
         "data": {
          "bar": [
           {
            "error_x": {
             "color": "#2a3f5f"
            },
            "error_y": {
             "color": "#2a3f5f"
            },
            "marker": {
             "line": {
              "color": "#E5ECF6",
              "width": 0.5
             },
             "pattern": {
              "fillmode": "overlay",
              "size": 10,
              "solidity": 0.2
             }
            },
            "type": "bar"
           }
          ],
          "barpolar": [
           {
            "marker": {
             "line": {
              "color": "#E5ECF6",
              "width": 0.5
             },
             "pattern": {
              "fillmode": "overlay",
              "size": 10,
              "solidity": 0.2
             }
            },
            "type": "barpolar"
           }
          ],
          "carpet": [
           {
            "aaxis": {
             "endlinecolor": "#2a3f5f",
             "gridcolor": "white",
             "linecolor": "white",
             "minorgridcolor": "white",
             "startlinecolor": "#2a3f5f"
            },
            "baxis": {
             "endlinecolor": "#2a3f5f",
             "gridcolor": "white",
             "linecolor": "white",
             "minorgridcolor": "white",
             "startlinecolor": "#2a3f5f"
            },
            "type": "carpet"
           }
          ],
          "choropleth": [
           {
            "colorbar": {
             "outlinewidth": 0,
             "ticks": ""
            },
            "type": "choropleth"
           }
          ],
          "contour": [
           {
            "colorbar": {
             "outlinewidth": 0,
             "ticks": ""
            },
            "colorscale": [
             [
              0,
              "#0d0887"
             ],
             [
              0.1111111111111111,
              "#46039f"
             ],
             [
              0.2222222222222222,
              "#7201a8"
             ],
             [
              0.3333333333333333,
              "#9c179e"
             ],
             [
              0.4444444444444444,
              "#bd3786"
             ],
             [
              0.5555555555555556,
              "#d8576b"
             ],
             [
              0.6666666666666666,
              "#ed7953"
             ],
             [
              0.7777777777777778,
              "#fb9f3a"
             ],
             [
              0.8888888888888888,
              "#fdca26"
             ],
             [
              1,
              "#f0f921"
             ]
            ],
            "type": "contour"
           }
          ],
          "contourcarpet": [
           {
            "colorbar": {
             "outlinewidth": 0,
             "ticks": ""
            },
            "type": "contourcarpet"
           }
          ],
          "heatmap": [
           {
            "colorbar": {
             "outlinewidth": 0,
             "ticks": ""
            },
            "colorscale": [
             [
              0,
              "#0d0887"
             ],
             [
              0.1111111111111111,
              "#46039f"
             ],
             [
              0.2222222222222222,
              "#7201a8"
             ],
             [
              0.3333333333333333,
              "#9c179e"
             ],
             [
              0.4444444444444444,
              "#bd3786"
             ],
             [
              0.5555555555555556,
              "#d8576b"
             ],
             [
              0.6666666666666666,
              "#ed7953"
             ],
             [
              0.7777777777777778,
              "#fb9f3a"
             ],
             [
              0.8888888888888888,
              "#fdca26"
             ],
             [
              1,
              "#f0f921"
             ]
            ],
            "type": "heatmap"
           }
          ],
          "heatmapgl": [
           {
            "colorbar": {
             "outlinewidth": 0,
             "ticks": ""
            },
            "colorscale": [
             [
              0,
              "#0d0887"
             ],
             [
              0.1111111111111111,
              "#46039f"
             ],
             [
              0.2222222222222222,
              "#7201a8"
             ],
             [
              0.3333333333333333,
              "#9c179e"
             ],
             [
              0.4444444444444444,
              "#bd3786"
             ],
             [
              0.5555555555555556,
              "#d8576b"
             ],
             [
              0.6666666666666666,
              "#ed7953"
             ],
             [
              0.7777777777777778,
              "#fb9f3a"
             ],
             [
              0.8888888888888888,
              "#fdca26"
             ],
             [
              1,
              "#f0f921"
             ]
            ],
            "type": "heatmapgl"
           }
          ],
          "histogram": [
           {
            "marker": {
             "pattern": {
              "fillmode": "overlay",
              "size": 10,
              "solidity": 0.2
             }
            },
            "type": "histogram"
           }
          ],
          "histogram2d": [
           {
            "colorbar": {
             "outlinewidth": 0,
             "ticks": ""
            },
            "colorscale": [
             [
              0,
              "#0d0887"
             ],
             [
              0.1111111111111111,
              "#46039f"
             ],
             [
              0.2222222222222222,
              "#7201a8"
             ],
             [
              0.3333333333333333,
              "#9c179e"
             ],
             [
              0.4444444444444444,
              "#bd3786"
             ],
             [
              0.5555555555555556,
              "#d8576b"
             ],
             [
              0.6666666666666666,
              "#ed7953"
             ],
             [
              0.7777777777777778,
              "#fb9f3a"
             ],
             [
              0.8888888888888888,
              "#fdca26"
             ],
             [
              1,
              "#f0f921"
             ]
            ],
            "type": "histogram2d"
           }
          ],
          "histogram2dcontour": [
           {
            "colorbar": {
             "outlinewidth": 0,
             "ticks": ""
            },
            "colorscale": [
             [
              0,
              "#0d0887"
             ],
             [
              0.1111111111111111,
              "#46039f"
             ],
             [
              0.2222222222222222,
              "#7201a8"
             ],
             [
              0.3333333333333333,
              "#9c179e"
             ],
             [
              0.4444444444444444,
              "#bd3786"
             ],
             [
              0.5555555555555556,
              "#d8576b"
             ],
             [
              0.6666666666666666,
              "#ed7953"
             ],
             [
              0.7777777777777778,
              "#fb9f3a"
             ],
             [
              0.8888888888888888,
              "#fdca26"
             ],
             [
              1,
              "#f0f921"
             ]
            ],
            "type": "histogram2dcontour"
           }
          ],
          "mesh3d": [
           {
            "colorbar": {
             "outlinewidth": 0,
             "ticks": ""
            },
            "type": "mesh3d"
           }
          ],
          "parcoords": [
           {
            "line": {
             "colorbar": {
              "outlinewidth": 0,
              "ticks": ""
             }
            },
            "type": "parcoords"
           }
          ],
          "pie": [
           {
            "automargin": true,
            "type": "pie"
           }
          ],
          "scatter": [
           {
            "fillpattern": {
             "fillmode": "overlay",
             "size": 10,
             "solidity": 0.2
            },
            "type": "scatter"
           }
          ],
          "scatter3d": [
           {
            "line": {
             "colorbar": {
              "outlinewidth": 0,
              "ticks": ""
             }
            },
            "marker": {
             "colorbar": {
              "outlinewidth": 0,
              "ticks": ""
             }
            },
            "type": "scatter3d"
           }
          ],
          "scattercarpet": [
           {
            "marker": {
             "colorbar": {
              "outlinewidth": 0,
              "ticks": ""
             }
            },
            "type": "scattercarpet"
           }
          ],
          "scattergeo": [
           {
            "marker": {
             "colorbar": {
              "outlinewidth": 0,
              "ticks": ""
             }
            },
            "type": "scattergeo"
           }
          ],
          "scattergl": [
           {
            "marker": {
             "colorbar": {
              "outlinewidth": 0,
              "ticks": ""
             }
            },
            "type": "scattergl"
           }
          ],
          "scattermapbox": [
           {
            "marker": {
             "colorbar": {
              "outlinewidth": 0,
              "ticks": ""
             }
            },
            "type": "scattermapbox"
           }
          ],
          "scatterpolar": [
           {
            "marker": {
             "colorbar": {
              "outlinewidth": 0,
              "ticks": ""
             }
            },
            "type": "scatterpolar"
           }
          ],
          "scatterpolargl": [
           {
            "marker": {
             "colorbar": {
              "outlinewidth": 0,
              "ticks": ""
             }
            },
            "type": "scatterpolargl"
           }
          ],
          "scatterternary": [
           {
            "marker": {
             "colorbar": {
              "outlinewidth": 0,
              "ticks": ""
             }
            },
            "type": "scatterternary"
           }
          ],
          "surface": [
           {
            "colorbar": {
             "outlinewidth": 0,
             "ticks": ""
            },
            "colorscale": [
             [
              0,
              "#0d0887"
             ],
             [
              0.1111111111111111,
              "#46039f"
             ],
             [
              0.2222222222222222,
              "#7201a8"
             ],
             [
              0.3333333333333333,
              "#9c179e"
             ],
             [
              0.4444444444444444,
              "#bd3786"
             ],
             [
              0.5555555555555556,
              "#d8576b"
             ],
             [
              0.6666666666666666,
              "#ed7953"
             ],
             [
              0.7777777777777778,
              "#fb9f3a"
             ],
             [
              0.8888888888888888,
              "#fdca26"
             ],
             [
              1,
              "#f0f921"
             ]
            ],
            "type": "surface"
           }
          ],
          "table": [
           {
            "cells": {
             "fill": {
              "color": "#EBF0F8"
             },
             "line": {
              "color": "white"
             }
            },
            "header": {
             "fill": {
              "color": "#C8D4E3"
             },
             "line": {
              "color": "white"
             }
            },
            "type": "table"
           }
          ]
         },
         "layout": {
          "annotationdefaults": {
           "arrowcolor": "#2a3f5f",
           "arrowhead": 0,
           "arrowwidth": 1
          },
          "autotypenumbers": "strict",
          "coloraxis": {
           "colorbar": {
            "outlinewidth": 0,
            "ticks": ""
           }
          },
          "colorscale": {
           "diverging": [
            [
             0,
             "#8e0152"
            ],
            [
             0.1,
             "#c51b7d"
            ],
            [
             0.2,
             "#de77ae"
            ],
            [
             0.3,
             "#f1b6da"
            ],
            [
             0.4,
             "#fde0ef"
            ],
            [
             0.5,
             "#f7f7f7"
            ],
            [
             0.6,
             "#e6f5d0"
            ],
            [
             0.7,
             "#b8e186"
            ],
            [
             0.8,
             "#7fbc41"
            ],
            [
             0.9,
             "#4d9221"
            ],
            [
             1,
             "#276419"
            ]
           ],
           "sequential": [
            [
             0,
             "#0d0887"
            ],
            [
             0.1111111111111111,
             "#46039f"
            ],
            [
             0.2222222222222222,
             "#7201a8"
            ],
            [
             0.3333333333333333,
             "#9c179e"
            ],
            [
             0.4444444444444444,
             "#bd3786"
            ],
            [
             0.5555555555555556,
             "#d8576b"
            ],
            [
             0.6666666666666666,
             "#ed7953"
            ],
            [
             0.7777777777777778,
             "#fb9f3a"
            ],
            [
             0.8888888888888888,
             "#fdca26"
            ],
            [
             1,
             "#f0f921"
            ]
           ],
           "sequentialminus": [
            [
             0,
             "#0d0887"
            ],
            [
             0.1111111111111111,
             "#46039f"
            ],
            [
             0.2222222222222222,
             "#7201a8"
            ],
            [
             0.3333333333333333,
             "#9c179e"
            ],
            [
             0.4444444444444444,
             "#bd3786"
            ],
            [
             0.5555555555555556,
             "#d8576b"
            ],
            [
             0.6666666666666666,
             "#ed7953"
            ],
            [
             0.7777777777777778,
             "#fb9f3a"
            ],
            [
             0.8888888888888888,
             "#fdca26"
            ],
            [
             1,
             "#f0f921"
            ]
           ]
          },
          "colorway": [
           "#636efa",
           "#EF553B",
           "#00cc96",
           "#ab63fa",
           "#FFA15A",
           "#19d3f3",
           "#FF6692",
           "#B6E880",
           "#FF97FF",
           "#FECB52"
          ],
          "font": {
           "color": "#2a3f5f"
          },
          "geo": {
           "bgcolor": "white",
           "lakecolor": "white",
           "landcolor": "#E5ECF6",
           "showlakes": true,
           "showland": true,
           "subunitcolor": "white"
          },
          "hoverlabel": {
           "align": "left"
          },
          "hovermode": "closest",
          "mapbox": {
           "style": "light"
          },
          "paper_bgcolor": "white",
          "plot_bgcolor": "#E5ECF6",
          "polar": {
           "angularaxis": {
            "gridcolor": "white",
            "linecolor": "white",
            "ticks": ""
           },
           "bgcolor": "#E5ECF6",
           "radialaxis": {
            "gridcolor": "white",
            "linecolor": "white",
            "ticks": ""
           }
          },
          "scene": {
           "xaxis": {
            "backgroundcolor": "#E5ECF6",
            "gridcolor": "white",
            "gridwidth": 2,
            "linecolor": "white",
            "showbackground": true,
            "ticks": "",
            "zerolinecolor": "white"
           },
           "yaxis": {
            "backgroundcolor": "#E5ECF6",
            "gridcolor": "white",
            "gridwidth": 2,
            "linecolor": "white",
            "showbackground": true,
            "ticks": "",
            "zerolinecolor": "white"
           },
           "zaxis": {
            "backgroundcolor": "#E5ECF6",
            "gridcolor": "white",
            "gridwidth": 2,
            "linecolor": "white",
            "showbackground": true,
            "ticks": "",
            "zerolinecolor": "white"
           }
          },
          "shapedefaults": {
           "line": {
            "color": "#2a3f5f"
           }
          },
          "ternary": {
           "aaxis": {
            "gridcolor": "white",
            "linecolor": "white",
            "ticks": ""
           },
           "baxis": {
            "gridcolor": "white",
            "linecolor": "white",
            "ticks": ""
           },
           "bgcolor": "#E5ECF6",
           "caxis": {
            "gridcolor": "white",
            "linecolor": "white",
            "ticks": ""
           }
          },
          "title": {
           "x": 0.05
          },
          "xaxis": {
           "automargin": true,
           "gridcolor": "white",
           "linecolor": "white",
           "ticks": "",
           "title": {
            "standoff": 15
           },
           "zerolinecolor": "white",
           "zerolinewidth": 2
          },
          "yaxis": {
           "automargin": true,
           "gridcolor": "white",
           "linecolor": "white",
           "ticks": "",
           "title": {
            "standoff": 15
           },
           "zerolinecolor": "white",
           "zerolinewidth": 2
          }
         }
        },
        "title": {
         "text": "2010 Alcohol Consumption"
        }
       }
      },
      "text/html": [
       "<div>                            <div id=\"baaf1a55-a1da-44d3-afa8-460a8f96a0ac\" class=\"plotly-graph-div\" style=\"height:525px; width:100%;\"></div>            <script type=\"text/javascript\">                require([\"plotly\"], function(Plotly) {                    window.PLOTLYENV=window.PLOTLYENV || {};                                    if (document.getElementById(\"baaf1a55-a1da-44d3-afa8-460a8f96a0ac\")) {                    Plotly.newPlot(                        \"baaf1a55-a1da-44d3-afa8-460a8f96a0ac\",                        [{\"colorbar\":{\"title\":{\"text\":\"Alcohol Consumption\"}},\"colorscale\":[[0.0,\"#440154\"],[0.1111111111111111,\"#482878\"],[0.2222222222222222,\"#3e4989\"],[0.3333333333333333,\"#31688e\"],[0.4444444444444444,\"#26828e\"],[0.5555555555555556,\"#1f9e89\"],[0.6666666666666666,\"#35b779\"],[0.7777777777777778,\"#6ece58\"],[0.8888888888888888,\"#b5de2b\"],[1.0,\"#fde725\"]],\"locationmode\":\"country names\",\"locations\":[\"Belarus\",\"Moldova\",\"Lithuania\",\"Russia\",\"Romania\",\"Ukraine\",\"Andorra\",\"Hungary\",\"Czech Republic\",\"Slovakia\",\"Portugal\",\"Serbia\",\"Grenada\",\"Poland\",\"Latvia\",\"Finland\",\"South Korea\",\"France\",\"Australia\",\"Croatia\",\"Ireland\",\"Luxembourg\",\"Germany\",\"Slovenia\",\"United Kingdom\",\"Denmark\",\"Bulgaria\",\"Spain\",\"Belgium\",\"South Africa\",\"New Zealand\",\"Gabon\",\"Namibia\",\"Switzerland\",\"Saint Lucia\",\"Austria\",\"Estonia\",\"Greece\",\"Kazakhstan\",\"Canada\",\"Nigeria\",\"Netherlands\",\"Uganda\",\"Rwanda\",\"Chile\",\"Argentina\",\"Burundi\",\"United States\",\"Cyprus\",\"Sweden\",\"Venezuela\",\"Paraguay\",\"Brazil\",\"Sierra Leone\",\"Montenegro\",\"Belize\",\"Cameroon\",\"Botswana\",\"Saint Kitts and Nevis\",\"Guyana\",\"Peru\",\"Panama\",\"Niue\",\"Palau\",\"Norway\",\"Tanzania\",\"Georgia\",\"Uruguay\",\"Angola\",\"Laos\",\"Japan\",\"Mexico\",\"Ecuador\",\"Dominica\",\"Iceland\",\"Thailand\",\"Bosnia and Herzegovina\",\"Sao Tome and Principe\",\"Malta\",\"Albania\",\"Bahamas\",\"Dominican Republic\",\"Mongolia\",\"Cape Verde\",\"Barbados\",\"Burkina Faso\",\"Italy\",\"Trinidad and Tobago\",\"China\",\"Macedonia\",\"Saint Vincent and the Grenadines\",\"Equatorial Guinea\",\"Suriname\",\"Vietnam\",\"Lesotho\",\"Haiti\",\"Cook Islands\",\"Colombia\",\"Ivory Coast\",\"Bolivia\",\"Swaziland\",\"Zimbabwe\",\"Seychelles\",\"Cambodia\",\"Puerto Rico\",\"Netherlands Antilles\",\"Philippines\",\"Costa Rica\",\"Armenia\",\"Cuba\",\"Nicaragua\",\"Jamaica\",\"Ghana\",\"Liberia\",\"Uzbekistan\",\"Chad\",\"United Arab Emirates\",\"Kyrgyzstan\",\"India\",\"Turkmenistan\",\"Kenya\",\"Ethiopia\",\"Honduras\",\"Guinea-Bissau\",\"Zambia\",\"Republic of the Congo\",\"Guatemala\",\"Central African Republic\",\"North Korea\",\"Sri Lanka\",\"Mauritius\",\"Samoa\",\"Democratic Republic of the Congo\",\"Nauru\",\"Gambia\",\"Federated States of Micronesia\",\"El Salvador\",\"Fiji\",\"Papua New Guinea\",\"Kiribati\",\"Tajikistan\",\"Israel\",\"Sudan\",\"Malawi\",\"Lebanon\",\"Azerbaijan\",\"Mozambique\",\"Togo\",\"Nepal\",\"Brunei\",\"Benin\",\"Singapore\",\"Turkey\",\"Madagascar\",\"Solomon Islands\",\"Tonga\",\"Tunisia\",\"Tuvalu\",\"Qatar\",\"Vanuatu\",\"Djibouti\",\"Malaysia\",\"Syria\",\"Maldives\",\"Mali\",\"Eritrea\",\"Algeria\",\"Iran\",\"Oman\",\"Brunei\",\"Morocco\",\"Jordan\",\"Bhutan\",\"Guinea\",\"Burma\",\"Afghanistan\",\"Senegal\",\"Indonesia\",\"Timor-Leste\",\"Iraq\",\"Somalia\",\"Egypt\",\"Niger\",\"Yemen\",\"Comoros\",\"Saudi Arabia\",\"Bangladesh\",\"Kuwait\",\"Libya\",\"Mauritania\",\"Pakistan\"],\"reversescale\":true,\"text\":[\"Belarus\",\"Moldova\",\"Lithuania\",\"Russia\",\"Romania\",\"Ukraine\",\"Andorra\",\"Hungary\",\"Czech Republic\",\"Slovakia\",\"Portugal\",\"Serbia\",\"Grenada\",\"Poland\",\"Latvia\",\"Finland\",\"South Korea\",\"France\",\"Australia\",\"Croatia\",\"Ireland\",\"Luxembourg\",\"Germany\",\"Slovenia\",\"United Kingdom\",\"Denmark\",\"Bulgaria\",\"Spain\",\"Belgium\",\"South Africa\",\"New Zealand\",\"Gabon\",\"Namibia\",\"Switzerland\",\"Saint Lucia\",\"Austria\",\"Estonia\",\"Greece\",\"Kazakhstan\",\"Canada\",\"Nigeria\",\"Netherlands\",\"Uganda\",\"Rwanda\",\"Chile\",\"Argentina\",\"Burundi\",\"United States\",\"Cyprus\",\"Sweden\",\"Venezuela\",\"Paraguay\",\"Brazil\",\"Sierra Leone\",\"Montenegro\",\"Belize\",\"Cameroon\",\"Botswana\",\"Saint Kitts and Nevis\",\"Guyana\",\"Peru\",\"Panama\",\"Niue\",\"Palau\",\"Norway\",\"Tanzania\",\"Georgia\",\"Uruguay\",\"Angola\",\"Laos\",\"Japan\",\"Mexico\",\"Ecuador\",\"Dominica\",\"Iceland\",\"Thailand\",\"Bosnia and Herzegovina\",\"Sao Tome and Principe\",\"Malta\",\"Albania\",\"Bahamas\",\"Dominican Republic\",\"Mongolia\",\"Cape Verde\",\"Barbados\",\"Burkina Faso\",\"Italy\",\"Trinidad and Tobago\",\"China\",\"Macedonia\",\"Saint Vincent and the Grenadines\",\"Equatorial Guinea\",\"Suriname\",\"Vietnam\",\"Lesotho\",\"Haiti\",\"Cook Islands\",\"Colombia\",\"Ivory Coast\",\"Bolivia\",\"Swaziland\",\"Zimbabwe\",\"Seychelles\",\"Cambodia\",\"Puerto Rico\",\"Netherlands Antilles\",\"Philippines\",\"Costa Rica\",\"Armenia\",\"Cuba\",\"Nicaragua\",\"Jamaica\",\"Ghana\",\"Liberia\",\"Uzbekistan\",\"Chad\",\"United Arab Emirates\",\"Kyrgyzstan\",\"India\",\"Turkmenistan\",\"Kenya\",\"Ethiopia\",\"Honduras\",\"Guinea-Bissau\",\"Zambia\",\"Republic of the Congo\",\"Guatemala\",\"Central African Republic\",\"North Korea\",\"Sri Lanka\",\"Mauritius\",\"Samoa\",\"Democratic Republic of the Congo\",\"Nauru\",\"Gambia\",\"Federated States of Micronesia\",\"El Salvador\",\"Fiji\",\"Papua New Guinea\",\"Kiribati\",\"Tajikistan\",\"Israel\",\"Sudan\",\"Malawi\",\"Lebanon\",\"Azerbaijan\",\"Mozambique\",\"Togo\",\"Nepal\",\"Brunei\",\"Benin\",\"Singapore\",\"Turkey\",\"Madagascar\",\"Solomon Islands\",\"Tonga\",\"Tunisia\",\"Tuvalu\",\"Qatar\",\"Vanuatu\",\"Djibouti\",\"Malaysia\",\"Syria\",\"Maldives\",\"Mali\",\"Eritrea\",\"Algeria\",\"Iran\",\"Oman\",\"Brunei\",\"Morocco\",\"Jordan\",\"Bhutan\",\"Guinea\",\"Burma\",\"Afghanistan\",\"Senegal\",\"Indonesia\",\"Timor-Leste\",\"Iraq\",\"Somalia\",\"Egypt\",\"Niger\",\"Yemen\",\"Comoros\",\"Saudi Arabia\",\"Bangladesh\",\"Kuwait\",\"Libya\",\"Mauritania\",\"Pakistan\"],\"z\":[17.5,16.8,15.4,15.1,14.4,13.9,13.8,13.3,13.0,13.0,12.9,12.6,12.5,12.5,12.3,12.3,12.3,12.2,12.2,12.2,11.9,11.9,11.8,11.6,11.6,11.4,11.4,11.2,11.0,11.0,10.9,10.9,10.8,10.7,10.4,10.3,10.3,10.3,10.3,10.2,10.1,9.9,9.8,9.8,9.6,9.3,9.3,9.2,9.2,9.2,8.9,8.8,8.7,8.7,8.7,8.5,8.4,8.4,8.2,8.1,8.1,8.0,8.0,7.9,7.7,7.7,7.7,7.6,7.5,7.3,7.2,7.2,7.2,7.1,7.1,7.1,7.1,7.1,7.0,7.0,6.9,6.9,6.9,6.9,6.8,6.8,6.7,6.7,6.7,6.7,6.6,6.6,6.6,6.6,6.5,6.4,6.4,6.2,6.0,5.9,5.7,5.7,5.6,5.5,5.4,5.4,5.4,5.4,5.3,5.2,5.0,4.9,4.8,4.7,4.6,4.4,4.3,4.3,4.3,4.3,4.3,4.2,4.0,4.0,4.0,3.9,3.8,3.8,3.7,3.7,3.6,3.6,3.6,3.5,3.4,3.3,3.2,3.0,3.0,3.0,2.8,2.8,2.7,2.5,2.4,2.3,2.3,2.3,2.2,2.1,2.1,2.0,2.0,1.8,1.7,1.6,1.5,1.5,1.5,1.4,1.3,1.3,1.2,1.2,1.1,1.1,1.0,1.0,0.9,0.9,0.9,0.7,0.7,0.7,0.7,0.7,0.6,0.6,0.6,0.5,0.5,0.4,0.3,0.3,0.2,0.2,0.2,0.1,0.1,0.1,0.1],\"type\":\"choropleth\"}],                        {\"geo\":{\"projection\":{\"type\":\"robinson\"}},\"title\":{\"text\":\"2010 Alcohol Consumption\"},\"template\":{\"data\":{\"histogram2dcontour\":[{\"type\":\"histogram2dcontour\",\"colorbar\":{\"outlinewidth\":0,\"ticks\":\"\"},\"colorscale\":[[0.0,\"#0d0887\"],[0.1111111111111111,\"#46039f\"],[0.2222222222222222,\"#7201a8\"],[0.3333333333333333,\"#9c179e\"],[0.4444444444444444,\"#bd3786\"],[0.5555555555555556,\"#d8576b\"],[0.6666666666666666,\"#ed7953\"],[0.7777777777777778,\"#fb9f3a\"],[0.8888888888888888,\"#fdca26\"],[1.0,\"#f0f921\"]]}],\"choropleth\":[{\"type\":\"choropleth\",\"colorbar\":{\"outlinewidth\":0,\"ticks\":\"\"}}],\"histogram2d\":[{\"type\":\"histogram2d\",\"colorbar\":{\"outlinewidth\":0,\"ticks\":\"\"},\"colorscale\":[[0.0,\"#0d0887\"],[0.1111111111111111,\"#46039f\"],[0.2222222222222222,\"#7201a8\"],[0.3333333333333333,\"#9c179e\"],[0.4444444444444444,\"#bd3786\"],[0.5555555555555556,\"#d8576b\"],[0.6666666666666666,\"#ed7953\"],[0.7777777777777778,\"#fb9f3a\"],[0.8888888888888888,\"#fdca26\"],[1.0,\"#f0f921\"]]}],\"heatmap\":[{\"type\":\"heatmap\",\"colorbar\":{\"outlinewidth\":0,\"ticks\":\"\"},\"colorscale\":[[0.0,\"#0d0887\"],[0.1111111111111111,\"#46039f\"],[0.2222222222222222,\"#7201a8\"],[0.3333333333333333,\"#9c179e\"],[0.4444444444444444,\"#bd3786\"],[0.5555555555555556,\"#d8576b\"],[0.6666666666666666,\"#ed7953\"],[0.7777777777777778,\"#fb9f3a\"],[0.8888888888888888,\"#fdca26\"],[1.0,\"#f0f921\"]]}],\"heatmapgl\":[{\"type\":\"heatmapgl\",\"colorbar\":{\"outlinewidth\":0,\"ticks\":\"\"},\"colorscale\":[[0.0,\"#0d0887\"],[0.1111111111111111,\"#46039f\"],[0.2222222222222222,\"#7201a8\"],[0.3333333333333333,\"#9c179e\"],[0.4444444444444444,\"#bd3786\"],[0.5555555555555556,\"#d8576b\"],[0.6666666666666666,\"#ed7953\"],[0.7777777777777778,\"#fb9f3a\"],[0.8888888888888888,\"#fdca26\"],[1.0,\"#f0f921\"]]}],\"contourcarpet\":[{\"type\":\"contourcarpet\",\"colorbar\":{\"outlinewidth\":0,\"ticks\":\"\"}}],\"contour\":[{\"type\":\"contour\",\"colorbar\":{\"outlinewidth\":0,\"ticks\":\"\"},\"colorscale\":[[0.0,\"#0d0887\"],[0.1111111111111111,\"#46039f\"],[0.2222222222222222,\"#7201a8\"],[0.3333333333333333,\"#9c179e\"],[0.4444444444444444,\"#bd3786\"],[0.5555555555555556,\"#d8576b\"],[0.6666666666666666,\"#ed7953\"],[0.7777777777777778,\"#fb9f3a\"],[0.8888888888888888,\"#fdca26\"],[1.0,\"#f0f921\"]]}],\"surface\":[{\"type\":\"surface\",\"colorbar\":{\"outlinewidth\":0,\"ticks\":\"\"},\"colorscale\":[[0.0,\"#0d0887\"],[0.1111111111111111,\"#46039f\"],[0.2222222222222222,\"#7201a8\"],[0.3333333333333333,\"#9c179e\"],[0.4444444444444444,\"#bd3786\"],[0.5555555555555556,\"#d8576b\"],[0.6666666666666666,\"#ed7953\"],[0.7777777777777778,\"#fb9f3a\"],[0.8888888888888888,\"#fdca26\"],[1.0,\"#f0f921\"]]}],\"mesh3d\":[{\"type\":\"mesh3d\",\"colorbar\":{\"outlinewidth\":0,\"ticks\":\"\"}}],\"scatter\":[{\"fillpattern\":{\"fillmode\":\"overlay\",\"size\":10,\"solidity\":0.2},\"type\":\"scatter\"}],\"parcoords\":[{\"type\":\"parcoords\",\"line\":{\"colorbar\":{\"outlinewidth\":0,\"ticks\":\"\"}}}],\"scatterpolargl\":[{\"type\":\"scatterpolargl\",\"marker\":{\"colorbar\":{\"outlinewidth\":0,\"ticks\":\"\"}}}],\"bar\":[{\"error_x\":{\"color\":\"#2a3f5f\"},\"error_y\":{\"color\":\"#2a3f5f\"},\"marker\":{\"line\":{\"color\":\"#E5ECF6\",\"width\":0.5},\"pattern\":{\"fillmode\":\"overlay\",\"size\":10,\"solidity\":0.2}},\"type\":\"bar\"}],\"scattergeo\":[{\"type\":\"scattergeo\",\"marker\":{\"colorbar\":{\"outlinewidth\":0,\"ticks\":\"\"}}}],\"scatterpolar\":[{\"type\":\"scatterpolar\",\"marker\":{\"colorbar\":{\"outlinewidth\":0,\"ticks\":\"\"}}}],\"histogram\":[{\"marker\":{\"pattern\":{\"fillmode\":\"overlay\",\"size\":10,\"solidity\":0.2}},\"type\":\"histogram\"}],\"scattergl\":[{\"type\":\"scattergl\",\"marker\":{\"colorbar\":{\"outlinewidth\":0,\"ticks\":\"\"}}}],\"scatter3d\":[{\"type\":\"scatter3d\",\"line\":{\"colorbar\":{\"outlinewidth\":0,\"ticks\":\"\"}},\"marker\":{\"colorbar\":{\"outlinewidth\":0,\"ticks\":\"\"}}}],\"scattermapbox\":[{\"type\":\"scattermapbox\",\"marker\":{\"colorbar\":{\"outlinewidth\":0,\"ticks\":\"\"}}}],\"scatterternary\":[{\"type\":\"scatterternary\",\"marker\":{\"colorbar\":{\"outlinewidth\":0,\"ticks\":\"\"}}}],\"scattercarpet\":[{\"type\":\"scattercarpet\",\"marker\":{\"colorbar\":{\"outlinewidth\":0,\"ticks\":\"\"}}}],\"carpet\":[{\"aaxis\":{\"endlinecolor\":\"#2a3f5f\",\"gridcolor\":\"white\",\"linecolor\":\"white\",\"minorgridcolor\":\"white\",\"startlinecolor\":\"#2a3f5f\"},\"baxis\":{\"endlinecolor\":\"#2a3f5f\",\"gridcolor\":\"white\",\"linecolor\":\"white\",\"minorgridcolor\":\"white\",\"startlinecolor\":\"#2a3f5f\"},\"type\":\"carpet\"}],\"table\":[{\"cells\":{\"fill\":{\"color\":\"#EBF0F8\"},\"line\":{\"color\":\"white\"}},\"header\":{\"fill\":{\"color\":\"#C8D4E3\"},\"line\":{\"color\":\"white\"}},\"type\":\"table\"}],\"barpolar\":[{\"marker\":{\"line\":{\"color\":\"#E5ECF6\",\"width\":0.5},\"pattern\":{\"fillmode\":\"overlay\",\"size\":10,\"solidity\":0.2}},\"type\":\"barpolar\"}],\"pie\":[{\"automargin\":true,\"type\":\"pie\"}]},\"layout\":{\"autotypenumbers\":\"strict\",\"colorway\":[\"#636efa\",\"#EF553B\",\"#00cc96\",\"#ab63fa\",\"#FFA15A\",\"#19d3f3\",\"#FF6692\",\"#B6E880\",\"#FF97FF\",\"#FECB52\"],\"font\":{\"color\":\"#2a3f5f\"},\"hovermode\":\"closest\",\"hoverlabel\":{\"align\":\"left\"},\"paper_bgcolor\":\"white\",\"plot_bgcolor\":\"#E5ECF6\",\"polar\":{\"bgcolor\":\"#E5ECF6\",\"angularaxis\":{\"gridcolor\":\"white\",\"linecolor\":\"white\",\"ticks\":\"\"},\"radialaxis\":{\"gridcolor\":\"white\",\"linecolor\":\"white\",\"ticks\":\"\"}},\"ternary\":{\"bgcolor\":\"#E5ECF6\",\"aaxis\":{\"gridcolor\":\"white\",\"linecolor\":\"white\",\"ticks\":\"\"},\"baxis\":{\"gridcolor\":\"white\",\"linecolor\":\"white\",\"ticks\":\"\"},\"caxis\":{\"gridcolor\":\"white\",\"linecolor\":\"white\",\"ticks\":\"\"}},\"coloraxis\":{\"colorbar\":{\"outlinewidth\":0,\"ticks\":\"\"}},\"colorscale\":{\"sequential\":[[0.0,\"#0d0887\"],[0.1111111111111111,\"#46039f\"],[0.2222222222222222,\"#7201a8\"],[0.3333333333333333,\"#9c179e\"],[0.4444444444444444,\"#bd3786\"],[0.5555555555555556,\"#d8576b\"],[0.6666666666666666,\"#ed7953\"],[0.7777777777777778,\"#fb9f3a\"],[0.8888888888888888,\"#fdca26\"],[1.0,\"#f0f921\"]],\"sequentialminus\":[[0.0,\"#0d0887\"],[0.1111111111111111,\"#46039f\"],[0.2222222222222222,\"#7201a8\"],[0.3333333333333333,\"#9c179e\"],[0.4444444444444444,\"#bd3786\"],[0.5555555555555556,\"#d8576b\"],[0.6666666666666666,\"#ed7953\"],[0.7777777777777778,\"#fb9f3a\"],[0.8888888888888888,\"#fdca26\"],[1.0,\"#f0f921\"]],\"diverging\":[[0,\"#8e0152\"],[0.1,\"#c51b7d\"],[0.2,\"#de77ae\"],[0.3,\"#f1b6da\"],[0.4,\"#fde0ef\"],[0.5,\"#f7f7f7\"],[0.6,\"#e6f5d0\"],[0.7,\"#b8e186\"],[0.8,\"#7fbc41\"],[0.9,\"#4d9221\"],[1,\"#276419\"]]},\"xaxis\":{\"gridcolor\":\"white\",\"linecolor\":\"white\",\"ticks\":\"\",\"title\":{\"standoff\":15},\"zerolinecolor\":\"white\",\"automargin\":true,\"zerolinewidth\":2},\"yaxis\":{\"gridcolor\":\"white\",\"linecolor\":\"white\",\"ticks\":\"\",\"title\":{\"standoff\":15},\"zerolinecolor\":\"white\",\"automargin\":true,\"zerolinewidth\":2},\"scene\":{\"xaxis\":{\"backgroundcolor\":\"#E5ECF6\",\"gridcolor\":\"white\",\"linecolor\":\"white\",\"showbackground\":true,\"ticks\":\"\",\"zerolinecolor\":\"white\",\"gridwidth\":2},\"yaxis\":{\"backgroundcolor\":\"#E5ECF6\",\"gridcolor\":\"white\",\"linecolor\":\"white\",\"showbackground\":true,\"ticks\":\"\",\"zerolinecolor\":\"white\",\"gridwidth\":2},\"zaxis\":{\"backgroundcolor\":\"#E5ECF6\",\"gridcolor\":\"white\",\"linecolor\":\"white\",\"showbackground\":true,\"ticks\":\"\",\"zerolinecolor\":\"white\",\"gridwidth\":2}},\"shapedefaults\":{\"line\":{\"color\":\"#2a3f5f\"}},\"annotationdefaults\":{\"arrowcolor\":\"#2a3f5f\",\"arrowhead\":0,\"arrowwidth\":1},\"geo\":{\"bgcolor\":\"white\",\"landcolor\":\"#E5ECF6\",\"subunitcolor\":\"white\",\"showland\":true,\"showlakes\":true,\"lakecolor\":\"white\"},\"title\":{\"x\":0.05},\"mapbox\":{\"style\":\"light\"}}}},                        {\"responsive\": true}                    ).then(function(){\n",
       "                            \n",
       "var gd = document.getElementById('baaf1a55-a1da-44d3-afa8-460a8f96a0ac');\n",
       "var x = new MutationObserver(function (mutations, observer) {{\n",
       "        var display = window.getComputedStyle(gd).display;\n",
       "        if (!display || display === 'none') {{\n",
       "            console.log([gd, 'removed!']);\n",
       "            Plotly.purge(gd);\n",
       "            observer.disconnect();\n",
       "        }}\n",
       "}});\n",
       "\n",
       "// Listen for the removal of the full notebook cells\n",
       "var notebookContainer = gd.closest('#notebook-container');\n",
       "if (notebookContainer) {{\n",
       "    x.observe(notebookContainer, {childList: true});\n",
       "}}\n",
       "\n",
       "// Listen for the clearing of the current output cell\n",
       "var outputEl = gd.closest('.output');\n",
       "if (outputEl) {{\n",
       "    x.observe(outputEl, {childList: true});\n",
       "}}\n",
       "\n",
       "                        })                };                });            </script>        </div>"
      ]
     },
     "metadata": {},
     "output_type": "display_data"
    }
   ],
   "source": [
    "#create Geogrophical plot, a Choropleth Plot of the Alcohol Consumption for Countries using the data and layout dictionary\n",
    "data = dict( type = 'choropleth',\n",
    "            colorscale = 'Viridis',\n",
    "            reversescale = True,\n",
    "            locations = alcoDf['location'],\n",
    "            locationmode = \"country names\",\n",
    "            z = alcoDf['alcohol'],\n",
    "            text = alcoDf['location'],\n",
    "            colorbar = {'title' : 'Alcohol Consumption'},\n",
    "           )\n",
    "\n",
    "layout = dict( title = '2010 Alcohol Consumption',\n",
    "              geo = dict(\n",
    "                  #showframe = False,\n",
    "                  projection = {'type':'robinson'})#Mercator, orthographic, natural earth,miller\n",
    "             )\n",
    "choropleth_map = go.Figure(data = [data],layout = layout)\n",
    "iplot(choropleth_map,validate=False)"
   ]
  },
  {
   "cell_type": "markdown",
   "id": "1426a432",
   "metadata": {},
   "source": [
    "##### references\n",
    "Dataset: \n",
    "https://www.kaggle.com/datasets/unsdsn/world-happiness\n",
    "https://github.com/plotly/datasets/blob/master/2010_alcohol_consumption_by_country.csv\n",
    "\n",
    "Code:\n",
    "https://plotly.com/python/reference/#choropleth\n"
   ]
  }
 ],
 "metadata": {
  "kernelspec": {
   "display_name": "Python 3 (ipykernel)",
   "language": "python",
   "name": "python3"
  },
  "language_info": {
   "codemirror_mode": {
    "name": "ipython",
    "version": 3
   },
   "file_extension": ".py",
   "mimetype": "text/x-python",
   "name": "python",
   "nbconvert_exporter": "python",
   "pygments_lexer": "ipython3",
   "version": "3.9.13"
  }
 },
 "nbformat": 4,
 "nbformat_minor": 5
}
