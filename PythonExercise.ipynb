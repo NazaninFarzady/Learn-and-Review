{
 "cells": [
  {
   "cell_type": "markdown",
   "metadata": {},
   "source": [
    "1. How to compute power of a number in Python, try 5 to the power of 3?"
   ]
  },
  {
   "cell_type": "code",
   "execution_count": 1,
   "metadata": {},
   "outputs": [
    {
     "data": {
      "text/plain": "125"
     },
     "execution_count": 1,
     "metadata": {},
     "output_type": "execute_result"
    }
   ],
   "source": [
    "5**3  # ** for the power/exp"
   ]
  },
  {
   "cell_type": "markdown",
   "metadata": {},
   "source": [
    "2. Write a code to compute remainder if 9 is divided by 2. Is 9 even?"
   ]
  },
  {
   "cell_type": "code",
   "execution_count": 3,
   "metadata": {},
   "outputs": [
    {
     "data": {
      "text/plain": [
       "1"
      ]
     },
     "execution_count": 3,
     "metadata": {},
     "output_type": "execute_result"
    }
   ],
   "source": [
    "9%2 # remainder is 1, odd"
   ]
  },
  {
   "cell_type": "markdown",
   "metadata": {},
   "source": [
    "3. Convert string s = 'i am in Alberta' into a list of words in upper case."
   ]
  },
  {
   "cell_type": "code",
   "execution_count": 4,
   "metadata": {},
   "outputs": [
    {
     "data": {
      "text/plain": [
       "['I', 'AM', 'IN', 'ALBERTA']"
      ]
     },
     "execution_count": 4,
     "metadata": {},
     "output_type": "execute_result"
    }
   ],
   "source": [
    "s = 'i am in Alberta'\n",
    "s.upper().split() # split at whitespace"
   ]
  },
  {
   "cell_type": "markdown",
   "metadata": {},
   "source": [
    "4. Convert the string s = 'My name is #Qazi!' into lower case and split at # into a list. (Please see\n",
    "the required output)"
   ]
  },
  {
   "cell_type": "code",
   "execution_count": 5,
   "metadata": {},
   "outputs": [
    {
     "data": {
      "text/plain": [
       "['my name is ', 'qazi!']"
      ]
     },
     "execution_count": 5,
     "metadata": {},
     "output_type": "execute_result"
    }
   ],
   "source": [
    "s = 'My name is #Qazi!'\n",
    "s.lower()\n",
    "s.lower().split('#')"
   ]
  },
  {
   "cell_type": "markdown",
   "metadata": {},
   "source": [
    "5. We have\n",
    "province = \"Alberta\"\n",
    "population = 4.1\n",
    "print the following using format() method.\n",
    "The total population of Alberta is 4.1 million.\n",
    "Hint: Create place holders inside a string in the print statement. Pass in the initialized variables to the format\n",
    "method to fill the place holders."
   ]
  },
  {
   "cell_type": "code",
   "execution_count": 6,
   "metadata": {},
   "outputs": [
    {
     "name": "stdout",
     "output_type": "stream",
     "text": [
      "The total population of Alberta is 4.1 milion.\n"
     ]
    }
   ],
   "source": [
    "province = \"Alberta\"\n",
    "population = 4.1\n",
    "print('The total population of {} is {} milion.'. format(province, str(population)))\n",
    "# print(\"The total population of {a} is {b} million.\".format(a=\"Alberta\", b=4.1))"
   ]
  },
  {
   "cell_type": "markdown",
   "metadata": {},
   "source": [
    "6. Can you grab \"Canada\" from the given nested list \"a\"? Use indexing"
   ]
  },
  {
   "cell_type": "code",
   "execution_count": 7,
   "metadata": {},
   "outputs": [
    {
     "data": {
      "text/plain": [
       "'Canada'"
      ]
     },
     "execution_count": 7,
     "metadata": {},
     "output_type": "execute_result"
    }
   ],
   "source": [
    "a = ['Alberta',2,[3,4],[5,['Canada',7,['hello']],10,15],1,7]\n",
    "# index stratrs from 0, the 'Canada' is inside the list on the third index, and the 'Canada' itself is inside another list positioned on the first index, then the word is the first position (zero index)\n",
    "a[3][1][0]"
   ]
  },
  {
   "cell_type": "markdown",
   "metadata": {},
   "source": [
    "7. Create a list of the names of provinces from the dictionary given below."
   ]
  },
  {
   "cell_type": "code",
   "execution_count": 8,
   "metadata": {},
   "outputs": [
    {
     "data": {
      "text/plain": [
       "['BC', 'AB', 'ON', 'QC']"
      ]
     },
     "execution_count": 8,
     "metadata": {},
     "output_type": "execute_result"
    }
   ],
   "source": [
    "d = {'BC':'Victoria','AB':'Edmonton', 'ON':'Toronto', 'QC':'Quebec City'}\n",
    "list(d.keys())"
   ]
  },
  {
   "cell_type": "markdown",
   "metadata": {},
   "source": [
    "8. From the given nested dictionary, grab \"Montreal\". Little tricky!"
   ]
  },
  {
   "cell_type": "code",
   "execution_count": 9,
   "metadata": {},
   "outputs": [
    {
     "data": {
      "text/plain": [
       "'Montreal'"
      ]
     },
     "execution_count": 9,
     "metadata": {},
     "output_type": "execute_result"
    }
   ],
   "source": [
    "d = {'k1':'AB','k2':[1,{'BC':['SK','ON','Vancouver',{'Calgary':[1,2,3,'Montreal']}]}]}\n",
    "# d is a dictionary with nested list and dictionary, to get 'Montreal', first we get the key (of the value including the word)\n",
    "# then since the value of 'k2' is a list, we need the index of ('BC') which is the next dictionary including the word\n",
    "# then we get the value by its ket ('BC')\n",
    "# since the value is again a list, we determine the index of next dictionary\n",
    "# get the value by its key 'Calgary'\n",
    "# get the word by its index from the list (as the value)\n",
    "d['k2'][1]['BC'][3]['Calgary'][3]"
   ]
  },
  {
   "cell_type": "markdown",
   "metadata": {},
   "source": [
    "9. What is the main difference between a tuple and a list?\n",
    "\n",
    "Tuple cannot be change.(immutable)\n",
    "List can be change.(mutable)\n"
   ]
  },
  {
   "cell_type": "markdown",
   "metadata": {},
   "source": [
    "10. An element can appear multiple times in a set ? True/False\n",
    "\n",
    "False.\n",
    "Duplicate items are not allowed. If items appear multiple times, only one will be recognized in the set. The items in a set are unordered. The order of the set changes every time it is used."
   ]
  },
  {
   "cell_type": "markdown",
   "metadata": {},
   "source": [
    "11. You got email addresses, write a function \"Get_domain()\" to separate website domains from the emails.\n",
    "For the email, \"user_name@some_domain.ca\", your function should return \"some_domain.com\""
   ]
  },
  {
   "cell_type": "code",
   "execution_count": 22,
   "metadata": {},
   "outputs": [
    {
     "data": {
      "text/plain": [
       "'some_domain.com'"
      ]
     },
     "execution_count": 22,
     "metadata": {},
     "output_type": "execute_result"
    }
   ],
   "source": [
    "#\"user_name@some_domain.ca\", your function should return \"some_domain.com\"\n",
    "email = 'user_name@some_domain.com'\n",
    "\n",
    "def Get_domain(email):\n",
    "    return email.split('@')[-1] #split the string from charachter @ and get the last element [-1]\n",
    "Get_domain(email)\n"
   ]
  },
  {
   "cell_type": "markdown",
   "metadata": {},
   "source": [
    "12. Can you write a function \"find_city()\" that tells you if there is a word \"Calgary\" in a given string? How to deal if the word \"city\" is capitalized?\n",
    "(Hint: Create a function, pass a string ’s’ to the function. In order to account for the capitalization, try\n",
    ".lower())"
   ]
  },
  {
   "cell_type": "code",
   "execution_count": 23,
   "metadata": {},
   "outputs": [],
   "source": [
    "def find_city(s):\n",
    "    \n",
    "    return 'city' in s.lower()\n",
    "\n",
    "# to check if the 'city' is in the list, use (in) then to check its capitalization, use (.lower())\n",
    "    "
   ]
  },
  {
   "cell_type": "code",
   "execution_count": 24,
   "metadata": {},
   "outputs": [
    {
     "data": {
      "text/plain": [
       "True"
      ]
     },
     "execution_count": 24,
     "metadata": {},
     "output_type": "execute_result"
    }
   ],
   "source": [
    "find_city('Calgary is a city in Alberta')"
   ]
  },
  {
   "cell_type": "markdown",
   "metadata": {},
   "source": [
    "13. Write a function to return square of numbers from 1 to 5, use range() method"
   ]
  },
  {
   "cell_type": "code",
   "execution_count": 31,
   "metadata": {},
   "outputs": [
    {
     "data": {
      "text/plain": [
       "[1, 4, 9, 16, 25]"
      ]
     },
     "execution_count": 31,
     "metadata": {},
     "output_type": "execute_result"
    }
   ],
   "source": [
    "def sqr_rang():\n",
    "    new_rng = [] # create empty list\n",
    "    for num in range(1,6):\n",
    "        new_rng.append(num**2)\n",
    "    return new_rng\n",
    "sqr_rang()\n",
    "\n",
    "\n",
    "# better function\n",
    "def sqr_rg(param): # here we pass a param, which can be any range\n",
    "    new_rg=[] # create empty list\n",
    "    for num in param:\n",
    "        new_rg.append(num**2) # get each element of range, and add its power to new list\n",
    "    return new_rg\n",
    "sqr_rg(range(1,6))"
   ]
  },
  {
   "cell_type": "markdown",
   "metadata": {},
   "source": [
    "14. Write lambda expression for the function that you have created above to compute squares, use map() and range()"
   ]
  },
  {
   "cell_type": "code",
   "execution_count": 32,
   "metadata": {},
   "outputs": [
    {
     "data": {
      "text/plain": [
       "[1, 4, 9, 16, 25]"
      ]
     },
     "execution_count": 32,
     "metadata": {},
     "output_type": "execute_result"
    }
   ],
   "source": [
    "list(map(lambda num:num**2, range(1,6))) \n",
    "# map() takes a function/lambda and range, it works like for loop, takes an element, do the function from the range and put in the list\n"
   ]
  },
  {
   "cell_type": "markdown",
   "metadata": {},
   "source": [
    "15. filter all the words from the given veg_list that start with ’c’. Please use lambda expression and filter() for this task.\n",
    "veg_list = ['tomato','cabbage','meat','chicken','goat']"
   ]
  },
  {
   "cell_type": "code",
   "execution_count": 33,
   "metadata": {},
   "outputs": [
    {
     "data": {
      "text/plain": [
       "['cabbage', 'chicken']"
      ]
     },
     "execution_count": 33,
     "metadata": {},
     "output_type": "execute_result"
    }
   ],
   "source": [
    "veg_list = ['tomato','cabbage','meat','chicken','goat']\n",
    "list(filter(lambda s:s[0]=='c', veg_list))"
   ]
  },
  {
   "cell_type": "markdown",
   "metadata": {},
   "source": [
    "16. (Bonus) A store is offering discounts to their loyal customers, if the spend:\n",
    "• between 0 & 50 CAD, they get 10 % discounts,\n",
    "• between 51 & 100 CAD, they get 20 % discounts,\n",
    "• more than 100 CAD, they get 40 % discounts,\n",
    "• It’s Monday, and if a loyal customers are spending more than 50 CAD, they get a cherry on top!\n",
    "10 CAD OFF\n",
    "\n",
    "write a function to calculate how much a loyal customer will pay for any spending.\n",
    "Tricky? You need to develop the logic! Take a pen and a notebook and do the calculations if needed! Test your\n",
    "function for [51, 50, 100, 101] using for loop at the end. Good Luck"
   ]
  },
  {
   "cell_type": "code",
   "execution_count": 51,
   "metadata": {},
   "outputs": [
    {
     "name": "stdout",
     "output_type": "stream",
     "text": [
      "For 50 CAD, you pay 45.0 if not Monday\n",
      "For 51 CAD, you pay 40.8 if not Monday\n",
      "For 100 CAD, you pay 80.0 if not Monday\n",
      "For 101 CAD, you pay 60.6 if not Monday\n",
      "For 50 CAD, you pay  45.0 on Monday\n",
      "For 51 CAD, you pay  36.8 on Monday\n",
      "For 100 CAD, you pay  76.0 on Monday\n",
      "For 101 CAD, you pay  57.6 on Monday\n"
     ]
    }
   ],
   "source": [
    "def you_pay(spending, is_monday):    \n",
    "    if spending <51:\n",
    "        return ((spending)-(spending/100)*10)\n",
    "    elif is_monday and spending >= 51:\n",
    "        new_spending = spending - 5\n",
    "    else:\n",
    "        new_spending = spending\n",
    "    if spending > 50 and spending <= 100:\n",
    "        return (new_spending-((new_spending)/100)*20)\n",
    "    else:\n",
    "        return (new_spending-((new_spending)/100)*40)\n",
    "    \n",
    "test = [50, 51, 100, 101]\n",
    "for num in test:\n",
    "    print(\"For\",num,\"CAD, you pay\", you_pay(num,False),\"if not Monday\")\n",
    "\n",
    "test = [50, 51, 100, 101]\n",
    "for num in test:\n",
    "    #print(num)\n",
    "    print(\"For\",num,\"CAD, you pay \",you_pay(num,True), \"on Monday\")"
   ]
  },
  {
   "cell_type": "code",
   "execution_count": null,
   "metadata": {},
   "outputs": [],
   "source": []
  }
 ],
 "metadata": {
  "kernelspec": {
   "display_name": "Python 3 (ipykernel)",
   "language": "python",
   "name": "python3"
  },
  "language_info": {
   "codemirror_mode": {
    "name": "ipython",
    "version": 3
   },
   "file_extension": ".py",
   "mimetype": "text/x-python",
   "name": "python",
   "nbconvert_exporter": "python",
   "pygments_lexer": "ipython3",
   "version": "3.10.8"
  }
 },
 "nbformat": 4,
 "nbformat_minor": 1
}